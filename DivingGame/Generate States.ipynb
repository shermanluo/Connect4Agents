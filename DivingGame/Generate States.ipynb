{
 "cells": [
  {
   "cell_type": "code",
   "execution_count": 249,
   "metadata": {},
   "outputs": [],
   "source": [
    "import sys\n",
    "#sys.path.append('c:/users/sherman luo/appdata/local/programs/python/python36-32/lib/site-packages')\n",
    "from divegame import diveGame, zeroBoard\n",
    "from fatal_flaw import getActions\n",
    "import numpy as np\n",
    "import divegame\n",
    "import pickle\n",
    "import importlib"
   ]
  },
  {
   "cell_type": "code",
   "execution_count": 547,
   "metadata": {},
   "outputs": [],
   "source": [
    "def randomGenerateBoard(num = 11, left = False, upper = True):\n",
    "    board = zeroBoard()\n",
    "    for i in range(num):\n",
    "        if left:\n",
    "            width = np.random.randint(0, 9)\n",
    "        else:\n",
    "            width = np.random.randint(0, 10)\n",
    "        if upper:\n",
    "            height = np.random.randint(4, 20)\n",
    "        else:\n",
    "            height = np.random.randint(1, 20)\n",
    "        board[height][width] = int(height * 5 + abs(2 * pow(height, 0.5) * np.random.randn()))\n",
    "    return board\n",
    "board1 = randomGenerateBoard()"
   ]
  },
  {
   "cell_type": "code",
   "execution_count": 194,
   "metadata": {},
   "outputs": [
    {
     "name": "stdout",
     "output_type": "stream",
     "text": [
      " _   _   _   _   _   _   _   _   _   _ \n",
      " _   _   _   _   _   _   _   _   _   _ \n",
      " _   _   _   _   _   _   _   _   _   _ \n",
      " _   _   _   _   _   _   _   _  19  _ \n",
      " _   _   _   _   _  27 21  _   _   _ \n",
      " _   _   _   _   _   _   _   _   _   _ \n",
      " _   _   _   _   _   _   _   _   _   _ \n",
      "41  _   _   _   _   _   _   _   _   _ \n",
      " _   _   _   _   _  46  _   _   _   _ \n",
      " _   _   _   _   _   _   _   _   _   _ \n",
      " _   _   P  _   _   _   _   _   _   _ \n",
      " _   _   _   _   _   _   _   _   _   _ \n",
      " _   _   _   _   _   _   _   _   _   _ \n",
      " _   _   _   _  50  _   _   _   _   _ \n",
      " _   _   _   _   _   _   _   _   _   _ \n",
      " _   _   _  76  _   _   _   _   _   _ \n",
      " _   _   _   _   _   _   _   _   _   _ \n",
      " _   _   _   _   _   _   _   _   _   _ \n",
      " _   _   _  99  _   _  101  _   _   _ \n",
      " _   _   _   _   _   _   _  153  _   _ \n",
      "tank size: 30\n",
      "cash: 0\n",
      "oxygen: 13\n",
      "timeLeft: 80\n",
      "holding: [35]\n"
     ]
    }
   ],
   "source": [
    "# b1 = diveGame( #easy surface\n",
    "#     board = board1, \n",
    "#     playerLoc = (10,2), \n",
    "#     timeLeft = 80, \n",
    "#     oxygenLeft = 13, \n",
    "#     holding = [35], \n",
    "#     tankSize = 30, \n",
    "#     cash = 0, \n",
    "#     gameOver = False, \n",
    "#     tanks = {(20, 30, \"tank\"), (55, 55, \"tank\")})\n",
    "s = b1.printBoard()"
   ]
  },
  {
   "cell_type": "code",
   "execution_count": 195,
   "metadata": {},
   "outputs": [],
   "source": [
    "actions, scores = getActions(b1, 1, 50000, allRollouts = True)"
   ]
  },
  {
   "cell_type": "code",
   "execution_count": 196,
   "metadata": {},
   "outputs": [
    {
     "name": "stdout",
     "output_type": "stream",
     "text": [
      "(3, 8, 'move') 0\n",
      "(4, 5, 'move') 0\n",
      "(4, 6, 'move') 0\n",
      "(7, 0, 'move') 537\n",
      "(8, 5, 'move') 0\n",
      "(13, 4, 'move') 0\n",
      "(15, 3, 'move') 0\n",
      "(18, 3, 'move') 0\n",
      "(18, 6, 'move') 0\n",
      "(19, 7, 'move') 0\n",
      "(0, 0, 'move') 544\n",
      "(0, 9, 'move') 0\n"
     ]
    }
   ],
   "source": [
    "for i in range(len(scores)):\n",
    "    print(actions[i][0], scores[i])\n"
   ]
  },
  {
   "cell_type": "code",
   "execution_count": 187,
   "metadata": {
    "collapsed": true
   },
   "outputs": [],
   "source": [
    "board1 = randomGenerateBoard()\n"
   ]
  },
  {
   "cell_type": "code",
   "execution_count": 192,
   "metadata": {},
   "outputs": [
    {
     "name": "stdout",
     "output_type": "stream",
     "text": [
      " _   _   _   _   _   _   _   _   _   _ \n",
      " _   7  _   _   _   _   _   _   _   _ \n",
      " _   _   _   _   _   _   _   _   _   _ \n",
      " _   _   _   _   _   _   _   _   _   _ \n",
      " _   _  23  _   _   _   _   _   _   _ \n",
      " _   _   _   _   _   _   _   _   _   _ \n",
      " _   _   _   _   _   _   _   _   _  36\n",
      " _   _   _   _   _   _   _   _   _   _ \n",
      " _   _   _  43  _   _   _   _   _   _ \n",
      " _   _   _   _   _   _   _   _   _   _ \n",
      " _   _   _  50  _   _   _   _   _   _ \n",
      " _  58  _   _   _   _   _   P  _   _ \n",
      " _   _   _   _   _   _   _   _   _   _ \n",
      " _   _   _   _   _   _   _   _   _   _ \n",
      " _   _   _   _   _   _   _   _   _   _ \n",
      " _  81  _   _   _   _   _   _   _   _ \n",
      " _   _   _   _   _   _   _   _   _  81\n",
      " _   _   _   _   _   _   _   _   _   _ \n",
      " _   _  90  _  91  _   _   _   _   _ \n",
      " _   _   _   _   _   _   _   _  109  _ \n",
      "tank size: 55\n",
      "cash: 0\n",
      "oxygen: 19\n",
      "timeLeft: 25\n",
      "holding: [119]\n"
     ]
    }
   ],
   "source": [
    "# b2 = diveGame( #easy surface\n",
    "#     board = board1, \n",
    "#     playerLoc = (11, 7), \n",
    "#     timeLeft = 25, \n",
    "#     oxygenLeft = 19, \n",
    "#     holding = [119], \n",
    "#     tankSize = 55, \n",
    "#     cash = 0, \n",
    "#     gameOver = False, \n",
    "#     tanks = {(20, 30, \"tank\"), (55, 55, \"tank\")})\n",
    "s = b2.printBoard()"
   ]
  },
  {
   "cell_type": "code",
   "execution_count": 189,
   "metadata": {},
   "outputs": [],
   "source": [
    "actions, scores = getActions(b2, 1, 50000, allRollouts = True)"
   ]
  },
  {
   "cell_type": "code",
   "execution_count": 190,
   "metadata": {},
   "outputs": [
    {
     "name": "stdout",
     "output_type": "stream",
     "text": [
      "[(1, 1, 'move'), (0, 0, 'move'), (None, None, 'exit')] 126\n",
      "[(4, 2, 'move'), (0, 0, 'move'), (1, 1, 'move'), (0, 0, 'move'), (None, None, 'exit')] 149\n",
      "[(6, 9, 'move'), (0, 9, 'move'), (1, 1, 'move'), (0, 0, 'move'), (None, None, 'exit')] 162\n",
      "[(8, 3, 'move'), (4, 2, 'move'), (0, 0, 'move'), (1, 1, 'move'), (0, 0, 'move'), (None, None, 'exit')] 192\n",
      "[(10, 3, 'move'), (8, 3, 'move'), (4, 2, 'move'), (1, 1, 'move'), (0, 0, 'move'), (None, None, 'exit')] 242\n",
      "[(11, 1, 'move'), (0, 0, 'move'), (1, 1, 'move'), (0, 0, 'move'), (None, None, 'exit')] 184\n",
      "[(15, 1, 'move'), (10, 3, 'move'), (11, 1, 'move')] 0\n",
      "[(16, 9, 'move'), (11, 1, 'move')] 0\n",
      "[(18, 2, 'move'), (18, 4, 'move'), (0, 0, 'move')] 0\n",
      "[(18, 4, 'move'), (16, 9, 'move'), (0, 9, 'move')] 0\n",
      "[(19, 8, 'move'), (15, 1, 'move')] 0\n",
      "[(0, 0, 'move'), (1, 1, 'move'), (0, 0, 'move'), (None, None, 'exit')] 126\n",
      "[(0, 9, 'move'), (6, 9, 'move'), (0, 9, 'move'), (None, None, 'exit')] 155\n"
     ]
    }
   ],
   "source": [
    "for i in range(len(scores)):\n",
    "    print(actions[i], scores[i])"
   ]
  },
  {
   "cell_type": "code",
   "execution_count": 86,
   "metadata": {
    "collapsed": true
   },
   "outputs": [],
   "source": [
    "board1 = randomGenerateBoard()"
   ]
  },
  {
   "cell_type": "code",
   "execution_count": 191,
   "metadata": {},
   "outputs": [
    {
     "name": "stdout",
     "output_type": "stream",
     "text": [
      " _   _   _   _   _   _   _   _   _   _ \n",
      " _   _   _   _   _   _   _   _   _   _ \n",
      " _   _   _  10  _   _   _   _   _   _ \n",
      " _   _   _   _  15  _   _   _  18  _ \n",
      " _   _   _   _   _   _   _   _   _   _ \n",
      " _   _   _   _   _   _   P  _   _   _ \n",
      " _   _   _   _   _   _   _   _   _   _ \n",
      " _   _   _   _   _   _   _   _   _   _ \n",
      " _   _   _   _   _   _   _   _   _   _ \n",
      " _   _   _   _   _  54  _   _   _  46\n",
      " _   _   _   _   _   _   _   _   _   _ \n",
      " _   _  61  _   _   _   _   _   _   _ \n",
      " _   _   _   _   _   _   _   _   _   _ \n",
      " _  73  _   _   _   _   _   _   _   _ \n",
      " _   _   _   _   _   _  74  _   _   _ \n",
      " _   _   _   _   _   _   _   _   _   _ \n",
      " _   _   _   _   _   _   _   _   _   _ \n",
      " _   _   _   _   _   _   _   _   _   _ \n",
      " _   _   _   _   _   _   _   _   _   _ \n",
      " _   _   _   _   _   _   _   _   _  155\n",
      "tank size: 25\n",
      "cash: 0\n",
      "oxygen: 17\n",
      "timeLeft: 60\n",
      "holding: [10]\n"
     ]
    }
   ],
   "source": [
    "# board1[10][0] = 0 #\n",
    "# board1[9][3] = 0\n",
    "# board1[19][9] = 155\n",
    "# board1[5][6] = 0\n",
    "# b3 = diveGame(\n",
    "#     board = board1, \n",
    "#     playerLoc = (5, 6), \n",
    "#     timeLeft = 60, \n",
    "#     oxygenLeft = 17, \n",
    "#     holding = [10], \n",
    "#     tankSize = 25, \n",
    "#     cash = 0, \n",
    "#     gameOver = False, \n",
    "#     tanks = {(25, 30, \"tank\"), (55, 55, \"tank\")}) \n",
    "s = b3.printBoard() #easy piece"
   ]
  },
  {
   "cell_type": "code",
   "execution_count": 103,
   "metadata": {
    "collapsed": true
   },
   "outputs": [],
   "source": [
    "actions, scores = getActions(b3, 1, 50000, allRollouts = True)"
   ]
  },
  {
   "cell_type": "code",
   "execution_count": 104,
   "metadata": {
    "scrolled": true
   },
   "outputs": [
    {
     "name": "stdout",
     "output_type": "stream",
     "text": [
      "128 [(2, 3, 'move'), (3, 8, 'move'), (0, 9, 'move'), (25, 30, 'tank'), (9, 9, 'move'), (9, 5, 'move'), (3, 4, 'move'), (0, 0, 'move'), (None, None, 'exit')]\n",
      "128 [(3, 4, 'move'), (0, 9, 'move'), (25, 30, 'tank'), (9, 9, 'move'), (0, 9, 'move'), (3, 8, 'move'), (9, 5, 'move'), (2, 3, 'move'), (0, 9, 'move'), (None, None, 'exit')]\n",
      "152 [(3, 8, 'move'), (0, 0, 'move'), (25, 30, 'tank'), (13, 1, 'move'), (11, 2, 'move'), (0, 0, 'move'), (3, 4, 'move'), (0, 9, 'move'), (None, None, 'exit')]\n",
      "0 [(9, 5, 'move'), (14, 6, 'move'), (13, 1, 'move'), (0, 0, 'move')]\n",
      "281 [(9, 9, 'move'), (0, 9, 'move'), (55, 55, 'tank'), (14, 6, 'move'), (13, 1, 'move'), (11, 2, 'move'), (9, 5, 'move'), (3, 8, 'move'), (0, 9, 'move'), (None, None, 'exit')]\n",
      "0 [(11, 2, 'move'), (0, 9, 'move')]\n",
      "0 [(13, 1, 'move'), (19, 9, 'move')]\n",
      "0 [(14, 6, 'move'), (0, 0, 'move')]\n",
      "0 [(19, 9, 'move'), (9, 9, 'move')]\n",
      "99 [(0, 0, 'move'), (3, 4, 'move'), (3, 8, 'move'), (0, 9, 'move'), (9, 9, 'move'), (0, 9, 'move'), (2, 3, 'move'), (0, 0, 'move'), (None, None, 'exit')]\n",
      "128 [(0, 9, 'move'), (3, 8, 'move'), (0, 0, 'move'), (25, 30, 'tank'), (2, 3, 'move'), (3, 4, 'move'), (9, 5, 'move'), (9, 9, 'move'), (0, 9, 'move'), (0, 0, 'move'), (None, None, 'exit')]\n"
     ]
    }
   ],
   "source": [
    "for i in range(len(scores)):\n",
    "    print(scores[i], actions[i])"
   ]
  },
  {
   "cell_type": "code",
   "execution_count": 204,
   "metadata": {
    "collapsed": true
   },
   "outputs": [],
   "source": [
    "board1 = randomGenerateBoard()"
   ]
  },
  {
   "cell_type": "code",
   "execution_count": 212,
   "metadata": {},
   "outputs": [
    {
     "name": "stdout",
     "output_type": "stream",
     "text": [
      " _   _   _   _   _   _   _   _   _   _ \n",
      " _   _   _   _   _   _   _   6  _   _ \n",
      " _   _   _   _   _   _   _   _   _   _ \n",
      " _   _   P  _   _   _   _   _   _   _ \n",
      " _  21  _   _   _   _   _   _   _   _ \n",
      " _   _   _  32  _  32  _   _   _   _ \n",
      " _   _   _   _   _   _   _   _   _   _ \n",
      " _   _   _   _   _   _   _   _   _   _ \n",
      " _   _   _   _   _  44  _   _   _   _ \n",
      " _   _   _   _   _   _   _   _   _   _ \n",
      " _   _   _   _   _   _   _   _   _   _ \n",
      " _   _   _   _   _   _   _   _   _   _ \n",
      " _   _   _   _   _   _  70  _   _   _ \n",
      " _   _   _   _   _   _   _   _   _   _ \n",
      " _   _   _   _   _   _   _   _   _   _ \n",
      " _   _   _   _   _   _   _   _   _   _ \n",
      " _   _   _   _   _   _   _   _   _   _ \n",
      " _   _   _   _   _   _   _   _   _  91\n",
      "90  _   _   _   _  95  _   _  109  _ \n",
      " _   _   _   _   _  100  _   _   _   _ \n",
      "tank size: 20\n",
      "cash: 12\n",
      "oxygen: 15\n",
      "timeLeft: 60\n",
      "holding: [4]\n"
     ]
    }
   ],
   "source": [
    "\n",
    "# b5 = diveGame(\n",
    "#     board = board1, \n",
    "#     playerLoc = (3, 2), \n",
    "#     timeLeft = 60, \n",
    "#     oxygenLeft = 15, \n",
    "#     holding = [4], \n",
    "#     tankSize = 20, \n",
    "#     cash = 12, \n",
    "#     gameOver = False, \n",
    "#     tanks = {(30, 30, \"tank\"), (50, 45, \"tank\")})\n",
    "s = b5.printBoard() #piece"
   ]
  },
  {
   "cell_type": "code",
   "execution_count": 213,
   "metadata": {
    "collapsed": true
   },
   "outputs": [],
   "source": [
    "actions, scores = getActions(b5, 1, 100000, allRollouts = True)"
   ]
  },
  {
   "cell_type": "code",
   "execution_count": 214,
   "metadata": {
    "scrolled": true
   },
   "outputs": [
    {
     "name": "stdout",
     "output_type": "stream",
     "text": [
      "107 [(1, 7, 'move'), (0, 9, 'move'), (0, 0, 'move'), (5, 5, 'move'), (5, 3, 'move'), (0, 0, 'move'), (4, 1, 'move'), (0, 0, 'move'), (0, 9, 'move'), (None, None, 'exit')]\n",
      "404 [(4, 1, 'move'), (5, 3, 'move'), (0, 0, 'move'), (50, 45, 'tank'), (18, 0, 'move'), (18, 5, 'move'), (18, 8, 'move'), (17, 9, 'move'), (0, 9, 'move'), (None, None, 'exit')]\n",
      "299 [(5, 3, 'move'), (1, 7, 'move'), (0, 9, 'move'), (50, 45, 'tank'), (18, 8, 'move'), (18, 5, 'move'), (17, 9, 'move'), (0, 9, 'move'), (None, None, 'exit')]\n",
      "278 [(5, 5, 'move'), (5, 3, 'move'), (0, 0, 'move'), (50, 45, 'tank'), (8, 5, 'move'), (18, 5, 'move'), (18, 8, 'move'), (0, 9, 'move'), (None, None, 'exit')]\n",
      "0 [(8, 5, 'move'), (18, 8, 'move')]\n",
      "0 [(12, 6, 'move'), (0, 9, 'move')]\n",
      "0 [(17, 9, 'move')]\n",
      "0 [(18, 0, 'move')]\n",
      "0 [(18, 5, 'move')]\n",
      "0 [(18, 8, 'move')]\n",
      "0 [(19, 5, 'move')]\n",
      "133 [(0, 0, 'move'), (4, 1, 'move'), (5, 3, 'move'), (0, 9, 'move'), (50, 45, 'tank'), (8, 5, 'move'), (12, 6, 'move'), (0, 0, 'move'), (None, None, 'exit')]\n",
      "107 [(0, 9, 'move'), (0, 0, 'move'), (4, 1, 'move'), (5, 3, 'move'), (5, 5, 'move'), (0, 0, 'move'), (1, 7, 'move'), (0, 9, 'move'), (None, None, 'exit')]\n"
     ]
    }
   ],
   "source": [
    "for i in range(len(scores)):\n",
    "    print(scores[i], actions[i])"
   ]
  },
  {
   "cell_type": "code",
   "execution_count": 171,
   "metadata": {},
   "outputs": [],
   "source": []
  },
  {
   "cell_type": "code",
   "execution_count": 198,
   "metadata": {},
   "outputs": [
    {
     "name": "stdout",
     "output_type": "stream",
     "text": [
      " _   _   _   _   _   _   _   _   _   _ \n",
      " _   _   _   _   _   _   _   _   _   _ \n",
      " _   _   _   _   _   _   _   _   _   _ \n",
      " _   _   _   _   _   _   _   _  19  _ \n",
      " _   _   _   _   _  27 21  _   _   _ \n",
      " _   _   _   _   _   _   _   _   _   _ \n",
      " _   _   _   _   _   _   _   _   _   _ \n",
      "41  _   _   _   _   _   _   _   _   _ \n",
      " _   _   _   _   _  46  _   _   _   _ \n",
      " _   _   _   _   _   _   _   _   _   _ \n",
      " _   _   P  _   _   _   _   _   _   _ \n",
      " _   _   _   _   _   _   _   _   _   _ \n",
      " _   _   _   _   _   _   _   _   _   _ \n",
      " _   _   _   _  50  _   _   _   _   _ \n",
      " _   _   _   _   _   _   _   _   _   _ \n",
      " _   _   _  76  _   _   _   _   _   _ \n",
      " _   _   _   _   _   _   _   _   _   _ \n",
      " _   _   _   _   _   _   _   _   _   _ \n",
      " _   _   _  99  _   _  101  _   _   _ \n",
      " _   _   _   _   _   _   _  153  _   _ \n",
      "tank size: 30\n",
      "cash: 12\n",
      "oxygen: 24\n",
      "timeLeft: 65\n",
      "holding: [30]\n"
     ]
    }
   ],
   "source": [
    "b4 = diveGame(\n",
    "    board = board1, \n",
    "    playerLoc = (10, 2), \n",
    "    timeLeft = 65, \n",
    "    oxygenLeft = 24, \n",
    "    holding = [30], \n",
    "    tankSize = 30, \n",
    "    cash = 12, \n",
    "    gameOver = False, \n",
    "    tanks = {(40, 45, \"tank\"), (70, 60, \"tank\")})\n",
    "s = b4.printBoard() #hard surface"
   ]
  },
  {
   "cell_type": "code",
   "execution_count": 180,
   "metadata": {
    "collapsed": true
   },
   "outputs": [],
   "source": [
    "actions, scores = getActions(b4, 1, 50000, allRollouts = True)"
   ]
  },
  {
   "cell_type": "code",
   "execution_count": 181,
   "metadata": {
    "scrolled": false
   },
   "outputs": [
    {
     "name": "stdout",
     "output_type": "stream",
     "text": [
      "296 [(3, 8, 'move'), (0, 9, 'move'), (40, 45, 'tank'), (19, 7, 'move'), (18, 6, 'move'), (4, 6, 'move'), (0, 9, 'move'), (None, None, 'exit')]\n",
      "315 [(4, 5, 'move'), (4, 6, 'move'), (0, 0, 'move'), (70, 60, 'tank'), (15, 3, 'move'), (18, 3, 'move'), (18, 6, 'move'), (3, 8, 'move'), (0, 9, 'move'), (None, None, 'exit')]\n",
      "310 [(4, 6, 'move'), (3, 8, 'move'), (0, 9, 'move'), (70, 60, 'tank'), (4, 5, 'move'), (13, 4, 'move'), (18, 3, 'move'), (15, 3, 'move'), (8, 5, 'move'), (0, 9, 'move'), (None, None, 'exit')]\n",
      "483 [(7, 0, 'move'), (0, 0, 'move'), (70, 60, 'tank'), (4, 6, 'move'), (8, 5, 'move'), (13, 4, 'move'), (18, 3, 'move'), (18, 6, 'move'), (19, 7, 'move'), (0, 9, 'move'), (None, None, 'exit')]\n",
      "369 [(8, 5, 'move'), (4, 5, 'move'), (3, 8, 'move'), (0, 9, 'move'), (40, 45, 'tank'), (19, 7, 'move'), (18, 6, 'move'), (4, 6, 'move'), (0, 9, 'move'), (None, None, 'exit')]\n",
      "248 [(13, 4, 'move'), (8, 5, 'move'), (4, 5, 'move'), (0, 9, 'move'), (70, 60, 'tank'), (19, 7, 'move'), (0, 9, 'move'), (None, None, 'exit')]\n",
      "272 [(15, 3, 'move'), (7, 0, 'move'), (0, 0, 'move'), (4, 6, 'move'), (0, 9, 'move'), (3, 8, 'move'), (8, 5, 'move'), (4, 5, 'move'), (0, 9, 'move'), (None, None, 'exit')]\n",
      "0 [(18, 3, 'move'), (19, 7, 'move'), (8, 5, 'move')]\n",
      "0 [(18, 6, 'move'), (13, 4, 'move'), (4, 5, 'move')]\n",
      "0 [(19, 7, 'move'), (0, 0, 'move')]\n",
      "278 [(0, 0, 'move'), (40, 45, 'tank'), (15, 3, 'move'), (18, 3, 'move'), (18, 6, 'move'), (0, 9, 'move'), (None, None, 'exit')]\n",
      "275 [(0, 9, 'move'), (40, 45, 'tank'), (19, 7, 'move'), (18, 6, 'move'), (3, 8, 'move'), (0, 9, 'move'), (None, None, 'exit')]\n"
     ]
    }
   ],
   "source": [
    "for i in range(len(scores)):\n",
    "    print(scores[i], actions[i])"
   ]
  },
  {
   "cell_type": "code",
   "execution_count": 230,
   "metadata": {},
   "outputs": [],
   "source": [
    "board1 = randomGenerateBoard()"
   ]
  },
  {
   "cell_type": "code",
   "execution_count": 235,
   "metadata": {},
   "outputs": [
    {
     "name": "stdout",
     "output_type": "stream",
     "text": [
      " _   _   _   _   _   _   _   _   _   _ \n",
      " _   _   6  _   _   _   _   _   _   _ \n",
      " _  11  _   _   _   _   _   _   _   _ \n",
      " _   _   _  20  _   _   _   _   _   _ \n",
      " _   _   _   _   _   _   _   _   _   _ \n",
      " _   _   _   _   _   _   _   _   _   _ \n",
      " _   _   _   _   _   _   _   _   _   _ \n",
      " _   _   _   _   _   _   _   _   _   _ \n",
      " _   _   _   _   P  _   _   _   _   _ \n",
      " _  55  _   _   _   _   _   _   _   _ \n",
      " _   _   _   _   _   _   _   _   _   _ \n",
      " _   _   _   _   _   _   _   _  57  _ \n",
      " _   _   _   _   _   _   _   _   _   _ \n",
      " _   _   _   _   _   _   _   _  69  _ \n",
      " _   _   _  71  _   _   _   _   _   _ \n",
      " _   _   _   _   _   _   _   _   _   _ \n",
      " _   _   _   _   _   _   _   _   _   _ \n",
      " _   _   _   _   _   _   _   _   _   _ \n",
      " _  90  _   _   _   _   _   _   _   _ \n",
      " _   _   _   _   _   _   _   _   _   _ \n",
      "tank size: 50\n",
      "cash: 124\n",
      "oxygen: 34\n",
      "timeLeft: 30\n",
      "holding: [60]\n"
     ]
    }
   ],
   "source": [
    "board1[7][5] = 0\n",
    "board1[5][6] = 0\n",
    "board1[1][5] = 0\n",
    "\n",
    "b6 = diveGame(\n",
    "    board = board1, \n",
    "    playerLoc = (8, 4), \n",
    "    timeLeft =30, \n",
    "    oxygenLeft = 34, \n",
    "    holding = [60], \n",
    "    tankSize = 50, \n",
    "    cash = 124, \n",
    "    gameOver = False, \n",
    "    tanks = {(40, 45, \"tank\"), (70, 60, \"tank\")})\n",
    "s = b6.printBoard() #easy piece"
   ]
  },
  {
   "cell_type": "code",
   "execution_count": 236,
   "metadata": {
    "collapsed": true
   },
   "outputs": [],
   "source": [
    "actions, scores = getActions(b6, 1, 50000, allRollouts = True)"
   ]
  },
  {
   "cell_type": "code",
   "execution_count": 237,
   "metadata": {
    "scrolled": true
   },
   "outputs": [
    {
     "name": "stdout",
     "output_type": "stream",
     "text": [
      "276 [(1, 2, 'move'), (3, 3, 'move'), (9, 1, 'move'), (2, 1, 'move'), (0, 0, 'move'), (None, None, 'exit')]\n",
      "276 [(2, 1, 'move'), (9, 1, 'move'), (3, 3, 'move'), (1, 2, 'move'), (0, 0, 'move'), (None, None, 'exit')]\n",
      "276 [(3, 3, 'move'), (1, 2, 'move'), (2, 1, 'move'), (9, 1, 'move'), (0, 0, 'move'), (None, None, 'exit')]\n",
      "365 [(9, 1, 'move'), (13, 8, 'move'), (11, 8, 'move'), (0, 9, 'move'), (None, None, 'exit')]\n",
      "376 [(11, 8, 'move'), (13, 8, 'move'), (9, 1, 'move'), (2, 1, 'move'), (0, 0, 'move'), (None, None, 'exit')]\n",
      "376 [(13, 8, 'move'), (11, 8, 'move'), (9, 1, 'move'), (2, 1, 'move'), (0, 0, 'move'), (None, None, 'exit')]\n",
      "381 [(14, 3, 'move'), (13, 8, 'move'), (11, 8, 'move'), (0, 9, 'move'), (None, None, 'exit')]\n",
      "0 [(18, 1, 'move'), (3, 3, 'move'), (0, 9, 'move')]\n",
      "221 [(0, 0, 'move'), (3, 3, 'move'), (1, 2, 'move'), (2, 1, 'move'), (0, 0, 'move'), (None, None, 'exit')]\n",
      "221 [(0, 9, 'move'), (1, 2, 'move'), (3, 3, 'move'), (2, 1, 'move'), (0, 0, 'move'), (None, None, 'exit')]\n"
     ]
    }
   ],
   "source": [
    "for i in range(len(scores)):\n",
    "    print(scores[i], actions[i])"
   ]
  },
  {
   "cell_type": "code",
   "execution_count": 251,
   "metadata": {},
   "outputs": [
    {
     "ename": "PicklingError",
     "evalue": "Can't pickle <class 'divegame.diveGame'>: it's not the same object as divegame.diveGame",
     "output_type": "error",
     "traceback": [
      "\u001b[1;31m---------------------------------------------------------------------------\u001b[0m",
      "\u001b[1;31mPicklingError\u001b[0m                             Traceback (most recent call last)",
      "\u001b[1;32m<ipython-input-251-3af79b338dea>\u001b[0m in \u001b[0;36m<module>\u001b[1;34m()\u001b[0m\n\u001b[0;32m      1\u001b[0m \u001b[0mf\u001b[0m \u001b[1;33m=\u001b[0m \u001b[0mopen\u001b[0m\u001b[1;33m(\u001b[0m\u001b[1;34m\"group1States\"\u001b[0m\u001b[1;33m,\u001b[0m \u001b[1;34m\"wb\"\u001b[0m\u001b[1;33m)\u001b[0m\u001b[1;33m\u001b[0m\u001b[0m\n\u001b[1;32m----> 2\u001b[1;33m \u001b[0mpickle\u001b[0m\u001b[1;33m.\u001b[0m\u001b[0mdump\u001b[0m\u001b[1;33m(\u001b[0m\u001b[1;33m[\u001b[0m\u001b[0mb1\u001b[0m\u001b[1;33m]\u001b[0m\u001b[1;33m,\u001b[0m \u001b[0mf\u001b[0m\u001b[1;33m)\u001b[0m\u001b[1;33m\u001b[0m\u001b[0m\n\u001b[0m",
      "\u001b[1;31mPicklingError\u001b[0m: Can't pickle <class 'divegame.diveGame'>: it's not the same object as divegame.diveGame"
     ]
    }
   ],
   "source": []
  },
  {
   "cell_type": "code",
   "execution_count": 253,
   "metadata": {
    "collapsed": true
   },
   "outputs": [],
   "source": [
    "games = []\n",
    "for i in [b1, b2, b3, b4, b5, b6]:\n",
    "    game = {}\n",
    "    game['board'] = i.board\n",
    "    game['playerLoc'] = i.playerLoc\n",
    "    game['timeLeft'] = i.timeLeft\n",
    "    game['oxygenLeft'] = i.oxygenLeft\n",
    "    game['holding'] = i.holding\n",
    "    game['tankSize'] = i.tankSize\n",
    "    game['cash'] = i.cash\n",
    "    game['gameOver'] = i.gameOver\n",
    "    game['tanks'] = i.tanks\n",
    "    games.append(game)\n",
    "f = open(\"group1States\", \"wb\")\n",
    "pickle.dump(games, f)"
   ]
  },
  {
   "cell_type": "code",
   "execution_count": null,
   "metadata": {
    "collapsed": true
   },
   "outputs": [],
   "source": [
    "++++++++++++++++++++++++++++++++++++++++++++++++++++++++++++++++++++++++++++++++++++++++++++++++++++++++++++"
   ]
  },
  {
   "cell_type": "code",
   "execution_count": 261,
   "metadata": {
    "collapsed": true
   },
   "outputs": [],
   "source": [
    "b21 = randomGenerateBoard()"
   ]
  },
  {
   "cell_type": "code",
   "execution_count": 270,
   "metadata": {},
   "outputs": [
    {
     "name": "stdout",
     "output_type": "stream",
     "text": [
      " P  _   _   _   _   _   _   _   _   _ \n",
      " _   _   _   _   _   _   _   _   _   _ \n",
      " _   _   _   _   _   _   _   _   _   _ \n",
      " _   _   _   _   _   _   _   _   _   _ \n",
      " _  20  _   _   _   _   _   _   _   _ \n",
      "26  _   _   _   _   _   _  26  _   _ \n",
      " _   _   _   _   _   _   _   _   _   _ \n",
      " _   _   _   _   _   _   _   _   _   _ \n",
      " _   _   _   _   _   _   _   _   _   _ \n",
      " _   _   _   _   _   _   _   _   _   _ \n",
      " _   _   _   _   _   _   _   _  51  _ \n",
      " _   _   _  55  _   _   _   _   _   _ \n",
      " _   _   _   _   _   _   _   _   _   _ \n",
      " _   _   _   _   _   _   _   _   _   _ \n",
      " _   _   _   _   _   _   _   _   _   _ \n",
      " _   _   _   _   _   _   _   _   _   _ \n",
      " _  93  _   _   _   _   _   _   _   _ \n",
      "95  _   _   _   _   _   _   _   _   _ \n",
      " _   _   _   _   _   _   _   _   _   _ \n",
      " _   _   _   _  95  _   _   _   _   _ \n",
      "tank size: 30\n",
      "cash: 100\n",
      "oxygen: 30\n",
      "timeLeft: 50\n",
      "holding: [6]\n"
     ]
    }
   ],
   "source": [
    "b21[10][5] = 0\n",
    "b21[8][2] = 0\n",
    "\n",
    "g21 = diveGame(\n",
    "    board = b21, \n",
    "    playerLoc = (0, 0), \n",
    "    timeLeft =50, \n",
    "    oxygenLeft = 30, \n",
    "    holding = [6], \n",
    "    tankSize = 30, \n",
    "    cash = 100, \n",
    "    gameOver = False, \n",
    "    tanks = {(100, 50, \"tank\")})\n",
    "s = g21.printBoard() #should buy"
   ]
  },
  {
   "cell_type": "code",
   "execution_count": 271,
   "metadata": {
    "collapsed": true
   },
   "outputs": [],
   "source": [
    "actions, scores = getActions(g21, 1, 50000, allRollouts = True)"
   ]
  },
  {
   "cell_type": "code",
   "execution_count": 272,
   "metadata": {
    "scrolled": true
   },
   "outputs": [
    {
     "name": "stdout",
     "output_type": "stream",
     "text": [
      "100 [(None, None, 'exit')]\n",
      "384 [(100, 50, 'tank'), (17, 0, 'move'), (16, 1, 'move'), (19, 4, 'move'), (11, 3, 'move'), (4, 1, 'move'), (5, 0, 'move'), (0, 0, 'move'), (None, None, 'exit')]\n",
      "233 [(4, 1, 'move'), (11, 3, 'move'), (0, 0, 'move'), (5, 0, 'move'), (5, 7, 'move'), (0, 9, 'move'), (None, None, 'exit')]\n",
      "295 [(5, 0, 'move'), (0, 0, 'move'), (100, 50, 'tank'), (17, 0, 'move'), (16, 1, 'move'), (11, 3, 'move'), (4, 1, 'move'), (0, 0, 'move'), (None, None, 'exit')]\n",
      "229 [(5, 7, 'move'), (10, 8, 'move'), (0, 9, 'move'), (0, 0, 'move'), (5, 0, 'move'), (4, 1, 'move'), (0, 0, 'move'), (None, None, 'exit')]\n",
      "229 [(10, 8, 'move'), (0, 9, 'move'), (5, 7, 'move'), (4, 1, 'move'), (5, 0, 'move'), (0, 0, 'move'), (None, None, 'exit')]\n",
      "233 [(11, 3, 'move'), (0, 0, 'move'), (5, 0, 'move'), (4, 1, 'move'), (5, 7, 'move'), (0, 9, 'move'), (None, None, 'exit')]\n",
      "0 [(16, 1, 'move'), (19, 4, 'move'), (5, 0, 'move')]\n",
      "0 [(17, 0, 'move'), (10, 8, 'move')]\n",
      "0 [(19, 4, 'move'), (5, 0, 'move')]\n",
      "229 [(0, 9, 'move'), (10, 8, 'move'), (5, 7, 'move'), (5, 0, 'move'), (0, 0, 'move'), (4, 1, 'move'), (0, 0, 'move'), (None, None, 'exit')]\n"
     ]
    }
   ],
   "source": [
    "for i in range(len(scores)):\n",
    "    print(scores[i], actions[i])"
   ]
  },
  {
   "cell_type": "code",
   "execution_count": null,
   "metadata": {
    "collapsed": true
   },
   "outputs": [],
   "source": []
  },
  {
   "cell_type": "code",
   "execution_count": 304,
   "metadata": {
    "scrolled": false
   },
   "outputs": [
    {
     "name": "stdout",
     "output_type": "stream",
     "text": [
      " P  _   _   _   _   _   _   _   _   _ \n",
      " _   _   _   _   _   _   _   _   _   _ \n",
      " _   _   _   _   _   _   _   _   _   _ \n",
      " _   _   _   _   _   _   _   _   _   _ \n",
      "15  _   _   _   _   _   _   _   _   _ \n",
      " _   _   _   _   _   _   _   _   _   _ \n",
      " _   _   _   _   _   _   _   _   _   _ \n",
      " _   _   _   _   _   _   _   _   _   _ \n",
      " _   _   _   _  21  _   _   _   _   _ \n",
      " _   _   _  32  _   _   _   _   _   _ \n",
      " _   _   _   _   _   _   _   _   _   _ \n",
      " _   _   _   _   _   _   _   _   _   _ \n",
      " _   _   _   _   _   _   _   _   _   _ \n",
      " _   _  41  _   _   _   _   _   _   _ \n",
      " _   _   _   _   _   _   _   _   _   _ \n",
      " _   _   _   _   _   _   _   _   _   _ \n",
      " _   _   _   _   _   _   _   _   _   _ \n",
      " _   _   _   _   _   _   _   _   _   _ \n",
      " _   _   _   _   _   _   _   _   _   _ \n",
      " _   _   _   _   _   _   _   _   _   _ \n",
      "tank size: 30\n",
      "cash: 50\n",
      "oxygen: 30\n",
      "timeLeft: 30\n",
      "holding: [0]\n"
     ]
    }
   ],
   "source": [
    "b22 = zeroBoard() # should not buy tank\n",
    "b22[4][0] = 15\n",
    "b22[8][4] = 21\n",
    "b22[9][3] = 32\n",
    "b22[13][2] = 41\n",
    "\n",
    "\n",
    "\n",
    "g22 = diveGame(\n",
    "    board = b22, \n",
    "    playerLoc = (0, 0), \n",
    "    timeLeft =30, \n",
    "    oxygenLeft = 30, \n",
    "    holding = [0], \n",
    "    tankSize = 30, \n",
    "    cash = 50, \n",
    "    gameOver = False, \n",
    "    tanks = {(50, 50, \"tank\")})\n",
    "s = g22.printBoard() "
   ]
  },
  {
   "cell_type": "code",
   "execution_count": 305,
   "metadata": {},
   "outputs": [],
   "source": [
    "actions, scores = getActions(g22, 1, 50000, allRollouts = True)"
   ]
  },
  {
   "cell_type": "code",
   "execution_count": 306,
   "metadata": {},
   "outputs": [
    {
     "name": "stdout",
     "output_type": "stream",
     "text": [
      "50 [(None, None, 'exit')]\n",
      "68 [(50, 50, 'tank'), (9, 3, 'move'), (8, 4, 'move'), (4, 0, 'move'), (0, 0, 'move'), (None, None, 'exit')]\n",
      "118 [(4, 0, 'move'), (9, 3, 'move'), (8, 4, 'move'), (0, 9, 'move'), (None, None, 'exit')]\n",
      "118 [(8, 4, 'move'), (9, 3, 'move'), (4, 0, 'move'), (0, 0, 'move'), (None, None, 'exit')]\n",
      "118 [(9, 3, 'move'), (8, 4, 'move'), (4, 0, 'move'), (0, 0, 'move'), (None, None, 'exit')]\n",
      "106 [(13, 2, 'move'), (4, 0, 'move'), (0, 0, 'move'), (None, None, 'exit')]\n",
      "65 [(0, 9, 'move'), (0, 0, 'move'), (4, 0, 'move'), (0, 0, 'move'), (None, None, 'exit')]\n"
     ]
    }
   ],
   "source": [
    "for i in range(len(scores)):\n",
    "    print(scores[i], actions[i])"
   ]
  },
  {
   "cell_type": "code",
   "execution_count": null,
   "metadata": {
    "collapsed": true
   },
   "outputs": [],
   "source": [
    "\n",
    "\n"
   ]
  },
  {
   "cell_type": "code",
   "execution_count": 321,
   "metadata": {},
   "outputs": [
    {
     "name": "stdout",
     "output_type": "stream",
     "text": [
      " P  _   _   _   _   _   _   _   _   _ \n",
      " _   _   _   _   _   _   _   _   _   _ \n",
      " _   _   _   _   _   _   _   _   _   _ \n",
      " _   _   _   _   _   _   _   _   _   _ \n",
      "15  _   _   _   _   _   _   _   _   _ \n",
      " _   _   _   _  21  _   _   _   _   _ \n",
      " _   _   _   _   _   _   _   _   _   _ \n",
      " _   _   _   _   _   _   _   _   _   _ \n",
      " _   _   _   _   _   _   _   _   _   _ \n",
      " _   _   _   _   _   _   _   _   _  40\n",
      " _   _   _   _   _   _   _   _   _   _ \n",
      " _   _   _   _   _   _   _   _   _   _ \n",
      " _   _   _  32  _   _   _   _   _   _ \n",
      " _   _  41  _   _   _   _   _   _   _ \n",
      " _   _   _   _   _   _   _   _   _   _ \n",
      " _   _   _   _   _   _   _   _   _   _ \n",
      " _   _   _   _   _   _   _   _   _   _ \n",
      " _   _   _   _   _   _   _   _   _   _ \n",
      " _   _   _   _   _   _   _   _   _   _ \n",
      " _   _  102  _   _   _   _   _   _   _ \n",
      "tank size: 20\n",
      "cash: 50\n",
      "oxygen: 20\n",
      "timeLeft: 45\n",
      "holding: [0]\n"
     ]
    }
   ],
   "source": [
    "b23 = zeroBoard() # buy which?\n",
    "b23[4][0] = 15\n",
    "b23[19][2] = 102\n",
    "b23[9][9] = 40\n",
    "b23[5][4] = 21\n",
    "b23[12][3] = 32\n",
    "b23[13][2] = 41\n",
    "\n",
    "\n",
    "\n",
    "g23 = diveGame(\n",
    "    board = b23, \n",
    "    playerLoc = (0, 0), \n",
    "    timeLeft =45, \n",
    "    oxygenLeft = 20, \n",
    "    holding = [0], \n",
    "    tankSize = 20, \n",
    "    cash = 50, \n",
    "    gameOver = False, \n",
    "    tanks = {(20, 30, \"tank\"), (50, 50, \"tank\")})\n",
    "s = g23.printBoard() "
   ]
  },
  {
   "cell_type": "code",
   "execution_count": 322,
   "metadata": {
    "collapsed": true
   },
   "outputs": [],
   "source": [
    "actions, scores = getActions(g23, 1, 50000, allRollouts = True)"
   ]
  },
  {
   "cell_type": "code",
   "execution_count": 323,
   "metadata": {},
   "outputs": [
    {
     "name": "stdout",
     "output_type": "stream",
     "text": [
      "50 [(None, None, 'exit')]\n",
      "106 [(20, 30, 'tank'), (4, 0, 'move'), (0, 0, 'move'), (0, 9, 'move'), (9, 9, 'move'), (5, 4, 'move'), (0, 9, 'move'), (None, None, 'exit')]\n",
      "190 [(50, 50, 'tank'), (13, 2, 'move'), (19, 2, 'move'), (12, 3, 'move'), (4, 0, 'move'), (0, 0, 'move'), (None, None, 'exit')]\n",
      "128 [(4, 0, 'move'), (0, 0, 'move'), (50, 50, 'tank'), (12, 3, 'move'), (13, 2, 'move'), (9, 9, 'move'), (0, 9, 'move'), (None, None, 'exit')]\n",
      "126 [(5, 4, 'move'), (4, 0, 'move'), (0, 0, 'move'), (0, 9, 'move'), (9, 9, 'move'), (0, 9, 'move'), (None, None, 'exit')]\n",
      "0 [(9, 9, 'move'), (12, 3, 'move')]\n",
      "0 [(12, 3, 'move'), (5, 4, 'move')]\n",
      "0 [(13, 2, 'move'), (5, 4, 'move')]\n",
      "0 [(19, 2, 'move')]\n",
      "128 [(0, 9, 'move'), (50, 50, 'tank'), (9, 9, 'move'), (12, 3, 'move'), (13, 2, 'move'), (4, 0, 'move'), (0, 0, 'move'), (None, None, 'exit')]\n"
     ]
    }
   ],
   "source": [
    "for i in range(len(scores)):\n",
    "    print(scores[i], actions[i])"
   ]
  },
  {
   "cell_type": "code",
   "execution_count": 326,
   "metadata": {
    "collapsed": true
   },
   "outputs": [],
   "source": [
    "b24 = randomGenerat|eBoard()\n"
   ]
  },
  {
   "cell_type": "code",
   "execution_count": 330,
   "metadata": {},
   "outputs": [
    {
     "name": "stdout",
     "output_type": "stream",
     "text": [
      " P  _   _   _   _   _   _   _   _   _ \n",
      " _   _   _   _   _   _   _   _   _   _ \n",
      " _   _   _   _   _   _   _   _   _   _ \n",
      " _   _   _   _   _   _   _   _   _  15\n",
      " _   _   _   _   _   _   _   _   _   _ \n",
      " _   _   _   _  29  _   _   _   _   _ \n",
      " _   _   _   _   _  31  _   _   _   _ \n",
      " _   _   _   _   _   _   _   _   _   _ \n",
      " _   _   _   _   _   _   _   _   _   _ \n",
      " _   _   _   _   _   _   _   _   _   _ \n",
      " _   _   _   _   _   _   _   _   _   _ \n",
      " _   _   _   _   _   _  57  _   _   _ \n",
      " _   _   _   _   _   _   _   _  61  _ \n",
      " _   _   _   _   _   _   _   _   _  70\n",
      " _   _   _   _   _   _   _   _   _   _ \n",
      " _   _  87  _   _  85  _   _   _   _ \n",
      " _   _   _   _   _   _   _   _   _   _ \n",
      " _   _   _   _   _   _   _   _   _   _ \n",
      " _  94  _   _   _   _   _  91  _   _ \n",
      " _   _   _   _   _   _   _   _   _   _ \n",
      "tank size: 30\n",
      "cash: 95\n",
      "oxygen: 30\n",
      "timeLeft: 45\n",
      "holding: [0]\n"
     ]
    }
   ],
   "source": [
    "g24 = diveGame(\n",
    "    board = b24, \n",
    "    playerLoc = (0, 0), \n",
    "    timeLeft =45, \n",
    "    oxygenLeft = 30, \n",
    "    holding = [0], \n",
    "    tankSize = 30, \n",
    "    cash = 95, \n",
    "    gameOver = False, \n",
    "    tanks = {(80, 50, \"tank\")})\n",
    "s = g24.printBoard() #should buy"
   ]
  },
  {
   "cell_type": "code",
   "execution_count": 331,
   "metadata": {
    "collapsed": true
   },
   "outputs": [],
   "source": [
    "actions, scores = getActions(g24, 1, 50000, allRollouts = True)"
   ]
  },
  {
   "cell_type": "code",
   "execution_count": 332,
   "metadata": {
    "scrolled": false
   },
   "outputs": [
    {
     "name": "stdout",
     "output_type": "stream",
     "text": [
      "95 [(None, None, 'exit')]\n",
      "351 [(80, 50, 'tank'), (18, 1, 'move'), (15, 2, 'move'), (15, 5, 'move'), (13, 9, 'move'), (0, 9, 'move'), (None, None, 'exit')]\n",
      "241 [(3, 9, 'move'), (0, 9, 'move'), (12, 8, 'move'), (13, 9, 'move'), (0, 9, 'move'), (None, None, 'exit')]\n",
      "209 [(5, 4, 'move'), (3, 9, 'move'), (0, 9, 'move'), (13, 9, 'move'), (0, 9, 'move'), (None, None, 'exit')]\n",
      "170 [(6, 5, 'move'), (5, 4, 'move'), (3, 9, 'move'), (0, 9, 'move'), (None, None, 'exit')]\n",
      "0 [(11, 6, 'move'), (6, 5, 'move'), (13, 9, 'move')]\n",
      "0 [(12, 8, 'move'), (0, 0, 'move')]\n",
      "0 [(13, 9, 'move'), (18, 1, 'move')]\n",
      "0 [(15, 2, 'move'), (0, 0, 'move')]\n",
      "0 [(15, 5, 'move'), (15, 2, 'move'), (0, 9, 'move')]\n",
      "0 [(18, 1, 'move'), (13, 9, 'move')]\n",
      "0 [(18, 7, 'move'), (0, 0, 'move')]\n",
      "241 [(0, 9, 'move'), (13, 9, 'move'), (12, 8, 'move'), (3, 9, 'move'), (0, 9, 'move'), (None, None, 'exit')]\n"
     ]
    }
   ],
   "source": [
    "for i in range(len(scores)):\n",
    "    print(scores[i], actions[i])"
   ]
  },
  {
   "cell_type": "code",
   "execution_count": 340,
   "metadata": {
    "collapsed": true
   },
   "outputs": [],
   "source": [
    "b25 = randomGenerateBoard(num = 6)"
   ]
  },
  {
   "cell_type": "code",
   "execution_count": 341,
   "metadata": {},
   "outputs": [
    {
     "name": "stdout",
     "output_type": "stream",
     "text": [
      " P  _   _   _   _   _   _   _   _   _ \n",
      " _   _   _   _   6  _   _   _   _   _ \n",
      " _   _   _   _   _   _   _   _   _   _ \n",
      " _   _  15  _   _   _   _   _  15  _ \n",
      " _   _   _   _   _   _   _   _   _   _ \n",
      " _  26  _   _   _   _   _   _   _   _ \n",
      " _   _   _   _   _   _   _   _   _   _ \n",
      " _   _   _   _   _   _   _   _   _   _ \n",
      " _   _   _   _   _   _   _   _   _   _ \n",
      "49  _   _   _   _   _   _   _   _   _ \n",
      " _   _   _   _   _   _   _   _   _   _ \n",
      " _   _   _   _   _   _   _   _   _   _ \n",
      " _   _   _   _   _   _   _   _   _   _ \n",
      " _   _   _   _   _   _   _   _   _   _ \n",
      " _   _   _   _   _   _   _   _   _   _ \n",
      " _   _   _   _   _   _   _   _   _   _ \n",
      " _   _   _   _   _   _   _   _   _   _ \n",
      " _   _  88  _   _   _   _   _   _   _ \n",
      " _   _   _   _   _   _   _   _   _   _ \n",
      " _   _   _   _   _   _   _   _   _   _ \n",
      "tank size: 25\n",
      "cash: 95\n",
      "oxygen: 25\n",
      "timeLeft: 45\n",
      "holding: [0]\n",
      "95 [(None, None, 'exit')]\n",
      "146 [(60, 35, 'tank'), (3, 8, 'move'), (3, 2, 'move'), (5, 1, 'move'), (9, 0, 'move'), (0, 0, 'move'), (1, 4, 'move'), (0, 0, 'move'), (None, None, 'exit')]\n",
      "206 [(1, 4, 'move'), (0, 0, 'move'), (5, 1, 'move'), (9, 0, 'move'), (0, 0, 'move'), (3, 2, 'move'), (3, 8, 'move'), (0, 9, 'move'), (None, None, 'exit')]\n",
      "206 [(3, 2, 'move'), (0, 0, 'move'), (5, 1, 'move'), (9, 0, 'move'), (0, 0, 'move'), (1, 4, 'move'), (3, 8, 'move'), (0, 9, 'move'), (None, None, 'exit')]\n",
      "206 [(3, 8, 'move'), (1, 4, 'move'), (0, 0, 'move'), (3, 2, 'move'), (5, 1, 'move'), (9, 0, 'move'), (0, 0, 'move'), (None, None, 'exit')]\n",
      "206 [(5, 1, 'move'), (9, 0, 'move'), (0, 0, 'move'), (3, 2, 'move'), (1, 4, 'move'), (3, 8, 'move'), (0, 9, 'move'), (None, None, 'exit')]\n",
      "206 [(9, 0, 'move'), (0, 0, 'move'), (1, 4, 'move'), (5, 1, 'move'), (3, 2, 'move'), (3, 8, 'move'), (0, 9, 'move'), (None, None, 'exit')]\n",
      "0 [(17, 2, 'move'), (3, 2, 'move')]\n",
      "200 [(0, 9, 'move'), (3, 8, 'move'), (3, 2, 'move'), (0, 0, 'move'), (9, 0, 'move'), (5, 1, 'move'), (0, 0, 'move'), (None, None, 'exit')]\n"
     ]
    }
   ],
   "source": [
    "\n",
    "\n",
    "\n",
    "g25 = diveGame( # no tank\n",
    "    board = b25, \n",
    "    playerLoc = (0, 0), \n",
    "    timeLeft =45, \n",
    "    oxygenLeft = 25, \n",
    "    holding = [0], \n",
    "    tankSize = 25, \n",
    "    cash = 95, \n",
    "    gameOver = False, \n",
    "    tanks = {(60, 35, \"tank\")})\n",
    "s = g25.printBoard() #should buy\n",
    "\n",
    "actions, scores = getActions(g25, 1, 50000, allRollouts = True)\n",
    "\n",
    "for i in range(len(scores)):\n",
    "    print(scores[i], actions[i])"
   ]
  },
  {
   "cell_type": "code",
   "execution_count": 359,
   "metadata": {},
   "outputs": [],
   "source": [
    "b26 = randomGenerateBoard(num = 7)"
   ]
  },
  {
   "cell_type": "code",
   "execution_count": 407,
   "metadata": {},
   "outputs": [
    {
     "name": "stdout",
     "output_type": "stream",
     "text": [
      " _   _   _   _   _   _   _   _   _   P\n",
      " _   _   _   _   _   _   _   _   _   _ \n",
      " _   _   _   _   _   _   _   _   _   _ \n",
      " _   _   _   _   _  16  _   _   _   _ \n",
      " _   _   _   _   _   _   _   _   _   _ \n",
      " _   _   _   _   _   _   _   _   _   _ \n",
      " _   _   _   _   _   _   _   _   _   _ \n",
      " _   _  45  _   _   _   _   _   _  36\n",
      " _   _   _  24  _   _  61  _   _   _ \n",
      " _   _   _   _   _   _   _   _   _   _ \n",
      " _  50  _   _   _   _   _   _   _   _ \n",
      " _   _   _   _   _   _   _   _   _   _ \n",
      " _   _   _   _   _  52  _   _   _   _ \n",
      " _   _   _   _   _   _   _   _   _   _ \n",
      " _   _   _   _   _   _   _   _   _   _ \n",
      " _   _   _   _   _   _   _   _   _   _ \n",
      " _   _   _   _   _   _   _   _   _   _ \n",
      " _   _   _  12  _   _   _   _   _   _ \n",
      " _   _   _   _   _   _   _   _   _   _ \n",
      " _  98  _   _   _   _   _   _   _   _ \n",
      "tank size: 22\n",
      "cash: 214\n",
      "oxygen: 22\n",
      "timeLeft: 52\n",
      "holding: [0]\n"
     ]
    }
   ],
   "source": [
    "b26[8][3] = 24\n",
    "b26[10][1] = 50\n",
    "b26[8][6] = 61\n",
    "b26[12][5] = 52\n",
    "b26[17][3] = 12\n",
    "\n",
    "g26 = diveGame( \n",
    "    board = b26, \n",
    "    playerLoc = (0, 9), \n",
    "    timeLeft =52, \n",
    "    oxygenLeft = 22, \n",
    "    holding = [0], \n",
    "    tankSize = 22, \n",
    "    cash = 214, \n",
    "    gameOver = False, \n",
    "    tanks = {(70, 45, \"tank\"), (160, 70, \"tank\")})\n",
    "s = g26.printBoard() #buy which?\n",
    "\n"
   ]
  },
  {
   "cell_type": "code",
   "execution_count": 408,
   "metadata": {},
   "outputs": [
    {
     "name": "stdout",
     "output_type": "stream",
     "text": [
      "214 [(None, None, 'exit')]\n",
      "339 [(160, 70, 'tank'), (8, 6, 'move'), (8, 3, 'move'), (12, 5, 'move'), (19, 1, 'move'), (10, 1, 'move'), (0, 0, 'move'), (None, None, 'exit')]\n",
      "412 [(70, 45, 'tank'), (7, 9, 'move'), (12, 5, 'move'), (8, 3, 'move'), (8, 6, 'move'), (10, 1, 'move'), (7, 2, 'move'), (0, 0, 'move'), (None, None, 'exit')]\n",
      "383 [(3, 5, 'move'), (0, 0, 'move'), (70, 45, 'tank'), (10, 1, 'move'), (8, 3, 'move'), (12, 5, 'move'), (8, 6, 'move'), (7, 9, 'move'), (0, 9, 'move'), (None, None, 'exit')]\n",
      "0 [(7, 2, 'move'), (8, 6, 'move'), (7, 9, 'move')]\n",
      "412 [(7, 9, 'move'), (0, 9, 'move'), (70, 45, 'tank'), (8, 6, 'move'), (12, 5, 'move'), (10, 1, 'move'), (8, 3, 'move'), (7, 2, 'move'), (0, 0, 'move'), (None, None, 'exit')]\n",
      "0 [(8, 3, 'move'), (3, 5, 'move'), (17, 3, 'move')]\n",
      "356 [(8, 6, 'move'), (7, 9, 'move'), (0, 9, 'move'), (0, 0, 'move'), (7, 2, 'move'), (0, 0, 'move'), (None, None, 'exit')]\n",
      "0 [(10, 1, 'move'), (17, 3, 'move')]\n",
      "0 [(12, 5, 'move'), (8, 3, 'move'), (0, 9, 'move')]\n",
      "0 [(17, 3, 'move')]\n",
      "0 [(19, 1, 'move')]\n",
      "392 [(0, 0, 'move'), (70, 45, 'tank'), (3, 5, 'move'), (8, 3, 'move'), (8, 6, 'move'), (12, 5, 'move'), (10, 1, 'move'), (7, 2, 'move'), (0, 0, 'move'), (None, None, 'exit')]\n"
     ]
    }
   ],
   "source": [
    "actions, scores = getActions(g26, 1, 50000, allRollouts = True)\n",
    "\n",
    "for i in range(len(scores)):\n",
    "    print(scores[i], actions[i])"
   ]
  },
  {
   "cell_type": "code",
   "execution_count": 412,
   "metadata": {},
   "outputs": [],
   "source": [
    "games = []\n",
    "for i in [g21, g22, g23, g24, g25, g26]:\n",
    "    game = {}\n",
    "    game['board'] = i.board\n",
    "    game['playerLoc'] = i.playerLoc\n",
    "    game['timeLeft'] = i.timeLeft\n",
    "    game['oxygenLeft'] = i.oxygenLeft\n",
    "    game['holding'] = i.holding\n",
    "    game['tankSize'] = i.tankSize\n",
    "    game['cash'] = i.cash\n",
    "    game['gameOver'] = i.gameOver\n",
    "    game['tanks'] = i.tanks\n",
    "    games.append(game)\n",
    "f = open(\"group2States\", \"wb\")\n",
    "pickle.dump(games, f)"
   ]
  },
  {
   "cell_type": "code",
   "execution_count": 413,
   "metadata": {},
   "outputs": [
    {
     "ename": "SyntaxError",
     "evalue": "invalid syntax (<ipython-input-413-8da686e05e29>, line 1)",
     "output_type": "error",
     "traceback": [
      "\u001b[1;36m  File \u001b[1;32m\"<ipython-input-413-8da686e05e29>\"\u001b[1;36m, line \u001b[1;32m1\u001b[0m\n\u001b[1;33m    ++++++++++++++++++++++++++++++++++++++++++++++++++++++++++++++++++++++++++++++++++++++++++++++++++++++++++++++++++++\u001b[0m\n\u001b[1;37m                                                                                                                        ^\u001b[0m\n\u001b[1;31mSyntaxError\u001b[0m\u001b[1;31m:\u001b[0m invalid syntax\n"
     ]
    }
   ],
   "source": [
    "++++++++++++++++++++++++++++++++++++++++++++++++++++++++++++++++++++++++++++++++++++++++++++++++++++++++++++++++++++"
   ]
  },
  {
   "cell_type": "code",
   "execution_count": 415,
   "metadata": {},
   "outputs": [
    {
     "name": "stdout",
     "output_type": "stream",
     "text": [
      " _   _   _   _   _   _   _   _   _   P\n",
      " _   _   _   _   _   _   _   _   _   _ \n",
      " _   _   _   _   _   _   _   _   _   _ \n",
      " _   _   _   _   _   _   _   _   _   _ \n",
      " _   _   _   _   _   _   _   _   _   _ \n",
      " _   _   _   _   _   _   _   _   _   _ \n",
      " _   _   _   _   _   _   _  34  _   _ \n",
      " _   _   _   _   _  37  _   _   _   _ \n",
      " _   _   _   _   _   _   _  42  _   _ \n",
      " _   _   _   _   _   _   _   _   _   _ \n",
      " _   _   _   _   _   _   _   _   _   _ \n",
      " _   _   _   _   _   _   _   _   _   _ \n",
      " _   _   _   _   _   _   _   _   _   _ \n",
      " _   _   _   _   _   _   _   _   _   _ \n",
      " _   _   _   _   _   _   _   _   _   _ \n",
      "91  _   _   _   _   _   _   _   _   _ \n",
      " _   _   _   _   _   _   _   _   _   _ \n",
      " _   _   _  87  _   _   _   _   _   _ \n",
      " _   _   _   _   _   _   _   _   _   _ \n",
      " _   _   _   _   _   _   _   _   _   _ \n",
      "tank size: 70\n",
      "cash: 321\n",
      "oxygen: 70\n",
      "timeLeft: 20\n",
      "holding: [0]\n"
     ]
    }
   ],
   "source": [
    "b31 = randomGenerateBoard(num = 5)\n",
    "g31 = diveGame( # no tank\n",
    "    board = b31, \n",
    "    playerLoc = (0, 9), \n",
    "    timeLeft =20, \n",
    "    oxygenLeft = 70, \n",
    "    holding = [0], \n",
    "    tankSize = 70, \n",
    "    cash = 321, \n",
    "    gameOver = False, \n",
    "    tanks = {(100, 70, \"tank\")})\n",
    "s = g31.printBoard() #dont exit\n",
    "\n"
   ]
  },
  {
   "cell_type": "code",
   "execution_count": 416,
   "metadata": {},
   "outputs": [
    {
     "name": "stdout",
     "output_type": "stream",
     "text": [
      "321 [(None, None, 'exit')]\n",
      "397 [(6, 7, 'move'), (8, 7, 'move'), (0, 9, 'move'), (None, None, 'exit')]\n",
      "0 [(7, 5, 'move'), (6, 7, 'move'), (0, 9, 'move')]\n",
      "397 [(8, 7, 'move'), (6, 7, 'move'), (0, 9, 'move'), (None, None, 'exit')]\n",
      "321 [(0, 0, 'move'), (0, 9, 'move'), (None, None, 'exit')]\n"
     ]
    }
   ],
   "source": [
    "actions, scores = getActions(g31, 1, 50000, allRollouts = True)\n",
    "\n",
    "for i in range(len(scores)):\n",
    "    print(scores[i], actions[i])"
   ]
  },
  {
   "cell_type": "code",
   "execution_count": 424,
   "metadata": {},
   "outputs": [
    {
     "name": "stdout",
     "output_type": "stream",
     "text": [
      " _   _   _   _   _   _   _   _   _   P\n",
      " _   _   _   _   _   _   _   _   _   _ \n",
      " _   _   _   _   _   _   _   _   _   _ \n",
      " _   _   _   _   _   _   _   _   _   _ \n",
      " _   _   _   _   _   _   _   _   _   _ \n",
      "54  _   _   _   _   _   _   _   _   _ \n",
      " _   _   _   _   _   _   _   _   _   _ \n",
      " _   _   _   _   _   _   _   _   _   _ \n",
      " _   _   _   _   _   _   _   _   _   _ \n",
      " _   _   _   _   _   _   _   _   _   _ \n",
      " _   _   _   _   _   _   _   _   _   _ \n",
      " _   _   _  57  _   _   _   _   _   _ \n",
      " _   _   _   _   _   _   _   _   _   _ \n",
      " _   _   _   _   _   _   _   _   _  68\n",
      " _   _   _   _   _   _   _   _   _   _ \n",
      " _   _   _   _   _   _   _   _  75  _ \n",
      " _   _   _   _   _   _   _   _   _   _ \n",
      " _   _   _   _   _   _   _   _   _   _ \n",
      " _   _   _   _   _   _   _   _   _   _ \n",
      " _   _   _   _   _  95  _   _   _   _ \n",
      "tank size: 40\n",
      "cash: 142\n",
      "oxygen: 70\n",
      "timeLeft: 22\n",
      "holding: [0]\n"
     ]
    }
   ],
   "source": [
    "b32[5][0] = 54\n",
    "g32 = diveGame(\n",
    "    board = b32, \n",
    "    playerLoc = (0, 9), \n",
    "    timeLeft =22, \n",
    "    oxygenLeft = 70, \n",
    "    holding = [0], \n",
    "    tankSize = 40, \n",
    "    cash = 142, \n",
    "    gameOver = False, \n",
    "    tanks = {(80, 60, \"tank\")})\n",
    "s = g32.printBoard() #don't exit\n",
    "\n"
   ]
  },
  {
   "cell_type": "code",
   "execution_count": 425,
   "metadata": {},
   "outputs": [
    {
     "name": "stdout",
     "output_type": "stream",
     "text": [
      "142 [(None, None, 'exit')]\n",
      "116 [(80, 60, 'tank'), (5, 0, 'move'), (0, 0, 'move'), (None, None, 'exit')]\n",
      "196 [(5, 0, 'move'), (0, 0, 'move'), (None, None, 'exit')]\n",
      "0 [(11, 3, 'move'), (0, 0, 'move')]\n",
      "0 [(13, 9, 'move'), (11, 3, 'move'), (0, 9, 'move')]\n",
      "0 [(15, 8, 'move'), (0, 9, 'move')]\n",
      "196 [(0, 0, 'move'), (5, 0, 'move'), (0, 0, 'move'), (None, None, 'exit')]\n"
     ]
    }
   ],
   "source": [
    "actions, scores = getActions(g32, 1, 50000, allRollouts = True)\n",
    "\n",
    "for i in range(len(scores)):\n",
    "    print(scores[i], actions[i])"
   ]
  },
  {
   "cell_type": "code",
   "execution_count": 440,
   "metadata": {
    "collapsed": true
   },
   "outputs": [],
   "source": [
    "b33 = randomGenerateBoard(5)"
   ]
  },
  {
   "cell_type": "code",
   "execution_count": 441,
   "metadata": {},
   "outputs": [
    {
     "name": "stdout",
     "output_type": "stream",
     "text": [
      " _   _   _   _   _   _   _   _   _   P\n",
      " _   _   _   _   _   _   _   _   _   _ \n",
      " _   _   _   _   _   _   _   _   _   _ \n",
      " _   _   _   _   _   _   _   _   _   _ \n",
      " _   _   _  24  _   _   _   _   _   _ \n",
      " _   _   _   _   _   _   _   _   _   _ \n",
      " _   _   _   _   _   _   _   _   _   _ \n",
      " _   _   _   _   _   _   _   _   _   _ \n",
      " _   _   _   _   _   _   _   _   _   _ \n",
      " _   _   _   _   _   _   _   _   _   _ \n",
      " _   _   _   _   _   _   _   _   _   _ \n",
      " _   _   _   _   _   _   _   _  65  _ \n",
      " _  65  _   _   _   _   _   _   _   _ \n",
      " _   _   _   _   _   _   _   _   _   _ \n",
      " _   _   _   _   _   _   _   _   _   _ \n",
      " _   _   _   _   _   _   _   _   _   _ \n",
      " _   _   _   _   _   _   _   _   _  89\n",
      " _   _   _   _   _   _  85  _   _   _ \n",
      " _   _   _   _   _   _   _   _   _   _ \n",
      " _   _   _   _   _   _   _   _   _   _ \n",
      "tank size: 11\n",
      "cash: 52\n",
      "oxygen: 11\n",
      "timeLeft: 28\n",
      "holding: [0]\n"
     ]
    }
   ],
   "source": [
    "\n",
    "g33 = diveGame( # no tank\n",
    "    board = b33, \n",
    "    playerLoc = (0, 9), \n",
    "    timeLeft =28, \n",
    "    oxygenLeft = 11, \n",
    "    holding = [0], \n",
    "    tankSize = 11, \n",
    "    cash = 52, \n",
    "    gameOver = False, \n",
    "    tanks = {(80, 60, \"tank\"), (40, 30, \"tank\")})\n",
    "s = g33.printBoard() #don't exit\n"
   ]
  },
  {
   "cell_type": "code",
   "execution_count": 442,
   "metadata": {},
   "outputs": [
    {
     "name": "stdout",
     "output_type": "stream",
     "text": [
      "52 [(None, None, 'exit')]\n",
      "77 [(40, 30, 'tank'), (11, 8, 'move'), (0, 9, 'move'), (None, None, 'exit')]\n",
      "0 [(4, 3, 'move'), (16, 9, 'move')]\n",
      "0 [(11, 8, 'move')]\n",
      "0 [(12, 1, 'move')]\n",
      "0 [(16, 9, 'move')]\n",
      "0 [(17, 6, 'move')]\n",
      "52 [(0, 0, 'move'), (0, 9, 'move'), (0, 0, 'move'), (None, None, 'exit')]\n"
     ]
    }
   ],
   "source": [
    "actions, scores = getActions(g33, 1, 50000, allRollouts = True)\n",
    "\n",
    "for i in range(len(scores)):\n",
    "    print(scores[i], actions[i])"
   ]
  },
  {
   "cell_type": "code",
   "execution_count": 459,
   "metadata": {
    "collapsed": true
   },
   "outputs": [],
   "source": [
    "b34 = randomGenerateBoard(3)"
   ]
  },
  {
   "cell_type": "code",
   "execution_count": 470,
   "metadata": {},
   "outputs": [
    {
     "name": "stdout",
     "output_type": "stream",
     "text": [
      " _   _   _   _   _   _   _   _   _   P\n",
      " _   _   _   _   _   _   _   _   _   _ \n",
      " _   _   _   _   _   _   _   _   _   _ \n",
      " _   _   _   _   _   _   _   _   _   _ \n",
      " _   _   _   _   _   _   _   _   _   _ \n",
      " _   _   _   _   _   _   _   _   _   _ \n",
      " _   _   _   _   _   _   _   _   _   _ \n",
      " _   _   _   _   _   _   _   _   _   _ \n",
      " _   _   _   _   _   _   _   _   _   _ \n",
      " _   _   _   _   _   _   _   _   _   _ \n",
      " _   _   _   _   _  63  _   _   _   _ \n",
      " _   _   _   _  56  _   _   _   _   _ \n",
      " _   _   _   _   _   _   _   _   _   _ \n",
      " _   _   _   _   _   _   _   _   _   _ \n",
      " _   _   _   _   _   _   _   _   _   _ \n",
      " _   _   _   _   _   _   _   _   _   _ \n",
      "83  _   _   _   _   _   _   _   _   _ \n",
      " _   _   _   _   _   _   _   _   _   _ \n",
      " _   _   _   _   _   _   _   _   _   _ \n",
      " _   _   _   _   _   _   _   _   _   _ \n",
      "tank size: 15\n",
      "cash: 52\n",
      "oxygen: 15\n",
      "timeLeft: 15\n",
      "holding: [0]\n"
     ]
    }
   ],
   "source": [
    "\n",
    "\n",
    "g34 = diveGame( # no tank\n",
    "    board = b34, \n",
    "    playerLoc = (0, 9), \n",
    "    timeLeft =15, \n",
    "    oxygenLeft = 15, \n",
    "    holding = [0], \n",
    "    tankSize = 15, \n",
    "    cash = 52, \n",
    "    gameOver = False, \n",
    "    tanks = {(42, 30, \"tank\")})\n",
    "s = g34.printBoard() #don't exit\n",
    "\n"
   ]
  },
  {
   "cell_type": "code",
   "execution_count": 471,
   "metadata": {},
   "outputs": [
    {
     "name": "stdout",
     "output_type": "stream",
     "text": [
      "52 [(None, None, 'exit')]\n",
      "10 [(42, 30, 'tank'), (None, None, 'exit')]\n",
      "0 [(10, 5, 'move'), (0, 0, 'move')]\n",
      "52 [(0, 0, 'move'), (None, None, 'exit')]\n"
     ]
    }
   ],
   "source": [
    "\n",
    "actions, scores = getActions(g34, 1, 50000, allRollouts = True)\n",
    "\n",
    "for i in range(len(scores)):\n",
    "    print(scores[i], actions[i])"
   ]
  },
  {
   "cell_type": "code",
   "execution_count": null,
   "metadata": {
    "collapsed": true
   },
   "outputs": [],
   "source": []
  },
  {
   "cell_type": "code",
   "execution_count": 474,
   "metadata": {
    "collapsed": true
   },
   "outputs": [],
   "source": [
    "b35 = randomGenerateBoard(3)\n",
    "\n",
    "\n"
   ]
  },
  {
   "cell_type": "code",
   "execution_count": 476,
   "metadata": {},
   "outputs": [
    {
     "name": "stdout",
     "output_type": "stream",
     "text": [
      " _   _   _   _   _   _   _   _   _   P\n",
      " _   _   _   _   _   _   _   _   _   _ \n",
      " _   _   _   _   _   _   _   _   _   _ \n",
      " _   _   _   _   _   _   _   _   _   _ \n",
      " _   _   _   _   _   _   _   _   _   _ \n",
      " _   _   _   _   _   _   _   _   _   _ \n",
      " _   _   _   _   _   _   _   _   _   _ \n",
      " _   _   _   _   _   _   _   _   _   _ \n",
      " _   _   _   _   _   _   _   _   _   _ \n",
      " _  45  _   _   _   _   _   _   _   _ \n",
      " _   _   _   _   _   _   _  57  _   _ \n",
      " _   _   _   _  58  _   _   _   _   _ \n",
      " _   _   _   _   _   _   _   _   _   _ \n",
      " _   _   _   _   _   _   _   _   _   _ \n",
      " _   _   _   _   _   _   _   _   _   _ \n",
      " _   _   _   _   _   _   _   _   _   _ \n",
      " _   _   _   _   _   _   _   _   _   _ \n",
      " _   _   _   _   _   _   _   _   _   _ \n",
      " _   _   _   _   _   _   _   _   _   _ \n",
      " _   _   _   _   _   _   _   _   _   _ \n",
      "tank size: 11\n",
      "cash: 52\n",
      "oxygen: 11\n",
      "timeLeft: 11\n",
      "holding: [0]\n"
     ]
    }
   ],
   "source": [
    "\n",
    "g35 = diveGame( # no tank\n",
    "    board = b35, \n",
    "    playerLoc = (0, 9), \n",
    "    timeLeft =11, \n",
    "    oxygenLeft = 11, \n",
    "    holding = [0], \n",
    "    tankSize = 11, \n",
    "    cash = 52, \n",
    "    gameOver = False, \n",
    "    tanks = {(42, 30, \"tank\")})\n",
    "s = g35.printBoard() #don't exit\n",
    "\n",
    "\n"
   ]
  },
  {
   "cell_type": "code",
   "execution_count": 477,
   "metadata": {
    "scrolled": true
   },
   "outputs": [
    {
     "name": "stdout",
     "output_type": "stream",
     "text": [
      "52 [(None, None, 'exit')]\n",
      "10 [(42, 30, 'tank'), (0, 0, 'move'), (None, None, 'exit')]\n",
      "52 [(0, 0, 'move'), (None, None, 'exit')]\n"
     ]
    }
   ],
   "source": [
    "\n",
    "\n",
    "actions, scores = getActions(g35, 1, 50000, allRollouts = True)\n",
    "\n",
    "for i in range(len(scores)):\n",
    "    print(scores[i], actions[i])"
   ]
  },
  {
   "cell_type": "code",
   "execution_count": null,
   "metadata": {
    "collapsed": true
   },
   "outputs": [],
   "source": []
  },
  {
   "cell_type": "code",
   "execution_count": 481,
   "metadata": {},
   "outputs": [
    {
     "name": "stdout",
     "output_type": "stream",
     "text": [
      " _   _   _   _   _   _   _   _   _   P\n",
      " _   _   _   _   _   _   _   _   _   _ \n",
      " _   _   _   _   _   _   _   _   _   _ \n",
      " _   _   _   _   _   _   _   _   _   _ \n",
      " _   _   _   _   _   _   _   _   _   _ \n",
      " _   _   _   _   _   _   _   _   _   _ \n",
      " _   _   _   _   _   _   _   _   _   _ \n",
      " _   _   _   _   _   _   _   _   _  42\n",
      "45  _   _   _   _   _   _   _   _   _ \n",
      " _   _  48  _   _   _   _   _   _   _ \n",
      " _   _   _   _   _   _   _   _   _   _ \n",
      " _   _   _   _   _   _   _   _   _   _ \n",
      " _   _   _   _   _   _   _   _   _  64\n",
      " _   _   _   _   _   _   _   _   _   _ \n",
      " _   _   _   _   _   _   _   _   _   _ \n",
      " _   _   _   _   _   _   _   _   _   _ \n",
      " _   _   _   _   _   _   _   _   _   _ \n",
      " _   _   _   _   _   _   _   _   _   _ \n",
      " _   _   _   _   _   _   _   _   _   _ \n",
      " _   _   _   _   _   _   _   _   _   _ \n",
      "tank size: 15\n",
      "cash: 106\n",
      "oxygen: 15\n",
      "timeLeft: 15\n",
      "holding: [0]\n",
      "106 [(None, None, 'exit')]\n",
      "106 [(42, 30, 'tank'), (7, 9, 'move'), (0, 9, 'move'), (None, None, 'exit')]\n",
      "148 [(7, 9, 'move'), (0, 9, 'move'), (None, None, 'exit')]\n",
      "0 [(12, 9, 'move'), (0, 0, 'move')]\n",
      "106 [(0, 0, 'move'), (None, None, 'exit')]\n"
     ]
    }
   ],
   "source": [
    "b36 = randomGenerateBoard(4)\n",
    "\n",
    "\n",
    "\n",
    "\n",
    "\n",
    "g36 = diveGame( # no tank\n",
    "    board = b36, \n",
    "    playerLoc = (0, 9), \n",
    "    timeLeft =15, \n",
    "    oxygenLeft = 15, \n",
    "    holding = [0], \n",
    "    tankSize = 15, \n",
    "    cash = 106, \n",
    "    gameOver = False, \n",
    "    tanks = {(42, 30, \"tank\")})\n",
    "s = g36.printBoard() #don't exit\n",
    "\n",
    "\n",
    "\n",
    "\n",
    "\n",
    "\n",
    "actions, scores = getActions(g36, 1, 50000, allRollouts = True)\n",
    "\n",
    "for i in range(len(scores)):\n",
    "    print(scores[i], actions[i])"
   ]
  },
  {
   "cell_type": "code",
   "execution_count": 482,
   "metadata": {
    "collapsed": true
   },
   "outputs": [],
   "source": [
    "games = []\n",
    "for i in [g31, g32, g33, g34, g35, g36]:\n",
    "    game = {}\n",
    "    game['board'] = i.board\n",
    "    game['playerLoc'] = i.playerLoc\n",
    "    game['timeLeft'] = i.timeLeft\n",
    "    game['oxygenLeft'] = i.oxygenLeft\n",
    "    game['holding'] = i.holding\n",
    "    game['tankSize'] = i.tankSize\n",
    "    game['cash'] = i.cash\n",
    "    game['gameOver'] = i.gameOver\n",
    "    game['tanks'] = i.tanks\n",
    "    games.append(game)\n",
    "f = open(\"group3States\", \"wb\")\n",
    "pickle.dump(games, f)"
   ]
  },
  {
   "cell_type": "code",
   "execution_count": 483,
   "metadata": {},
   "outputs": [
    {
     "ename": "SyntaxError",
     "evalue": "invalid syntax (<ipython-input-483-b308f3405ec9>, line 1)",
     "output_type": "error",
     "traceback": [
      "\u001b[1;36m  File \u001b[1;32m\"<ipython-input-483-b308f3405ec9>\"\u001b[1;36m, line \u001b[1;32m1\u001b[0m\n\u001b[1;33m    +++++++++++++++++++++++++++++++++++++++++++++++++++++++++++++++++++++++++++++++++++++++++++++++++++++++++++++++++++++\u001b[0m\n\u001b[1;37m                                                                                                                         ^\u001b[0m\n\u001b[1;31mSyntaxError\u001b[0m\u001b[1;31m:\u001b[0m invalid syntax\n"
     ]
    }
   ],
   "source": [
    "+++++++++++++++++++++++++++++++++++++++++++++++++++++++++++++++++++++++++++++++++++++++++++++++++++++++++++++++++++++"
   ]
  },
  {
   "cell_type": "code",
   "execution_count": 525,
   "metadata": {
    "collapsed": true
   },
   "outputs": [],
   "source": [
    "\n",
    "def temp():\n",
    "    b41 = randomGenerateBoard(8, left = True, upper = True)\n",
    "    g41 = diveGame( # no tank\n",
    "        board = b41, \n",
    "        playerLoc = (0, 9), \n",
    "        timeLeft =40, \n",
    "        oxygenLeft = 21, \n",
    "        holding = [0], \n",
    "        tankSize = 21, \n",
    "        cash = 65, \n",
    "        gameOver = False, \n",
    "        tanks = {(42, 30, \"tank\")})\n",
    "    s = g41.printBoard() \n",
    "\n",
    "    actions, scores = getActions(g41, 1, 50000, allRollouts = True)\n",
    "\n",
    "    bestScore = max(scores)\n",
    "    c = 0\n",
    "    for i in scores:\n",
    "        if i == bestScore:\n",
    "            c += 1\n",
    "    if c > 2:\n",
    "        return False\n",
    "    for i in range(len(actions)):\n",
    "        if actions[i][0] == (0, 0, \"move\"):\n",
    "            if scores[i] != bestScore:\n",
    "                return False\n",
    "            return g41"
   ]
  },
  {
   "cell_type": "code",
   "execution_count": 528,
   "metadata": {
    "scrolled": true
   },
   "outputs": [
    {
     "name": "stdout",
     "output_type": "stream",
     "text": [
      " _   _   _   _   _   _   _   _   _   P\n",
      " _   _   _   _   _   _   _   _   _   _ \n",
      " _   _   _   _   _   _   _   _   _   _ \n",
      " _   _   _   _   _   _   _   _   _   _ \n",
      " _   _   _   _   _   _   _   _   _   _ \n",
      " _   _  31  _   _   _   _   _   _   _ \n",
      " _   _   _   _  30  _   _   _   _   _ \n",
      " _   _   _   _   _   _   _   _   _   _ \n",
      " _   _   _   _   _   _   _   _   _   _ \n",
      " _   _   _   _  47  _  55  _   _   _ \n",
      " _   _   _   _  66  _   _   _   _   _ \n",
      " _   _   _   _  59  _   _   _   _   _ \n",
      " _  61  _   _   _   _   _   _   _   _ \n",
      " _   _   _   _   _   _   _   _   _   _ \n",
      " _   _   _  70  _   _   _   _   _   _ \n",
      " _   _   _   _   _   _   _   _   _   _ \n",
      " _   _   _   _   _   _   _   _   _   _ \n",
      " _   _   _   _   _   _   _   _   _   _ \n",
      " _   _   _   _   _   _   _   _   _   _ \n",
      " _   _   _   _   _   _   _   _   _   _ \n",
      "tank size: 21\n",
      "cash: 65\n",
      "oxygen: 21\n",
      "timeLeft: 40\n",
      "holding: [0]\n"
     ]
    }
   ],
   "source": [
    "g41 = None\n",
    "for i in range(5):\n",
    "    t = temp()\n",
    "    if t:\n",
    "        g41 = t\n",
    "        break\n",
    "        "
   ]
  },
  {
   "cell_type": "code",
   "execution_count": 529,
   "metadata": {},
   "outputs": [
    {
     "name": "stdout",
     "output_type": "stream",
     "text": [
      "65 [(None, None, 'exit')]\n",
      "256 [(42, 30, 'tank'), (0, 0, 'move'), (5, 2, 'move'), (6, 4, 'move'), (9, 4, 'move'), (11, 4, 'move'), (10, 4, 'move'), (0, 0, 'move'), (None, None, 'exit')]\n",
      "126 [(5, 2, 'move'), (0, 0, 'move'), (6, 4, 'move'), (0, 0, 'move'), (None, None, 'exit')]\n",
      "126 [(6, 4, 'move'), (0, 0, 'move'), (5, 2, 'move'), (0, 9, 'move'), (None, None, 'exit')]\n",
      "0 [(9, 4, 'move'), (12, 1, 'move'), (14, 3, 'move')]\n",
      "0 [(9, 6, 'move'), (11, 4, 'move'), (14, 3, 'move'), (12, 1, 'move')]\n",
      "0 [(10, 4, 'move'), (6, 4, 'move'), (11, 4, 'move')]\n",
      "0 [(11, 4, 'move'), (0, 0, 'move')]\n",
      "0 [(12, 1, 'move'), (5, 2, 'move')]\n",
      "0 [(14, 3, 'move'), (10, 4, 'move')]\n",
      "256 [(0, 0, 'move'), (42, 30, 'tank'), (5, 2, 'move'), (6, 4, 'move'), (11, 4, 'move'), (10, 4, 'move'), (9, 4, 'move'), (0, 0, 'move'), (None, None, 'exit')]\n"
     ]
    }
   ],
   "source": [
    "actions, scores = getActions(g41, 1, 50000, allRollouts = True)\n",
    "for i in range(len(scores)):\n",
    "    print(scores[i], actions[i])"
   ]
  },
  {
   "cell_type": "code",
   "execution_count": 530,
   "metadata": {
    "scrolled": true
   },
   "outputs": [
    {
     "name": "stdout",
     "output_type": "stream",
     "text": [
      " _   _   _   _   _   _   _   _   _   P\n",
      " _   _   _   _   _   _   _   _   _   _ \n",
      " _   _   _   _   _   _   _   _   _   _ \n",
      " _   _   _   _   _   _   _   _   _   _ \n",
      " _   _   _  20 25  _   _   _   _   _ \n",
      " _   _   _   _   _   _  30  _   _   _ \n",
      " _   _   _   _   _   _   _   _   _   _ \n",
      " _   _   _   _   _   _   _   _   _   _ \n",
      " _   _   _   _   _   _   _   _   _   _ \n",
      " _   _   _   _   _   _   _   _   _   _ \n",
      " _   _   _   _   _   _   _   _   _   _ \n",
      " _   _   _   _   _   _   _   _   _   _ \n",
      " _   _   _   _   _   _   _   _   _   _ \n",
      "66  _   _   _   _   _  74  _   _   _ \n",
      "75  _   _   _   _   _   _   _   _   _ \n",
      " _   _   _   _   _   _   _   _   _   _ \n",
      " _   _   _   _  86  _   _   _   _   _ \n",
      " _   _   _   _   _   _   _   _   _   _ \n",
      " _   _   _   _   _   _  97  _   _   _ \n",
      " _   _   _   _   _   _   _   _   _   _ \n",
      "tank size: 21\n",
      "cash: 65\n",
      "oxygen: 21\n",
      "timeLeft: 40\n",
      "holding: [0]\n",
      " _   _   _   _   _   _   _   _   _   P\n",
      " _   _   _   _   _   _   _   _   _   _ \n",
      " _   _   _   _   _   _   _   _   _   _ \n",
      " _   _   _   _   _   _   _   _   _   _ \n",
      " _   _   _   _   _   _   _   _   _   _ \n",
      " _   _   _   _   _   _   _   _   _   _ \n",
      " _   _   _   _   _   _   _   _   _   _ \n",
      " _   _   _  43  _   _   _   _   _   _ \n",
      " _   _   _   _   _  41  _   _   _   _ \n",
      " _   _   _   _   _   _   _   _   _   _ \n",
      " _   _   _   _   _   _   _   _   _   _ \n",
      " _   _   _   _   _   _   _   _   _   _ \n",
      " _   _   _  72  _   _   _   _   _   _ \n",
      " _   _   _   _   _   _   _   _   _   _ \n",
      " _   _   _  75 71  _   _   _   _   _ \n",
      " _   _   _   _   _  79  _   _   _   _ \n",
      " _   _   _   _   _   _   _   _   _   _ \n",
      " _   _   _   _   _   _   _   _   _   _ \n",
      " _   _   _  93  _   _   _   _   _   _ \n",
      " _   _   _   _   _  105  _   _   _   _ \n",
      "tank size: 21\n",
      "cash: 65\n",
      "oxygen: 21\n",
      "timeLeft: 40\n",
      "holding: [0]\n",
      " _   _   _   _   _   _   _   _   _   P\n",
      " _   _   _   _   _   _   _   _   _   _ \n",
      " _   _   _   _   _   _   _   _   _   _ \n",
      " _   _   _   _   _   _   _   _   _   _ \n",
      " _   _   _   _   _   _   _   _   _   _ \n",
      " _   _   _   _   _   _   _   _   _   _ \n",
      " _   _   _   _   _   _  31  _   _   _ \n",
      " _  39  _   _   _   _   _   _   _   _ \n",
      " _   _   _   _   _  56  _   _   _   _ \n",
      " _   _   _   _   _   _   _   _   _   _ \n",
      "55  _   _   _   _   _   _   _   _   _ \n",
      " _   _   _  61  _   _   _   _   _   _ \n",
      " _   _   _   _  63  _   _   _   _   _ \n",
      " _   _   _   _   _   _   _   _   _   _ \n",
      " _   _   _   _   _   _   _   _   _   _ \n",
      " _   _   _   _   _   _   _   _   _   _ \n",
      " _   _  87  _   _   _   _   _   _   _ \n",
      " _   _  90  _   _   _   _   _   _   _ \n",
      " _   _   _   _   _   _   _   _   _   _ \n",
      " _   _   _   _   _   _   _   _   _   _ \n",
      "tank size: 21\n",
      "cash: 65\n",
      "oxygen: 21\n",
      "timeLeft: 40\n",
      "holding: [0]\n",
      " _   _   _   _   _   _   _   _   _   P\n",
      " _   _   _   _   _   _   _   _   _   _ \n",
      " _   _   _   _   _   _   _   _   _   _ \n",
      " _   _   _   _   _   _   _   _   _   _ \n",
      " _   _   _   _  28  _   _   _   _   _ \n",
      " _  32  _   _   _   _   _   _   _   _ \n",
      " _   _   _   _   _   _   _   _   _   _ \n",
      " _  42 40  _   _   _   _   _   _   _ \n",
      " _   _   _   _   _   _   _   _   _   _ \n",
      " _   _   _   _   _   _   _   _   _   _ \n",
      " _   _   _   _   _  53  _   _   _   _ \n",
      "56  _   _   _   _   _   _   _   _   _ \n",
      " _   _   _   _   _   _   _   _   _   _ \n",
      " _   _   _   _   _   _   _   _   _   _ \n",
      " _   _   _   _   _   _   _   _   _   _ \n",
      " _   _   _   _   _   _   _   _   _   _ \n",
      " _   _   _   _   _   _   _   _   _   _ \n",
      " _   _   _   _   _   _  87  _   _   _ \n",
      " _   _   _   _   _   _  93  _   _   _ \n",
      " _   _   _   _   _   _   _   _   _   _ \n",
      "tank size: 21\n",
      "cash: 65\n",
      "oxygen: 21\n",
      "timeLeft: 40\n",
      "holding: [0]\n",
      " _   _   _   _   _   _   _   _   _   P\n",
      " _   _   _   _   _   _   _   _   _   _ \n",
      " _   _   _   _   _   _   _   _   _   _ \n",
      " _   _   _   _   _   _   _   _   _   _ \n",
      " _   _   _   _   _   _   _   _   _   _ \n",
      " _   _   _   _   _  30  _   _   _   _ \n",
      " _   _   _   _   _   _   _   _   _   _ \n",
      " _   _   _   _   _   _  43  _   _   _ \n",
      " _   _   _   _   _   _   _   _   _   _ \n",
      " _   _   _  46  _   _   _   _   _   _ \n",
      " _   _   _   _   _   _   _   _   _   _ \n",
      " _   _   _   _   _   _   _   _   _   _ \n",
      " _  61  _   _   _   _   _   _   _   _ \n",
      "70  _   _   _   _   _   _   _   _   _ \n",
      " _   _   _   _   _   _   _   _   _   _ \n",
      "78  _   _   _   _   _   _   _   _   _ \n",
      " _   _   _   _   _   _   _   _   _   _ \n",
      " _   _   _  86  _   _   _   _   _   _ \n",
      " _   _   _   _   _   _   _   _   _   _ \n",
      " _   _   _   _   _   _   _   _   _   _ \n",
      "tank size: 21\n",
      "cash: 65\n",
      "oxygen: 21\n",
      "timeLeft: 40\n",
      "holding: [0]\n"
     ]
    }
   ],
   "source": [
    "g42 = None\n",
    "for i in range(5):\n",
    "    t = temp()\n",
    "    if t:\n",
    "        g42 = t\n",
    "        \n",
    "        "
   ]
  },
  {
   "cell_type": "code",
   "execution_count": 531,
   "metadata": {},
   "outputs": [
    {
     "data": {
      "text/plain": [
       "Cash: 65"
      ]
     },
     "execution_count": 531,
     "metadata": {},
     "output_type": "execute_result"
    }
   ],
   "source": [
    "g42"
   ]
  },
  {
   "cell_type": "code",
   "execution_count": 532,
   "metadata": {},
   "outputs": [
    {
     "name": "stdout",
     "output_type": "stream",
     "text": [
      "65 [(None, None, 'exit')]\n",
      "171 [(42, 30, 'tank'), (0, 0, 'move'), (15, 0, 'move'), (13, 0, 'move'), (0, 0, 'move'), (None, None, 'exit')]\n",
      "138 [(5, 5, 'move'), (0, 9, 'move'), (7, 6, 'move'), (0, 9, 'move'), (None, None, 'exit')]\n",
      "138 [(7, 6, 'move'), (0, 9, 'move'), (5, 5, 'move'), (0, 0, 'move'), (None, None, 'exit')]\n",
      "0 [(9, 3, 'move'), (15, 0, 'move')]\n",
      "0 [(12, 1, 'move'), (0, 0, 'move')]\n",
      "0 [(13, 0, 'move')]\n",
      "0 [(15, 0, 'move')]\n",
      "0 [(17, 3, 'move')]\n",
      "171 [(0, 0, 'move'), (42, 30, 'tank'), (15, 0, 'move'), (13, 0, 'move'), (0, 0, 'move'), (None, None, 'exit')]\n"
     ]
    }
   ],
   "source": [
    "actions, scores = getActions(g42, 1, 50000, allRollouts = True)\n",
    "for i in range(len(scores)):\n",
    "    print(scores[i], actions[i])"
   ]
  },
  {
   "cell_type": "code",
   "execution_count": 542,
   "metadata": {
    "collapsed": true
   },
   "outputs": [],
   "source": [
    "\n",
    "def temp():\n",
    "    b41 = randomGenerateBoard(9, upper = True)\n",
    "    g41 = diveGame( # no tank\n",
    "        board = b41, \n",
    "        playerLoc = (0, 0), \n",
    "        timeLeft =60, \n",
    "        oxygenLeft = 15, \n",
    "        holding = [0], \n",
    "        tankSize = 15, \n",
    "        cash = 14, \n",
    "        gameOver = False, \n",
    "        tanks = {(45, 35, \"tank\")})\n",
    "    s = g41.printBoard() \n",
    "\n",
    "    actions, scores = getActions(g41, 1, 50000, allRollouts = True)\n",
    "\n",
    "    bestScore = max(scores)\n",
    "    c = 0\n",
    "    for i in scores:\n",
    "        if i == bestScore:\n",
    "            c += 1\n",
    "    if c > 2:\n",
    "        return False\n",
    "    for i in range(len(actions)):\n",
    "        if actions[i][0] == (0, 9, \"move\"):\n",
    "            if scores[i] != bestScore:\n",
    "                return False\n",
    "            return g41"
   ]
  },
  {
   "cell_type": "code",
   "execution_count": 534,
   "metadata": {
    "scrolled": true
   },
   "outputs": [
    {
     "name": "stdout",
     "output_type": "stream",
     "text": [
      " P  _   _   _   _   _   _   _   _   _ \n",
      " _   _   _   _   _   _   _   _   _   _ \n",
      " _   _   _   _   _   _   _   _   _   _ \n",
      " _   _   _   _   _   _   _   _   _   _ \n",
      " _  24  _   _   _   _   _   _   _   _ \n",
      " _   _   _   _   _   _   _   _   _   _ \n",
      " _   _   _   _   _   _   _   _   _   _ \n",
      " _   _   _   _   _   _   _   _   _   _ \n",
      " _   _   _   _   _   _   _   _   _   _ \n",
      " _   _   _   _   _   _   _   _   _   _ \n",
      " _   _   _   _   _   _   _   _   _   _ \n",
      " _   _   _   _   _   _   _   _   _   _ \n",
      " _   _   _   _   _   _   _   _   _   _ \n",
      "68  _   _   _   _   _   _   _  74  _ \n",
      " _   _   _   _   _   _   _   _   _   _ \n",
      " _   _   _   _   _   _   _   _   _   _ \n",
      " _   _   _   _   _   _   _   _   _   _ \n",
      " _   _   _   _   _   _   _   _   _   _ \n",
      " _   _   _  96  _   _   _   _   _   _ \n",
      " _   _   _   _   _   _   _   _   _   _ \n",
      "tank size: 21\n",
      "cash: 65\n",
      "oxygen: 21\n",
      "timeLeft: 40\n",
      "holding: [0]\n",
      " P  _   _   _   _   _   _   _   _   _ \n",
      " _   _   _   _   _   _   _   _   _   _ \n",
      " _   _   _   _   _   _   _   _   _   _ \n",
      " _   _   _   _   _   _   _   _   _   _ \n",
      " _   _   _   _   _   _   _   _   _   _ \n",
      " _   _   _   _   _   _   _   _   _   _ \n",
      " _   _   _   _   _   _   _   _   _   _ \n",
      " _   _   _   _   _   _   _   _   _   _ \n",
      " _   _   _   _   _   _   _   _   _   _ \n",
      " _   _   _   _   _   _   _   _   _   _ \n",
      " _   _   _  59  _   _   _   _   _   _ \n",
      " _   _   _   _   _   _   _   _   _   _ \n",
      " _   _   _   _   _   _  71  _   _   _ \n",
      " _  68  _   _   _   _   _   _   _   _ \n",
      " _   _   _   _   _   _   _   _   _   _ \n",
      " _   _   _   _   _   _   _   _   _   _ \n",
      " _   _   _   _   _   _   _   _   _   _ \n",
      "87  _   _   _   _   _   _   _   _   _ \n",
      " _  97  _   _   _   _   _   _   _   _ \n",
      " _   _   _   _   _   _   _   _   _   _ \n",
      "tank size: 21\n",
      "cash: 65\n",
      "oxygen: 21\n",
      "timeLeft: 40\n",
      "holding: [0]\n",
      " P  _   _   _   _   _   _   _   _   _ \n",
      " _   _   _   _   _   _   _   _   _   _ \n",
      " _   _   _   _   _   _   _   _   _   _ \n",
      " _   _   _   _   _   _   _   _   _   _ \n",
      " _   _   _   _   _   _   _   _   _   _ \n",
      " _   _   _   _   _   _   _   _   _   _ \n",
      " _   _   _   _   _   _   _   _   _   _ \n",
      " _   _   _   _   _   _   _   _   _   _ \n",
      " _   _   _   _   _   _   _   _   _   _ \n",
      " _  55  _   _  53  _   _   _   _   _ \n",
      " _   _   _   _   _   _   _   _   _   _ \n",
      " _   _   _   _   _   _   _   _   _   _ \n",
      " _   _   _   _   _   _   _   _   _   _ \n",
      " _   _   _   _   _   _   _   _   _   _ \n",
      " _   _   _   _   _   _   _   _   _   _ \n",
      " _   _   _   _   _   _   _   _   _   _ \n",
      " _   _   _   _   _   _   _  83  _   _ \n",
      " _   _   _   _   _   _   _   _   _   _ \n",
      " _   _   _   _   _   _  93  _   _   _ \n",
      " _  96  _   _   _   _   _   _   _   _ \n",
      "tank size: 21\n",
      "cash: 65\n",
      "oxygen: 21\n",
      "timeLeft: 40\n",
      "holding: [0]\n",
      "65 [(None, None, 'exit')]\n",
      "128 [(45, 35, 'tank'), (9, 4, 'move'), (9, 1, 'move'), (0, 9, 'move'), (None, None, 'exit')]\n",
      "120 [(9, 1, 'move'), (0, 0, 'move'), (0, 9, 'move'), (None, None, 'exit')]\n",
      "0 [(9, 4, 'move'), (0, 9, 'move')]\n",
      "0 [(16, 7, 'move')]\n",
      "0 [(18, 6, 'move')]\n",
      "0 [(19, 1, 'move'), (18, 6, 'move')]\n",
      "128 [(0, 9, 'move'), (45, 35, 'tank'), (9, 4, 'move'), (9, 1, 'move'), (0, 0, 'move'), (None, None, 'exit')]\n"
     ]
    }
   ],
   "source": [
    "g43 = None\n",
    "for i in range(5):\n",
    "    t = temp()\n",
    "    if t:\n",
    "        g43 = t\n",
    "        break\n",
    "actions, scores = getActions(g43, 1, 50000, allRollouts = True)\n",
    "for i in range(len(scores)):\n",
    "    print(scores[i], actions[i])"
   ]
  },
  {
   "cell_type": "code",
   "execution_count": 543,
   "metadata": {
    "scrolled": true
   },
   "outputs": [
    {
     "name": "stdout",
     "output_type": "stream",
     "text": [
      " P  _   _   _   _   _   _   _   _   _ \n",
      " _   _   _   _   _   _   _   _   _   _ \n",
      " _   _   _   _   _   _   _   _   _   _ \n",
      " _   _   _   _   _   _   _   _   _   _ \n",
      " _   _   _   _   _   _   _   _   _  23\n",
      " _   _   _   _   _   _   _   _   _   _ \n",
      " _   _   _   _   _   _   _   _   _   _ \n",
      " _   _   _   _   _   _   _   _   _   _ \n",
      " _   _   _   _   _   _   _   _   _   _ \n",
      " _   _   _   _   _   _   _   _   _   _ \n",
      " _   _  50  _   _   _   _   _   _   _ \n",
      " _   _  58  _   _   _   _   _   _   _ \n",
      " _   _   _   _   _   _   _   _  69  _ \n",
      " _   _   _   _   _   _   _   _  65  _ \n",
      " _   _   _   _   _   _   _   _   _  77\n",
      " _   _   _   _  81  _   _   _   _   _ \n",
      " _  84  _   _   _   _   _   _   _   _ \n",
      " _   _   _   _   _   _   _   _   _   _ \n",
      " _   _   _   _   _   _   _   _   _   _ \n",
      " _   _   _   _   _   _   _   _   _   _ \n",
      "tank size: 15\n",
      "cash: 14\n",
      "oxygen: 15\n",
      "timeLeft: 60\n",
      "holding: [0]\n",
      "14 [(None, None, 'exit')]\n",
      "0 [(4, 9, 'move'), (10, 2, 'move')]\n",
      "0 [(10, 2, 'move'), (12, 8, 'move')]\n",
      "0 [(11, 2, 'move'), (0, 0, 'move')]\n",
      "0 [(12, 8, 'move')]\n",
      "0 [(13, 8, 'move')]\n",
      "0 [(14, 9, 'move')]\n",
      "0 [(15, 4, 'move')]\n",
      "0 [(16, 1, 'move')]\n",
      "37 [(0, 9, 'move'), (0, 0, 'move'), (0, 9, 'move'), (4, 9, 'move'), (0, 9, 'move'), (None, None, 'exit')]\n"
     ]
    }
   ],
   "source": [
    "g44 = None\n",
    "for i in range(5):\n",
    "    t = temp()\n",
    "    if t:\n",
    "        g44= t\n",
    "        break\n",
    "actions, scores = getActions(g44, 1, 50000, allRollouts = True)\n",
    "for i in range(len(scores)):\n",
    "    print(scores[i], actions[i])"
   ]
  },
  {
   "cell_type": "code",
   "execution_count": 548,
   "metadata": {},
   "outputs": [
    {
     "name": "stdout",
     "output_type": "stream",
     "text": [
      " _   _   _   _   _   _   _   _   _   P\n",
      " _   _   _   _   _   _   _   _   _   _ \n",
      " _   _   _   _   _   _   _   _   _   _ \n",
      " _   _   _   _   _   _   _   _   _   _ \n",
      " _  24  _   _   _   _   _   _  23  _ \n",
      "25  _   _   _  34  _   _   _   _   _ \n",
      " _   _   _  31  _   _   _   _   _   _ \n",
      " _   _   _   _   _   _   _   _   _   _ \n",
      " _   _   _   _   _   _   _   _   _   _ \n",
      " _   _   _  46  _   _   _   _  48  _ \n",
      " _   _   _   _   _   _   _   _   _   _ \n",
      " _   _   _   _   _   _   _   _   _   _ \n",
      " _   _   _   _   _   _   _   _   _   _ \n",
      " _   _   _   _   _   _   _   _   _   _ \n",
      " _   _   _   _   _   _   _   _   _   _ \n",
      " _   _  76  _   _   _   _   _   _   _ \n",
      " _   _   _   _   _   _   _   _   _   _ \n",
      " _   _   _   _   _   _   _   _   _   _ \n",
      " _   _   _   _   _   _   _  94  _   _ \n",
      " _   _   _  111  _   _   _   _   _   _ \n",
      "tank size: 21\n",
      "cash: 65\n",
      "oxygen: 21\n",
      "timeLeft: 40\n",
      "holding: [0]\n",
      "65 [(None, None, 'exit')]\n",
      "206 [(42, 30, 'tank'), (4, 8, 'move'), (5, 4, 'move'), (6, 3, 'move'), (9, 3, 'move'), (0, 0, 'move'), (4, 1, 'move'), (5, 0, 'move'), (0, 0, 'move'), (None, None, 'exit')]\n",
      "202 [(4, 1, 'move'), (0, 0, 'move'), (5, 0, 'move'), (6, 3, 'move'), (5, 4, 'move'), (4, 8, 'move'), (0, 9, 'move'), (None, None, 'exit')]\n",
      "202 [(4, 8, 'move'), (5, 4, 'move'), (0, 0, 'move'), (6, 3, 'move'), (4, 1, 'move'), (5, 0, 'move'), (0, 0, 'move'), (None, None, 'exit')]\n",
      "202 [(5, 0, 'move'), (0, 0, 'move'), (4, 1, 'move'), (6, 3, 'move'), (5, 4, 'move'), (4, 8, 'move'), (0, 9, 'move'), (None, None, 'exit')]\n",
      "179 [(5, 4, 'move'), (0, 0, 'move'), (6, 3, 'move'), (5, 0, 'move'), (4, 1, 'move'), (0, 0, 'move'), (None, None, 'exit')]\n",
      "202 [(6, 3, 'move'), (5, 0, 'move'), (0, 0, 'move'), (4, 1, 'move'), (5, 4, 'move'), (4, 8, 'move'), (0, 9, 'move'), (None, None, 'exit')]\n",
      "0 [(9, 3, 'move'), (18, 7, 'move')]\n",
      "195 [(9, 8, 'move'), (0, 9, 'move'), (4, 8, 'move'), (5, 4, 'move'), (5, 0, 'move'), (0, 0, 'move'), (None, None, 'exit')]\n",
      "0 [(15, 2, 'move')]\n",
      "0 [(18, 7, 'move'), (5, 4, 'move')]\n",
      "0 [(19, 3, 'move')]\n",
      "179 [(0, 0, 'move'), (6, 3, 'move'), (5, 4, 'move'), (4, 1, 'move'), (0, 0, 'move'), (5, 0, 'move'), (0, 0, 'move'), (None, None, 'exit')]\n"
     ]
    }
   ],
   "source": [
    "b45 = randomGenerateBoard(11, left = True, upper = True)\n",
    "g45 = diveGame( # no tank\n",
    "    board = b45, \n",
    "    playerLoc = (0, 9), \n",
    "    timeLeft =40, \n",
    "    oxygenLeft = 21, \n",
    "    holding = [0], \n",
    "    tankSize = 21, \n",
    "    cash = 65, \n",
    "    gameOver = False, \n",
    "    tanks = {(42, 30, \"tank\")})\n",
    "s = g45.printBoard()\n",
    "actions, scores = getActions(g45, 1, 50000, allRollouts = True)\n",
    "for i in range(len(scores)):\n",
    "    print(scores[i], actions[i])"
   ]
  },
  {
   "cell_type": "code",
   "execution_count": 556,
   "metadata": {},
   "outputs": [
    {
     "name": "stdout",
     "output_type": "stream",
     "text": [
      " P  _   _   _   _   _   _   _   _   _ \n",
      " _   _   _   _   _   _   _   _   _   _ \n",
      " _   _   _  14  _   _   _   _   _   _ \n",
      " _   _   _   _   _   _   _   _   _   _ \n",
      " _   _   _   _   _   _   _   _   _   _ \n",
      " _   _   _   _   _   _   _   _   _   _ \n",
      " _   _   _   _   _   _   _   _  37  _ \n",
      " _   _   _   _   _   _   _   _   _   _ \n",
      " _   _   _   _   _   _   _   _   _   _ \n",
      " _   _   _   _   _   _   _   _  48  _ \n",
      " _  51  _   _   _   _   _   _   _   _ \n",
      " _   _  67  _   _  57  _   _   _   _ \n",
      " _   _   _   _   _   _   _   _   _   _ \n",
      " _   _  66  _   _   _   _   _   _   _ \n",
      " _   _   _   _   _   _   _   _   _   _ \n",
      " _   _   _   _   _   _   _   _   _   _ \n",
      " _   _   _   _   _   _   _   _   _   _ \n",
      " _   _   _   _   _   _   _   _  90  _ \n",
      " _   _   _   _   _   _   _   _   _   _ \n",
      " _   _  100  _  107  _   _   _   _   _ \n",
      "tank size: 17\n",
      "cash: 172\n",
      "oxygen: 17\n",
      "timeLeft: 40\n",
      "holding: [0]\n",
      "172 [(None, None, 'exit')]\n",
      "328 [(42, 30, 'tank'), (11, 2, 'move'), (13, 2, 'move'), (10, 1, 'move'), (0, 0, 'move'), (2, 3, 'move'), (0, 0, 'move'), (None, None, 'exit')]\n",
      "328 [(2, 3, 'move'), (0, 0, 'move'), (42, 30, 'tank'), (11, 2, 'move'), (13, 2, 'move'), (10, 1, 'move'), (0, 0, 'move'), (None, None, 'exit')]\n",
      "0 [(6, 8, 'move'), (17, 8, 'move')]\n",
      "0 [(9, 8, 'move'), (19, 2, 'move')]\n",
      "0 [(10, 1, 'move'), (0, 9, 'move')]\n",
      "0 [(11, 2, 'move'), (6, 8, 'move')]\n",
      "0 [(11, 5, 'move'), (2, 3, 'move')]\n",
      "0 [(13, 2, 'move'), (19, 4, 'move')]\n",
      "0 [(17, 8, 'move')]\n",
      "0 [(19, 2, 'move')]\n",
      "0 [(19, 4, 'move')]\n",
      "272 [(0, 9, 'move'), (42, 30, 'tank'), (6, 8, 'move'), (11, 5, 'move'), (9, 8, 'move'), (0, 9, 'move'), (None, None, 'exit')]\n"
     ]
    }
   ],
   "source": [
    "b46 = randomGenerateBoard(11, left = False, upper = False)\n",
    "g46 = diveGame( # no tank\n",
    "    board = b46, \n",
    "    playerLoc = (0, 0), \n",
    "    timeLeft =40, \n",
    "    oxygenLeft = 17, \n",
    "    holding = [0], \n",
    "    tankSize = 17, \n",
    "    cash = 172, \n",
    "    gameOver = False, \n",
    "    tanks = {(42, 30, \"tank\")})\n",
    "s = g46.printBoard()\n",
    "actions, scores = getActions(g46, 1, 50000, allRollouts = True)\n",
    "for i in range(len(scores)):\n",
    "    print(scores[i], actions[i])"
   ]
  },
  {
   "cell_type": "code",
   "execution_count": 557,
   "metadata": {
    "collapsed": true
   },
   "outputs": [],
   "source": [
    "games = []\n",
    "for i in [g41, g42, g43, g44, g45, g46]:\n",
    "    game = {}\n",
    "    game['board'] = i.board\n",
    "    game['playerLoc'] = i.playerLoc\n",
    "    game['timeLeft'] = i.timeLeft\n",
    "    game['oxygenLeft'] = i.oxygenLeft\n",
    "    game['holding'] = i.holding\n",
    "    game['tankSize'] = i.tankSize\n",
    "    game['cash'] = i.cash\n",
    "    game['gameOver'] = i.gameOver\n",
    "    game['tanks'] = i.tanks\n",
    "    games.append(game)\n",
    "f = open(\"group4States\", \"wb\")\n",
    "pickle.dump(games, f)"
   ]
  },
  {
   "cell_type": "code",
   "execution_count": null,
   "metadata": {
    "collapsed": true
   },
   "outputs": [],
   "source": []
  }
 ],
 "metadata": {
  "kernelspec": {
   "display_name": "Python 3",
   "language": "python",
   "name": "python3"
  },
  "language_info": {
   "codemirror_mode": {
    "name": "ipython",
    "version": 3
   },
   "file_extension": ".py",
   "mimetype": "text/x-python",
   "name": "python",
   "nbconvert_exporter": "python",
   "pygments_lexer": "ipython3",
   "version": "3.6.3"
  }
 },
 "nbformat": 4,
 "nbformat_minor": 2
}
