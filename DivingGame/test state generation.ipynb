{
 "cells": [
  {
   "cell_type": "code",
   "execution_count": 1,
   "metadata": {
    "scrolled": true
   },
   "outputs": [],
   "source": [
    "import pickle\n",
    "import random\n",
    "from categorize import categorize\n",
    "from divegame import diveGame\n",
    "\n",
    "import sys\n",
    "sys.path.append('c:/users/sherman luo/appdata/local/programs/python/python36-32/lib/site-packages')\n",
    "\n",
    "import m2"
   ]
  },
  {
   "cell_type": "code",
   "execution_count": 10,
   "metadata": {},
   "outputs": [],
   "source": [
    "f = open(\"rahul yes 1\", 'rb')\n",
    "data = pickle.load(f)[1]\n",
    "f = open(\"rahul yes 2\", 'rb')\n",
    "data += pickle.load(f)[1]\n",
    "f = open(\"rahul yes 3\", 'rb')\n",
    "data += pickle.load(f)[1]\n",
    "f = open(\"rahul yes 4\", 'rb')\n",
    "data += pickle.load(f)[1]\n",
    "f = open(\"rahul yes 5\", 'rb')\n",
    "data += pickle.load(f)[1]\n",
    "\n",
    "f = open(\"sera no 1\", 'rb')\n",
    "data += pickle.load(f)[1]\n",
    "f = open(\"sera no 2\", 'rb')\n",
    "data += pickle.load(f)[1]\n",
    "f = open(\"sera no 3\", 'rb')\n",
    "data += pickle.load(f)[1]\n",
    "f = open(\"sera no 4\", 'rb')\n",
    "data += pickle.load(f)[1]\n",
    "f = open(\"sera no 5\", 'rb')\n",
    "data += pickle.load(f)[1]\n",
    "\n",
    "f = open(\"lucy yes 1\", 'rb')\n",
    "data += pickle.load(f)[1]\n",
    "f = open(\"lucy yes 2\", 'rb')\n",
    "data += pickle.load(f)[1]\n",
    "f = open(\"lucy yes 3\", 'rb')\n",
    "data += pickle.load(f)[1]\n",
    "f = open(\"lucy yes 4\", 'rb')\n",
    "data += pickle.load(f)[1]\n",
    "f = open(\"lucy yes 5\", 'rb')\n",
    "data += pickle.load(f)[1]"
   ]
  },
  {
   "cell_type": "code",
   "execution_count": 5,
   "metadata": {
    "collapsed": true
   },
   "outputs": [],
   "source": [
    "random.shuffle(data)"
   ]
  },
  {
   "cell_type": "code",
   "execution_count": 10,
   "metadata": {
    "collapsed": true
   },
   "outputs": [],
   "source": [
    "data = data[:30]"
   ]
  },
  {
   "cell_type": "code",
   "execution_count": 20,
   "metadata": {
    "collapsed": true
   },
   "outputs": [],
   "source": [
    "f = open(\"qvalues\", 'wb')"
   ]
  },
  {
   "cell_type": "code",
   "execution_count": 22,
   "metadata": {
    "collapsed": true
   },
   "outputs": [],
   "source": [
    "map = {}\n",
    "for state in data:\n",
    "    for action in state.getLegalActions():\n",
    "        temp = state.getSuccessor(action)[0]\n",
    "        states, rollout, scores, startNode = m2.getRollout(temp, 150000)\n",
    "        map[(state, action)] = scores[-1]\n",
    "    \n",
    "pickle.dump(map, f)\n",
    "f.close()"
   ]
  },
  {
   "cell_type": "code",
   "execution_count": 18,
   "metadata": {
    "collapsed": true
   },
   "outputs": [],
   "source": [
    "pickle.dump(map, f)\n",
    "f.close()"
   ]
  },
  {
   "cell_type": "code",
   "execution_count": 11,
   "metadata": {
    "collapsed": true
   },
   "outputs": [],
   "source": [
    "data = [a for a, b in data]"
   ]
  },
  {
   "cell_type": "code",
   "execution_count": 72,
   "metadata": {},
   "outputs": [
    {
     "ename": "TypeError",
     "evalue": "'diveGame' object is not iterable",
     "output_type": "error",
     "traceback": [
      "\u001b[1;31m---------------------------------------------------------------------------\u001b[0m",
      "\u001b[1;31mTypeError\u001b[0m                                 Traceback (most recent call last)",
      "\u001b[1;32m<ipython-input-72-297b2e78a728>\u001b[0m in \u001b[0;36m<module>\u001b[1;34m()\u001b[0m\n\u001b[0;32m      1\u001b[0m \u001b[0mcount\u001b[0m \u001b[1;33m=\u001b[0m \u001b[1;36m0\u001b[0m\u001b[1;33m\u001b[0m\u001b[0m\n\u001b[0;32m      2\u001b[0m \u001b[0mstates\u001b[0m \u001b[1;33m=\u001b[0m \u001b[1;33m[\u001b[0m\u001b[0ma\u001b[0m \u001b[1;32mfor\u001b[0m \u001b[0ma\u001b[0m\u001b[1;33m,\u001b[0m \u001b[0mb\u001b[0m \u001b[1;32min\u001b[0m \u001b[0mmap\u001b[0m\u001b[1;33m.\u001b[0m\u001b[0mkeys\u001b[0m\u001b[1;33m(\u001b[0m\u001b[1;33m)\u001b[0m\u001b[1;33m]\u001b[0m\u001b[1;33m\u001b[0m\u001b[0m\n\u001b[1;32m----> 3\u001b[1;33m \u001b[1;32mfor\u001b[0m \u001b[0mstate\u001b[0m\u001b[1;33m,\u001b[0m \u001b[0maction\u001b[0m \u001b[1;32min\u001b[0m \u001b[0mdata\u001b[0m\u001b[1;33m:\u001b[0m\u001b[1;33m\u001b[0m\u001b[0m\n\u001b[0m\u001b[0;32m      4\u001b[0m     \u001b[1;32mif\u001b[0m \u001b[0mstate\u001b[0m \u001b[1;32min\u001b[0m \u001b[0mstates\u001b[0m\u001b[1;33m:\u001b[0m\u001b[1;33m\u001b[0m\u001b[0m\n\u001b[0;32m      5\u001b[0m         \u001b[0mcount\u001b[0m \u001b[1;33m+=\u001b[0m \u001b[1;36m1\u001b[0m\u001b[1;33m\u001b[0m\u001b[0m\n",
      "\u001b[1;31mTypeError\u001b[0m: 'diveGame' object is not iterable"
     ]
    }
   ],
   "source": [
    "count = 0\n",
    "states = [a for a, b in map.keys()]\n",
    "for state, action in data:\n",
    "    if state in states:\n",
    "        count += 1\n",
    "        for alt in state.getLegalActions():\n",
    "            if alt != action:\n",
    "                try:\n",
    "                    mType = categorize(state, action, alt)\n",
    "                except:\n",
    "                    print(action, state.tanks)\n",
    "                #print(mType)\n",
    "print(count)"
   ]
  },
  {
   "cell_type": "code",
   "execution_count": 12,
   "metadata": {},
   "outputs": [
    {
     "name": "stdout",
     "output_type": "stream",
     "text": [
      "{(25, 30, 'tank'), (60, 50, 'tank'), (40, 45, 'tank')}\n",
      "{(25, 30, 'tank'), (60, 50, 'tank'), (40, 45, 'tank')}\n",
      "{(25, 30, 'tank'), (60, 50, 'tank'), (40, 45, 'tank')}\n",
      "{(25, 30, 'tank'), (60, 50, 'tank'), (40, 45, 'tank')}\n",
      "{(25, 30, 'tank'), (60, 50, 'tank'), (40, 45, 'tank')}\n",
      "{(25, 30, 'tank'), (60, 50, 'tank'), (40, 45, 'tank')}\n",
      "{(25, 30, 'tank'), (60, 50, 'tank'), (40, 45, 'tank')}\n",
      "{(25, 30, 'tank'), (60, 50, 'tank'), (40, 45, 'tank')}\n",
      "{(25, 30, 'tank'), (60, 50, 'tank'), (40, 45, 'tank')}\n",
      "{(25, 30, 'tank'), (60, 50, 'tank'), (40, 45, 'tank')}\n",
      "{(25, 30, 'tank'), (60, 50, 'tank'), (40, 45, 'tank')}\n",
      "{(25, 30, 'tank'), (60, 50, 'tank'), (40, 45, 'tank')}\n",
      "{(25, 30, 'tank'), (60, 50, 'tank'), (40, 45, 'tank')}\n",
      "{(25, 30, 'tank'), (60, 50, 'tank'), (40, 45, 'tank')}\n",
      "{(25, 30, 'tank'), (60, 50, 'tank'), (40, 45, 'tank')}\n",
      "{(25, 30, 'tank'), (60, 50, 'tank'), (40, 45, 'tank')}\n",
      "{(25, 30, 'tank'), (60, 50, 'tank'), (40, 45, 'tank')}\n",
      "{(25, 30, 'tank'), (60, 50, 'tank'), (40, 45, 'tank')}\n",
      "{(25, 30, 'tank'), (60, 50, 'tank'), (40, 45, 'tank')}\n",
      "{(25, 30, 'tank'), (60, 50, 'tank'), (40, 45, 'tank')}\n",
      "{(25, 30, 'tank'), (60, 50, 'tank'), (40, 45, 'tank')}\n",
      "{(25, 30, 'tank'), (60, 50, 'tank'), (40, 45, 'tank')}\n",
      "{(25, 30, 'tank'), (60, 50, 'tank'), (40, 45, 'tank')}\n",
      "{(25, 30, 'tank'), (60, 50, 'tank'), (40, 45, 'tank')}\n",
      "{(25, 30, 'tank'), (60, 50, 'tank'), (40, 45, 'tank')}\n",
      "{(25, 30, 'tank'), (60, 50, 'tank'), (40, 45, 'tank')}\n",
      "{(25, 30, 'tank'), (60, 50, 'tank'), (40, 45, 'tank')}\n",
      "{(25, 30, 'tank'), (60, 50, 'tank'), (40, 45, 'tank')}\n",
      "{(25, 30, 'tank'), (60, 50, 'tank'), (40, 45, 'tank')}\n",
      "{(25, 30, 'tank'), (60, 50, 'tank'), (40, 45, 'tank')}\n",
      "{(25, 30, 'tank'), (60, 50, 'tank'), (40, 45, 'tank')}\n",
      "{(25, 30, 'tank'), (60, 50, 'tank'), (40, 45, 'tank')}\n",
      "{(25, 30, 'tank'), (60, 50, 'tank'), (40, 45, 'tank')}\n",
      "{(25, 30, 'tank'), (60, 50, 'tank'), (40, 45, 'tank')}\n",
      "{(25, 30, 'tank'), (60, 50, 'tank'), (40, 45, 'tank')}\n",
      "{(25, 30, 'tank'), (60, 50, 'tank'), (40, 45, 'tank')}\n",
      "{(25, 30, 'tank'), (60, 50, 'tank'), (40, 45, 'tank')}\n",
      "{(25, 30, 'tank'), (60, 50, 'tank'), (40, 45, 'tank')}\n",
      "{(25, 30, 'tank'), (60, 50, 'tank'), (40, 45, 'tank')}\n",
      "{(25, 30, 'tank'), (60, 50, 'tank'), (40, 45, 'tank')}\n",
      "{(25, 30, 'tank'), (60, 50, 'tank'), (40, 45, 'tank')}\n",
      "{(25, 30, 'tank'), (60, 50, 'tank'), (40, 45, 'tank')}\n",
      "{(25, 30, 'tank'), (60, 50, 'tank'), (40, 45, 'tank')}\n",
      "{(25, 30, 'tank'), (60, 50, 'tank'), (40, 45, 'tank')}\n",
      "{(25, 30, 'tank'), (60, 50, 'tank'), (40, 45, 'tank')}\n",
      "{(25, 30, 'tank'), (60, 50, 'tank'), (40, 45, 'tank')}\n",
      "{(25, 30, 'tank'), (60, 50, 'tank'), (40, 45, 'tank')}\n",
      "{(25, 30, 'tank'), (60, 50, 'tank'), (40, 45, 'tank')}\n",
      "{(25, 30, 'tank'), (60, 50, 'tank'), (40, 45, 'tank')}\n",
      "{(25, 30, 'tank'), (60, 50, 'tank'), (40, 45, 'tank')}\n",
      "{(25, 30, 'tank'), (60, 50, 'tank'), (40, 45, 'tank')}\n",
      "{(25, 30, 'tank'), (60, 50, 'tank'), (40, 45, 'tank')}\n",
      "{(25, 30, 'tank'), (60, 50, 'tank'), (40, 45, 'tank')}\n",
      "{(25, 30, 'tank'), (60, 50, 'tank'), (40, 45, 'tank')}\n",
      "{(25, 30, 'tank'), (60, 50, 'tank'), (40, 45, 'tank')}\n",
      "{(25, 30, 'tank'), (60, 50, 'tank'), (40, 45, 'tank')}\n",
      "{(25, 30, 'tank'), (60, 50, 'tank'), (40, 45, 'tank')}\n",
      "{(25, 30, 'tank'), (60, 50, 'tank'), (40, 45, 'tank')}\n",
      "{(25, 30, 'tank'), (60, 50, 'tank'), (40, 45, 'tank')}\n",
      "{(25, 30, 'tank'), (60, 50, 'tank'), (40, 45, 'tank')}\n",
      "{(25, 30, 'tank'), (60, 50, 'tank'), (40, 45, 'tank')}\n",
      "{(25, 30, 'tank'), (60, 50, 'tank'), (40, 45, 'tank')}\n",
      "{(25, 30, 'tank'), (60, 50, 'tank'), (40, 45, 'tank')}\n",
      "{(25, 30, 'tank'), (60, 50, 'tank'), (40, 45, 'tank')}\n",
      "{(25, 30, 'tank'), (60, 50, 'tank'), (40, 45, 'tank')}\n",
      "{(25, 30, 'tank'), (60, 50, 'tank'), (40, 45, 'tank')}\n",
      "{(25, 30, 'tank'), (60, 50, 'tank'), (40, 45, 'tank')}\n",
      "{(25, 30, 'tank'), (60, 50, 'tank'), (40, 45, 'tank')}\n",
      "{(25, 30, 'tank'), (60, 50, 'tank'), (40, 45, 'tank')}\n",
      "{(25, 30, 'tank'), (60, 50, 'tank'), (40, 45, 'tank')}\n",
      "{(25, 30, 'tank'), (60, 50, 'tank'), (40, 45, 'tank')}\n",
      "{(25, 30, 'tank'), (60, 50, 'tank'), (40, 45, 'tank')}\n",
      "{(25, 30, 'tank'), (60, 50, 'tank'), (40, 45, 'tank')}\n",
      "{(25, 30, 'tank'), (60, 50, 'tank'), (40, 45, 'tank')}\n",
      "{(25, 30, 'tank'), (60, 50, 'tank'), (40, 45, 'tank')}\n",
      "{(25, 30, 'tank'), (60, 50, 'tank'), (40, 45, 'tank')}\n",
      "{(25, 30, 'tank'), (60, 50, 'tank'), (40, 45, 'tank')}\n",
      "{(25, 30, 'tank'), (60, 50, 'tank'), (40, 45, 'tank')}\n",
      "{(25, 30, 'tank'), (60, 50, 'tank'), (40, 45, 'tank')}\n",
      "{(25, 30, 'tank'), (60, 50, 'tank'), (40, 45, 'tank')}\n",
      "{(25, 30, 'tank'), (60, 50, 'tank'), (40, 45, 'tank')}\n",
      "{(25, 30, 'tank'), (60, 50, 'tank'), (40, 45, 'tank')}\n",
      "{(25, 30, 'tank'), (60, 50, 'tank'), (40, 45, 'tank')}\n",
      "{(25, 30, 'tank'), (60, 50, 'tank'), (40, 45, 'tank')}\n",
      "{(25, 30, 'tank'), (60, 50, 'tank'), (40, 45, 'tank')}\n",
      "{(25, 30, 'tank'), (60, 50, 'tank'), (40, 45, 'tank')}\n",
      "{(25, 30, 'tank'), (60, 50, 'tank'), (40, 45, 'tank')}\n",
      "{(25, 30, 'tank'), (60, 50, 'tank'), (40, 45, 'tank')}\n",
      "{(25, 30, 'tank'), (60, 50, 'tank'), (40, 45, 'tank')}\n",
      "{(25, 30, 'tank'), (60, 50, 'tank'), (40, 45, 'tank')}\n",
      "{(25, 30, 'tank'), (60, 50, 'tank'), (40, 45, 'tank')}\n",
      "{(25, 30, 'tank'), (60, 50, 'tank'), (40, 45, 'tank')}\n",
      "{(25, 30, 'tank'), (60, 50, 'tank'), (40, 45, 'tank')}\n",
      "{(25, 30, 'tank'), (60, 50, 'tank'), (40, 45, 'tank')}\n",
      "{(25, 30, 'tank'), (60, 50, 'tank'), (40, 45, 'tank')}\n",
      "{(25, 30, 'tank'), (60, 50, 'tank'), (40, 45, 'tank')}\n",
      "{(25, 30, 'tank'), (60, 50, 'tank'), (40, 45, 'tank')}\n",
      "{(25, 30, 'tank'), (60, 50, 'tank'), (40, 45, 'tank')}\n",
      "{(25, 30, 'tank'), (60, 50, 'tank'), (40, 45, 'tank')}\n",
      "{(25, 30, 'tank'), (60, 50, 'tank'), (40, 45, 'tank')}\n",
      "{(25, 30, 'tank'), (60, 50, 'tank'), (40, 45, 'tank')}\n",
      "{(25, 30, 'tank'), (60, 50, 'tank'), (40, 45, 'tank')}\n",
      "{(25, 30, 'tank'), (60, 50, 'tank'), (40, 45, 'tank')}\n",
      "{(25, 30, 'tank'), (60, 50, 'tank'), (40, 45, 'tank')}\n",
      "{(25, 30, 'tank'), (60, 50, 'tank'), (40, 45, 'tank')}\n",
      "{(25, 30, 'tank'), (60, 50, 'tank'), (40, 45, 'tank')}\n",
      "{(25, 30, 'tank'), (60, 50, 'tank'), (40, 45, 'tank')}\n",
      "{(25, 30, 'tank'), (60, 50, 'tank'), (40, 45, 'tank')}\n",
      "{(25, 30, 'tank'), (60, 50, 'tank'), (40, 45, 'tank')}\n",
      "{(25, 30, 'tank'), (60, 50, 'tank'), (40, 45, 'tank')}\n",
      "{(25, 30, 'tank'), (60, 50, 'tank'), (40, 45, 'tank')}\n",
      "{(25, 30, 'tank'), (60, 50, 'tank'), (40, 45, 'tank')}\n",
      "{(25, 30, 'tank'), (60, 50, 'tank'), (40, 45, 'tank')}\n",
      "{(25, 30, 'tank'), (60, 50, 'tank'), (40, 45, 'tank')}\n",
      "{(25, 30, 'tank'), (60, 50, 'tank'), (40, 45, 'tank')}\n",
      "{(25, 30, 'tank'), (60, 50, 'tank'), (40, 45, 'tank')}\n",
      "{(25, 30, 'tank'), (60, 50, 'tank'), (40, 45, 'tank')}\n",
      "{(25, 30, 'tank'), (60, 50, 'tank'), (40, 45, 'tank')}\n",
      "{(25, 30, 'tank'), (60, 50, 'tank'), (40, 45, 'tank')}\n",
      "{(25, 30, 'tank'), (60, 50, 'tank'), (40, 45, 'tank')}\n",
      "{(25, 30, 'tank'), (60, 50, 'tank'), (40, 45, 'tank')}\n",
      "{(25, 30, 'tank'), (60, 50, 'tank'), (40, 45, 'tank')}\n",
      "{(25, 30, 'tank'), (60, 50, 'tank'), (40, 45, 'tank')}\n",
      "{(25, 30, 'tank'), (60, 50, 'tank'), (40, 45, 'tank')}\n",
      "{(25, 30, 'tank'), (60, 50, 'tank'), (40, 45, 'tank')}\n",
      "{(25, 30, 'tank'), (60, 50, 'tank'), (40, 45, 'tank')}\n",
      "{(25, 30, 'tank'), (60, 50, 'tank'), (40, 45, 'tank')}\n",
      "{(25, 30, 'tank'), (60, 50, 'tank'), (40, 45, 'tank')}\n",
      "{(25, 30, 'tank'), (60, 50, 'tank'), (40, 45, 'tank')}\n",
      "{(25, 30, 'tank'), (60, 50, 'tank'), (40, 45, 'tank')}\n",
      "{(25, 30, 'tank'), (60, 50, 'tank'), (40, 45, 'tank')}\n",
      "{(25, 30, 'tank'), (60, 50, 'tank'), (40, 45, 'tank')}\n",
      "{(25, 30, 'tank'), (60, 50, 'tank'), (40, 45, 'tank')}\n",
      "{(25, 30, 'tank'), (60, 50, 'tank'), (40, 45, 'tank')}\n",
      "{(25, 30, 'tank'), (60, 50, 'tank'), (40, 45, 'tank')}\n",
      "{(25, 30, 'tank'), (60, 50, 'tank'), (40, 45, 'tank')}\n",
      "{(25, 30, 'tank'), (60, 50, 'tank'), (40, 45, 'tank')}\n",
      "{(25, 30, 'tank'), (60, 50, 'tank'), (40, 45, 'tank')}\n",
      "{(25, 30, 'tank'), (60, 50, 'tank'), (40, 45, 'tank')}\n",
      "{(25, 30, 'tank'), (60, 50, 'tank'), (40, 45, 'tank')}\n",
      "{(25, 30, 'tank'), (60, 50, 'tank'), (40, 45, 'tank')}\n",
      "{(25, 30, 'tank'), (60, 50, 'tank'), (40, 45, 'tank')}\n",
      "{(25, 30, 'tank'), (60, 50, 'tank'), (40, 45, 'tank')}\n",
      "{(25, 30, 'tank'), (60, 50, 'tank'), (40, 45, 'tank')}\n",
      "{(25, 30, 'tank'), (60, 50, 'tank'), (40, 45, 'tank')}\n",
      "{(25, 30, 'tank'), (60, 50, 'tank'), (40, 45, 'tank')}\n",
      "{(25, 30, 'tank'), (60, 50, 'tank'), (40, 45, 'tank')}\n",
      "{(25, 30, 'tank'), (60, 50, 'tank'), (40, 45, 'tank')}\n",
      "{(25, 30, 'tank'), (60, 50, 'tank'), (40, 45, 'tank')}\n",
      "{(25, 30, 'tank'), (60, 50, 'tank'), (40, 45, 'tank')}\n",
      "{(25, 30, 'tank'), (60, 50, 'tank'), (40, 45, 'tank')}\n",
      "{(25, 30, 'tank'), (60, 50, 'tank'), (40, 45, 'tank')}\n",
      "{(25, 30, 'tank'), (60, 50, 'tank'), (40, 45, 'tank')}\n",
      "{(25, 30, 'tank'), (60, 50, 'tank'), (40, 45, 'tank')}\n",
      "{(25, 30, 'tank'), (60, 50, 'tank'), (40, 45, 'tank')}\n",
      "{(25, 30, 'tank'), (60, 50, 'tank'), (40, 45, 'tank')}\n",
      "{(25, 30, 'tank'), (60, 50, 'tank'), (40, 45, 'tank')}\n",
      "{(25, 30, 'tank'), (60, 50, 'tank'), (40, 45, 'tank')}\n",
      "{(25, 30, 'tank'), (60, 50, 'tank'), (40, 45, 'tank')}\n",
      "{(25, 30, 'tank'), (60, 50, 'tank'), (40, 45, 'tank')}\n",
      "{(25, 30, 'tank'), (60, 50, 'tank'), (40, 45, 'tank')}\n",
      "{(25, 30, 'tank'), (60, 50, 'tank'), (40, 45, 'tank')}\n",
      "{(25, 30, 'tank'), (60, 50, 'tank'), (40, 45, 'tank')}\n",
      "{(25, 30, 'tank'), (60, 50, 'tank'), (40, 45, 'tank')}\n",
      "{(25, 30, 'tank'), (60, 50, 'tank'), (40, 45, 'tank')}\n",
      "{(25, 30, 'tank'), (60, 50, 'tank'), (40, 45, 'tank')}\n",
      "{(25, 30, 'tank'), (60, 50, 'tank'), (40, 45, 'tank')}\n",
      "{(25, 30, 'tank'), (60, 50, 'tank'), (40, 45, 'tank')}\n",
      "{(25, 30, 'tank'), (60, 50, 'tank'), (40, 45, 'tank')}\n",
      "{(25, 30, 'tank'), (60, 50, 'tank'), (40, 45, 'tank')}\n",
      "{(25, 30, 'tank'), (60, 50, 'tank'), (40, 45, 'tank')}\n",
      "{(25, 30, 'tank'), (60, 50, 'tank'), (40, 45, 'tank')}\n",
      "{(25, 30, 'tank'), (60, 50, 'tank'), (40, 45, 'tank')}\n",
      "{(25, 30, 'tank'), (60, 50, 'tank'), (40, 45, 'tank')}\n"
     ]
    }
   ],
   "source": [
    "for i in data:\n",
    "    print(i.tanks)"
   ]
  },
  {
   "cell_type": "code",
   "execution_count": null,
   "metadata": {},
   "outputs": [],
   "source": []
  },
  {
   "cell_type": "code",
   "execution_count": null,
   "metadata": {
    "collapsed": true
   },
   "outputs": [],
   "source": []
  }
 ],
 "metadata": {
  "kernelspec": {
   "display_name": "Python 3",
   "language": "python",
   "name": "python3"
  },
  "language_info": {
   "codemirror_mode": {
    "name": "ipython",
    "version": 3
   },
   "file_extension": ".py",
   "mimetype": "text/x-python",
   "name": "python",
   "nbconvert_exporter": "python",
   "pygments_lexer": "ipython3",
   "version": "3.6.3"
  }
 },
 "nbformat": 4,
 "nbformat_minor": 2
}
