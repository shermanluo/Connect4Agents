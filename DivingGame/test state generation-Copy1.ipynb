{
 "cells": [
  {
   "cell_type": "code",
   "execution_count": 1,
   "metadata": {
    "collapsed": true,
    "scrolled": true
   },
   "outputs": [],
   "source": [
    "import sys\n",
    "sys.path.append('c:/users/sherman luo/appdata/local/programs/python/python36-32/lib/site-packages')\n",
    "import pickle\n",
    "import random\n",
    "import categorize\n",
    "from divegame import diveGame\n",
    "import numpy as np\n",
    "from fatal_flaw import getActions\n",
    "import matplotlib.pyplot as plt\n",
    "import divegame\n",
    "\n",
    "import m2\n",
    "\n",
    "import importlib\n",
    "importlib.reload(categorize)\n",
    "importlib.reload(divegame)\n",
    "from categorize import CorrectionType, isUnderwater, targetsSurface, targetsPiece"
   ]
  },
  {
   "cell_type": "code",
   "execution_count": 10,
   "metadata": {
    "scrolled": false
   },
   "outputs": [
    {
     "name": "stdout",
     "output_type": "stream",
     "text": [
      "[1 1 2 0 0 0 0 2 0 2 0 0 2 1] 11\n",
      "[2 2 0 4 3] 11\n"
     ]
    }
   ],
   "source": [
    "\n",
    "\n",
    "mistakevalues = np.array([0, 0, 0, 0, 0, 0, 0, 0, 0, 0, 0, 0, 0, 0])\n",
    "arr =np.array([0, 0, 0, 0, 0, 0, 0, 0, 0, 0, 0, 0, 0, 0])\n",
    "groups = np.array([0, 0, 0, 0, 0])\n",
    "\n",
    "for state, move in playdata:\n",
    "    arollout, urscore = map[(state, move)]\n",
    "    for action in state.getLegalActions():\n",
    "        if action != move:\n",
    "            rollout, movescore = map[(state, action)]\n",
    "            if movescore > urscore + 35:\n",
    "                mType = categorize.categorize(state, move, rollout, arollout)\n",
    "                \n",
    "                if mType == CorrectionType.A or mType == CorrectionType.J or mType == CorrectionType.B:\n",
    "                    groups[0] += 1\n",
    "                if mType == CorrectionType.D or mType == CorrectionType.E or mType == CorrectionType.F:\n",
    "                    groups[1] += 1\n",
    "                if mType == CorrectionType.G or mType == CorrectionType.H:\n",
    "                    groups[2] += 1\n",
    "                if mType == CorrectionType.I or mType == CorrectionType.K:\n",
    "                    groups[3] += 1\n",
    "                if mType == CorrectionType.C1 or mType == CorrectionType.C2 or mType == CorrectionType.C3 or mType == CorrectionType.C4:\n",
    "                    groups[4] += 1\n",
    "                \n",
    "                if mType == CorrectionType.A:\n",
    "                    arr[0] += 1\n",
    "                    mistakevalues[0] += movescore - urscore\n",
    "                if mType == CorrectionType.B:\n",
    "                    arr[1] += 1\n",
    "                    mistakevalues[1] += movescore - urscore\n",
    "                if mType == CorrectionType.D:\n",
    "                    arr[2] += 1\n",
    "                    mistakevalues[2] += movescore - urscore\n",
    "                if mType == CorrectionType.E:\n",
    "                    arr[3] += 1\n",
    "                    mistakevalues[3] += movescore - urscore\n",
    "                if mType == CorrectionType.F:\n",
    "                    arr[4] += 1\n",
    "                    mistakevalues[4] += movescore - urscore\n",
    "                if mType == CorrectionType.G:\n",
    "                    arr[5] += 1\n",
    "                    mistakevalues[5] += movescore - urscore\n",
    "                if mType == CorrectionType.H:\n",
    "                    arr[6] += 1\n",
    "                    mistakevalues[6] += movescore - urscore\n",
    "                if mType == CorrectionType.I:\n",
    "                    arr[7] += 1\n",
    "                    mistakevalues[7] += movescore - urscore\n",
    "                if mType == CorrectionType.J:\n",
    "                    arr[8] += 1\n",
    "                    mistakevalues[8] += movescore - urscore\n",
    "                if mType == CorrectionType.K:\n",
    "                    arr[9] += 1\n",
    "                    mistakevalues[9] += movescore - urscore\n",
    "                if mType == CorrectionType.C1:\n",
    "                    arr[10] += 1\n",
    "                    mistakevalues[10] += movescore - urscore\n",
    "                if mType == CorrectionType.C2:\n",
    "                    arr[11] += 1\n",
    "                    mistakevalues[11] += movescore - urscore\n",
    "                if mType == CorrectionType.C3:\n",
    "                    arr[12] += 1\n",
    "                    mistakevalues[12] += movescore - urscore\n",
    "                if mType == CorrectionType.C4:\n",
    "                    arr[13] += 1\n",
    "                    mistakevalues[13] += movescore - urscore\n",
    "                    \n",
    "                    \n",
    "\n",
    "averageMistakes = [mistakevalues[i] / arr[i] if arr[i] > 0 else 0 for i in range(len(arr)) ]          \n",
    "print(arr, sum(arr))          \n",
    "print(groups, sum(groups))\n",
    "    \n",
    "    "
   ]
  },
  {
   "cell_type": "code",
   "execution_count": null,
   "metadata": {
    "collapsed": true
   },
   "outputs": [],
   "source": []
  },
  {
   "cell_type": "code",
   "execution_count": 11,
   "metadata": {},
   "outputs": [],
   "source": [
    "FFF = np.array([0, 0, 0, 0, 0, 0, 0, 0, 0, 0, 0, 0, 0, 0, 0])\n",
    "groups = np.array([0, 0, 0, 0, 0])\n",
    "\n",
    "for i in range(1, 3):  \n",
    "    #print(\"----------------------------------------------------------------\")\n",
    "    f = open(\"playdata/balvin\" + str(i), 'rb')\n",
    "    data = pickle.load(f)[1]\n",
    "    \n",
    "    biggestMistake = 0\n",
    "    bigType = None\n",
    "    sarollout = None \n",
    "    scrollout = None\n",
    "    sstate = None\n",
    "    \n",
    "    for state, move in data:\n",
    "        arollout, urscore = map[(state, move)]\n",
    "        for action in state.getLegalActions():\n",
    "            if action != move:\n",
    "                rollout, movescore = map[(state, action)]\n",
    "\n",
    "                if movescore > urscore:\n",
    "                    mType = categorize.categorize(state, move, rollout, arollout)\n",
    "                    #print(mType, movescore - urscore, \"your\", move, \"theirs\", action)\n",
    "                    if movescore - urscore > biggestMistake:\n",
    "                        bigType = mType\n",
    "                        biggestMistake = movescore - urscore\n",
    "                        sarollout = arollout\n",
    "                        scrollout = rollout\n",
    "                        sstate = state\n",
    "    if bigType:\n",
    "        if bigType == CorrectionType.A:\n",
    "            FFF[0] += 1\n",
    "        if bigType == CorrectionType.B:\n",
    "            FFF[1] += 1\n",
    "        if bigType == CorrectionType.C:\n",
    "            sstate.printBoard()\n",
    "            print(sarollout)\n",
    "            print(scrollout)\n",
    "            print(biggestMistake)\n",
    "            FFF[2] += 1\n",
    "        if bigType == CorrectionType.D:\n",
    "            FFF[3] += 1\n",
    "        if bigType == CorrectionType.E:\n",
    "            FFF[4] += 1\n",
    "        if bigType == CorrectionType.F:\n",
    "            FFF[5] += 1\n",
    "        if bigType == CorrectionType.G:\n",
    "            FFF[6] += 1\n",
    "        if bigType == CorrectionType.H:\n",
    "            FFF[7] += 1\n",
    "        if bigType == CorrectionType.I:\n",
    "            FFF[8] += 1\n",
    "        if bigType == CorrectionType.J:\n",
    "            FFF[9] += 1\n",
    "        if bigType == CorrectionType.K:\n",
    "            FFF[10] += 1\n",
    "        if bigType == CorrectionType.C1:\n",
    "            FFF[11] += 1\n",
    "        if bigType == CorrectionType.C2:\n",
    "            FFF[12] += 1\n",
    "        if bigType == CorrectionType.C3:\n",
    "            FFF[13] += 1\n",
    "        if bigType == CorrectionType.C4:\n",
    "            FFF[14] += 1\n",
    "            \n",
    "        if bigType == CorrectionType.A or bigType == CorrectionType.J or bigType == CorrectionType.B:\n",
    "            groups[0] += 1\n",
    "        if bigType == CorrectionType.D or bigType == CorrectionType.E or bigType == CorrectionType.F:\n",
    "            groups[1] += 1\n",
    "        if bigType == CorrectionType.G or bigType == CorrectionType.H:\n",
    "            groups[2] += 1\n",
    "        if bigType == CorrectionType.I or bigType == CorrectionType.K:\n",
    "            groups[3] += 1\n",
    "        if bigType == CorrectionType.C1 or bigType == CorrectionType.C2 or bigType == CorrectionType.C3 or bigType == CorrectionType.C4:\n",
    "            groups[4] += 1\n",
    "\n",
    "        \n",
    "\n",
    "\n",
    "\n",
    "\n",
    "\n",
    "\n",
    "\n",
    "\n",
    "\n",
    "\n"
   ]
  },
  {
   "cell_type": "code",
   "execution_count": 12,
   "metadata": {},
   "outputs": [
    {
     "name": "stdout",
     "output_type": "stream",
     "text": [
      "[1 0 0 1 0 0 0 0 0 0 0 0 0 0 0]\n",
      "[1 1 0 0 0]\n"
     ]
    }
   ],
   "source": [
    "print(FFF)\n",
    "print(groups)"
   ]
  },
  {
   "cell_type": "code",
   "execution_count": null,
   "metadata": {
    "collapsed": true
   },
   "outputs": [],
   "source": []
  },
  {
   "cell_type": "code",
   "execution_count": null,
   "metadata": {
    "collapsed": true
   },
   "outputs": [],
   "source": [
    "f = open(\"sherm 1\", 'rb')\n",
    "data = pickle.load(f)[1]\n",
    "f = open(\"sherm 2\", 'rb')\n",
    "data += pickle.load(f)[1]\n",
    "f = open(\"sherm 3\", 'rb')\n",
    "data += pickle.load(f)[1]\n",
    "f = open(\"sherm 4\", 'rb')\n",
    "data += pickle.load(f)[1]\n",
    "f = open(\"sherm 5\", 'rb')\n",
    "data += pickle.load(f)[1]\n",
    "f = open(\"sherm 6\", 'rb')\n",
    "data += pickle.load(f)[1]\n",
    "f = open(\"sherm 7\", 'rb')\n",
    "data += pickle.load(f)[1]\n",
    "f = open(\"sherm 9\", 'rb')\n",
    "data += pickle.load(f)[1]\n",
    "f = open(\"sherm 10\", 'rb')\n",
    "data += pickle.load(f)[1]\n",
    "\n"
   ]
  },
  {
   "cell_type": "code",
   "execution_count": null,
   "metadata": {
    "collapsed": true
   },
   "outputs": [],
   "source": [
    "random.shuffle(data)"
   ]
  },
  {
   "cell_type": "code",
   "execution_count": null,
   "metadata": {
    "collapsed": true
   },
   "outputs": [],
   "source": [
    "data = data[:40]\n",
    "data = [a for a,b in data]\n",
    "data = set(data)\n",
    "print(len(data))\n",
    "print(data)"
   ]
  },
  {
   "cell_type": "code",
   "execution_count": null,
   "metadata": {
    "collapsed": true
   },
   "outputs": [],
   "source": [
    "f = open(\"qvalues\", 'wb')"
   ]
  },
  {
   "cell_type": "code",
   "execution_count": null,
   "metadata": {
    "collapsed": true
   },
   "outputs": [],
   "source": [
    "map = {}\n",
    "for state in data:\n",
    "    for action in state.getLegalActions():\n",
    "        temp = state.getSuccessor(action)[0]\n",
    "        states, rollout, scores, startNode = m2.getRollout(temp, 150000)\n",
    "        map[(state, action)] = scores[-1]\n",
    "    \n",
    "pickle.dump(map, f)\n",
    "f.close()"
   ]
  },
  {
   "cell_type": "code",
   "execution_count": null,
   "metadata": {
    "collapsed": true
   },
   "outputs": [],
   "source": [
    "pickle.dump(map, f)\n",
    "f.close()"
   ]
  },
  {
   "cell_type": "code",
   "execution_count": 155,
   "metadata": {},
   "outputs": [
    {
     "ename": "TypeError",
     "evalue": "'module' object is not callable",
     "output_type": "error",
     "traceback": [
      "\u001b[1;31m---------------------------------------------------------------------------\u001b[0m",
      "\u001b[1;31mTypeError\u001b[0m                                 Traceback (most recent call last)",
      "\u001b[1;32m<ipython-input-155-e7e7375c0650>\u001b[0m in \u001b[0;36m<module>\u001b[1;34m()\u001b[0m\n\u001b[0;32m      9\u001b[0m             \u001b[1;32mif\u001b[0m \u001b[0malt\u001b[0m \u001b[1;33m!=\u001b[0m \u001b[0maction\u001b[0m\u001b[1;33m:\u001b[0m\u001b[1;33m\u001b[0m\u001b[0m\n\u001b[0;32m     10\u001b[0m                 \u001b[1;31m#print(not isUnderwater(state), targetsSurface(action), targetsPiece(alt))\u001b[0m\u001b[1;33m\u001b[0m\u001b[1;33m\u001b[0m\u001b[0m\n\u001b[1;32m---> 11\u001b[1;33m                 \u001b[0mmType\u001b[0m \u001b[1;33m=\u001b[0m \u001b[0mcategorize\u001b[0m\u001b[1;33m(\u001b[0m\u001b[0mstate\u001b[0m\u001b[1;33m,\u001b[0m \u001b[0maction\u001b[0m\u001b[1;33m,\u001b[0m \u001b[0malt\u001b[0m\u001b[1;33m)\u001b[0m\u001b[1;33m\u001b[0m\u001b[0m\n\u001b[0m\u001b[0;32m     12\u001b[0m                 \u001b[1;32mif\u001b[0m \u001b[0mmType\u001b[0m \u001b[1;33m==\u001b[0m \u001b[0mCorrectionType\u001b[0m\u001b[1;33m.\u001b[0m\u001b[0mA\u001b[0m\u001b[1;33m:\u001b[0m\u001b[1;33m\u001b[0m\u001b[0m\n\u001b[0;32m     13\u001b[0m                     \u001b[0marr\u001b[0m\u001b[1;33m[\u001b[0m\u001b[1;36m0\u001b[0m\u001b[1;33m]\u001b[0m \u001b[1;33m+=\u001b[0m \u001b[1;36m1\u001b[0m\u001b[1;33m\u001b[0m\u001b[0m\n",
      "\u001b[1;31mTypeError\u001b[0m: 'module' object is not callable"
     ]
    }
   ],
   "source": [
    "count = 0\n",
    "arr =np.array([0, 0, 0, 0, 0, 0, 0, 0, 0, 0, 0])\n",
    "states = [a for a, b in map.keys()]\n",
    "for state, action in data:\n",
    "    if state in states:\n",
    "        count += 1\n",
    "        for alt in state.getLegalActions():\n",
    "            \n",
    "            if alt != action:\n",
    "                #print(not isUnderwater(state), targetsSurface(action), targetsPiece(alt))\n",
    "                mType = categorize(state, action, alt)\n",
    "                if mType == CorrectionType.A:\n",
    "                    arr[0] += 1\n",
    "                if mType == CorrectionType.B:\n",
    "                    arr[1] += 1\n",
    "                if mType == CorrectionType.C:\n",
    "                    arr[2] += 1\n",
    "                if mType == CorrectionType.D:\n",
    "                    arr[3] += 1\n",
    "                if mType == CorrectionType.E:\n",
    "                    arr[4] += 1\n",
    "                if mType == CorrectionType.F:\n",
    "                    arr[5] += 1\n",
    "                if mType == CorrectionType.G:\n",
    "                    arr[6] += 1\n",
    "                if mType == CorrectionType.H:\n",
    "                    arr[7] += 1\n",
    "                if mType == CorrectionType.I:\n",
    "                    arr[8] += 1\n",
    "                if mType == CorrectionType.J:\n",
    "                    arr[9] += 1\n",
    "                if mType == CorrectionType.K:\n",
    "                    arr[10] += 1\n",
    "                #print(mType)\n",
    "print(arr)"
   ]
  },
  {
   "cell_type": "code",
   "execution_count": 7,
   "metadata": {},
   "outputs": [
    {
     "data": {
      "text/plain": [
       "22"
      ]
     },
     "execution_count": 7,
     "metadata": {},
     "output_type": "execute_result"
    }
   ],
   "source": [
    "states = set()\n",
    "for a, b in map:\n",
    "    states.add(a)\n",
    "len(states)"
   ]
  },
  {
   "cell_type": "code",
   "execution_count": null,
   "metadata": {
    "collapsed": true
   },
   "outputs": [],
   "source": [
    "states = list(states)"
   ]
  },
  {
   "cell_type": "code",
   "execution_count": null,
   "metadata": {
    "collapsed": true
   },
   "outputs": [],
   "source": [
    "f = open(\"testStates\", 'wb')\n",
    "pickle.dump(states, f)"
   ]
  },
  {
   "cell_type": "code",
   "execution_count": null,
   "metadata": {
    "collapsed": true
   },
   "outputs": [],
   "source": [
    "f = open(\"testD\", \"rb\")\n",
    "pickle.load(f)"
   ]
  },
  {
   "cell_type": "code",
   "execution_count": 2,
   "metadata": {},
   "outputs": [
    {
     "name": "stdout",
     "output_type": "stream",
     "text": [
      "22\n"
     ]
    }
   ],
   "source": [
    "f = open(\"playdata/balvin1\", 'rb')\n",
    "playdata = pickle.load(f)[1]\n",
    "f = open(\"playdata/balvin2\", 'rb')\n",
    "playdata += pickle.load(f)[1]\n",
    "\n",
    "\n",
    "print(len(playdata))"
   ]
  },
  {
   "cell_type": "code",
   "execution_count": 3,
   "metadata": {},
   "outputs": [
    {
     "name": "stdout",
     "output_type": "stream",
     "text": [
      "calculating...\n",
      "calculating...\n",
      "calculating...\n",
      "calculating...\n",
      "calculating...\n",
      "calculating...\n",
      "calculating...\n",
      "calculating...\n",
      "calculating...\n",
      "calculating...\n",
      "calculating...\n",
      "calculating...\n",
      "calculating...\n",
      "calculating...\n",
      "calculating...\n",
      "calculating...\n",
      "calculating...\n",
      "calculating...\n",
      "calculating...\n",
      "calculating...\n",
      "calculating...\n",
      "calculating...\n"
     ]
    }
   ],
   "source": [
    "map = {}\n",
    "for state, move in playdata:\n",
    "    print(\"calculating...\")\n",
    "    actions, scores = getActions(state, 1, 100000, allRollouts = True)\n",
    "    for i in range(len(actions)):\n",
    "        moves = actions[i]\n",
    "        score = scores[i]\n",
    "        map[(state, moves[0])] = (moves, score)"
   ]
  },
  {
   "cell_type": "code",
   "execution_count": null,
   "metadata": {
    "collapsed": true
   },
   "outputs": [],
   "source": []
  }
 ],
 "metadata": {
  "kernelspec": {
   "display_name": "Python 3",
   "language": "python",
   "name": "python3"
  },
  "language_info": {
   "codemirror_mode": {
    "name": "ipython",
    "version": 3
   },
   "file_extension": ".py",
   "mimetype": "text/x-python",
   "name": "python",
   "nbconvert_exporter": "python",
   "pygments_lexer": "ipython3",
   "version": "3.6.3"
  }
 },
 "nbformat": 4,
 "nbformat_minor": 2
}
