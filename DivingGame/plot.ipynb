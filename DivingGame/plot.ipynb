{
 "cells": [
  {
   "cell_type": "code",
   "execution_count": 1,
   "metadata": {},
   "outputs": [],
   "source": [
    "from divegame import diveGame, zeroBoard\n",
    "import pickle\n",
    "from fatal_flaw import fatalFlaw, getActions\n",
    "import pdb\n",
    "from softmaxExplain import findStates2\n",
    "from datetime import datetime\n",
    "import random\n",
    "import pandas\n",
    "from experiment import reconstructStates\n",
    "import numpy as np\n",
    "import math\n",
    "from categorize import categorize, CorrectionType\n",
    "from matplotlib import pyplot as plt"
   ]
  },
  {
   "cell_type": "code",
   "execution_count": 14,
   "metadata": {},
   "outputs": [
    {
     "data": {
      "text/html": [
       "<div>\n",
       "<style scoped>\n",
       "    .dataframe tbody tr th:only-of-type {\n",
       "        vertical-align: middle;\n",
       "    }\n",
       "\n",
       "    .dataframe tbody tr th {\n",
       "        vertical-align: top;\n",
       "    }\n",
       "\n",
       "    .dataframe thead th {\n",
       "        text-align: right;\n",
       "    }\n",
       "</style>\n",
       "<table border=\"1\" class=\"dataframe\">\n",
       "  <thead>\n",
       "    <tr style=\"text-align: right;\">\n",
       "      <th></th>\n",
       "      <th>experiment group</th>\n",
       "      <th>group</th>\n",
       "      <th>initial score</th>\n",
       "      <th>initialFraction</th>\n",
       "      <th>mistake type</th>\n",
       "      <th>name</th>\n",
       "      <th>1</th>\n",
       "      <th>2</th>\n",
       "      <th>3</th>\n",
       "      <th>4</th>\n",
       "      <th>...</th>\n",
       "      <th>6</th>\n",
       "      <th>7</th>\n",
       "      <th>8</th>\n",
       "      <th>9</th>\n",
       "      <th>10</th>\n",
       "      <th>11</th>\n",
       "      <th>12</th>\n",
       "      <th>time</th>\n",
       "      <th>total</th>\n",
       "      <th>generalAverage</th>\n",
       "    </tr>\n",
       "  </thead>\n",
       "  <tbody>\n",
       "    <tr>\n",
       "      <th>0</th>\n",
       "      <td>short explanation</td>\n",
       "      <td>1</td>\n",
       "      <td>0</td>\n",
       "      <td>0.000000</td>\n",
       "      <td>CorrectionType.J</td>\n",
       "      <td>calvin</td>\n",
       "      <td>1.000000</td>\n",
       "      <td>1.000000</td>\n",
       "      <td>1.000000</td>\n",
       "      <td>1.000000</td>\n",
       "      <td>...</td>\n",
       "      <td>0.958005</td>\n",
       "      <td>1.000000</td>\n",
       "      <td>1.000000</td>\n",
       "      <td>1.000000</td>\n",
       "      <td>1.000000</td>\n",
       "      <td>0.847291</td>\n",
       "      <td>1.000000</td>\n",
       "      <td>1152.609880</td>\n",
       "      <td>5.847291</td>\n",
       "      <td>0.974548</td>\n",
       "    </tr>\n",
       "    <tr>\n",
       "      <th>1</th>\n",
       "      <td>short explanation</td>\n",
       "      <td>1</td>\n",
       "      <td>258</td>\n",
       "      <td>0.832258</td>\n",
       "      <td>CorrectionType.J</td>\n",
       "      <td>raymond</td>\n",
       "      <td>1.000000</td>\n",
       "      <td>1.000000</td>\n",
       "      <td>1.000000</td>\n",
       "      <td>1.000000</td>\n",
       "      <td>...</td>\n",
       "      <td>1.000000</td>\n",
       "      <td>0.685649</td>\n",
       "      <td>1.000000</td>\n",
       "      <td>1.000000</td>\n",
       "      <td>1.000000</td>\n",
       "      <td>0.847291</td>\n",
       "      <td>1.000000</td>\n",
       "      <td>1246.503988</td>\n",
       "      <td>5.532940</td>\n",
       "      <td>0.922157</td>\n",
       "    </tr>\n",
       "    <tr>\n",
       "      <th>2</th>\n",
       "      <td>short explanation</td>\n",
       "      <td>1</td>\n",
       "      <td>0</td>\n",
       "      <td>0.000000</td>\n",
       "      <td>CorrectionType.J</td>\n",
       "      <td>kenneth</td>\n",
       "      <td>1.000000</td>\n",
       "      <td>0.760331</td>\n",
       "      <td>1.000000</td>\n",
       "      <td>0.490909</td>\n",
       "      <td>...</td>\n",
       "      <td>0.000000</td>\n",
       "      <td>0.685649</td>\n",
       "      <td>1.000000</td>\n",
       "      <td>1.000000</td>\n",
       "      <td>0.902314</td>\n",
       "      <td>0.847291</td>\n",
       "      <td>0.838337</td>\n",
       "      <td>298.609673</td>\n",
       "      <td>5.273591</td>\n",
       "      <td>0.878932</td>\n",
       "    </tr>\n",
       "    <tr>\n",
       "      <th>3</th>\n",
       "      <td>short explanation</td>\n",
       "      <td>1</td>\n",
       "      <td>97</td>\n",
       "      <td>0.312903</td>\n",
       "      <td>CorrectionType.B</td>\n",
       "      <td>sam</td>\n",
       "      <td>1.000000</td>\n",
       "      <td>1.000000</td>\n",
       "      <td>1.000000</td>\n",
       "      <td>1.000000</td>\n",
       "      <td>...</td>\n",
       "      <td>1.000000</td>\n",
       "      <td>0.685649</td>\n",
       "      <td>1.000000</td>\n",
       "      <td>1.000000</td>\n",
       "      <td>1.000000</td>\n",
       "      <td>0.640394</td>\n",
       "      <td>0.937644</td>\n",
       "      <td>422.562166</td>\n",
       "      <td>5.263688</td>\n",
       "      <td>0.877281</td>\n",
       "    </tr>\n",
       "    <tr>\n",
       "      <th>4</th>\n",
       "      <td>short explanation</td>\n",
       "      <td>3</td>\n",
       "      <td>88</td>\n",
       "      <td>0.283871</td>\n",
       "      <td>CorrectionType.I</td>\n",
       "      <td>stanley</td>\n",
       "      <td>0.870423</td>\n",
       "      <td>0.866953</td>\n",
       "      <td>0.775244</td>\n",
       "      <td>1.000000</td>\n",
       "      <td>...</td>\n",
       "      <td>1.000000</td>\n",
       "      <td>1.000000</td>\n",
       "      <td>1.000000</td>\n",
       "      <td>1.000000</td>\n",
       "      <td>1.000000</td>\n",
       "      <td>1.000000</td>\n",
       "      <td>1.000000</td>\n",
       "      <td>952.744304</td>\n",
       "      <td>6.000000</td>\n",
       "      <td>1.000000</td>\n",
       "    </tr>\n",
       "    <tr>\n",
       "      <th>5</th>\n",
       "      <td>short explanation</td>\n",
       "      <td>2</td>\n",
       "      <td>222</td>\n",
       "      <td>0.716129</td>\n",
       "      <td>CorrectionType.E</td>\n",
       "      <td>arvin</td>\n",
       "      <td>1.000000</td>\n",
       "      <td>1.000000</td>\n",
       "      <td>1.000000</td>\n",
       "      <td>1.000000</td>\n",
       "      <td>...</td>\n",
       "      <td>0.922330</td>\n",
       "      <td>1.000000</td>\n",
       "      <td>0.654545</td>\n",
       "      <td>1.000000</td>\n",
       "      <td>0.845758</td>\n",
       "      <td>0.640394</td>\n",
       "      <td>0.937644</td>\n",
       "      <td>1064.921354</td>\n",
       "      <td>5.078342</td>\n",
       "      <td>0.846390</td>\n",
       "    </tr>\n",
       "    <tr>\n",
       "      <th>6</th>\n",
       "      <td>short explanation</td>\n",
       "      <td>1</td>\n",
       "      <td>0</td>\n",
       "      <td>0.000000</td>\n",
       "      <td>CorrectionType.A</td>\n",
       "      <td>hong</td>\n",
       "      <td>1.000000</td>\n",
       "      <td>1.000000</td>\n",
       "      <td>0.653226</td>\n",
       "      <td>0.490909</td>\n",
       "      <td>...</td>\n",
       "      <td>0.986877</td>\n",
       "      <td>0.685649</td>\n",
       "      <td>1.000000</td>\n",
       "      <td>1.000000</td>\n",
       "      <td>1.000000</td>\n",
       "      <td>0.640394</td>\n",
       "      <td>0.937644</td>\n",
       "      <td>1131.997097</td>\n",
       "      <td>5.263688</td>\n",
       "      <td>0.877281</td>\n",
       "    </tr>\n",
       "    <tr>\n",
       "      <th>7</th>\n",
       "      <td>long explanation</td>\n",
       "      <td>1</td>\n",
       "      <td>0</td>\n",
       "      <td>0.000000</td>\n",
       "      <td>CorrectionType.A</td>\n",
       "      <td>aayush</td>\n",
       "      <td>1.000000</td>\n",
       "      <td>0.760331</td>\n",
       "      <td>1.000000</td>\n",
       "      <td>0.449587</td>\n",
       "      <td>...</td>\n",
       "      <td>1.000000</td>\n",
       "      <td>1.000000</td>\n",
       "      <td>1.000000</td>\n",
       "      <td>1.000000</td>\n",
       "      <td>1.000000</td>\n",
       "      <td>0.640394</td>\n",
       "      <td>1.000000</td>\n",
       "      <td>714.216283</td>\n",
       "      <td>5.640394</td>\n",
       "      <td>0.940066</td>\n",
       "    </tr>\n",
       "    <tr>\n",
       "      <th>8</th>\n",
       "      <td>long explanation</td>\n",
       "      <td>2</td>\n",
       "      <td>222</td>\n",
       "      <td>0.716129</td>\n",
       "      <td>CorrectionType.E</td>\n",
       "      <td>karthik</td>\n",
       "      <td>1.000000</td>\n",
       "      <td>1.000000</td>\n",
       "      <td>1.000000</td>\n",
       "      <td>1.000000</td>\n",
       "      <td>...</td>\n",
       "      <td>1.000000</td>\n",
       "      <td>0.000000</td>\n",
       "      <td>0.654545</td>\n",
       "      <td>1.000000</td>\n",
       "      <td>1.000000</td>\n",
       "      <td>0.847291</td>\n",
       "      <td>1.000000</td>\n",
       "      <td>834.866571</td>\n",
       "      <td>4.501836</td>\n",
       "      <td>0.750306</td>\n",
       "    </tr>\n",
       "    <tr>\n",
       "      <th>9</th>\n",
       "      <td>long explanation</td>\n",
       "      <td>2</td>\n",
       "      <td>222</td>\n",
       "      <td>0.716129</td>\n",
       "      <td>CorrectionType.E</td>\n",
       "      <td>nadir</td>\n",
       "      <td>1.000000</td>\n",
       "      <td>0.898305</td>\n",
       "      <td>1.000000</td>\n",
       "      <td>0.535897</td>\n",
       "      <td>...</td>\n",
       "      <td>1.000000</td>\n",
       "      <td>1.000000</td>\n",
       "      <td>1.000000</td>\n",
       "      <td>1.000000</td>\n",
       "      <td>1.000000</td>\n",
       "      <td>0.847291</td>\n",
       "      <td>1.000000</td>\n",
       "      <td>561.681458</td>\n",
       "      <td>5.847291</td>\n",
       "      <td>0.974548</td>\n",
       "    </tr>\n",
       "    <tr>\n",
       "      <th>10</th>\n",
       "      <td>long explanation</td>\n",
       "      <td>1</td>\n",
       "      <td>0</td>\n",
       "      <td>0.000000</td>\n",
       "      <td>CorrectionType.J</td>\n",
       "      <td>andy</td>\n",
       "      <td>1.000000</td>\n",
       "      <td>1.000000</td>\n",
       "      <td>0.653226</td>\n",
       "      <td>0.490909</td>\n",
       "      <td>...</td>\n",
       "      <td>1.000000</td>\n",
       "      <td>0.685649</td>\n",
       "      <td>0.542424</td>\n",
       "      <td>0.865429</td>\n",
       "      <td>1.000000</td>\n",
       "      <td>0.847291</td>\n",
       "      <td>0.789838</td>\n",
       "      <td>566.611813</td>\n",
       "      <td>4.730632</td>\n",
       "      <td>0.788439</td>\n",
       "    </tr>\n",
       "    <tr>\n",
       "      <th>11</th>\n",
       "      <td>long explanation</td>\n",
       "      <td>1</td>\n",
       "      <td>0</td>\n",
       "      <td>0.000000</td>\n",
       "      <td>CorrectionType.A</td>\n",
       "      <td>gokul</td>\n",
       "      <td>1.000000</td>\n",
       "      <td>1.000000</td>\n",
       "      <td>1.000000</td>\n",
       "      <td>0.639669</td>\n",
       "      <td>...</td>\n",
       "      <td>1.000000</td>\n",
       "      <td>0.685649</td>\n",
       "      <td>1.000000</td>\n",
       "      <td>1.000000</td>\n",
       "      <td>1.000000</td>\n",
       "      <td>0.640394</td>\n",
       "      <td>1.000000</td>\n",
       "      <td>514.068334</td>\n",
       "      <td>5.326043</td>\n",
       "      <td>0.887674</td>\n",
       "    </tr>\n",
       "    <tr>\n",
       "      <th>12</th>\n",
       "      <td>no explanation</td>\n",
       "      <td>3</td>\n",
       "      <td>0</td>\n",
       "      <td>0.000000</td>\n",
       "      <td>CorrectionType.K</td>\n",
       "      <td>jonny</td>\n",
       "      <td>0.870423</td>\n",
       "      <td>0.866953</td>\n",
       "      <td>1.000000</td>\n",
       "      <td>0.000000</td>\n",
       "      <td>...</td>\n",
       "      <td>1.000000</td>\n",
       "      <td>1.000000</td>\n",
       "      <td>1.000000</td>\n",
       "      <td>1.000000</td>\n",
       "      <td>1.000000</td>\n",
       "      <td>1.000000</td>\n",
       "      <td>0.937644</td>\n",
       "      <td>245.761915</td>\n",
       "      <td>5.937644</td>\n",
       "      <td>0.989607</td>\n",
       "    </tr>\n",
       "    <tr>\n",
       "      <th>13</th>\n",
       "      <td>no explanation</td>\n",
       "      <td>1</td>\n",
       "      <td>0</td>\n",
       "      <td>0.000000</td>\n",
       "      <td>CorrectionType.A</td>\n",
       "      <td>alex</td>\n",
       "      <td>1.000000</td>\n",
       "      <td>0.793388</td>\n",
       "      <td>0.653226</td>\n",
       "      <td>0.639669</td>\n",
       "      <td>...</td>\n",
       "      <td>1.000000</td>\n",
       "      <td>0.685649</td>\n",
       "      <td>0.542424</td>\n",
       "      <td>1.000000</td>\n",
       "      <td>1.000000</td>\n",
       "      <td>1.000000</td>\n",
       "      <td>0.789838</td>\n",
       "      <td>509.101066</td>\n",
       "      <td>5.017912</td>\n",
       "      <td>0.836319</td>\n",
       "    </tr>\n",
       "    <tr>\n",
       "      <th>14</th>\n",
       "      <td>no explanation</td>\n",
       "      <td>2</td>\n",
       "      <td>222</td>\n",
       "      <td>0.716129</td>\n",
       "      <td>CorrectionType.E</td>\n",
       "      <td>ket</td>\n",
       "      <td>1.000000</td>\n",
       "      <td>1.000000</td>\n",
       "      <td>0.673684</td>\n",
       "      <td>1.000000</td>\n",
       "      <td>...</td>\n",
       "      <td>1.000000</td>\n",
       "      <td>0.685649</td>\n",
       "      <td>1.000000</td>\n",
       "      <td>1.000000</td>\n",
       "      <td>0.845758</td>\n",
       "      <td>0.561576</td>\n",
       "      <td>1.000000</td>\n",
       "      <td>1194.045790</td>\n",
       "      <td>5.092984</td>\n",
       "      <td>0.848831</td>\n",
       "    </tr>\n",
       "    <tr>\n",
       "      <th>15</th>\n",
       "      <td>no explanation</td>\n",
       "      <td>2</td>\n",
       "      <td>119</td>\n",
       "      <td>0.383871</td>\n",
       "      <td>CorrectionType.D</td>\n",
       "      <td>charlie</td>\n",
       "      <td>0.606771</td>\n",
       "      <td>0.898305</td>\n",
       "      <td>1.000000</td>\n",
       "      <td>0.435897</td>\n",
       "      <td>...</td>\n",
       "      <td>0.980583</td>\n",
       "      <td>0.685649</td>\n",
       "      <td>1.000000</td>\n",
       "      <td>1.000000</td>\n",
       "      <td>1.000000</td>\n",
       "      <td>0.640394</td>\n",
       "      <td>1.000000</td>\n",
       "      <td>839.250719</td>\n",
       "      <td>5.326043</td>\n",
       "      <td>0.887674</td>\n",
       "    </tr>\n",
       "    <tr>\n",
       "      <th>16</th>\n",
       "      <td>no explanation</td>\n",
       "      <td>2</td>\n",
       "      <td>139</td>\n",
       "      <td>0.448387</td>\n",
       "      <td>CorrectionType.E</td>\n",
       "      <td>aakash</td>\n",
       "      <td>1.000000</td>\n",
       "      <td>0.898305</td>\n",
       "      <td>1.000000</td>\n",
       "      <td>1.000000</td>\n",
       "      <td>...</td>\n",
       "      <td>1.000000</td>\n",
       "      <td>0.478360</td>\n",
       "      <td>1.000000</td>\n",
       "      <td>1.000000</td>\n",
       "      <td>1.000000</td>\n",
       "      <td>1.000000</td>\n",
       "      <td>1.000000</td>\n",
       "      <td>694.424163</td>\n",
       "      <td>5.478360</td>\n",
       "      <td>0.913060</td>\n",
       "    </tr>\n",
       "    <tr>\n",
       "      <th>17</th>\n",
       "      <td>no explanation</td>\n",
       "      <td>1</td>\n",
       "      <td>0</td>\n",
       "      <td>0.000000</td>\n",
       "      <td>CorrectionType.A</td>\n",
       "      <td>neel</td>\n",
       "      <td>1.000000</td>\n",
       "      <td>1.000000</td>\n",
       "      <td>0.580645</td>\n",
       "      <td>1.000000</td>\n",
       "      <td>...</td>\n",
       "      <td>0.986877</td>\n",
       "      <td>0.685649</td>\n",
       "      <td>1.000000</td>\n",
       "      <td>1.000000</td>\n",
       "      <td>0.902314</td>\n",
       "      <td>0.847291</td>\n",
       "      <td>1.000000</td>\n",
       "      <td>828.125143</td>\n",
       "      <td>5.435253</td>\n",
       "      <td>0.905876</td>\n",
       "    </tr>\n",
       "    <tr>\n",
       "      <th>18</th>\n",
       "      <td>no explanation</td>\n",
       "      <td>1</td>\n",
       "      <td>118</td>\n",
       "      <td>0.380645</td>\n",
       "      <td>CorrectionType.B</td>\n",
       "      <td>kartik</td>\n",
       "      <td>1.000000</td>\n",
       "      <td>0.760331</td>\n",
       "      <td>1.000000</td>\n",
       "      <td>0.639669</td>\n",
       "      <td>...</td>\n",
       "      <td>1.000000</td>\n",
       "      <td>0.000000</td>\n",
       "      <td>1.000000</td>\n",
       "      <td>0.865429</td>\n",
       "      <td>1.000000</td>\n",
       "      <td>0.561576</td>\n",
       "      <td>0.789838</td>\n",
       "      <td>366.590822</td>\n",
       "      <td>4.216844</td>\n",
       "      <td>0.702807</td>\n",
       "    </tr>\n",
       "    <tr>\n",
       "      <th>19</th>\n",
       "      <td>no explanation</td>\n",
       "      <td>2</td>\n",
       "      <td>222</td>\n",
       "      <td>0.716129</td>\n",
       "      <td>CorrectionType.E</td>\n",
       "      <td>sera</td>\n",
       "      <td>0.768229</td>\n",
       "      <td>1.000000</td>\n",
       "      <td>1.000000</td>\n",
       "      <td>1.000000</td>\n",
       "      <td>...</td>\n",
       "      <td>1.000000</td>\n",
       "      <td>0.685649</td>\n",
       "      <td>1.000000</td>\n",
       "      <td>1.000000</td>\n",
       "      <td>0.902314</td>\n",
       "      <td>0.640394</td>\n",
       "      <td>1.000000</td>\n",
       "      <td>506.822705</td>\n",
       "      <td>5.228357</td>\n",
       "      <td>0.871393</td>\n",
       "    </tr>\n",
       "    <tr>\n",
       "      <th>20</th>\n",
       "      <td>no explanation</td>\n",
       "      <td>2</td>\n",
       "      <td>88</td>\n",
       "      <td>0.283871</td>\n",
       "      <td>CorrectionType.E</td>\n",
       "      <td>jinsu</td>\n",
       "      <td>1.000000</td>\n",
       "      <td>0.576271</td>\n",
       "      <td>1.000000</td>\n",
       "      <td>0.535897</td>\n",
       "      <td>...</td>\n",
       "      <td>1.000000</td>\n",
       "      <td>1.000000</td>\n",
       "      <td>1.000000</td>\n",
       "      <td>1.000000</td>\n",
       "      <td>1.000000</td>\n",
       "      <td>0.847291</td>\n",
       "      <td>1.000000</td>\n",
       "      <td>796.695121</td>\n",
       "      <td>5.847291</td>\n",
       "      <td>0.974548</td>\n",
       "    </tr>\n",
       "  </tbody>\n",
       "</table>\n",
       "<p>21 rows × 21 columns</p>\n",
       "</div>"
      ],
      "text/plain": [
       "     experiment group  group  initial score  initialFraction  \\\n",
       "0   short explanation      1              0         0.000000   \n",
       "1   short explanation      1            258         0.832258   \n",
       "2   short explanation      1              0         0.000000   \n",
       "3   short explanation      1             97         0.312903   \n",
       "4   short explanation      3             88         0.283871   \n",
       "5   short explanation      2            222         0.716129   \n",
       "6   short explanation      1              0         0.000000   \n",
       "7    long explanation      1              0         0.000000   \n",
       "8    long explanation      2            222         0.716129   \n",
       "9    long explanation      2            222         0.716129   \n",
       "10   long explanation      1              0         0.000000   \n",
       "11   long explanation      1              0         0.000000   \n",
       "12     no explanation      3              0         0.000000   \n",
       "13     no explanation      1              0         0.000000   \n",
       "14     no explanation      2            222         0.716129   \n",
       "15     no explanation      2            119         0.383871   \n",
       "16     no explanation      2            139         0.448387   \n",
       "17     no explanation      1              0         0.000000   \n",
       "18     no explanation      1            118         0.380645   \n",
       "19     no explanation      2            222         0.716129   \n",
       "20     no explanation      2             88         0.283871   \n",
       "\n",
       "        mistake type     name         1         2         3         4  \\\n",
       "0   CorrectionType.J   calvin  1.000000  1.000000  1.000000  1.000000   \n",
       "1   CorrectionType.J  raymond  1.000000  1.000000  1.000000  1.000000   \n",
       "2   CorrectionType.J  kenneth  1.000000  0.760331  1.000000  0.490909   \n",
       "3   CorrectionType.B      sam  1.000000  1.000000  1.000000  1.000000   \n",
       "4   CorrectionType.I  stanley  0.870423  0.866953  0.775244  1.000000   \n",
       "5   CorrectionType.E    arvin  1.000000  1.000000  1.000000  1.000000   \n",
       "6   CorrectionType.A     hong  1.000000  1.000000  0.653226  0.490909   \n",
       "7   CorrectionType.A   aayush  1.000000  0.760331  1.000000  0.449587   \n",
       "8   CorrectionType.E  karthik  1.000000  1.000000  1.000000  1.000000   \n",
       "9   CorrectionType.E    nadir  1.000000  0.898305  1.000000  0.535897   \n",
       "10  CorrectionType.J     andy  1.000000  1.000000  0.653226  0.490909   \n",
       "11  CorrectionType.A    gokul  1.000000  1.000000  1.000000  0.639669   \n",
       "12  CorrectionType.K    jonny  0.870423  0.866953  1.000000  0.000000   \n",
       "13  CorrectionType.A     alex  1.000000  0.793388  0.653226  0.639669   \n",
       "14  CorrectionType.E      ket  1.000000  1.000000  0.673684  1.000000   \n",
       "15  CorrectionType.D  charlie  0.606771  0.898305  1.000000  0.435897   \n",
       "16  CorrectionType.E   aakash  1.000000  0.898305  1.000000  1.000000   \n",
       "17  CorrectionType.A     neel  1.000000  1.000000  0.580645  1.000000   \n",
       "18  CorrectionType.B   kartik  1.000000  0.760331  1.000000  0.639669   \n",
       "19  CorrectionType.E     sera  0.768229  1.000000  1.000000  1.000000   \n",
       "20  CorrectionType.E    jinsu  1.000000  0.576271  1.000000  0.535897   \n",
       "\n",
       "         ...               6         7         8         9        10  \\\n",
       "0        ...        0.958005  1.000000  1.000000  1.000000  1.000000   \n",
       "1        ...        1.000000  0.685649  1.000000  1.000000  1.000000   \n",
       "2        ...        0.000000  0.685649  1.000000  1.000000  0.902314   \n",
       "3        ...        1.000000  0.685649  1.000000  1.000000  1.000000   \n",
       "4        ...        1.000000  1.000000  1.000000  1.000000  1.000000   \n",
       "5        ...        0.922330  1.000000  0.654545  1.000000  0.845758   \n",
       "6        ...        0.986877  0.685649  1.000000  1.000000  1.000000   \n",
       "7        ...        1.000000  1.000000  1.000000  1.000000  1.000000   \n",
       "8        ...        1.000000  0.000000  0.654545  1.000000  1.000000   \n",
       "9        ...        1.000000  1.000000  1.000000  1.000000  1.000000   \n",
       "10       ...        1.000000  0.685649  0.542424  0.865429  1.000000   \n",
       "11       ...        1.000000  0.685649  1.000000  1.000000  1.000000   \n",
       "12       ...        1.000000  1.000000  1.000000  1.000000  1.000000   \n",
       "13       ...        1.000000  0.685649  0.542424  1.000000  1.000000   \n",
       "14       ...        1.000000  0.685649  1.000000  1.000000  0.845758   \n",
       "15       ...        0.980583  0.685649  1.000000  1.000000  1.000000   \n",
       "16       ...        1.000000  0.478360  1.000000  1.000000  1.000000   \n",
       "17       ...        0.986877  0.685649  1.000000  1.000000  0.902314   \n",
       "18       ...        1.000000  0.000000  1.000000  0.865429  1.000000   \n",
       "19       ...        1.000000  0.685649  1.000000  1.000000  0.902314   \n",
       "20       ...        1.000000  1.000000  1.000000  1.000000  1.000000   \n",
       "\n",
       "          11        12         time     total  generalAverage  \n",
       "0   0.847291  1.000000  1152.609880  5.847291        0.974548  \n",
       "1   0.847291  1.000000  1246.503988  5.532940        0.922157  \n",
       "2   0.847291  0.838337   298.609673  5.273591        0.878932  \n",
       "3   0.640394  0.937644   422.562166  5.263688        0.877281  \n",
       "4   1.000000  1.000000   952.744304  6.000000        1.000000  \n",
       "5   0.640394  0.937644  1064.921354  5.078342        0.846390  \n",
       "6   0.640394  0.937644  1131.997097  5.263688        0.877281  \n",
       "7   0.640394  1.000000   714.216283  5.640394        0.940066  \n",
       "8   0.847291  1.000000   834.866571  4.501836        0.750306  \n",
       "9   0.847291  1.000000   561.681458  5.847291        0.974548  \n",
       "10  0.847291  0.789838   566.611813  4.730632        0.788439  \n",
       "11  0.640394  1.000000   514.068334  5.326043        0.887674  \n",
       "12  1.000000  0.937644   245.761915  5.937644        0.989607  \n",
       "13  1.000000  0.789838   509.101066  5.017912        0.836319  \n",
       "14  0.561576  1.000000  1194.045790  5.092984        0.848831  \n",
       "15  0.640394  1.000000   839.250719  5.326043        0.887674  \n",
       "16  1.000000  1.000000   694.424163  5.478360        0.913060  \n",
       "17  0.847291  1.000000   828.125143  5.435253        0.905876  \n",
       "18  0.561576  0.789838   366.590822  4.216844        0.702807  \n",
       "19  0.640394  1.000000   506.822705  5.228357        0.871393  \n",
       "20  0.847291  1.000000   796.695121  5.847291        0.974548  \n",
       "\n",
       "[21 rows x 21 columns]"
      ]
     },
     "execution_count": 14,
     "metadata": {},
     "output_type": "execute_result"
    }
   ],
   "source": [
    "f = open(\"Test State Q values\", 'rb')\n",
    "highestPossible = 310\n",
    "qvalues = pickle.load(f)\n",
    "\n",
    "f = open(\"playthrough values\", 'rb')\n",
    "initqvalues, initvvalues = pickle.load(f)\n",
    "\n",
    "\n",
    "datas = []\n",
    "vvalues = {}\n",
    "for state, action in qvalues:\n",
    "    if state not in vvalues:\n",
    "        vvalues[state] = qvalues[(state, action)]\n",
    "    else:\n",
    "        vvalues[state] = max(qvalues[(state, action)], vvalues[state])\n",
    "\n",
    "shortPercentages = []\n",
    "\n",
    "def process(name, expgroup):\n",
    "    f = open(\"playdata/\" + name, \"rb\")\n",
    "    f2 = open(\"playdata/\" + name + \"2\", \"rb\")\n",
    "    data = pickle.load(f)\n",
    "    mistakeIndex = data['FatalFlawData'][6]\n",
    "    mistakeState = data['playthrough'][1][0][mistakeIndex]\n",
    "    mistakeAction = data['playthrough'][1][1][mistakeIndex]\n",
    "    \n",
    "    \n",
    "    d = {}\n",
    "    \n",
    "    d['initial score'] = data['playthrough'][-1][0][-1].cash\n",
    "    initialFraction = d['initial score'] / highestPossible\n",
    "    data2 = pickle.load(f2)\n",
    "    d['initialFraction'] = initialFraction\n",
    "    d['name'] = name\n",
    "    d['experiment group'] = expgroup\n",
    "    d['mistake type'] = data['FatalFlawData'][-1]\n",
    "    d['group'] = data['group']\n",
    "    if d['experiment group'] == \"short explanation\":\n",
    "        shortPercentages.append(len(data['idxs']) / len(data['FatalFlawData'][0]))\n",
    "    testStates = reconstructStates(pickle.load(open(\"group\" + str(data['group'])+ \"States\", \"rb\")))\n",
    "    total = 0\n",
    "    gA = 0\n",
    "    for i in range(len(testStates)):\n",
    "        for j in range(len(testStates)):\n",
    "            if testStates[i] == data['testStates'][j][0]:\n",
    "                d[i + 1] = qvalues[(data['testStates'][j][0], data['testStates'][j][1])] \\\n",
    "                         / vvalues[data['testStates'][j][0]]\n",
    "                if name == \"raymond\":\n",
    "                    d[5] = 1\n",
    "                #total += d[i + 1]\n",
    "    testStates = reconstructStates(pickle.load(open(\"General Test States\", \"rb\")))\n",
    "    for i in range(6, 12):\n",
    "        for j in range(6):\n",
    "            if testStates[i - 6] == data2['testStates'][j][0]:\n",
    "                d[i + 1] = qvalues[(data2['testStates'][j][0], data2['testStates'][j][1])] \\\n",
    "                          / vvalues[data2['testStates'][j][0]]\n",
    "                total += d[i + 1]\n",
    "                gA += d[i + 1] / 6\n",
    "                    \n",
    "    time = 0\n",
    "    for i in data['testStatesTimes']:\n",
    "        time += i.total_seconds()\n",
    "    \n",
    "    for i in data2['testStatesTimes']:\n",
    "        time += i.total_seconds()\n",
    "    d['time'] = time\n",
    "    d['total'] = total\n",
    "    d['generalAverage'] = gA\n",
    "    \n",
    "    length = 0\n",
    "    total = 0\n",
    "#     for i in range(len(data['playthrough'][1][0][:-1])):\n",
    "#         state = data['playthrough'][1][0][:-1][i]\n",
    "#         action = data['playthrough'][1][1][i]\n",
    "#         if initvvalues[state] > 0 :\n",
    "#             total += initqvalues[(state, action)][1] / initvvalues[state]\n",
    "#             length += 1\n",
    "#     d['initperf'] = total / length\n",
    "    \n",
    "    datas.append(d)\n",
    "\n",
    "    \n",
    "    \n",
    "\n",
    "process(\"calvin\", \"short explanation\")\n",
    "process(\"raymond\", \"short explanation\")\n",
    "process(\"kenneth\", \"short explanation\")\n",
    "process(\"sam\", \"short explanation\")\n",
    "process(\"stanley\", \"short explanation\")\n",
    "process(\"arvin\", \"short explanation\")\n",
    "process(\"hong\", \"short explanation\")\n",
    "\n",
    "\n",
    "\n",
    "process(\"aayush\", \"long explanation\")\n",
    "process(\"karthik\", \"long explanation\")\n",
    "process(\"nadir\", \"long explanation\")\n",
    "#process(\"rustie\", \"long explanation\")\n",
    "process(\"andy\", \"long explanation\")\n",
    "process(\"gokul\", \"long explanation\")\n",
    "\n",
    "\n",
    "process(\"jonny\", \"no explanation\")\n",
    "process(\"alex\", \"no explanation\")\n",
    "process(\"ket\", \"no explanation\")\n",
    "process(\"charlie\", \"no explanation\")\n",
    "process(\"aakash\", \"no explanation\")\n",
    "process(\"neel\", \"no explanation\")\n",
    "process(\"kartik\", \"no explanation\")\n",
    "process(\"sera\", \"no explanation\")\n",
    "process(\"jinsu\", \"no explanation\")\n",
    "\n",
    "\n",
    "df = pandas.DataFrame(datas)    \n",
    "df"
   ]
  },
  {
   "cell_type": "code",
   "execution_count": 47,
   "metadata": {},
   "outputs": [
    {
     "data": {
      "image/png": "[encoded data removed]",
      "text/plain": [
       "<Figure size 432x288 with 1 Axes>"
      ]
     },
     "metadata": {
      "needs_background": "light"
     },
     "output_type": "display_data"
    }
   ],
   "source": [
    "\n",
    "fig = plt.figure()\n",
    "plt.hist(shortPercentages, 10, range = (0, 1))\n",
    "plt.xticks([0, 0.1, 0.2, 0.3, 0.4, .5, .6, .7, .8, .9, 1])\n",
    "plt.yticks([0, 1, 2, 3])\n",
    "plt.title(\"Frequency of Short Explanation Lengths\")\n",
    "plt.ylabel(\"Frequency\")\n",
    "plt.xlabel(\"Fraction of Full Optimal Rollout\")\n",
    "fig.savefig(\"fig7.pdf\")"
   ]
  },
  {
   "cell_type": "code",
   "execution_count": 72,
   "metadata": {},
   "outputs": [
    {
     "ename": "AttributeError",
     "evalue": "module 'matplotlib.pyplot' has no attribute 'set_ylim'",
     "output_type": "error",
     "traceback": [
      "\u001b[1;31m---------------------------------------------------------------------------\u001b[0m",
      "\u001b[1;31mAttributeError\u001b[0m                            Traceback (most recent call last)",
      "\u001b[1;32m<ipython-input-72-3a0ab7bee0b2>\u001b[0m in \u001b[0;36m<module>\u001b[1;34m\u001b[0m\n\u001b[0;32m      7\u001b[0m \u001b[0mstderr2\u001b[0m \u001b[1;33m=\u001b[0m \u001b[0mnp\u001b[0m\u001b[1;33m.\u001b[0m\u001b[0mstd\u001b[0m\u001b[1;33m(\u001b[0m\u001b[0mdf3\u001b[0m\u001b[1;33m[\u001b[0m\u001b[1;34m'generalAverage'\u001b[0m\u001b[1;33m]\u001b[0m\u001b[1;33m)\u001b[0m \u001b[1;33m/\u001b[0m \u001b[0mmath\u001b[0m\u001b[1;33m.\u001b[0m\u001b[0msqrt\u001b[0m\u001b[1;33m(\u001b[0m\u001b[0mlen\u001b[0m\u001b[1;33m(\u001b[0m\u001b[0mdf3\u001b[0m\u001b[1;33m)\u001b[0m\u001b[1;33m)\u001b[0m\u001b[1;33m\u001b[0m\u001b[1;33m\u001b[0m\u001b[0m\n\u001b[0;32m      8\u001b[0m \u001b[0mplt\u001b[0m\u001b[1;33m.\u001b[0m\u001b[0mbar\u001b[0m\u001b[1;33m(\u001b[0m\u001b[0mx\u001b[0m\u001b[1;33m=\u001b[0m\u001b[1;33m[\u001b[0m\u001b[1;36m0\u001b[0m\u001b[1;33m,\u001b[0m \u001b[1;36m1\u001b[0m\u001b[1;33m]\u001b[0m\u001b[1;33m,\u001b[0m \u001b[0mheight\u001b[0m\u001b[1;33m=\u001b[0m\u001b[1;33m[\u001b[0m\u001b[0mavg2\u001b[0m\u001b[1;33m,\u001b[0m \u001b[0mavg1\u001b[0m\u001b[1;33m]\u001b[0m\u001b[1;33m,\u001b[0m \u001b[0myerr\u001b[0m \u001b[1;33m=\u001b[0m \u001b[1;33m[\u001b[0m\u001b[0mstderr2\u001b[0m\u001b[1;33m,\u001b[0m \u001b[0mstderr1\u001b[0m\u001b[1;33m]\u001b[0m\u001b[1;33m,\u001b[0m \u001b[0mcolor\u001b[0m \u001b[1;33m=\u001b[0m \u001b[1;33m[\u001b[0m\u001b[1;34m'grey'\u001b[0m\u001b[1;33m,\u001b[0m \u001b[1;34m'orange'\u001b[0m\u001b[1;33m]\u001b[0m\u001b[1;33m,\u001b[0m \u001b[0mtick_label\u001b[0m \u001b[1;33m=\u001b[0m \u001b[1;33m[\u001b[0m\u001b[1;34m\"Not Explained\"\u001b[0m\u001b[1;33m,\u001b[0m \u001b[1;34m\"Explained\"\u001b[0m\u001b[1;33m]\u001b[0m\u001b[1;33m)\u001b[0m\u001b[1;33m\u001b[0m\u001b[1;33m\u001b[0m\u001b[0m\n\u001b[1;32m----> 9\u001b[1;33m \u001b[0mplt\u001b[0m\u001b[1;33m.\u001b[0m\u001b[0mset_ylim\u001b[0m\u001b[1;33m(\u001b[0m\u001b[1;36m0.8\u001b[0m\u001b[1;33m,\u001b[0m \u001b[1;36m0.92\u001b[0m\u001b[1;33m)\u001b[0m\u001b[1;33m\u001b[0m\u001b[1;33m\u001b[0m\u001b[0m\n\u001b[0m\u001b[0;32m     10\u001b[0m \u001b[0mplt\u001b[0m\u001b[1;33m.\u001b[0m\u001b[0mtitle\u001b[0m\u001b[1;33m(\u001b[0m\u001b[1;34m\"Explanation vs No Explanation avg on 7-12 (General States)\"\u001b[0m\u001b[1;33m)\u001b[0m\u001b[1;33m\u001b[0m\u001b[1;33m\u001b[0m\u001b[0m\n",
      "\u001b[1;31mAttributeError\u001b[0m: module 'matplotlib.pyplot' has no attribute 'set_ylim'"
     ]
    },
    {
     "data": {
      "image/png": "[encoded data removed]",
      "text/plain": [
       "<Figure size 432x288 with 1 Axes>"
      ]
     },
     "metadata": {
      "needs_background": "light"
     },
     "output_type": "display_data"
    }
   ],
   "source": [
    "\n",
    "df2 = df[(df['experiment group'] == \"long explanation\") | (df['experiment group'] == \"short explanation\")]\n",
    "df3 = df[(df['experiment group'] == \"no explanation\")]\n",
    "avg1 = np.mean(df2['generalAverage'])\n",
    "avg2 = np.mean(df3['generalAverage'])\n",
    "stderr1 = np.std(df2['generalAverage']) / math.sqrt(len(df2))\n",
    "stderr2 = np.std(df3['generalAverage']) / math.sqrt(len(df3))\n",
    "plt.bar(x=[0, 1], height=[avg2, avg1], yerr = [stderr2, stderr1], color = ['grey', 'orange'], tick_label = [\"Not Explained\", \"Explained\"])\n",
    "plt.set_ylim(0.8, 0.92)\n",
    "plt.title(\"Explanation vs No Explanation avg on 7-12 (General States)\")"
   ]
  },
  {
   "cell_type": "code",
   "execution_count": 17,
   "metadata": {},
   "outputs": [
    {
     "data": {
      "text/plain": [
       "Text(0.5, 1.0, 'Explanation vs No Explanation, Group 1, avg on 7-12 (General States)')"
      ]
     },
     "execution_count": 17,
     "metadata": {},
     "output_type": "execute_result"
    },
    {
     "data": {
      "image/png": "[encoded data removed]",
      "text/plain": [
       "<Figure size 432x288 with 1 Axes>"
      ]
     },
     "metadata": {
      "needs_background": "light"
     },
     "output_type": "display_data"
    }
   ],
   "source": [
    "df2 = df[(df['group'] == 1) & ((df['experiment group'] == \"long explanation\") | (df['experiment group'] == \"short explanation\"))]\n",
    "df3 = df[(df['group'] == 1) & (df['experiment group'] == \"no explanation\")]\n",
    "avg1 = np.mean(df2['generalAverage'])\n",
    "avg2 = np.mean(df3['generalAverage'])\n",
    "stderr1 = np.std(df2['generalAverage']) / math.sqrt(len(df2))\n",
    "stderr2 = np.std(df3['generalAverage']) / math.sqrt(len(df3))\n",
    "plt.bar(x=[0, 1], height=[avg1, avg2][::-1], yerr = [stderr1, stderr2][::-1], color = ['orange', 'grey'][::-1], tick_label = [\"Explained\", \"Not Explained\"][::-1])\n",
    "plt.ylim(0.7, 0.95)\n",
    "plt.title(\"Explanation vs No Explanation, Group 1, avg on 7-12 (General States)\")"
   ]
  },
  {
   "cell_type": "code",
   "execution_count": 18,
   "metadata": {},
   "outputs": [
    {
     "data": {
      "text/plain": [
       "Text(0.5, 1.0, 'Explanation vs No Explanation, Group2, on 7-12 (General States)')"
      ]
     },
     "execution_count": 18,
     "metadata": {},
     "output_type": "execute_result"
    },
    {
     "data": {
      "image/png": "[encoded data removed]",
      "text/plain": [
       "<Figure size 432x288 with 1 Axes>"
      ]
     },
     "metadata": {
      "needs_background": "light"
     },
     "output_type": "display_data"
    }
   ],
   "source": [
    "df2 = df[(df['group'] == 2) & ((df['experiment group'] == \"long explanation\") | (df['experiment group'] == \"short explanation\"))]\n",
    "df3 = df[(df['group'] == 2) & (df['experiment group'] == \"no explanation\")]\n",
    "avg1 = np.mean(df2['generalAverage'])\n",
    "avg2 = np.mean(df3['generalAverage'])\n",
    "stderr1 = np.std(df2['generalAverage']) / math.sqrt(len(df2))\n",
    "stderr2 = np.std(df3['generalAverage']) / math.sqrt(len(df3))\n",
    "plt.bar(x=[0, 1], height=[avg1, avg2][::-1], yerr = [stderr1, stderr2][::-1], color = ['orange', 'grey'][::-1], tick_label = [\"Explained\", \"Not Explained\"][::-1])\n",
    "plt.ylim(0.7, 0.95)\n",
    "plt.title(\"Explanation vs No Explanation, Group2, on 7-12 (General States)\")"
   ]
  },
  {
   "cell_type": "code",
   "execution_count": 19,
   "metadata": {},
   "outputs": [
    {
     "data": {
      "text/plain": [
       "Text(0.5, 1.0, 'Explanation vs No Explanation, Group 1, on 1-6, 7, 8')"
      ]
     },
     "execution_count": 19,
     "metadata": {},
     "output_type": "execute_result"
    },
    {
     "data": {
      "image/png": "[encoded data removed]",
      "text/plain": [
       "<Figure size 432x288 with 1 Axes>"
      ]
     },
     "metadata": {
      "needs_background": "light"
     },
     "output_type": "display_data"
    }
   ],
   "source": [
    "df1 = df[(df['group'] == 1) & (df['experiment group'] != \"no explanation\")][['name', 'experiment group', 'initial score', 1, 2, 3, 4, 5, 6, 7, 8]]\n",
    "df1['sum'] = df1.iloc[:, 3:].sum(axis = 1) / 8\n",
    "df2 = df[(df['group'] == 1) & (df['experiment group'] == \"no explanation\")][['name', 'experiment group', 'initial score', 1, 2, 3, 4, 5, 6, 7, 8]]\n",
    "df2['sum'] = df2.iloc[:, 3:].sum(axis = 1) / 8\n",
    "\n",
    "avg1 = np.mean(df1['sum'])\n",
    "avg2 = np.mean(df2['sum'])\n",
    "\n",
    "stderr1 = np.std(df1['sum']) / math.sqrt(len(df1))\n",
    "stderr2 = np.std(df2['sum']) / math.sqrt(len(df2))\n",
    "plt.bar(x=[0, 1], height=[avg1, avg2][::-1], yerr = [stderr1, stderr2][::-1], color = ['orange', 'grey'][::-1], tick_label = [\"Explained\", \"Not Explained\"][::-1])\n",
    "plt.ylim(0.7, 0.95)\n",
    "plt.title(\"Explanation vs No Explanation, Group 1, on 1-6, 7, 8\")"
   ]
  },
  {
   "cell_type": "code",
   "execution_count": 20,
   "metadata": {},
   "outputs": [
    {
     "data": {
      "text/plain": [
       "Text(0.5, 1.0, 'Explanation vs No Explanation, Group 2, on 1-6, 9, 10')"
      ]
     },
     "execution_count": 20,
     "metadata": {},
     "output_type": "execute_result"
    },
    {
     "data": {
      "image/png": "[encoded data removed]",
      "text/plain": [
       "<Figure size 432x288 with 1 Axes>"
      ]
     },
     "metadata": {
      "needs_background": "light"
     },
     "output_type": "display_data"
    }
   ],
   "source": [
    "df1 = df[(df['group'] == 2) & (df['experiment group'] != \"no explanation\")][['name', 'experiment group', 'initial score', 1, 2, 3, 4, 5, 6, 9, 10]]\n",
    "df1['sum'] = df1.iloc[:, 3:].sum(axis = 1) / 8\n",
    "df2 = df[(df['group'] == 2) & (df['experiment group'] == \"no explanation\")][['name', 'experiment group', 'initial score', 1, 2, 3, 4, 5, 6, 9, 10]]\n",
    "df2['sum'] = df2.iloc[:, 3:].sum(axis = 1) / 8\n",
    "\n",
    "avg1 = np.mean(df1['sum'])\n",
    "avg2 = np.mean(df2['sum'])\n",
    "\n",
    "stderr1 = np.std(df1['sum']) / math.sqrt(len(df1))\n",
    "stderr2 = np.std(df2['sum']) / math.sqrt(len(df2))\n",
    "plt.bar(x=[0, 1], height=[avg1, avg2][::-1], yerr = [stderr1, stderr2][::-1], color = ['orange', 'grey'][::-1], tick_label = [\"Explained\", \"Not Explained\"][::-1])\n",
    "plt.ylim(0.8, 1)\n",
    "plt.title(\"Explanation vs No Explanation, Group 2, on 1-6, 9, 10\")"
   ]
  },
  {
   "cell_type": "code",
   "execution_count": 21,
   "metadata": {},
   "outputs": [
    {
     "data": {
      "text/plain": [
       "Text(0.5, 1.0, 'Explanation vs No Explanation, Mistake type E (group 2 tank type), score on 1-6, 9, 10')"
      ]
     },
     "execution_count": 21,
     "metadata": {},
     "output_type": "execute_result"
    },
    {
     "data": {
      "image/png": "[encoded data removed]",
      "text/plain": [
       "<Figure size 432x288 with 1 Axes>"
      ]
     },
     "metadata": {
      "needs_background": "light"
     },
     "output_type": "display_data"
    }
   ],
   "source": [
    "df1 = df[(df['mistake type'] == CorrectionType.E) & (df['experiment group'] != \"no explanation\")][['name', 'experiment group', 'initial score', 1, 2, 3, 4, 5, 6, 9, 10]]\n",
    "df1['sum'] = df1.iloc[:, 3:].sum(axis = 1) / 8\n",
    "df2 = df[(df['mistake type'] == CorrectionType.E) & (df['experiment group'] == \"no explanation\")][['name', 'experiment group', 'initial score', 1, 2, 3, 4, 5, 6, 9, 10]]\n",
    "df2['sum'] = df2.iloc[:, 3:].sum(axis = 1) / 8\n",
    "\n",
    "avg1 = np.mean(df1['sum'])\n",
    "avg2 = np.mean(df2['sum'])\n",
    "\n",
    "stderr1 = np.std(df1['sum']) / math.sqrt(len(df1))\n",
    "stderr2 = np.std(df2['sum']) / math.sqrt(len(df2))\n",
    "plt.bar(x=[0, 1], height=[avg1, avg2][::-1], yerr = [stderr1, stderr2][::-1], color = ['orange', 'grey'][::-1], tick_label = [\"Explained\", \"Not Explained\"][::-1])\n",
    "plt.ylim(0.8, 1)\n",
    "plt.title(\"Explanation vs No Explanation, Mistake type E (group 2 tank type), score on 1-6, 9, 10\")"
   ]
  },
  {
   "cell_type": "code",
   "execution_count": 23,
   "metadata": {},
   "outputs": [
    {
     "data": {
      "text/plain": [
       "Text(0.5, 1.0, 'Explanation vs No Explanation, Mistake type E (group 2 tank type), #Mistakes of type E on 1-6, 9, 10')"
      ]
     },
     "execution_count": 23,
     "metadata": {},
     "output_type": "execute_result"
    },
    {
     "data": {
      "image/png": "[encoded data removed]",
      "text/plain": [
       "<Figure size 432x288 with 1 Axes>"
      ]
     },
     "metadata": {
      "needs_background": "light"
     },
     "output_type": "display_data"
    }
   ],
   "source": [
    "df1 = df[(df['mistake type'] == CorrectionType.E) & (df['experiment group'] != \"no explanation\")][['name', 'experiment group', 'initial score', 1, 2, 3, 4, 5, 6, 9, 10]]\n",
    "df2 = df[(df['mistake type'] == CorrectionType.E) & (df['experiment group'] == \"no explanation\")][['name', 'experiment group', 'initial score', 1, 2, 3, 4, 5, 6, 9, 10]]\n",
    "\n",
    "avg1 = np.mean([1, 0, 0])\n",
    "avg2 = np.mean([2, 1, 1, 2])\n",
    "stderr1 = np.std([1, 0, 0]) /  np.sqrt(3)\n",
    "stderr2 = np.mean([2, 1, 1, 2]) / np.sqrt(4)\n",
    "\n",
    "plt.bar(x=[0, 1], height=[avg1, avg2][::-1], yerr = [stderr1, stderr2][::-1], color = ['orange', 'grey'][::-1], tick_label = [\"Explained\", \"Not Explained\"][::-1])\n",
    "plt.ylim(0, 2.5)\n",
    "plt.title(\"Explanation vs No Explanation, Mistake type E (group 2 tank type), #Mistakes of type E on 1-6, 9, 10\")"
   ]
  },
  {
   "cell_type": "code",
   "execution_count": 24,
   "metadata": {},
   "outputs": [
    {
     "data": {
      "text/plain": [
       "Text(0.5, 1.0, 'Explanation vs No Explanation, Mistake type E (group 2 tank type), #Mistakes of group 2 on 1-6, 9, 10')"
      ]
     },
     "execution_count": 24,
     "metadata": {},
     "output_type": "execute_result"
    },
    {
     "data": {
      "image/png": "[encoded data removed]",
      "text/plain": [
       "<Figure size 432x288 with 1 Axes>"
      ]
     },
     "metadata": {
      "needs_background": "light"
     },
     "output_type": "display_data"
    }
   ],
   "source": [
    "df1 = df[(df['mistake type'] == CorrectionType.E) & (df['experiment group'] != \"no explanation\")][['name', 'experiment group', 'initial score', 1, 2, 3, 4, 5, 6, 9, 10]]\n",
    "df2 = df[(df['mistake type'] == CorrectionType.E) & (df['experiment group'] == \"no explanation\")][['name', 'experiment group', 'initial score', 1, 2, 3, 4, 5, 6, 9, 10]]\n",
    "\n",
    "avg1 = np.mean([2, 1, 1])\n",
    "avg2 = np.mean([3, 1, 3, 3])\n",
    "stderr1 = np.std([2, 1, 1]) /  np.sqrt(3)\n",
    "stderr2 = np.mean([3, 1, 3, 3]) / np.sqrt(4)\n",
    "\n",
    "plt.bar(x=[0, 1], height=[avg1, avg2][::-1], yerr = [stderr1, stderr2][::-1], color = ['orange', 'grey'][::-1], tick_label = [\"Explained\", \"Not Explained\"][::-1])\n",
    "plt.ylim(0.5, 4)\n",
    "plt.title(\"Explanation vs No Explanation, Mistake type E (group 2 tank type), #Mistakes of group 2 on 1-6, 9, 10\")"
   ]
  },
  {
   "cell_type": "code",
   "execution_count": 25,
   "metadata": {},
   "outputs": [
    {
     "data": {
      "text/plain": [
       "Text(0.5, 1.0, 'Explanation vs No Explanation, Mistake type A (group 1 surface type), on 1-6, 9, 10')"
      ]
     },
     "execution_count": 25,
     "metadata": {},
     "output_type": "execute_result"
    },
    {
     "data": {
      "image/png": "[encoded data removed]",
      "text/plain": [
       "<Figure size 432x288 with 1 Axes>"
      ]
     },
     "metadata": {
      "needs_background": "light"
     },
     "output_type": "display_data"
    }
   ],
   "source": [
    "df1 = df[(df['mistake type'] == CorrectionType.A) & (df['experiment group'] != \"no explanation\")][['name', 'experiment group', 'initial score', 1, 2, 3, 4, 5, 6, 7, 8]]\n",
    "df1['sum'] = df1.iloc[:, 3:].sum(axis = 1) / 8\n",
    "df2 = df[(df['mistake type'] == CorrectionType.A) & (df['experiment group'] == \"no explanation\")][['name', 'experiment group', 'initial score', 1, 2, 3, 4, 5, 6, 7, 8]]\n",
    "df2['sum'] = df2.iloc[:, 3:].sum(axis = 1) / 8\n",
    "\n",
    "avg1 = np.mean(df1['sum'])\n",
    "avg2 = np.mean(df2['sum'])\n",
    "\n",
    "stderr1 = np.std(df1['sum']) / math.sqrt(len(df1))\n",
    "stderr2 = np.std(df2['sum']) / math.sqrt(len(df2))\n",
    "plt.bar(x=[0, 1], height=[avg1, avg2][::-1], yerr = [stderr1, stderr2][::-1], color = ['orange', 'grey'][::-1], tick_label = [\"Explained\", \"Not Explained\"][::-1])\n",
    "plt.ylim(0.7, 0.95)\n",
    "plt.title(\"Explanation vs No Explanation, Mistake type A (group 1 surface type), on 1-6, 9, 10\")"
   ]
  },
  {
   "cell_type": "code",
   "execution_count": 26,
   "metadata": {},
   "outputs": [
    {
     "data": {
      "text/plain": [
       "Text(0.5, 1.0, 'Explanation vs No Explanation, Mistake type A (group 1 surface type), on 1-6, 9, 10')"
      ]
     },
     "execution_count": 26,
     "metadata": {},
     "output_type": "execute_result"
    },
    {
     "data": {
      "image/png": "[encoded data removed]",
      "text/plain": [
       "<Figure size 432x288 with 1 Axes>"
      ]
     },
     "metadata": {
      "needs_background": "light"
     },
     "output_type": "display_data"
    }
   ],
   "source": [
    "df1 = df[(df['mistake type'] == CorrectionType.A) & (df['experiment group'] != \"no explanation\")][['name', 'experiment group', 'initial score', 7, 8, 9, 10, 11, 12]]\n",
    "df1['sum'] = df1.iloc[:, 3:].sum(axis = 1) / 6\n",
    "df2 = df[(df['mistake type'] == CorrectionType.A) & (df['experiment group'] == \"no explanation\")][['name', 'experiment group', 'initial score', 7, 8, 9, 10, 11, 12]]\n",
    "df2['sum'] = df2.iloc[:, 3:].sum(axis = 1) / 6\n",
    "\n",
    "avg1 = np.mean(df1['sum'])\n",
    "avg2 = np.mean(df2['sum'])\n",
    "\n",
    "stderr1 = np.std(df1['sum']) / math.sqrt(len(df1))\n",
    "stderr2 = np.std(df2['sum']) / math.sqrt(len(df2))\n",
    "plt.bar(x=[0, 1], height=[avg1, avg2][::-1], yerr = [stderr1, stderr2][::-1], color = ['orange', 'grey'][::-1], tick_label = [\"Explained\", \"Not Explained\"][::-1])\n",
    "plt.ylim(0.7, 0.95)\n",
    "plt.title(\"Explanation vs No Explanation, Mistake type A (group 1 surface type), on 1-6, 9, 10\")"
   ]
  },
  {
   "cell_type": "code",
   "execution_count": 27,
   "metadata": {},
   "outputs": [
    {
     "data": {
      "text/plain": [
       "Text(0.5, 1.0, 'Explanation vs No Explanation, Mistake type A (group 2 surface type), #Mistakes of type A on 1-6, 9, 10')"
      ]
     },
     "execution_count": 27,
     "metadata": {},
     "output_type": "execute_result"
    },
    {
     "data": {
      "image/png": "[encoded data removed]",
      "text/plain": [
       "<Figure size 432x288 with 1 Axes>"
      ]
     },
     "metadata": {
      "needs_background": "light"
     },
     "output_type": "display_data"
    }
   ],
   "source": [
    "df1 = df[(df['mistake type'] == CorrectionType.E) & (df['experiment group'] != \"no explanation\")][['name', 'experiment group', 'initial score', 1, 2, 3, 4, 5, 6, 7, 8]]\n",
    "df2 = df[(df['mistake type'] == CorrectionType.E) & (df['experiment group'] == \"no explanation\")][['name', 'experiment group', 'initial score', 1, 2, 3, 4, 5, 6, 7, 8]]\n",
    "\n",
    "avg1 = np.mean([2, 1, 1])\n",
    "avg2 = np.mean([1, 1])\n",
    "stderr1 = np.std([2, 1, 1]) /  np.sqrt(3)\n",
    "stderr2 = np.mean([1, 1]) / np.sqrt(2)\n",
    "\n",
    "plt.bar(x=[0, 1], height=[avg1, avg2][::-1], yerr = [stderr1, stderr2][::-1], color = ['orange', 'grey'][::-1], tick_label = [\"Explained\", \"Not Explained\"][::-1])\n",
    "plt.ylim(0, 2.3)\n",
    "plt.title(\"Explanation vs No Explanation, Mistake type A (group 2 surface type), #Mistakes of type A on 1-6, 9, 10\")"
   ]
  },
  {
   "cell_type": "code",
   "execution_count": 28,
   "metadata": {},
   "outputs": [
    {
     "data": {
      "text/plain": [
       "Text(0.5, 1.0, 'Explanation vs No Explanation, Mistake type A (group 2 surface type), #Mistakes of type A on 1-6, 9, 10')"
      ]
     },
     "execution_count": 28,
     "metadata": {},
     "output_type": "execute_result"
    },
    {
     "data": {
      "image/png": "[encoded data removed]",
      "text/plain": [
       "<Figure size 432x288 with 1 Axes>"
      ]
     },
     "metadata": {
      "needs_background": "light"
     },
     "output_type": "display_data"
    }
   ],
   "source": [
    "df1 = df[(df['mistake type'] == CorrectionType.E) & (df['experiment group'] != \"no explanation\")][['name', 'experiment group', 'initial score', 1, 2, 3, 4, 5, 6, 7, 8]]\n",
    "df2 = df[(df['mistake type'] == CorrectionType.E) & (df['experiment group'] == \"no explanation\")][['name', 'experiment group', 'initial score', 1, 2, 3, 4, 5, 6, 7, 8]]\n",
    "\n",
    "avg1 = np.mean([3, 2, 2])\n",
    "avg2 = np.mean([4, 3])\n",
    "stderr1 = np.std([3, 2, 2]) /  np.sqrt(3)\n",
    "stderr2 = np.mean([4, 3]) / np.sqrt(2)\n",
    "\n",
    "plt.bar(x=[0, 1], height=[avg1, avg2][::-1], yerr = [stderr1, stderr2][::-1], color = ['orange', 'grey'][::-1], tick_label = [\"Explained\", \"Not Explained\"][::-1])\n",
    "plt.ylim(0, 6.1)\n",
    "plt.title(\"Explanation vs No Explanation, Mistake type A (group 2 surface type), #Mistakes of type A on 1-6, 9, 10\")"
   ]
  },
  {
   "cell_type": "code",
   "execution_count": 37,
   "metadata": {},
   "outputs": [
    {
     "data": {
      "text/plain": [
       "Text(0.5, 1.0, 'Long vs Short avg on 7-12 (General States)')"
      ]
     },
     "execution_count": 37,
     "metadata": {},
     "output_type": "execute_result"
    },
    {
     "data": {
      "image/png": "[encoded data removed]",
      "text/plain": [
       "<Figure size 432x288 with 1 Axes>"
      ]
     },
     "metadata": {
      "needs_background": "light"
     },
     "output_type": "display_data"
    }
   ],
   "source": [
    "df2 = df[(df['experiment group'] == \"long explanation\")]\n",
    "df3 = df[(df['experiment group'] == \"short explanation\")]\n",
    "avg1 = np.mean(df2['generalAverage'])\n",
    "avg2 = np.mean(df3['generalAverage'])\n",
    "stderr1 = np.std(df2['generalAverage']) / math.sqrt(len(df2))\n",
    "stderr2 = np.std(df3['generalAverage']) / math.sqrt(len(df3))\n",
    "plt.bar(x=[0, 1], height=[avg1, avg2], yerr = [stderr1, stderr2], color = ['orange', 'grey'][::-1], tick_label = [\"Long\", \"Short\"])\n",
    "plt.ylim(0.8, 0.95)\n",
    "plt.title(\"Long vs Short avg on 7-12 (General States)\")"
   ]
  },
  {
   "cell_type": "code",
   "execution_count": 38,
   "metadata": {},
   "outputs": [
    {
     "data": {
      "text/plain": [
       "Text(0.5, 1.0, 'Long vs Short, Group 1, avg on 7-12 (General States)')"
      ]
     },
     "execution_count": 38,
     "metadata": {},
     "output_type": "execute_result"
    },
    {
     "data": {
      "image/png": "[encoded data removed]",
      "text/plain": [
       "<Figure size 432x288 with 1 Axes>"
      ]
     },
     "metadata": {
      "needs_background": "light"
     },
     "output_type": "display_data"
    }
   ],
   "source": [
    "df2 = df[(df['group'] == 1) & ((df['experiment group'] == \"long explanation\"))]\n",
    "df3 = df[(df['group'] == 1) & (df['experiment group'] == \"short explanation\")]\n",
    "avg1 = np.mean(df2['generalAverage'])\n",
    "avg2 = np.mean(df3['generalAverage'])\n",
    "stderr1 = np.std(df2['generalAverage']) / math.sqrt(len(df2))\n",
    "stderr2 = np.std(df3['generalAverage']) / math.sqrt(len(df3))\n",
    "plt.bar(x=[0, 1], height=[avg1, avg2], yerr = [stderr1, stderr2], color = ['orange', 'grey'][::-1], tick_label = [\"Long\", \"Short\"])\n",
    "plt.ylim(0.8, 0.95)\n",
    "plt.title(\"Long vs Short, Group 1, avg on 7-12 (General States)\")"
   ]
  },
  {
   "cell_type": "code",
   "execution_count": 39,
   "metadata": {},
   "outputs": [
    {
     "data": {
      "text/plain": [
       "Text(0.5, 1.0, 'Long vs Short, Group2, on 7-12 (General States)')"
      ]
     },
     "execution_count": 39,
     "metadata": {},
     "output_type": "execute_result"
    },
    {
     "data": {
      "image/png": "[encoded data removed]",
      "text/plain": [
       "<Figure size 432x288 with 1 Axes>"
      ]
     },
     "metadata": {
      "needs_background": "light"
     },
     "output_type": "display_data"
    }
   ],
   "source": [
    "df2 = df[(df['group'] == 2) & ((df['experiment group'] == \"long explanation\"))]\n",
    "df3 = df[(df['group'] == 2) & (df['experiment group'] == \"short explanation\")]\n",
    "avg1 = np.mean(df2['generalAverage'])\n",
    "avg2 = np.mean(df3['generalAverage'])\n",
    "stderr1 = np.std(df2['generalAverage']) / math.sqrt(len(df2))\n",
    "stderr2 = np.std(df3['generalAverage']) / math.sqrt(len(df3))\n",
    "plt.bar(x=[0, 1], height=[avg1, avg2], yerr = [stderr1, stderr2], color = ['orange', 'grey'][::-1], tick_label = [\"Long\", \"Short Explained\"])\n",
    "plt.ylim(0.7, 0.95)\n",
    "plt.title(\"Long vs Short, Group2, on 7-12 (General States)\")"
   ]
  },
  {
   "cell_type": "code",
   "execution_count": 40,
   "metadata": {},
   "outputs": [
    {
     "data": {
      "text/plain": [
       "Text(0.5, 1.0, 'Long vs Short, Group 1, on 1-6, 7, 8')"
      ]
     },
     "execution_count": 40,
     "metadata": {},
     "output_type": "execute_result"
    },
    {
     "data": {
      "image/png": "[encoded data removed]",
      "text/plain": [
       "<Figure size 432x288 with 1 Axes>"
      ]
     },
     "metadata": {
      "needs_background": "light"
     },
     "output_type": "display_data"
    }
   ],
   "source": [
    "df1 = df[(df['group'] == 1) & (df['experiment group'] == \"long explanation\")][['name', 'experiment group', 'initial score', 1, 2, 3, 4, 5, 6, 7, 8]]\n",
    "df1['sum'] = df1.iloc[:, 3:].sum(axis = 1) / 8\n",
    "df2 = df[(df['group'] == 1) & (df['experiment group'] == \"short explanation\")][['name', 'experiment group', 'initial score', 1, 2, 3, 4, 5, 6, 7, 8]]\n",
    "df2['sum'] = df2.iloc[:, 3:].sum(axis = 1) / 8\n",
    "\n",
    "avg1 = np.mean(df1['sum'])\n",
    "avg2 = np.mean(df2['sum'])\n",
    "\n",
    "stderr1 = np.std(df1['sum']) / math.sqrt(len(df1))\n",
    "stderr2 = np.std(df2['sum']) / math.sqrt(len(df2))\n",
    "plt.bar(x=[0, 1], height=[avg1, avg2], yerr = [stderr1, stderr2], color = ['orange', 'grey'][::-1], tick_label = [\"Long\", \"Short\"])\n",
    "plt.ylim(0.7, 1)\n",
    "plt.title(\"Long vs Short, Group 1, on 1-6, 7, 8\")"
   ]
  },
  {
   "cell_type": "code",
   "execution_count": 47,
   "metadata": {},
   "outputs": [
    {
     "data": {
      "text/plain": [
       "Text(0.5, 1.0, 'Explanation vs No Explanation, Group 2, on 1-6, 9, 10')"
      ]
     },
     "execution_count": 47,
     "metadata": {},
     "output_type": "execute_result"
    },
    {
     "data": {
      "image/png": "[encoded data removed]",
      "text/plain": [
       "<Figure size 432x288 with 1 Axes>"
      ]
     },
     "metadata": {
      "needs_background": "light"
     },
     "output_type": "display_data"
    }
   ],
   "source": [
    "df1 = df[(df['group'] == 2) & (df['experiment group'] == \"long explanation\")][['name', 'experiment group', 'initial score', 1, 2, 3, 4, 5, 6, 9, 10]]\n",
    "df1['sum'] = df1.iloc[:, 3:].sum(axis = 1) / 8\n",
    "df2 = df[(df['group'] == 2) & (df['experiment group'] == \"short explanation\")][['name', 'experiment group', 'initial score', 1, 2, 3, 4, 5, 6, 9, 10]]\n",
    "df2['sum'] = df2.iloc[:, 3:].sum(axis = 1) / 8\n",
    "\n",
    "avg1 = np.mean(df1['sum'])\n",
    "avg2 = np.mean(df2['sum'])\n",
    "\n",
    "stderr1 = np.std(df1['sum']) / math.sqrt(len(df1))\n",
    "stderr2 = np.std(df2['sum']) / math.sqrt(len(df2))\n",
    "plt.bar(x=[0, 1], height=[avg1, avg2], yerr = [stderr1, stderr2], color = ['orange', 'grey'][::-1], tick_label = [\"Long\", \"Short\"])\n",
    "plt.ylim(0.8, 1)\n",
    "plt.title(\"Explanation vs No Explanation, Group 2, on 1-6, 9, 10\")"
   ]
  },
  {
   "cell_type": "code",
   "execution_count": 43,
   "metadata": {},
   "outputs": [
    {
     "data": {
      "text/plain": [
       "Text(0.5, 1.0, 'Expl vs No Expl, initial score')"
      ]
     },
     "execution_count": 43,
     "metadata": {},
     "output_type": "execute_result"
    },
    {
     "data": {
      "image/png": "[encoded data removed]",
      "text/plain": [
       "<Figure size 432x288 with 1 Axes>"
      ]
     },
     "metadata": {
      "needs_background": "light"
     },
     "output_type": "display_data"
    }
   ],
   "source": [
    "df1 = df[(df['experiment group'] != \"no explanation\")][['experiment group', 'initial score']]\n",
    "df2 = df[(df['experiment group'] == \"no explanation\")][['experiment group', 'initial score']]\n",
    "\n",
    "avg1 = np.mean(df1['initial score'])\n",
    "avg2 = np.mean(df2['initial score'])\n",
    "\n",
    "stderr1 = np.std(df1['initial score']) / math.sqrt(len(df1))\n",
    "stderr2 = np.std(df2['initial score']) / math.sqrt(len(df2))\n",
    "plt.bar(x=[0, 1], height=[avg1, avg2][::-1], yerr = [stderr1, stderr2][::-1], color = ['orange', 'grey'][::-1], tick_label = [\"Explained\", \"Not Explained\"][::-1])\n",
    "plt.ylim(50, 150)\n",
    "plt.title(\"Expl vs No Expl, initial score\")"
   ]
  },
  {
   "cell_type": "code",
   "execution_count": 44,
   "metadata": {},
   "outputs": [
    {
     "data": {
      "text/plain": [
       "Text(0.5, 1.0, 'Expl vs No Expl, group 1, initial score')"
      ]
     },
     "execution_count": 44,
     "metadata": {},
     "output_type": "execute_result"
    },
    {
     "data": {
      "image/png": "[encoded data removed]",
      "text/plain": [
       "<Figure size 432x288 with 1 Axes>"
      ]
     },
     "metadata": {
      "needs_background": "light"
     },
     "output_type": "display_data"
    }
   ],
   "source": [
    "df1 = df[(df['experiment group'] != \"no explanation\") & (df['group'] == 1) ][['experiment group', 'initial score']]\n",
    "df2 = df[(df['experiment group'] == \"no explanation\") & (df['group'] == 1)][['experiment group', 'initial score']]\n",
    "avg1 = np.mean(df1['initial score'])\n",
    "avg2 = np.mean(df2['initial score'])\n",
    "\n",
    "stderr1 = np.std(df1['initial score']) / math.sqrt(len(df1))\n",
    "stderr2 = np.std(df2['initial score']) / math.sqrt(len(df2))\n",
    "plt.bar(x=[0, 1], height=[avg1, avg2][::-1], yerr = [stderr1, stderr2][::-1], color = ['orange', 'grey'][::-1], tick_label = [\"Explained\", \"Not Explained\"][::-1])\n",
    "plt.ylim(0, 100)\n",
    "plt.title(\"Expl vs No Expl, group 1, initial score\")"
   ]
  },
  {
   "cell_type": "code",
   "execution_count": 45,
   "metadata": {
    "scrolled": true
   },
   "outputs": [
    {
     "data": {
      "text/plain": [
       "Text(0.5, 1.0, 'Expl vs No Expl, group 1, initial score')"
      ]
     },
     "execution_count": 45,
     "metadata": {},
     "output_type": "execute_result"
    },
    {
     "data": {
      "image/png": "[encoded data removed]",
      "text/plain": [
       "<Figure size 432x288 with 1 Axes>"
      ]
     },
     "metadata": {
      "needs_background": "light"
     },
     "output_type": "display_data"
    }
   ],
   "source": [
    "df1 = df[(df['experiment group'] != \"no explanation\") & (df['group'] == 2) ][['experiment group', 'initial score']]\n",
    "df2 = df[(df['experiment group'] == \"no explanation\") & (df['group'] == 2)][['experiment group', 'initial score']]\n",
    "avg1 = np.mean(df1['initial score'])\n",
    "avg2 = np.mean(df2['initial score'])\n",
    "\n",
    "stderr1 = np.std(df1['initial score']) / math.sqrt(len(df1))\n",
    "stderr2 = np.std(df2['initial score']) / math.sqrt(len(df2))\n",
    "plt.bar(x=[0, 1], height=[avg1, avg2][::-1], yerr = [stderr1, stderr2][::-1], color = ['orange', 'grey'][::-1], tick_label = [\"Explained\", \"Not Explained\"][::-1])\n",
    "plt.ylim(0, 300)\n",
    "plt.title(\"Expl vs No Expl, group 1, initial score\")"
   ]
  },
  {
   "cell_type": "code",
   "execution_count": 46,
   "metadata": {},
   "outputs": [
    {
     "ename": "KeyError",
     "evalue": "'initperf'",
     "output_type": "error",
     "traceback": [
      "\u001b[1;31m---------------------------------------------------------------------------\u001b[0m",
      "\u001b[1;31mKeyError\u001b[0m                                  Traceback (most recent call last)",
      "\u001b[1;32mC:\\ProgramData\\Anaconda3\\lib\\site-packages\\pandas\\core\\indexes\\base.py\u001b[0m in \u001b[0;36mget_loc\u001b[1;34m(self, key, method, tolerance)\u001b[0m\n\u001b[0;32m   3077\u001b[0m             \u001b[1;32mtry\u001b[0m\u001b[1;33m:\u001b[0m\u001b[1;33m\u001b[0m\u001b[1;33m\u001b[0m\u001b[0m\n\u001b[1;32m-> 3078\u001b[1;33m                 \u001b[1;32mreturn\u001b[0m \u001b[0mself\u001b[0m\u001b[1;33m.\u001b[0m\u001b[0m_engine\u001b[0m\u001b[1;33m.\u001b[0m\u001b[0mget_loc\u001b[0m\u001b[1;33m(\u001b[0m\u001b[0mkey\u001b[0m\u001b[1;33m)\u001b[0m\u001b[1;33m\u001b[0m\u001b[1;33m\u001b[0m\u001b[0m\n\u001b[0m\u001b[0;32m   3079\u001b[0m             \u001b[1;32mexcept\u001b[0m \u001b[0mKeyError\u001b[0m\u001b[1;33m:\u001b[0m\u001b[1;33m\u001b[0m\u001b[1;33m\u001b[0m\u001b[0m\n",
      "\u001b[1;32mpandas\\_libs\\index.pyx\u001b[0m in \u001b[0;36mpandas._libs.index.IndexEngine.get_loc\u001b[1;34m()\u001b[0m\n",
      "\u001b[1;32mpandas\\_libs\\index.pyx\u001b[0m in \u001b[0;36mpandas._libs.index.IndexEngine.get_loc\u001b[1;34m()\u001b[0m\n",
      "\u001b[1;32mpandas\\_libs\\hashtable_class_helper.pxi\u001b[0m in \u001b[0;36mpandas._libs.hashtable.PyObjectHashTable.get_item\u001b[1;34m()\u001b[0m\n",
      "\u001b[1;32mpandas\\_libs\\hashtable_class_helper.pxi\u001b[0m in \u001b[0;36mpandas._libs.hashtable.PyObjectHashTable.get_item\u001b[1;34m()\u001b[0m\n",
      "\u001b[1;31mKeyError\u001b[0m: 'initperf'",
      "\nDuring handling of the above exception, another exception occurred:\n",
      "\u001b[1;31mKeyError\u001b[0m                                  Traceback (most recent call last)",
      "\u001b[1;32m<ipython-input-46-3c64d3ef7e6f>\u001b[0m in \u001b[0;36m<module>\u001b[1;34m\u001b[0m\n\u001b[0;32m      1\u001b[0m \u001b[0mdf2\u001b[0m \u001b[1;33m=\u001b[0m \u001b[0mdf\u001b[0m\u001b[1;33m[\u001b[0m\u001b[1;33m(\u001b[0m\u001b[0mdf\u001b[0m\u001b[1;33m[\u001b[0m\u001b[1;34m'experiment group'\u001b[0m\u001b[1;33m]\u001b[0m \u001b[1;33m==\u001b[0m \u001b[1;34m\"long explanation\"\u001b[0m\u001b[1;33m)\u001b[0m \u001b[1;33m|\u001b[0m \u001b[1;33m(\u001b[0m\u001b[0mdf\u001b[0m\u001b[1;33m[\u001b[0m\u001b[1;34m'experiment group'\u001b[0m\u001b[1;33m]\u001b[0m \u001b[1;33m==\u001b[0m \u001b[1;34m\"short explanation\"\u001b[0m\u001b[1;33m)\u001b[0m\u001b[1;33m]\u001b[0m\u001b[1;33m\u001b[0m\u001b[1;33m\u001b[0m\u001b[0m\n\u001b[0;32m      2\u001b[0m \u001b[0mdf3\u001b[0m \u001b[1;33m=\u001b[0m \u001b[0mdf\u001b[0m\u001b[1;33m[\u001b[0m\u001b[1;33m(\u001b[0m\u001b[0mdf\u001b[0m\u001b[1;33m[\u001b[0m\u001b[1;34m'experiment group'\u001b[0m\u001b[1;33m]\u001b[0m \u001b[1;33m==\u001b[0m \u001b[1;34m\"no explanation\"\u001b[0m\u001b[1;33m)\u001b[0m\u001b[1;33m]\u001b[0m\u001b[1;33m\u001b[0m\u001b[1;33m\u001b[0m\u001b[0m\n\u001b[1;32m----> 3\u001b[1;33m \u001b[0mavg1\u001b[0m \u001b[1;33m=\u001b[0m \u001b[0mnp\u001b[0m\u001b[1;33m.\u001b[0m\u001b[0mmean\u001b[0m\u001b[1;33m(\u001b[0m\u001b[0mdf2\u001b[0m\u001b[1;33m[\u001b[0m\u001b[1;34m'initperf'\u001b[0m\u001b[1;33m]\u001b[0m\u001b[1;33m)\u001b[0m\u001b[1;33m\u001b[0m\u001b[1;33m\u001b[0m\u001b[0m\n\u001b[0m\u001b[0;32m      4\u001b[0m \u001b[0mavg2\u001b[0m \u001b[1;33m=\u001b[0m \u001b[0mnp\u001b[0m\u001b[1;33m.\u001b[0m\u001b[0mmean\u001b[0m\u001b[1;33m(\u001b[0m\u001b[0mdf3\u001b[0m\u001b[1;33m[\u001b[0m\u001b[1;34m'initperf'\u001b[0m\u001b[1;33m]\u001b[0m\u001b[1;33m)\u001b[0m\u001b[1;33m\u001b[0m\u001b[1;33m\u001b[0m\u001b[0m\n\u001b[0;32m      5\u001b[0m \u001b[0mstderr1\u001b[0m \u001b[1;33m=\u001b[0m \u001b[0mnp\u001b[0m\u001b[1;33m.\u001b[0m\u001b[0mstd\u001b[0m\u001b[1;33m(\u001b[0m\u001b[0mdf2\u001b[0m\u001b[1;33m[\u001b[0m\u001b[1;34m'initperf'\u001b[0m\u001b[1;33m]\u001b[0m\u001b[1;33m)\u001b[0m \u001b[1;33m/\u001b[0m \u001b[0mmath\u001b[0m\u001b[1;33m.\u001b[0m\u001b[0msqrt\u001b[0m\u001b[1;33m(\u001b[0m\u001b[0mlen\u001b[0m\u001b[1;33m(\u001b[0m\u001b[0mdf2\u001b[0m\u001b[1;33m)\u001b[0m\u001b[1;33m)\u001b[0m\u001b[1;33m\u001b[0m\u001b[1;33m\u001b[0m\u001b[0m\n",
      "\u001b[1;32mC:\\ProgramData\\Anaconda3\\lib\\site-packages\\pandas\\core\\frame.py\u001b[0m in \u001b[0;36m__getitem__\u001b[1;34m(self, key)\u001b[0m\n\u001b[0;32m   2686\u001b[0m             \u001b[1;32mreturn\u001b[0m \u001b[0mself\u001b[0m\u001b[1;33m.\u001b[0m\u001b[0m_getitem_multilevel\u001b[0m\u001b[1;33m(\u001b[0m\u001b[0mkey\u001b[0m\u001b[1;33m)\u001b[0m\u001b[1;33m\u001b[0m\u001b[1;33m\u001b[0m\u001b[0m\n\u001b[0;32m   2687\u001b[0m         \u001b[1;32melse\u001b[0m\u001b[1;33m:\u001b[0m\u001b[1;33m\u001b[0m\u001b[1;33m\u001b[0m\u001b[0m\n\u001b[1;32m-> 2688\u001b[1;33m             \u001b[1;32mreturn\u001b[0m \u001b[0mself\u001b[0m\u001b[1;33m.\u001b[0m\u001b[0m_getitem_column\u001b[0m\u001b[1;33m(\u001b[0m\u001b[0mkey\u001b[0m\u001b[1;33m)\u001b[0m\u001b[1;33m\u001b[0m\u001b[1;33m\u001b[0m\u001b[0m\n\u001b[0m\u001b[0;32m   2689\u001b[0m \u001b[1;33m\u001b[0m\u001b[0m\n\u001b[0;32m   2690\u001b[0m     \u001b[1;32mdef\u001b[0m \u001b[0m_getitem_column\u001b[0m\u001b[1;33m(\u001b[0m\u001b[0mself\u001b[0m\u001b[1;33m,\u001b[0m \u001b[0mkey\u001b[0m\u001b[1;33m)\u001b[0m\u001b[1;33m:\u001b[0m\u001b[1;33m\u001b[0m\u001b[1;33m\u001b[0m\u001b[0m\n",
      "\u001b[1;32mC:\\ProgramData\\Anaconda3\\lib\\site-packages\\pandas\\core\\frame.py\u001b[0m in \u001b[0;36m_getitem_column\u001b[1;34m(self, key)\u001b[0m\n\u001b[0;32m   2693\u001b[0m         \u001b[1;31m# get column\u001b[0m\u001b[1;33m\u001b[0m\u001b[1;33m\u001b[0m\u001b[1;33m\u001b[0m\u001b[0m\n\u001b[0;32m   2694\u001b[0m         \u001b[1;32mif\u001b[0m \u001b[0mself\u001b[0m\u001b[1;33m.\u001b[0m\u001b[0mcolumns\u001b[0m\u001b[1;33m.\u001b[0m\u001b[0mis_unique\u001b[0m\u001b[1;33m:\u001b[0m\u001b[1;33m\u001b[0m\u001b[1;33m\u001b[0m\u001b[0m\n\u001b[1;32m-> 2695\u001b[1;33m             \u001b[1;32mreturn\u001b[0m \u001b[0mself\u001b[0m\u001b[1;33m.\u001b[0m\u001b[0m_get_item_cache\u001b[0m\u001b[1;33m(\u001b[0m\u001b[0mkey\u001b[0m\u001b[1;33m)\u001b[0m\u001b[1;33m\u001b[0m\u001b[1;33m\u001b[0m\u001b[0m\n\u001b[0m\u001b[0;32m   2696\u001b[0m \u001b[1;33m\u001b[0m\u001b[0m\n\u001b[0;32m   2697\u001b[0m         \u001b[1;31m# duplicate columns & possible reduce dimensionality\u001b[0m\u001b[1;33m\u001b[0m\u001b[1;33m\u001b[0m\u001b[1;33m\u001b[0m\u001b[0m\n",
      "\u001b[1;32mC:\\ProgramData\\Anaconda3\\lib\\site-packages\\pandas\\core\\generic.py\u001b[0m in \u001b[0;36m_get_item_cache\u001b[1;34m(self, item)\u001b[0m\n\u001b[0;32m   2487\u001b[0m         \u001b[0mres\u001b[0m \u001b[1;33m=\u001b[0m \u001b[0mcache\u001b[0m\u001b[1;33m.\u001b[0m\u001b[0mget\u001b[0m\u001b[1;33m(\u001b[0m\u001b[0mitem\u001b[0m\u001b[1;33m)\u001b[0m\u001b[1;33m\u001b[0m\u001b[1;33m\u001b[0m\u001b[0m\n\u001b[0;32m   2488\u001b[0m         \u001b[1;32mif\u001b[0m \u001b[0mres\u001b[0m \u001b[1;32mis\u001b[0m \u001b[1;32mNone\u001b[0m\u001b[1;33m:\u001b[0m\u001b[1;33m\u001b[0m\u001b[1;33m\u001b[0m\u001b[0m\n\u001b[1;32m-> 2489\u001b[1;33m             \u001b[0mvalues\u001b[0m \u001b[1;33m=\u001b[0m \u001b[0mself\u001b[0m\u001b[1;33m.\u001b[0m\u001b[0m_data\u001b[0m\u001b[1;33m.\u001b[0m\u001b[0mget\u001b[0m\u001b[1;33m(\u001b[0m\u001b[0mitem\u001b[0m\u001b[1;33m)\u001b[0m\u001b[1;33m\u001b[0m\u001b[1;33m\u001b[0m\u001b[0m\n\u001b[0m\u001b[0;32m   2490\u001b[0m             \u001b[0mres\u001b[0m \u001b[1;33m=\u001b[0m \u001b[0mself\u001b[0m\u001b[1;33m.\u001b[0m\u001b[0m_box_item_values\u001b[0m\u001b[1;33m(\u001b[0m\u001b[0mitem\u001b[0m\u001b[1;33m,\u001b[0m \u001b[0mvalues\u001b[0m\u001b[1;33m)\u001b[0m\u001b[1;33m\u001b[0m\u001b[1;33m\u001b[0m\u001b[0m\n\u001b[0;32m   2491\u001b[0m             \u001b[0mcache\u001b[0m\u001b[1;33m[\u001b[0m\u001b[0mitem\u001b[0m\u001b[1;33m]\u001b[0m \u001b[1;33m=\u001b[0m \u001b[0mres\u001b[0m\u001b[1;33m\u001b[0m\u001b[1;33m\u001b[0m\u001b[0m\n",
      "\u001b[1;32mC:\\ProgramData\\Anaconda3\\lib\\site-packages\\pandas\\core\\internals.py\u001b[0m in \u001b[0;36mget\u001b[1;34m(self, item, fastpath)\u001b[0m\n\u001b[0;32m   4113\u001b[0m \u001b[1;33m\u001b[0m\u001b[0m\n\u001b[0;32m   4114\u001b[0m             \u001b[1;32mif\u001b[0m \u001b[1;32mnot\u001b[0m \u001b[0misna\u001b[0m\u001b[1;33m(\u001b[0m\u001b[0mitem\u001b[0m\u001b[1;33m)\u001b[0m\u001b[1;33m:\u001b[0m\u001b[1;33m\u001b[0m\u001b[1;33m\u001b[0m\u001b[0m\n\u001b[1;32m-> 4115\u001b[1;33m                 \u001b[0mloc\u001b[0m \u001b[1;33m=\u001b[0m \u001b[0mself\u001b[0m\u001b[1;33m.\u001b[0m\u001b[0mitems\u001b[0m\u001b[1;33m.\u001b[0m\u001b[0mget_loc\u001b[0m\u001b[1;33m(\u001b[0m\u001b[0mitem\u001b[0m\u001b[1;33m)\u001b[0m\u001b[1;33m\u001b[0m\u001b[1;33m\u001b[0m\u001b[0m\n\u001b[0m\u001b[0;32m   4116\u001b[0m             \u001b[1;32melse\u001b[0m\u001b[1;33m:\u001b[0m\u001b[1;33m\u001b[0m\u001b[1;33m\u001b[0m\u001b[0m\n\u001b[0;32m   4117\u001b[0m                 \u001b[0mindexer\u001b[0m \u001b[1;33m=\u001b[0m \u001b[0mnp\u001b[0m\u001b[1;33m.\u001b[0m\u001b[0marange\u001b[0m\u001b[1;33m(\u001b[0m\u001b[0mlen\u001b[0m\u001b[1;33m(\u001b[0m\u001b[0mself\u001b[0m\u001b[1;33m.\u001b[0m\u001b[0mitems\u001b[0m\u001b[1;33m)\u001b[0m\u001b[1;33m)\u001b[0m\u001b[1;33m[\u001b[0m\u001b[0misna\u001b[0m\u001b[1;33m(\u001b[0m\u001b[0mself\u001b[0m\u001b[1;33m.\u001b[0m\u001b[0mitems\u001b[0m\u001b[1;33m)\u001b[0m\u001b[1;33m]\u001b[0m\u001b[1;33m\u001b[0m\u001b[1;33m\u001b[0m\u001b[0m\n",
      "\u001b[1;32mC:\\ProgramData\\Anaconda3\\lib\\site-packages\\pandas\\core\\indexes\\base.py\u001b[0m in \u001b[0;36mget_loc\u001b[1;34m(self, key, method, tolerance)\u001b[0m\n\u001b[0;32m   3078\u001b[0m                 \u001b[1;32mreturn\u001b[0m \u001b[0mself\u001b[0m\u001b[1;33m.\u001b[0m\u001b[0m_engine\u001b[0m\u001b[1;33m.\u001b[0m\u001b[0mget_loc\u001b[0m\u001b[1;33m(\u001b[0m\u001b[0mkey\u001b[0m\u001b[1;33m)\u001b[0m\u001b[1;33m\u001b[0m\u001b[1;33m\u001b[0m\u001b[0m\n\u001b[0;32m   3079\u001b[0m             \u001b[1;32mexcept\u001b[0m \u001b[0mKeyError\u001b[0m\u001b[1;33m:\u001b[0m\u001b[1;33m\u001b[0m\u001b[1;33m\u001b[0m\u001b[0m\n\u001b[1;32m-> 3080\u001b[1;33m                 \u001b[1;32mreturn\u001b[0m \u001b[0mself\u001b[0m\u001b[1;33m.\u001b[0m\u001b[0m_engine\u001b[0m\u001b[1;33m.\u001b[0m\u001b[0mget_loc\u001b[0m\u001b[1;33m(\u001b[0m\u001b[0mself\u001b[0m\u001b[1;33m.\u001b[0m\u001b[0m_maybe_cast_indexer\u001b[0m\u001b[1;33m(\u001b[0m\u001b[0mkey\u001b[0m\u001b[1;33m)\u001b[0m\u001b[1;33m)\u001b[0m\u001b[1;33m\u001b[0m\u001b[1;33m\u001b[0m\u001b[0m\n\u001b[0m\u001b[0;32m   3081\u001b[0m \u001b[1;33m\u001b[0m\u001b[0m\n\u001b[0;32m   3082\u001b[0m         \u001b[0mindexer\u001b[0m \u001b[1;33m=\u001b[0m \u001b[0mself\u001b[0m\u001b[1;33m.\u001b[0m\u001b[0mget_indexer\u001b[0m\u001b[1;33m(\u001b[0m\u001b[1;33m[\u001b[0m\u001b[0mkey\u001b[0m\u001b[1;33m]\u001b[0m\u001b[1;33m,\u001b[0m \u001b[0mmethod\u001b[0m\u001b[1;33m=\u001b[0m\u001b[0mmethod\u001b[0m\u001b[1;33m,\u001b[0m \u001b[0mtolerance\u001b[0m\u001b[1;33m=\u001b[0m\u001b[0mtolerance\u001b[0m\u001b[1;33m)\u001b[0m\u001b[1;33m\u001b[0m\u001b[1;33m\u001b[0m\u001b[0m\n",
      "\u001b[1;32mpandas\\_libs\\index.pyx\u001b[0m in \u001b[0;36mpandas._libs.index.IndexEngine.get_loc\u001b[1;34m()\u001b[0m\n",
      "\u001b[1;32mpandas\\_libs\\index.pyx\u001b[0m in \u001b[0;36mpandas._libs.index.IndexEngine.get_loc\u001b[1;34m()\u001b[0m\n",
      "\u001b[1;32mpandas\\_libs\\hashtable_class_helper.pxi\u001b[0m in \u001b[0;36mpandas._libs.hashtable.PyObjectHashTable.get_item\u001b[1;34m()\u001b[0m\n",
      "\u001b[1;32mpandas\\_libs\\hashtable_class_helper.pxi\u001b[0m in \u001b[0;36mpandas._libs.hashtable.PyObjectHashTable.get_item\u001b[1;34m()\u001b[0m\n",
      "\u001b[1;31mKeyError\u001b[0m: 'initperf'"
     ]
    }
   ],
   "source": [
    "df2 = df[(df['experiment group'] == \"long explanation\") | (df['experiment group'] == \"short explanation\")]\n",
    "df3 = df[(df['experiment group'] == \"no explanation\")]\n",
    "avg1 = np.mean(df2['initperf'])\n",
    "avg2 = np.mean(df3['initperf'])\n",
    "stderr1 = np.std(df2['initperf']) / math.sqrt(len(df2))\n",
    "stderr2 = np.std(df3['initperf']) / math.sqrt(len(df3))\n",
    "plt.bar(x=[0, 1], height=[avg1, avg2][::-1], yerr = [stderr1, stderr2][::-1], color = ['orange', 'grey'][::-1], tick_label = [\"Explained\", \"Not Explained\"][::-1])\n",
    "plt.ylim(0.8, 0.92)\n",
    "plt.title(\"Explanation vs No Explanation initial performance\")"
   ]
  },
  {
   "cell_type": "code",
   "execution_count": 40,
   "metadata": {},
   "outputs": [
    {
     "data": {
      "text/plain": [
       "Text(0.5, 1.0, 'Explanation vs No Explanation, Group 1, initial performance')"
      ]
     },
     "execution_count": 40,
     "metadata": {},
     "output_type": "execute_result"
    },
    {
     "data": {
      "image/png": "[encoded data removed]",
      "text/plain": [
       "<Figure size 432x288 with 1 Axes>"
      ]
     },
     "metadata": {
      "needs_background": "light"
     },
     "output_type": "display_data"
    }
   ],
   "source": [
    "df2 = df[(df['group'] == 1) & ((df['experiment group'] == \"long explanation\") | (df['experiment group'] == \"short explanation\"))]\n",
    "df3 = df[(df['group'] == 1) & (df['experiment group'] == \"no explanation\")]\n",
    "avg1 = np.mean(df2['initperf'])\n",
    "avg2 = np.mean(df3['initperf'])\n",
    "stderr1 = np.std(df2['initperf']) / math.sqrt(len(df2))\n",
    "stderr2 = np.std(df3['initperf']) / math.sqrt(len(df3))\n",
    "plt.bar(x=[0, 1], height=[avg1, avg2], yerr = [stderr1, stderr2], color = ['orange', 'grey'], tick_label = [\"Explained\", \"Not Explained\"])\n",
    "plt.ylim(0.7, 0.95)\n",
    "plt.ylabel(\"initial average performance\")\n",
    "plt.title(\"Explanation vs No Explanation, Group 1, initial performance\")"
   ]
  },
  {
   "cell_type": "code",
   "execution_count": 41,
   "metadata": {},
   "outputs": [
    {
     "data": {
      "text/plain": [
       "Text(0.5, 1.0, 'Long vs Short on initial performance')"
      ]
     },
     "execution_count": 41,
     "metadata": {},
     "output_type": "execute_result"
    },
    {
     "data": {
      "image/png": "[encoded data removed]",
      "text/plain": [
       "<Figure size 432x288 with 1 Axes>"
      ]
     },
     "metadata": {
      "needs_background": "light"
     },
     "output_type": "display_data"
    }
   ],
   "source": [
    "df2 = df[(df['experiment group'] == \"long explanation\")]\n",
    "df3 = df[(df['experiment group'] == \"short explanation\")]\n",
    "avg1 = np.mean(df2['initperf'])\n",
    "avg2 = np.mean(df3['initperf'])\n",
    "stderr1 = np.std(df2['initperf']) / math.sqrt(len(df2))\n",
    "stderr2 = np.std(df3['initperf']) / math.sqrt(len(df3))\n",
    "plt.bar(x=[0, 1], height=[avg1, avg2], yerr = [stderr1, stderr2], color = ['orange', 'grey'], tick_label = [\"Long\", \"Short\"])\n",
    "plt.ylim(0.8, 0.95)\n",
    "plt.ylabel(\"initial average performance\")\n",
    "plt.title(\"Long vs Short on initial performance\")"
   ]
  },
  {
   "cell_type": "code",
   "execution_count": null,
   "metadata": {},
   "outputs": [],
   "source": []
  }
 ],
 "metadata": {
  "kernelspec": {
   "display_name": "Python 3",
   "language": "python",
   "name": "python3"
  },
  "language_info": {
   "codemirror_mode": {
    "name": "ipython",
    "version": 3
   },
   "file_extension": ".py",
   "mimetype": "text/x-python",
   "name": "python",
   "nbconvert_exporter": "python",
   "pygments_lexer": "ipython3",
   "version": "3.7.1"
  }
 },
 "nbformat": 4,
 "nbformat_minor": 2
}
