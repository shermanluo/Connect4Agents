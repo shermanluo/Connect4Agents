{
 "cells": [
  {
   "cell_type": "code",
   "execution_count": 1,
   "metadata": {},
   "outputs": [],
   "source": [
    "from divegame import diveGame, zeroBoard\n",
    "import pickle\n",
    "from fatal_flaw import fatalFlaw, getActions\n",
    "import pdb\n",
    "from softmaxExplain import findStates2\n",
    "from datetime import datetime\n",
    "import random\n",
    "import pandas\n",
    "from experiment import reconstructStates\n",
    "import numpy as np\n",
    "import math\n",
    "from categorize import categorize\n",
    "from matplotlib import pyplot as plt"
   ]
  },
  {
   "cell_type": "code",
   "execution_count": 15,
   "metadata": {},
   "outputs": [],
   "source": [
    "vvalues = {}\n",
    "for state, action in qvalues.keys():\n",
    "    if state in vvalues:\n",
    "        vvalues[state] = max(vvalues[state], qvalues[(state, action)][1])\n",
    "    else:\n",
    "        vvalues[state] = qvalues[(state, action)][1]"
   ]
  },
  {
   "cell_type": "code",
   "execution_count": 27,
   "metadata": {},
   "outputs": [
    {
     "name": "stdout",
     "output_type": "stream",
     "text": [
      "0.7045044612612039\n",
      "0.9447095748296049\n",
      "0.8263074257822944\n",
      "0.8350130521001627\n",
      "0.9443396960351199\n",
      "0.8673858191285975\n",
      "0.8272220171444977\n",
      "0.9443396960351199\n",
      "0.9443396960351199\n",
      "0.7673297522620146\n",
      "0.8662976641596297\n",
      "0.7050816450611253\n",
      "0.8551558028395988\n",
      "0.9286391042204996\n",
      "0.8917609563802361\n",
      "0.9606404577334811\n",
      "0.8628106927525532\n",
      "0.875573532686719\n",
      "0.9443396960351199\n",
      "0.9262238369625511\n"
     ]
    }
   ],
   "source": [
    "\n",
    "\n",
    "\n",
    "\n",
    "def process(name, expgroup):\n",
    "    f = open(\"playdata/\" + name, \"rb\")\n",
    "    data = pickle.load(f)\n",
    "    length = 0\n",
    "    total = 0\n",
    "    for i in range(len(data['playthrough'][1][0][:-1])):\n",
    "        state = data['playthrough'][1][0][:-1][i]\n",
    "        action = data['playthrough'][1][1][i]\n",
    "        if vvalues[state] > 0 :\n",
    "            total += qvalues[(state, action)][1] / vvalues[state]\n",
    "            length += 1\n",
    "    \n",
    "    print(total / length)\n",
    "    \n",
    "\n",
    "process(\"calvin\", \"short explanation\")\n",
    "process(\"raymond\", \"short explanation\")\n",
    "#process(\"kenneth\", \"short explanation\")\n",
    "process(\"sam\", \"short explanation\")\n",
    "process(\"stanley\", \"short explanation\")\n",
    "process(\"arvin\", \"short explanation\")\n",
    "process(\"hong\", \"short explanation\")\n",
    "\n",
    "\n",
    "\n",
    "process(\"aayush\", \"long explanation\")\n",
    "process(\"karthik\", \"long explanation\")\n",
    "process(\"nadir\", \"long explanation\")\n",
    "#process(\"rustie\", \"long explanation\")\n",
    "process(\"andy\", \"long explanation\")\n",
    "process(\"gokul\", \"long explanation\")\n",
    "\n",
    "\n",
    "process(\"jonny\", \"no explanation\")\n",
    "process(\"alex\", \"no explanation\")\n",
    "process(\"ket\", \"no explanation\")\n",
    "process(\"charlie\", \"no explanation\")\n",
    "process(\"aakash\", \"no explanation\")\n",
    "process(\"neel\", \"no explanation\")\n",
    "process(\"kartik\", \"no explanation\")\n",
    "process(\"sera\", \"no explanation\")\n",
    "process(\"jinsu\", \"no explanation\")\n"
   ]
  },
  {
   "cell_type": "code",
   "execution_count": 24,
   "metadata": {},
   "outputs": [],
   "source": [
    "f = open(\"playthrough values\", 'wb')\n",
    "pickle.dump((qvalues, vvalues), f)\n",
    "f.close()"
   ]
  },
  {
   "cell_type": "code",
   "execution_count": null,
   "metadata": {},
   "outputs": [],
   "source": []
  }
 ],
 "metadata": {
  "kernelspec": {
   "display_name": "Python 3",
   "language": "python",
   "name": "python3"
  },
  "language_info": {
   "codemirror_mode": {
    "name": "ipython",
    "version": 3
   },
   "file_extension": ".py",
   "mimetype": "text/x-python",
   "name": "python",
   "nbconvert_exporter": "python",
   "pygments_lexer": "ipython3",
   "version": "3.7.1"
  }
 },
 "nbformat": 4,
 "nbformat_minor": 2
}
