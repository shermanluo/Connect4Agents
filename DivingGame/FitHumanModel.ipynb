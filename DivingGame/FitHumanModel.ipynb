{
 "cells": [
  {
   "cell_type": "code",
   "execution_count": 2,
   "metadata": {},
   "outputs": [],
   "source": [
    "import m2\n",
    "import numpy as np\n",
    "import pickle\n",
    "from Agent import MaxAgent\n",
    "import math\n",
    "\n"
   ]
  },
  {
   "cell_type": "code",
   "execution_count": 25,
   "metadata": {},
   "outputs": [
    {
     "name": "stdout",
     "output_type": "stream",
     "text": [
      "[(Cash: 0, (1, 5, 'move')), (Cash: 0, (3, 9, 'move')), (Cash: 0, (3, 2, 'move')), (Cash: 0, (0, 0, 'move')), (Cash: 47, (45, 45, 'tank')), (Cash: 2, (19, 2, 'move')), (Cash: 2, (0, 0, 'move')), (Cash: 153, (None, None, 'exit'))]\n"
     ]
    },
    {
     "data": {
      "text/plain": [
       "[(Cash: 0, (1, 5, 'move')),\n",
       " (Cash: 0, (3, 9, 'move')),\n",
       " (Cash: 0, (3, 2, 'move')),\n",
       " (Cash: 0, (0, 0, 'move')),\n",
       " (Cash: 47, (45, 45, 'tank')),\n",
       " (Cash: 2, (19, 2, 'move')),\n",
       " (Cash: 2, (0, 0, 'move')),\n",
       " (Cash: 153, (None, None, 'exit')),\n",
       " (Cash: 0, (3, 2, 'move')),\n",
       " (Cash: 0, (4, 5, 'move')),\n",
       " (Cash: 0, (3, 7, 'move')),\n",
       " (Cash: 0, (5, 9, 'move')),\n",
       " (Cash: 0, (0, 9, 'move')),\n",
       " (Cash: 62, (11, 9, 'move')),\n",
       " (Cash: 62, (0, 9, 'move')),\n",
       " (Cash: 91, (45, 45, 'tank')),\n",
       " (Cash: 46, (9, 6, 'move')),\n",
       " (Cash: 46, (13, 4, 'move')),\n",
       " (Cash: 46, (10, 2, 'move')),\n",
       " (Cash: 46, (8, 1, 'move')),\n",
       " (Cash: 46, (0, 0, 'move')),\n",
       " (Cash: 183, (None, None, 'exit')),\n",
       " (Cash: 0, (4, 5, 'move')),\n",
       " (Cash: 0, (0, 9, 'move')),\n",
       " (Cash: 15, (0, 0, 'move')),\n",
       " (Cash: 15, (13, 4, 'move')),\n",
       " (Cash: 15, (16, 3, 'move')),\n",
       " (Cash: 15, (19, 7, 'move')),\n",
       " (Cash: 0, (8, 1, 'move')),\n",
       " (Cash: 0, (10, 2, 'move')),\n",
       " (Cash: 0, (0, 0, 'move')),\n",
       " (Cash: 78, (60, 45, 'tank')),\n",
       " (Cash: 18, (16, 3, 'move')),\n",
       " (Cash: 18, (13, 4, 'move')),\n",
       " (Cash: 18, (11, 9, 'move')),\n",
       " (Cash: 18, (5, 9, 'move')),\n",
       " (Cash: 18, (3, 7, 'move')),\n",
       " (Cash: 18, (0, 9, 'move')),\n",
       " (Cash: 185, (None, None, 'exit'))]"
      ]
     },
     "execution_count": 25,
     "metadata": {},
     "output_type": "execute_result"
    }
   ],
   "source": [
    "\n",
    "f = open('playdata/balvin1', 'rb')\n",
    "data = pickle.load(f)[1:][0]\n",
    "print(data)\n",
    "stateActions = []\n",
    "for state, action in data:\n",
    "    stateActions.append((state, action))\n",
    "f = open('playdata/balvin2', 'rb')\n",
    "data = pickle.load(f)[1:][0]\n",
    "for state, action in data:\n",
    "    stateActions.append((state, action))\n",
    "f = open('playdata/g1', 'rb')\n",
    "data = pickle.load(f)\n",
    "data = data['playthrough'][0]\n",
    "states, actions = data\n",
    "for i in range(len(actions)):\n",
    "    stateActions.append((states[i], actions[i]))\n",
    "f = open('playdata/g2', 'rb')\n",
    "data = pickle.load(f)\n",
    "data = data['playthrough'][0]\n",
    "states, actions = data\n",
    "for i in range(len(actions)):\n",
    "    stateActions.append((states[i], actions[i]))\n",
    "stateActions"
   ]
  },
  {
   "cell_type": "code",
   "execution_count": null,
   "metadata": {},
   "outputs": [],
   "source": []
  },
  {
   "cell_type": "code",
   "execution_count": 28,
   "metadata": {},
   "outputs": [],
   "source": [
    "def generateKdata(k):\n",
    "    data = []\n",
    "    agent = MaxAgent(depth = k - 1)\n",
    "    for state, action in stateActions:\n",
    "        index = None\n",
    "        values = []\n",
    "        for i, move in enumerate(state.getLegalActions()):\n",
    "            if action == move:\n",
    "                index = i\n",
    "            nextState, reward = state.getSuccessor(move)\n",
    "            reward += agent.value(nextState)[0]\n",
    "            values.append(reward)\n",
    "        data.append((index, values))\n",
    "    return data   \n",
    "                \n",
    "        \n",
    "        "
   ]
  },
  {
   "cell_type": "code",
   "execution_count": 29,
   "metadata": {},
   "outputs": [],
   "source": [
    "def generateQdata(iters):\n",
    "    data = []\n",
    "    for state, action in stateActions:\n",
    "        index = None\n",
    "        values = []\n",
    "        for i, move in enumerate(state.getLegalActions()):\n",
    "            if action == move:\n",
    "                index = i\n",
    "            nextState, reward = state.getSuccessor(move)\n",
    "            _, _, scores, _ = m2.getRollout(nextState, iters)\n",
    "            values.append(scores[-1])\n",
    "        data.append((index, values))\n",
    "    return data   "
   ]
  },
  {
   "cell_type": "code",
   "execution_count": 31,
   "metadata": {},
   "outputs": [],
   "source": [
    "qdata = generateQdata(100000)"
   ]
  },
  {
   "cell_type": "code",
   "execution_count": 30,
   "metadata": {},
   "outputs": [],
   "source": [
    "kdata = generateKdata(3)"
   ]
  },
  {
   "cell_type": "code",
   "execution_count": 310,
   "metadata": {},
   "outputs": [],
   "source": [
    "k3data = kdata"
   ]
  },
  {
   "cell_type": "code",
   "execution_count": 32,
   "metadata": {},
   "outputs": [],
   "source": [
    "k2data = generateKdata(2)"
   ]
  },
  {
   "cell_type": "code",
   "execution_count": 33,
   "metadata": {},
   "outputs": [],
   "source": [
    "k1data = generateKdata(1)"
   ]
  },
  {
   "cell_type": "code",
   "execution_count": 34,
   "metadata": {},
   "outputs": [],
   "source": [
    "def calculate(data, alpha):\n",
    "    arr = []\n",
    "    for a, b in data:\n",
    "        total = 0\n",
    "        for num in b:\n",
    "            total += pow(math.e, alpha * num)\n",
    "        if total == 0:\n",
    "            arr.append(1 / len(b))\n",
    "        else:\n",
    "            arr.append(pow(math.e, alpha * b[a]) / total)\n",
    "    return np.array(arr, dtype=np.float64)"
   ]
  },
  {
   "cell_type": "code",
   "execution_count": 35,
   "metadata": {
    "scrolled": true
   },
   "outputs": [],
   "source": [
    "karr = calculate(kdata, 0.1)"
   ]
  },
  {
   "cell_type": "code",
   "execution_count": 36,
   "metadata": {},
   "outputs": [],
   "source": [
    "qarr = calculate(qdata, 0.04)"
   ]
  },
  {
   "cell_type": "code",
   "execution_count": 37,
   "metadata": {},
   "outputs": [],
   "source": [
    "mat = np.column_stack((karr, qarr))"
   ]
  },
  {
   "cell_type": "code",
   "execution_count": 39,
   "metadata": {},
   "outputs": [
    {
     "name": "stdout",
     "output_type": "stream",
     "text": [
      "Optimization terminated successfully.    (Exit mode 0)\n",
      "            Current function value: 18.123147079077146\n",
      "            Iterations: 3\n",
      "            Function evaluations: 13\n",
      "            Gradient evaluations: 3\n",
      "[-0.012682  1.012682]\n"
     ]
    }
   ],
   "source": [
    "import numpy as np\n",
    "from scipy.optimize import minimize\n",
    "\n",
    "m = mat\n",
    "b = np.array([1 for _ in range(39)])\n",
    "\n",
    "\n",
    "def loss(x):\n",
    "    return np.sum(np.square((np.dot(mat, x) - b)))\n",
    "\n",
    "cons = ({'type': 'eq',\n",
    "         'fun' : lambda x: np.sum(x) - 1.0})\n",
    "\n",
    "res = minimize(loss, x0 =[0,0], method='SLSQP', constraints=cons, options={'disp': True})\n",
    "\n",
    "print(res.x)\n",
    "\n"
   ]
  },
  {
   "cell_type": "code",
   "execution_count": 40,
   "metadata": {},
   "outputs": [
    {
     "name": "stdout",
     "output_type": "stream",
     "text": [
      "Optimization terminated successfully.    (Exit mode 0)\n",
      "            Current function value: 59.974405855205305\n",
      "            Iterations: 5\n",
      "            Function evaluations: 21\n",
      "            Gradient evaluations: 5\n",
      "[0.30471432 0.69528568]\n"
     ]
    }
   ],
   "source": [
    "def loss(x):\n",
    "    return -np.sum(np.log(np.dot(mat, x)))\n",
    "\n",
    "cons = ({'type': 'eq',\n",
    "         'fun' : lambda x: np.sum(x) - 1.0},\n",
    "       {'type': 'ineq',\n",
    "         'fun' : lambda x: x[0]},\n",
    "        {'type': 'ineq',\n",
    "         'fun' : lambda x: x[1]}\n",
    "       )\n",
    "\n",
    "res = minimize(loss, x0 =[0.1,0.9], method='SLSQP', constraints=cons, options={'disp': True})\n",
    "print(res.x)\n",
    "\n",
    "\n",
    "# argmax_model P(model | F1 F2 F3 F4 F5 ...)\n",
    "#  = argmax_model P(model F1 F2 F3 ...)\n",
    "#  = argmax_model P(F1 F2 F3 ... | model)P(model)\n",
    "#  = argmax_model P(F1 | model) * .... P(model)\n",
    "    \n",
    "#  ~argmax_model P(F1 F2 F3 ... | model)\n",
    "\n"
   ]
  },
  {
   "cell_type": "code",
   "execution_count": 41,
   "metadata": {},
   "outputs": [],
   "source": [
    "def mix(datas, weights):\n",
    "    data = []\n",
    "    for i in range(len(datas[0])):\n",
    "        total = [0 for _ in range(len(datas[0][i][1]))]\n",
    "        for j in range(len(datas)):\n",
    "            for k in range(len(datas[j][i][1])):\n",
    "                total[k] += weights[j] * datas[j][i][1][k]\n",
    "        data.append((datas[0][i][0], total))\n",
    "    return data\n",
    "#i is sample index, j is dataset index, k is value index\n",
    "    "
   ]
  },
  {
   "cell_type": "code",
   "execution_count": 44,
   "metadata": {},
   "outputs": [
    {
     "name": "stderr",
     "output_type": "stream",
     "text": [
      "C:\\Users\\Sherman Luo\\Anaconda3\\lib\\site-packages\\ipykernel_launcher.py:6: RuntimeWarning: overflow encountered in double_scalars\n",
      "  \n",
      "C:\\Users\\Sherman Luo\\Anaconda3\\lib\\site-packages\\ipykernel_launcher.py:10: RuntimeWarning: overflow encountered in double_scalars\n",
      "  # Remove the CWD from sys.path while we load stuff.\n",
      "C:\\Users\\Sherman Luo\\Anaconda3\\lib\\site-packages\\ipykernel_launcher.py:10: RuntimeWarning: invalid value encountered in double_scalars\n",
      "  # Remove the CWD from sys.path while we load stuff.\n"
     ]
    },
    {
     "name": "stdout",
     "output_type": "stream",
     "text": [
      "Optimization terminated successfully.    (Exit mode 0)\n",
      "            Current function value: 16.3135709587984\n",
      "            Iterations: 32\n",
      "            Function evaluations: 259\n",
      "            Gradient evaluations: 32\n",
      "[0.16557716 0.2639918  0.33473297 0.23569807 4.14451725]\n"
     ]
    }
   ],
   "source": [
    "def loss(x):\n",
    "    return np.sum(np.square(calculate(mix([k1data, k2data, kdata, qdata], x[0:4]), x[4]) - b))\n",
    "#x[0:4] are the linear weights\n",
    "#x[4] is the alpha value\n",
    "#mix applies the weights to the valuations of the actions by the different agents and combines them into one\n",
    "#calculate does the softmax probability calculation based on x[4], the action chosen, and the valuations of each action\n",
    "\n",
    "b = np.array([1 for _ in range(39)])\n",
    "\n",
    "cons = ({'type': 'eq',\n",
    "         'fun' : lambda x: np.sum(x[0:4]) - 1.0},\n",
    "       {'type': 'ineq',\n",
    "         'fun' : lambda x: x[0]},\n",
    "        {'type': 'ineq',\n",
    "         'fun' : lambda x: x[1]},\n",
    "       {'type': 'ineq',\n",
    "         'fun' : lambda x: x[2]},\n",
    "        {'type': 'ineq',\n",
    "         'fun' : lambda x: x[3]})\n",
    "\n",
    "res = minimize(loss, x0 =[0.25, 0.25, 0.25, 0.25, 0.1], method='SLSQP', constraints=cons, options={'disp': True})\n",
    "\n",
    "print(res.x)\n"
   ]
  },
  {
   "cell_type": "code",
   "execution_count": null,
   "metadata": {},
   "outputs": [],
   "source": [
    "\n"
   ]
  },
  {
   "cell_type": "code",
   "execution_count": null,
   "metadata": {},
   "outputs": [],
   "source": []
  },
  {
   "cell_type": "code",
   "execution_count": null,
   "metadata": {},
   "outputs": [],
   "source": []
  }
 ],
 "metadata": {
  "kernelspec": {
   "display_name": "Python 3",
   "language": "python",
   "name": "python3"
  },
  "language_info": {
   "codemirror_mode": {
    "name": "ipython",
    "version": 3
   },
   "file_extension": ".py",
   "mimetype": "text/x-python",
   "name": "python",
   "nbconvert_exporter": "python",
   "pygments_lexer": "ipython3",
   "version": "3.7.0"
  }
 },
 "nbformat": 4,
 "nbformat_minor": 2
}
