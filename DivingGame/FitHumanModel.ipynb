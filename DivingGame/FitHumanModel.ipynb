{
 "cells": [
  {
   "cell_type": "code",
   "execution_count": 26,
   "metadata": {},
   "outputs": [],
   "source": [
    "import m2\n",
    "import numpy as np\n",
    "import pickle\n",
    "from Agent import MaxAgent\n",
    "import math\n",
    "\n"
   ]
  },
  {
   "cell_type": "code",
   "execution_count": 5,
   "metadata": {},
   "outputs": [
    {
     "data": {
      "text/plain": [
       "[(Cash: 0, (1, 5, 'move')),\n",
       " (Cash: 0, (3, 2, 'move')),\n",
       " (Cash: 0, (0, 0, 'move')),\n",
       " (Cash: 26, (3, 9, 'move')),\n",
       " (Cash: 26, (0, 9, 'move')),\n",
       " (Cash: 47, (40, 45, 'tank')),\n",
       " (Cash: 7, (11, 9, 'move')),\n",
       " (Cash: 7, (16, 7, 'move')),\n",
       " (Cash: 7, (13, 4, 'move')),\n",
       " (Cash: 7, (8, 3, 'move')),\n",
       " (Cash: 7, (10, 1, 'move')),\n",
       " (Cash: 7, (0, 0, 'move')),\n",
       " (Cash: 229, (None, None, 'exit')),\n",
       " (Cash: 0, (3, 2, 'move')),\n",
       " (Cash: 0, (1, 5, 'move')),\n",
       " (Cash: 0, (0, 9, 'move')),\n",
       " (Cash: 26, (3, 9, 'move')),\n",
       " (Cash: 26, (0, 9, 'move')),\n",
       " (Cash: 47, (40, 45, 'tank')),\n",
       " (Cash: 7, (7, 6, 'move')),\n",
       " (Cash: 7, (8, 3, 'move')),\n",
       " (Cash: 7, (10, 1, 'move')),\n",
       " (Cash: 7, (0, 0, 'move')),\n",
       " (Cash: 83, (13, 4, 'move')),\n",
       " (Cash: 83, (0, 0, 'move')),\n",
       " (Cash: 135, (None, None, 'exit')),\n",
       " (Cash: 0, (4, 1, 'move')),\n",
       " (Cash: 0, (3, 5, 'move')),\n",
       " (Cash: 0, (1, 5, 'move')),\n",
       " (Cash: 0, (3, 9, 'move')),\n",
       " (Cash: 0, (0, 9, 'move')),\n",
       " (Cash: 57, (40, 45, 'tank')),\n",
       " (Cash: 17, (11, 9, 'move')),\n",
       " (Cash: 17, (19, 7, 'move')),\n",
       " (Cash: 17, (9, 6, 'move')),\n",
       " (Cash: 17, (0, 9, 'move')),\n",
       " (Cash: 183, (None, None, 'exit')),\n",
       " (Cash: 0, (8, 1, 'move')),\n",
       " (Cash: 0, (3, 2, 'move')),\n",
       " (Cash: 0, (0, 0, 'move')),\n",
       " (Cash: 50, (3, 7, 'move')),\n",
       " (Cash: 50, (0, 9, 'move')),\n",
       " (Cash: 67, (60, 55, 'tank')),\n",
       " (Cash: 7, (5, 9, 'move')),\n",
       " (Cash: 7, (11, 9, 'move')),\n",
       " (Cash: 7, (19, 7, 'move')),\n",
       " (Cash: 7, (16, 3, 'move')),\n",
       " (Cash: 7, (13, 4, 'move')),\n",
       " (Cash: 7, (10, 2, 'move')),\n",
       " (Cash: 7, (0, 0, 'move')),\n",
       " (Cash: 267, (None, None, 'exit'))]"
      ]
     },
     "execution_count": 5,
     "metadata": {},
     "output_type": "execute_result"
    }
   ],
   "source": [
    "\n",
    "f = open('gameplay.pckl', 'rb')\n",
    "data = pickle.load(f)[1:]\n",
    "stateActions = []\n",
    "for start, actions in data:\n",
    "    for action in actions:\n",
    "        stateActions.append((start, action))\n",
    "        start = start.getSuccessor(action)[0]\n",
    "stateActions\n",
    "    "
   ]
  },
  {
   "cell_type": "code",
   "execution_count": 6,
   "metadata": {},
   "outputs": [],
   "source": [
    "def generateKdata(k):\n",
    "    data = []\n",
    "    agent = MaxAgent(depth = k - 1)\n",
    "    for state, action in stateActions:\n",
    "        index = None\n",
    "        values = []\n",
    "        for i, move in enumerate(state.getLegalActions()):\n",
    "            if action == move:\n",
    "                index = i\n",
    "            nextState, reward = state.getSuccessor(move)\n",
    "            reward += agent.value(nextState)[0]\n",
    "            values.append(reward)\n",
    "        data.append((index, values))\n",
    "    return data   \n",
    "                \n",
    "        \n",
    "        "
   ]
  },
  {
   "cell_type": "code",
   "execution_count": 44,
   "metadata": {},
   "outputs": [],
   "source": [
    "def generateQdata(iters):\n",
    "    data = []\n",
    "    for state, action in stateActions:\n",
    "        index = None\n",
    "        values = []\n",
    "        for i, move in enumerate(state.getLegalActions()):\n",
    "            if action == move:\n",
    "                index = i\n",
    "            nextState, reward = state.getSuccessor(move)\n",
    "            _, _, scores, _ = m2.getRollout(nextState, iters)\n",
    "            values.append(scores[-1])\n",
    "        data.append((index, values))\n",
    "    return data   "
   ]
  },
  {
   "cell_type": "code",
   "execution_count": 105,
   "metadata": {},
   "outputs": [],
   "source": [
    "qdata = generateQdata(100000)"
   ]
  },
  {
   "cell_type": "code",
   "execution_count": 87,
   "metadata": {},
   "outputs": [],
   "source": [
    "kdata = generateKdata(3)"
   ]
  },
  {
   "cell_type": "code",
   "execution_count": 103,
   "metadata": {},
   "outputs": [],
   "source": [
    "def calculate(data, alpha):\n",
    "    arr = []\n",
    "    for a, b in data:\n",
    "        total = 0\n",
    "        for num in b:\n",
    "            total += pow(math.e, alpha * num)\n",
    "        arr.append(pow(math.e, alpha * b[a]) / total)\n",
    "    return np.array(arr)"
   ]
  },
  {
   "cell_type": "code",
   "execution_count": 104,
   "metadata": {
    "scrolled": true
   },
   "outputs": [],
   "source": [
    "karr = calculate(kdata, 0.1)"
   ]
  },
  {
   "cell_type": "code",
   "execution_count": 110,
   "metadata": {},
   "outputs": [],
   "source": [
    "qarr = calculate(qdata, 0.04)"
   ]
  },
  {
   "cell_type": "code",
   "execution_count": 158,
   "metadata": {},
   "outputs": [],
   "source": [
    "mat = np.column_stack((karr, qarr))"
   ]
  },
  {
   "cell_type": "code",
   "execution_count": 174,
   "metadata": {},
   "outputs": [
    {
     "name": "stdout",
     "output_type": "stream",
     "text": [
      "Optimization terminated successfully.    (Exit mode 0)\n",
      "            Current function value: 18.71589702287629\n",
      "            Iterations: 3\n",
      "            Function evaluations: 13\n",
      "            Gradient evaluations: 3\n",
      "[0.33828651 0.66171349]\n"
     ]
    }
   ],
   "source": [
    "import numpy as np\n",
    "from scipy.optimize import minimize\n",
    "\n",
    "m = mat\n",
    "b = np.array([1 for _ in range(51)])\n",
    "\n",
    "\n",
    "def loss(x):\n",
    "    return np.sum(np.square((np.dot(mat, x) - b)))\n",
    "\n",
    "cons = ({'type': 'eq',\n",
    "         'fun' : lambda x: np.sum(x) - 1.0})\n",
    "\n",
    "res = minimize(loss, x0 =[0,0], method='SLSQP', constraints=cons, options={'disp': True})\n",
    "\n",
    "print(res.x)\n",
    "\n"
   ]
  },
  {
   "cell_type": "code",
   "execution_count": 181,
   "metadata": {},
   "outputs": [
    {
     "name": "stdout",
     "output_type": "stream",
     "text": [
      "Optimization terminated successfully.    (Exit mode 0)\n",
      "            Current function value: 51.24533093196085\n",
      "            Iterations: 4\n",
      "            Function evaluations: 17\n",
      "            Gradient evaluations: 4\n",
      "[0.32878234 0.67121766]\n"
     ]
    }
   ],
   "source": [
    "def loss(x):\n",
    "    return -np.sum(np.log(np.dot(mat, x)))\n",
    "\n",
    "cons = ({'type': 'eq',\n",
    "         'fun' : lambda x: np.sum(x) - 1.0},\n",
    "       {'type': 'ineq',\n",
    "         'fun' : lambda x: x[0]},\n",
    "        {'type': 'ineq',\n",
    "         'fun' : lambda x: x[1]}\n",
    "       )\n",
    "\n",
    "res = minimize(loss, x0 =[0.1,0.9], method='SLSQP', constraints=cons, options={'disp': True})\n",
    "print(res.x)\n",
    "\n",
    "\n",
    "# argmax_model P(model | F1 F2 F3 F4 F5 ...)\n",
    "#  = argmax_model P(model F1 F2 F3 ...)\n",
    "#  = argmax_model P(F1 F2 F3 ... | model)P(model)\n",
    "#  = argmax_model P(F1 | model) * .... P(model)\n",
    "    \n",
    "#  ~argmax_model P(F1 F2 F3 ... | model)\n",
    "\n"
   ]
  },
  {
   "cell_type": "code",
   "execution_count": 169,
   "metadata": {},
   "outputs": [
    {
     "data": {
      "text/plain": [
       "[(1, [0, 208, 229, 229, 0, 0, 0, 0, 0, 0, 0, 235]),\n",
       " (0, [229, 229, 0, 0, 0, 0, 0, 0, 0, 208, 255]),\n",
       " (8, [0, 0, 0, 0, 0, 0, 0, 0, 229, 0]),\n",
       " (2, [26, 235, 229, 0, 0, 0, 0, 0, 0, 0, 208]),\n",
       " (8, [0, 0, 0, 0, 0, 0, 0, 0, 229]),\n",
       " (1, [47, 229, 144, 103, 0, 0, 0, 0, 0, 0, 229]),\n",
       " (4, [7, 226, 200, 135, 229, 179, 188, 0, 229]),\n",
       " (4, [176, 150, 155, 205, 229, 0, 77, 124]),\n",
       " (3, [174, 177, 177, 229, 0, 127, 127]),\n",
       " (1, [205, 229, 229, 0, 179, 179]),\n",
       " (1, [226, 229, 0, 200, 200]),\n",
       " (2, [0, 0, 229, 0]),\n",
       " (0, [229, 169, 229]),\n",
       " (2, [0, 226, 208, 100, 0, 0, 0, 0, 0, 0, 0, 244]),\n",
       " (0, [208, 302, 0, 0, 0, 0, 0, 0, 0, 229, 244]),\n",
       " (9, [234, 0, 0, 0, 0, 0, 0, 0, 208, 313]),\n",
       " (2, [26, 193, 313, 313, 0, 0, 0, 0, 0, 0, 144]),\n",
       " (8, [313, 0, 0, 0, 0, 0, 0, 229, 234]),\n",
       " (1, [47, 234, 214, 234, 0, 0, 0, 0, 0, 0, 229]),\n",
       " (1, [7, 234, 226, 155, 234, 205, 205, 0, 229]),\n",
       " (0, [226, 176, 176, 205, 205, 0, 234, 234]),\n",
       " (0, [176, 124, 226, 174, 0, 176, 176]),\n",
       " (4, [124, 176, 0, 0, 176, 124]),\n",
       " (3, [83, 116, 124, 176, 0, 0, 124]),\n",
       " (3, [176, 0, 0, 135, 135]),\n",
       " (0, [135, 75, 0]),\n",
       " (4, [0, 268, 205, 175, 266, 199, 0, 221, 0, 0, 0, 0, 200]),\n",
       " (1, [183, 172, 202, 279, 0, 201, 0, 0, 0, 0, 189, 194]),\n",
       " (0, [180, 223, 0, 0, 0, 0, 0, 0, 0, 172, 182]),\n",
       " (0, [202, 0, 0, 0, 0, 0, 0, 0, 199, 202]),\n",
       " (8, [0, 0, 0, 0, 0, 0, 0, 0, 202]),\n",
       " (1, [57, 202, 164, 180, 160, 0, 202, 0, 0, 0, 199]),\n",
       " (4, [17, 180, 196, 151, 202, 164, 139, 151, 202]),\n",
       " (5, [149, 202, 151, 199, 171, 183, 144, 202]),\n",
       " (1, [0, 183, 0, 0, 0, 0, 151]),\n",
       " (5, [0, 0, 0, 0, 0, 183]),\n",
       " (0, [183, 123, 0, 0, 0, 183]),\n",
       " (5, [0, 267, 167, 230, 175, 264, 0, 269, 0, 0, 0, 0, 148]),\n",
       " (0, [266, 202, 310, 286, 0, 295, 0, 0, 0, 0, 239, 224]),\n",
       " (9, [258, 0, 0, 0, 0, 0, 0, 0, 0, 258, 258]),\n",
       " (3, [50, 210, 210, 230, 234, 191, 0, 159, 0, 0, 0, 0, 196]),\n",
       " (9, [211, 196, 0, 0, 0, 0, 0, 0, 195, 258]),\n",
       " (2, [67, 196, 258, 176, 157, 173, 145, 0, 145, 0, 0, 0, 196]),\n",
       " (2, [7, 245, 267, 258, 204, 258, 230, 199, 230, 176]),\n",
       " (3, [219, 258, 204, 267, 230, 199, 238, 108, 153]),\n",
       " (5, [140, 219, 219, 230, 219, 267, 72, 100]),\n",
       " (4, [163, 213, 185, 222, 267, 148, 148]),\n",
       " (3, [214, 227, 236, 267, 199, 199]),\n",
       " (2, [245, 258, 267, 230, 230]),\n",
       " (2, [0, 0, 267, 0]),\n",
       " (0, [267, 0])]"
      ]
     },
     "execution_count": 169,
     "metadata": {},
     "output_type": "execute_result"
    }
   ],
   "source": [
    "qdata"
   ]
  },
  {
   "cell_type": "code",
   "execution_count": 171,
   "metadata": {},
   "outputs": [
    {
     "data": {
      "text/plain": [
       "array([3.10442623e-02, 6.41593432e-02, 9.99999999e-01, 3.39607557e-01,\n",
       "       9.99999999e-01, 4.99948292e-01, 3.54706179e-01, 9.11810317e-01,\n",
       "       9.85033169e-01, 4.75241386e-01, 5.40288018e-01, 1.00000000e+00,\n",
       "       4.99381079e-01, 2.29106085e-02, 8.24120685e-05, 9.99601879e-01,\n",
       "       4.99998453e-01, 3.70522853e-04, 3.64715131e-01, 3.15828356e-01,\n",
       "       1.75147587e-01, 6.56868784e-03, 4.97256839e-01, 9.86579217e-01,\n",
       "       1.60409904e-02, 9.97526013e-01, 4.46935850e-01, 2.25161237e-05,\n",
       "       1.30940568e-02, 3.64854549e-01, 9.99999986e-01, 3.46141942e-01,\n",
       "       3.70917766e-01, 5.07089288e-02, 9.60834225e-01, 9.99999944e-01,\n",
       "       4.99381071e-01, 2.48006020e-01, 9.25087071e-03, 3.33333333e-01,\n",
       "       3.54995695e-01, 9.87204826e-01, 9.95418275e-01, 5.05957325e-01,\n",
       "       6.67776265e-01, 9.52911063e-01, 9.84305985e-01, 9.34069642e-01,\n",
       "       6.38235459e-01, 1.00000000e+00, 1.00000000e+00])"
      ]
     },
     "execution_count": 171,
     "metadata": {},
     "output_type": "execute_result"
    }
   ],
   "source": [
    "calculate(qdata, 0.1)"
   ]
  },
  {
   "cell_type": "code",
   "execution_count": 172,
   "metadata": {},
   "outputs": [
    {
     "data": {
      "text/plain": [
       "array([0.27029912, 0.12242421, 0.92433616, 0.30774912, 0.99462474,\n",
       "       0.67594096, 0.03380091, 0.49631943, 0.88961738, 0.47524139,\n",
       "       0.54028802, 1.        , 0.49938108, 0.40323891, 0.43893903,\n",
       "       0.44411338, 0.46259981, 0.48115628, 0.67594096, 0.007542  ,\n",
       "       0.01880426, 0.00499944, 0.01612746, 0.98877886, 0.01603957,\n",
       "       0.49938108, 0.21412915, 0.09819707, 0.19735764, 0.12825604,\n",
       "       0.99919234, 0.77907465, 0.36110313, 0.92883392, 0.96083409,\n",
       "       0.99999994, 0.1999009 , 0.46737296, 0.06416651, 0.63051824,\n",
       "       0.2290875 , 0.17577692, 0.03167243, 0.02050423, 0.04658937,\n",
       "       0.44637908, 0.80472025, 0.93406964, 0.63823546, 1.        ,\n",
       "       0.5       ])"
      ]
     },
     "execution_count": 172,
     "metadata": {},
     "output_type": "execute_result"
    }
   ],
   "source": [
    "calculate(kdata, 0.1)"
   ]
  },
  {
   "cell_type": "code",
   "execution_count": 177,
   "metadata": {},
   "outputs": [
    {
     "data": {
      "text/plain": [
       "array([0.16856706, 0.16717573, 0.97377825, 0.34882451, 0.99762539,\n",
       "       0.55284559, 0.19766207, 0.57774003, 0.77543375, 0.41012575,\n",
       "       0.44598377, 0.9997913 , 0.48543448, 0.22717561, 0.16159371,\n",
       "       0.77600279, 0.48579679, 0.18883081, 0.43107377, 0.15956096,\n",
       "       0.14172343, 0.05954355, 0.29933995, 0.81870732, 0.09778984,\n",
       "       0.77310903, 0.33690372, 0.04094064, 0.14554644, 0.27242616,\n",
       "       0.99809152, 0.44185915, 0.29808542, 0.3917264 , 0.84145697,\n",
       "       0.9978164 , 0.38382394, 0.33868179, 0.0732769 , 0.43384759,\n",
       "       0.26137582, 0.5619065 , 0.52829418, 0.19940521, 0.27587492,\n",
       "       0.54597573, 0.76202458, 0.69561024, 0.47360967, 0.99995434,\n",
       "       0.83084153])"
      ]
     },
     "execution_count": 177,
     "metadata": {},
     "output_type": "execute_result"
    }
   ],
   "source": [
    "np.dot(mat, np.array([0.33828651, 0.66171349]))"
   ]
  },
  {
   "cell_type": "code",
   "execution_count": null,
   "metadata": {},
   "outputs": [],
   "source": []
  }
 ],
 "metadata": {
  "kernelspec": {
   "display_name": "Python 3",
   "language": "python",
   "name": "python3"
  },
  "language_info": {
   "codemirror_mode": {
    "name": "ipython",
    "version": 3
   },
   "file_extension": ".py",
   "mimetype": "text/x-python",
   "name": "python",
   "nbconvert_exporter": "python",
   "pygments_lexer": "ipython3",
   "version": "3.6.5"
  }
 },
 "nbformat": 4,
 "nbformat_minor": 2
}
