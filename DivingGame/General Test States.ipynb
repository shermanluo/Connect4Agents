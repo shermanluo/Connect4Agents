{
 "cells": [
  {
   "cell_type": "code",
   "execution_count": 1,
   "metadata": {},
   "outputs": [],
   "source": [
    "import sys\n",
    "sys.path.append('c:/users/sherman luo/appdata/local/programs/python/python36-32/lib/site-packages')\n",
    "from divegame import diveGame, zeroBoard\n",
    "from fatal_flaw import getActions\n",
    "import numpy as np\n",
    "import divegame\n",
    "import pickle\n",
    "import importlib"
   ]
  },
  {
   "cell_type": "code",
   "execution_count": 4,
   "metadata": {},
   "outputs": [],
   "source": [
    "def randomGenerateBoard(num = 11, left = False, upper = False):\n",
    "    board = zeroBoard()\n",
    "    for i in range(num):\n",
    "        if left:\n",
    "            width = np.random.randint(0, 8)\n",
    "        else:\n",
    "            width = np.random.randint(0, 10)\n",
    "        if upper:\n",
    "            height = np.random.randint(4, 20)\n",
    "        else:\n",
    "            height = np.random.randint(1, 20)\n",
    "        board[height][width] = int(height * 5 + abs(2 * pow(height, 0.5) * np.random.randn()))\n",
    "    return board"
   ]
  },
  {
   "cell_type": "code",
   "execution_count": 14,
   "metadata": {},
   "outputs": [],
   "source": [
    "board1 = randomGenerateBoard(8)"
   ]
  },
  {
   "cell_type": "code",
   "execution_count": 22,
   "metadata": {},
   "outputs": [
    {
     "name": "stdout",
     "output_type": "stream",
     "text": [
      " _   _   _   _   _   _   _   _   _   _ \n",
      " _   _   _   _   _   _   _   _   _   _ \n",
      "12  _   _   _   _   _   _   _   _   _ \n",
      "15  _   _   _   _   _   _   _   _   _ \n",
      " _  29  _   _   _   _   _   _   _   _ \n",
      " _   _   _   _   _   _   _   _   _   _ \n",
      " _   _   _   _   _   _   _   _   _   _ \n",
      " _   _   _   _   _   _   _   _   _   _ \n",
      " _   _   _   _   _   _   _   _   _   _ \n",
      " P  _   _   _   _   _   _   _   _   _ \n",
      " _   _   _   _   _  54  _   _   _   _ \n",
      " _   _   _  70  _   _   _   _   _   _ \n",
      " _   _   _   _   _   _   _   _   _   _ \n",
      " _   _   _   _   _   _   _   _   _   _ \n",
      " _   _   _  88  _   _   _   _   _   _ \n",
      " _   _   _   _   _   _   _   _   _   _ \n",
      " _   _   _   _  80  _   _   _   _   _ \n",
      " _   _   _   _   _   _   _   _   _   _ \n",
      " _   _   _   _   _   _   _   _   _   _ \n",
      " _   _   _   _  111  _   _   _   _   _ \n",
      "tank size: 30\n",
      "cash: 20\n",
      "oxygen: 20\n",
      "timeLeft: 60\n",
      "holding: [10]\n"
     ]
    }
   ],
   "source": [
    "b1 = diveGame( \n",
    "    board = board1, #surface\n",
    "    playerLoc = (9,0), \n",
    "    timeLeft = 60, \n",
    "    oxygenLeft = 20, \n",
    "    holding = [10], \n",
    "    tankSize = 30, \n",
    "    cash = 20, \n",
    "    gameOver = False, \n",
    "    tanks = {(50, 55, \"tank\")})\n",
    "s = b1.printBoard()"
   ]
  },
  {
   "cell_type": "code",
   "execution_count": 19,
   "metadata": {
    "scrolled": false
   },
   "outputs": [
    {
     "name": "stdout",
     "output_type": "stream",
     "text": [
      "[(2, 0, 'move'), (3, 0, 'move'), (0, 0, 'move'), (50, 55, 'tank'), (10, 5, 'move'), (16, 4, 'move'), (19, 4, 'move'), (14, 3, 'move'), (11, 3, 'move'), (4, 1, 'move'), (0, 0, 'move'), (None, None, 'exit')] 439\n",
      "[(3, 0, 'move'), (2, 0, 'move'), (0, 0, 'move'), (50, 55, 'tank'), (14, 3, 'move'), (16, 4, 'move'), (19, 4, 'move'), (11, 3, 'move'), (10, 5, 'move'), (4, 1, 'move'), (0, 0, 'move'), (None, None, 'exit')] 439\n",
      "[(4, 1, 'move'), (3, 0, 'move'), (0, 0, 'move'), (50, 55, 'tank'), (11, 3, 'move'), (14, 3, 'move'), (16, 4, 'move'), (19, 4, 'move'), (10, 5, 'move'), (2, 0, 'move'), (0, 0, 'move'), (None, None, 'exit')] 439\n",
      "[(10, 5, 'move'), (0, 9, 'move'), (50, 55, 'tank'), (11, 3, 'move'), (14, 3, 'move'), (4, 1, 'move'), (3, 0, 'move'), (2, 0, 'move'), (0, 0, 'move'), (None, None, 'exit')] 248\n",
      "[(11, 3, 'move'), (4, 1, 'move'), (0, 0, 'move'), (50, 55, 'tank'), (3, 0, 'move'), (14, 3, 'move'), (16, 4, 'move'), (10, 5, 'move'), (0, 9, 'move'), (None, None, 'exit')] 316\n",
      "[(14, 3, 'move'), (0, 0, 'move')] 0\n",
      "[(16, 4, 'move'), (11, 3, 'move'), (14, 3, 'move'), (3, 0, 'move')] 0\n",
      "[(19, 4, 'move'), (16, 4, 'move'), (11, 3, 'move')] 0\n",
      "[(0, 0, 'move'), (4, 1, 'move'), (0, 0, 'move'), (50, 55, 'tank'), (11, 3, 'move'), (14, 3, 'move'), (16, 4, 'move'), (10, 5, 'move'), (0, 9, 'move'), (None, None, 'exit')] 301\n",
      "[(0, 9, 'move'), (0, 0, 'move'), (11, 3, 'move'), (4, 1, 'move'), (3, 0, 'move'), (2, 0, 'move'), (0, 0, 'move'), (None, None, 'exit')] 156\n"
     ]
    }
   ],
   "source": [
    "actions, scores = getActions(b1, 1, 50000, allRollouts = True)\n",
    "for i in range(len(scores)):\n",
    "    print(actions[i], scores[i])"
   ]
  },
  {
   "cell_type": "code",
   "execution_count": null,
   "metadata": {
    "collapsed": true
   },
   "outputs": [],
   "source": []
  },
  {
   "cell_type": "code",
   "execution_count": 39,
   "metadata": {},
   "outputs": [],
   "source": [
    "board2 = randomGenerateBoard(8)"
   ]
  },
  {
   "cell_type": "code",
   "execution_count": 41,
   "metadata": {},
   "outputs": [
    {
     "name": "stdout",
     "output_type": "stream",
     "text": [
      " _   _   _   _   _   _   _   _   _   _ \n",
      " _   _   _   _   _   _   _   _   _   _ \n",
      " _   _   _   _   _   _   _   _   _   _ \n",
      " _   _   _   _   _   _  18  _   _   _ \n",
      " _   _   _   _   _   P  _   _   _   _ \n",
      " _   _   _   _   _   _   _   _   _   _ \n",
      " _   _   _   _   _   _   _   _   _   _ \n",
      " _   _   _   _   _  37  _   _   _   _ \n",
      "48  _   _   _   _   _   _   _   _   _ \n",
      " _   _   _   _   _   _   _   _   _   _ \n",
      " _  55  _   _   _   _   _   _   _   _ \n",
      " _   _   _   _   _   _   _   _   _  58\n",
      " _   _  73  _   _   _   _   _   _   _ \n",
      " _   _   _   _   _   _   _   _   _   _ \n",
      " _   _   _   _   _   _   _   _   _   _ \n",
      " _   _   _   _   _   _   _   _   _   _ \n",
      " _   _   _   _   _   _   _   _   _   _ \n",
      " _   _   _   _   _   _   _   _   _   _ \n",
      " _   _  96  _   _   _   _   _   _   _ \n",
      " _   _   _   _   _   _   _   _   _   _ \n",
      "tank size: 20\n",
      "cash: 0\n",
      "oxygen: 15\n",
      "timeLeft: 65\n",
      "holding: [0]\n"
     ]
    }
   ],
   "source": [
    "b2 = diveGame( \n",
    "    board = board2, #no surface\n",
    "    playerLoc = (4,5), \n",
    "    timeLeft = 65, \n",
    "    oxygenLeft = 15, \n",
    "    holding = [0], \n",
    "    tankSize = 20, \n",
    "    cash = 0, \n",
    "    gameOver = False, \n",
    "    tanks = {(15, 30, \"tank\"), (55, 55, \"tank\")})\n",
    "s = b2.printBoard()"
   ]
  },
  {
   "cell_type": "code",
   "execution_count": 42,
   "metadata": {
    "scrolled": false
   },
   "outputs": [
    {
     "name": "stdout",
     "output_type": "stream",
     "text": [
      "[(3, 6, 'move'), (0, 9, 'move'), (15, 30, 'tank'), (7, 5, 'move'), (0, 0, 'move'), (12, 2, 'move'), (10, 1, 'move'), (8, 0, 'move'), (0, 0, 'move'), (None, None, 'exit')] 216\n",
      "[(7, 5, 'move'), (3, 6, 'move'), (0, 9, 'move'), (55, 55, 'tank'), (11, 9, 'move'), (10, 1, 'move'), (18, 2, 'move'), (12, 2, 'move'), (8, 0, 'move'), (0, 0, 'move'), (None, None, 'exit')] 330\n",
      "[(8, 0, 'move'), (18, 2, 'move')] 0\n",
      "[(10, 1, 'move'), (0, 0, 'move')] 0\n",
      "[(11, 9, 'move'), (3, 6, 'move')] 0\n",
      "[(12, 2, 'move'), (3, 6, 'move')] 0\n",
      "[(18, 2, 'move')] 0\n",
      "[(0, 0, 'move'), (3, 6, 'move'), (0, 9, 'move'), (15, 30, 'tank'), (0, 0, 'move'), (12, 2, 'move'), (10, 1, 'move'), (8, 0, 'move'), (0, 0, 'move'), (None, None, 'exit')] 179\n",
      "[(0, 9, 'move'), (3, 6, 'move'), (0, 0, 'move'), (15, 30, 'tank'), (8, 0, 'move'), (10, 1, 'move'), (12, 2, 'move'), (0, 0, 'move'), (0, 9, 'move'), (None, None, 'exit')] 179\n"
     ]
    }
   ],
   "source": [
    "actions, scores = getActions(b2, 1, 50000, allRollouts = True)\n",
    "for i in range(len(scores)):\n",
    "    print(actions[i], scores[i])"
   ]
  },
  {
   "cell_type": "code",
   "execution_count": null,
   "metadata": {},
   "outputs": [],
   "source": []
  },
  {
   "cell_type": "code",
   "execution_count": 56,
   "metadata": {},
   "outputs": [],
   "source": [
    "board3 = randomGenerateBoard(8)"
   ]
  },
  {
   "cell_type": "code",
   "execution_count": 60,
   "metadata": {},
   "outputs": [
    {
     "name": "stdout",
     "output_type": "stream",
     "text": [
      " _   _   _   _   _   _   _   _   _   P\n",
      " _   _   _   _   _   _   _   _   _   _ \n",
      " _   _   _   _   _   _   _   _   _   _ \n",
      " _   _   _   _   _   _   _   _   _  15\n",
      " _   _   _   _   _   _   _   _   _   _ \n",
      " _  28  _   _   _   _   _   _  29  _ \n",
      " _   _   _   _   _   _   _   _   _   _ \n",
      " _   _   _   _   _   _   _   _   _   _ \n",
      " _   _   _   _   _   _   _   _  51  _ \n",
      " _   _   _   _   _   _   _   _   _   _ \n",
      " _  52  _   _   _   _   _   _   _   _ \n",
      " _   _   _   _   _   _   _   _  58  _ \n",
      " _   _   _   _   _   _   _   _   _   _ \n",
      " _   _   _  73  _   _   _   _   _   _ \n",
      " _   _   _   _   _   _   _   _   _   _ \n",
      " _   _   _   _   _   _   _   _   _   _ \n",
      " _   _   _   _   _   _   _   _   _   _ \n",
      " _   _   _   _  85  _   _   _   _   _ \n",
      " _   _   _   _   _   _   _   _   _   _ \n",
      " _   _   _   _   _   _   _   _   _   _ \n",
      "tank size: 30\n",
      "cash: 140\n",
      "oxygen: 30\n",
      "timeLeft: 60\n",
      "holding: [0]\n"
     ]
    }
   ],
   "source": [
    "b3 = diveGame( \n",
    "    board = board3, #tank\n",
    "    playerLoc = (0,9), \n",
    "    timeLeft = 60, \n",
    "    oxygenLeft = 30, \n",
    "    holding = [0], \n",
    "    tankSize = 30, \n",
    "    cash = 140, \n",
    "    gameOver = False, \n",
    "    tanks = {(100, 55, \"tank\")})\n",
    "s = b3.printBoard()"
   ]
  },
  {
   "cell_type": "code",
   "execution_count": 61,
   "metadata": {
    "scrolled": true
   },
   "outputs": [
    {
     "name": "stdout",
     "output_type": "stream",
     "text": [
      "[(None, None, 'exit')] 140\n",
      "[(100, 55, 'tank'), (8, 8, 'move'), (11, 8, 'move'), (17, 4, 'move'), (13, 3, 'move'), (10, 1, 'move'), (5, 1, 'move'), (5, 8, 'move'), (0, 9, 'move'), (3, 9, 'move'), (0, 9, 'move'), (None, None, 'exit')] 431\n",
      "[(3, 9, 'move'), (11, 8, 'move'), (8, 8, 'move'), (5, 8, 'move'), (0, 9, 'move'), (10, 1, 'move'), (5, 1, 'move'), (0, 0, 'move'), (None, None, 'exit')] 373\n",
      "[(5, 1, 'move'), (3, 9, 'move'), (0, 9, 'move'), (5, 8, 'move'), (8, 8, 'move'), (11, 8, 'move'), (0, 9, 'move'), (0, 0, 'move'), (None, None, 'exit')] 321\n",
      "[(5, 8, 'move'), (8, 8, 'move'), (11, 8, 'move'), (3, 9, 'move'), (0, 9, 'move'), (10, 1, 'move'), (5, 1, 'move'), (0, 0, 'move'), (None, None, 'exit')] 373\n",
      "[(8, 8, 'move'), (11, 8, 'move'), (3, 9, 'move'), (5, 8, 'move'), (0, 9, 'move'), (5, 1, 'move'), (10, 1, 'move'), (0, 0, 'move'), (None, None, 'exit')] 373\n",
      "[(10, 1, 'move'), (5, 1, 'move'), (0, 0, 'move'), (5, 8, 'move'), (8, 8, 'move'), (3, 9, 'move'), (0, 9, 'move'), (None, None, 'exit')] 315\n",
      "[(11, 8, 'move'), (3, 9, 'move'), (0, 9, 'move'), (5, 8, 'move'), (8, 8, 'move'), (10, 1, 'move'), (5, 1, 'move'), (0, 0, 'move'), (None, None, 'exit')] 373\n",
      "[(13, 3, 'move'), (3, 9, 'move')] 0\n",
      "[(17, 4, 'move'), (5, 1, 'move')] 0\n",
      "[(0, 0, 'move'), (100, 55, 'tank'), (17, 4, 'move'), (13, 3, 'move'), (10, 1, 'move'), (11, 8, 'move'), (8, 8, 'move'), (5, 8, 'move'), (3, 9, 'move'), (0, 9, 'move'), (None, None, 'exit')] 403\n"
     ]
    }
   ],
   "source": [
    "actions, scores = getActions(b3, 1, 50000, allRollouts = True)\n",
    "for i in range(len(scores)):\n",
    "    print(actions[i], scores[i])"
   ]
  },
  {
   "cell_type": "code",
   "execution_count": null,
   "metadata": {},
   "outputs": [],
   "source": []
  },
  {
   "cell_type": "code",
   "execution_count": 68,
   "metadata": {},
   "outputs": [],
   "source": [
    "board4 = randomGenerateBoard(5)"
   ]
  },
  {
   "cell_type": "code",
   "execution_count": 72,
   "metadata": {},
   "outputs": [
    {
     "name": "stdout",
     "output_type": "stream",
     "text": [
      " _   _   _   _   _   _   _   _   _   P\n",
      " _   _   _   _   _   _   7  5  _   _ \n",
      " _   _   _   _   _   _   _   _   _   _ \n",
      " _   _   _   _   _   _   _   _   _   _ \n",
      " _   _   _   _   _   _   _   _   _   _ \n",
      " _   _   _   _   _   _   _   _   _   _ \n",
      " _   _   _   _   _   _   _   _   _   _ \n",
      " _   _   _   _   _   _   _   _   _   _ \n",
      " _   _   _   _   _   _   _   _   _  42\n",
      " _   _   _   _   _   _   _   _   _  45\n",
      " _   _   _   _   _   _   _   _   _   _ \n",
      " _   _   _   _   _   _   _  62  _   _ \n",
      " _   _   _   _   _   _   _   _   _   _ \n",
      " _   _   _   _   _   _   _   _   _   _ \n",
      " _   _   _   _   _   _   _   _   _   _ \n",
      " _   _   _   _   _   _   _   _   _   _ \n",
      " _   _   _   _   _   _   _   _   _   _ \n",
      " _   _   _   _   _   _   _   _   _   _ \n",
      " _   _   _   _   _   _   _   _   _   _ \n",
      " _   _   _   _   _   _   _   _   _   _ \n",
      "tank size: 20\n",
      "cash: 290\n",
      "oxygen: 20\n",
      "timeLeft: 30\n",
      "holding: [0]\n"
     ]
    }
   ],
   "source": [
    "b4 = diveGame( \n",
    "    board = board4, #not tank\n",
    "    playerLoc = (0,9), \n",
    "    timeLeft = 30, \n",
    "    oxygenLeft = 20, \n",
    "    holding = [0], \n",
    "    tankSize = 20, \n",
    "    cash = 290, \n",
    "    gameOver = False, \n",
    "    tanks = {(100, 55, \"tank\"), (60, 25, \"tank\")})\n",
    "s = b4.printBoard()"
   ]
  },
  {
   "cell_type": "code",
   "execution_count": 73,
   "metadata": {
    "scrolled": true
   },
   "outputs": [
    {
     "name": "stdout",
     "output_type": "stream",
     "text": [
      "[(None, None, 'exit')] 290\n",
      "[(60, 25, 'tank'), (8, 9, 'move'), (9, 9, 'move'), (1, 7, 'move'), (0, 9, 'move'), (1, 6, 'move'), (0, 9, 'move'), (None, None, 'exit')] 329\n",
      "[(100, 55, 'tank'), (1, 6, 'move'), (1, 7, 'move'), (11, 7, 'move'), (8, 9, 'move'), (9, 9, 'move'), (0, 9, 'move'), (None, None, 'exit')] 351\n",
      "[(1, 6, 'move'), (1, 7, 'move'), (0, 9, 'move'), (8, 9, 'move'), (9, 9, 'move'), (0, 9, 'move'), (None, None, 'exit')] 389\n",
      "[(1, 7, 'move'), (1, 6, 'move'), (0, 9, 'move'), (9, 9, 'move'), (8, 9, 'move'), (0, 9, 'move'), (None, None, 'exit')] 389\n",
      "[(8, 9, 'move'), (9, 9, 'move'), (0, 9, 'move'), (1, 7, 'move'), (1, 6, 'move'), (0, 9, 'move'), (None, None, 'exit')] 389\n",
      "[(9, 9, 'move'), (8, 9, 'move'), (0, 9, 'move'), (1, 6, 'move'), (1, 7, 'move'), (0, 9, 'move'), (None, None, 'exit')] 389\n",
      "[(11, 7, 'move'), (9, 9, 'move'), (0, 0, 'move')] 0\n",
      "[(0, 0, 'move'), (0, 9, 'move'), (1, 6, 'move'), (1, 7, 'move'), (0, 9, 'move'), (None, None, 'exit')] 302\n"
     ]
    }
   ],
   "source": [
    "actions, scores = getActions(b4, 1, 50000, allRollouts = True)\n",
    "for i in range(len(scores)):\n",
    "    print(actions[i], scores[i])"
   ]
  },
  {
   "cell_type": "code",
   "execution_count": 85,
   "metadata": {},
   "outputs": [],
   "source": [
    "b41 = randomGenerateBoard(8, left = True, upper = True)"
   ]
  },
  {
   "cell_type": "code",
   "execution_count": 104,
   "metadata": {},
   "outputs": [
    {
     "name": "stdout",
     "output_type": "stream",
     "text": [
      " _   _   _   _   _   _   _   _   _   P\n",
      " _   _   _   _   _   _   _   _   _   _ \n",
      " _   _   _   _   _   _   _   _   _   _ \n",
      " _   _   _   _   _   _   _   _   _   _ \n",
      " _   _   _   _   _   _   _   _   _   _ \n",
      " _   _   _   _   _   _   _   _   _   _ \n",
      " _   _   _   _   _   _   _   _   _   _ \n",
      " _   _   _   _   _   _   _   _   _   _ \n",
      " _   _   _   _   _   _   _   _   _   _ \n",
      " _  31  _   _   _   _   _   _   _   _ \n",
      " _   _   _   _   _   _   _   _   _   _ \n",
      " _   _  58  _   _   _   _   _   _   _ \n",
      " _   _   _   _   _   _   _   _   _   _ \n",
      " _   _   _   _   _   _   _   _   _   _ \n",
      " _   _   _   _   _   _   _   _   _   _ \n",
      "82  _   _   _   _   _   _   _   _   _ \n",
      " _   _   _   _   _  82  _   _   _   _ \n",
      " _   _   _   _   _   _   _   _   _   _ \n",
      " _   _  93  _   _   _   _  98  _   _ \n",
      " _   _   _   _   _   _   _   _   _   _ \n",
      "tank size: 40\n",
      "cash: 32\n",
      "oxygen: 40\n",
      "timeLeft: 48\n",
      "holding: [0]\n"
     ]
    }
   ],
   "source": [
    "b41[5][1] = 0\n",
    "b41[6][3] = 0\n",
    "b41[10][3] = 0\n",
    "b41[9][1] = 31\n",
    "b41[9][2] = 0\n",
    "b5 = diveGame( # switch\n",
    "    board = b41, \n",
    "    playerLoc = (0, 9), \n",
    "    timeLeft =48, \n",
    "    oxygenLeft = 40, \n",
    "    holding = [0], \n",
    "    tankSize = 40, \n",
    "    cash = 32, \n",
    "    gameOver = False, \n",
    "    tanks = {})\n",
    "s = b5.printBoard() \n",
    "\n",
    "\n"
   ]
  },
  {
   "cell_type": "code",
   "execution_count": 101,
   "metadata": {},
   "outputs": [
    {
     "name": "stdout",
     "output_type": "stream",
     "text": [
      "32 [(None, None, 'exit')]\n",
      "145 [(9, 1, 'move'), (15, 0, 'move'), (0, 0, 'move'), (0, 9, 'move'), (None, None, 'exit')]\n",
      "172 [(11, 2, 'move'), (15, 0, 'move'), (0, 0, 'move'), (0, 9, 'move'), (None, None, 'exit')]\n",
      "114 [(15, 0, 'move'), (0, 0, 'move'), (None, None, 'exit')]\n",
      "114 [(16, 5, 'move'), (0, 9, 'move'), (None, None, 'exit')]\n",
      "0 [(18, 2, 'move'), (15, 0, 'move'), (0, 9, 'move')]\n",
      "130 [(18, 7, 'move'), (0, 9, 'move'), (None, None, 'exit')]\n",
      "203 [(0, 0, 'move'), (15, 0, 'move'), (9, 1, 'move'), (11, 2, 'move'), (0, 0, 'move'), (None, None, 'exit')]\n"
     ]
    }
   ],
   "source": [
    "actions, scores = getActions(b5, 1, 50000, allRollouts = True)\n",
    "for i in range(len(scores)):\n",
    "    print(scores[i], actions[i])\n"
   ]
  },
  {
   "cell_type": "code",
   "execution_count": 102,
   "metadata": {},
   "outputs": [],
   "source": [
    "g6 = randomGenerateBoard(6)"
   ]
  },
  {
   "cell_type": "code",
   "execution_count": 109,
   "metadata": {},
   "outputs": [
    {
     "name": "stdout",
     "output_type": "stream",
     "text": [
      " _   _   _   _   _   _   _   _   _   P\n",
      " _   _   _   _   _   _   _   _   _   _ \n",
      " _   _   _   _   _   _   _   _   _   _ \n",
      " _   _   _   _   _   _   _   _   _   _ \n",
      " _   _   _   _   _   _   _   _   _   _ \n",
      " _   _   _   _   _  27  _   _   _   _ \n",
      " _   _   _   _   _   _   _   _   _   _ \n",
      " _   _   _   _   _   _   _  43  _   _ \n",
      " _   _   _   _   _   _   _   _   _   _ \n",
      " _   _   _   _   _   _   _   _   _   _ \n",
      " _  56  _   _  56  _   _  50  _   _ \n",
      " _   _   _   _   _   _   _   _   _   _ \n",
      " _   _   _   _   _   _   _   _   _   _ \n",
      " _   _   _   _   _   _   _   _   _   _ \n",
      " _   _   _   _   _   _   _   _   _   _ \n",
      " _   _   _   _   _   _   _   _   _   _ \n",
      "91  _   _   _   _   _   _   _   _   _ \n",
      " _   _   _   _   _   _   _   _   _   _ \n",
      " _   _   _   _   _   _   _   _   _   _ \n",
      " _   _   _   _   _   _   _   _   _   _ \n",
      "tank size: 45\n",
      "cash: 110\n",
      "oxygen: 45\n",
      "timeLeft: 47\n",
      "holding: [0]\n"
     ]
    }
   ],
   "source": [
    "\n",
    "b6 = diveGame( # no switch\n",
    "    board = g6, \n",
    "    playerLoc = (0, 9), \n",
    "    timeLeft =47, \n",
    "    oxygenLeft = 45, \n",
    "    holding = [0], \n",
    "    tankSize = 45, \n",
    "    cash = 110, \n",
    "    gameOver = False, \n",
    "    tanks = {(130, 50, \"tank\")})\n",
    "s = b6.printBoard() \n",
    "\n",
    "\n"
   ]
  },
  {
   "cell_type": "code",
   "execution_count": 110,
   "metadata": {},
   "outputs": [
    {
     "name": "stdout",
     "output_type": "stream",
     "text": [
      "110 [(None, None, 'exit')]\n",
      "433 [(5, 5, 'move'), (7, 7, 'move'), (10, 7, 'move'), (10, 4, 'move'), (10, 1, 'move'), (16, 0, 'move'), (0, 0, 'move'), (None, None, 'exit')]\n",
      "406 [(7, 7, 'move'), (10, 7, 'move'), (10, 4, 'move'), (10, 1, 'move'), (16, 0, 'move'), (0, 0, 'move'), (None, None, 'exit')]\n",
      "342 [(10, 1, 'move'), (10, 4, 'move'), (10, 7, 'move'), (5, 5, 'move'), (7, 7, 'move'), (0, 9, 'move'), (None, None, 'exit')]\n",
      "342 [(10, 4, 'move'), (10, 1, 'move'), (10, 7, 'move'), (7, 7, 'move'), (5, 5, 'move'), (0, 0, 'move'), (None, None, 'exit')]\n",
      "363 [(10, 7, 'move'), (10, 4, 'move'), (16, 0, 'move'), (10, 1, 'move'), (0, 0, 'move'), (None, None, 'exit')]\n",
      "257 [(16, 0, 'move'), (10, 1, 'move'), (0, 0, 'move'), (None, None, 'exit')]\n",
      "342 [(0, 0, 'move'), (10, 1, 'move'), (10, 4, 'move'), (10, 7, 'move'), (5, 5, 'move'), (7, 7, 'move'), (0, 9, 'move'), (None, None, 'exit')]\n"
     ]
    }
   ],
   "source": [
    "actions, scores = getActions(b6, 1, 50000, allRollouts = True)\n",
    "for i in range(len(scores)):\n",
    "    print(scores[i], actions[i])\n"
   ]
  },
  {
   "cell_type": "code",
   "execution_count": 111,
   "metadata": {},
   "outputs": [],
   "source": [
    "games = []\n",
    "for i in [b1, b2, b3, b4, b5, b6]:\n",
    "    game = {}\n",
    "    game['board'] = i.board\n",
    "    game['playerLoc'] = i.playerLoc\n",
    "    game['timeLeft'] = i.timeLeft\n",
    "    game['oxygenLeft'] = i.oxygenLeft\n",
    "    game['holding'] = i.holding\n",
    "    game['tankSize'] = i.tankSize\n",
    "    game['cash'] = i.cash\n",
    "    game['gameOver'] = i.gameOver\n",
    "    game['tanks'] = i.tanks\n",
    "    games.append(game)\n",
    "f = open(\"General Test States\", \"wb\")\n",
    "pickle.dump(games, f)\n",
    "f.close()"
   ]
  },
  {
   "cell_type": "code",
   "execution_count": null,
   "metadata": {},
   "outputs": [],
   "source": []
  }
 ],
 "metadata": {
  "kernelspec": {
   "display_name": "Python 3",
   "language": "python",
   "name": "python3"
  },
  "language_info": {
   "codemirror_mode": {
    "name": "ipython",
    "version": 3
   },
   "file_extension": ".py",
   "mimetype": "text/x-python",
   "name": "python",
   "nbconvert_exporter": "python",
   "pygments_lexer": "ipython3",
   "version": "3.7.0"
  }
 },
 "nbformat": 4,
 "nbformat_minor": 2
}
