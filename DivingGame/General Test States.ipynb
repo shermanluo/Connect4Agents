{
 "cells": [
  {
   "cell_type": "code",
   "execution_count": 5,
   "metadata": {
    "collapsed": true
   },
   "outputs": [],
   "source": [
    "import sys\n",
    "sys.path.append('c:/users/sherman luo/appdata/local/programs/python/python36-32/lib/site-packages')\n",
    "from divegame import diveGame, zeroBoard\n",
    "from fatal_flaw import getActions\n",
    "import numpy as np\n",
    "import divegame\n",
    "import pickle\n",
    "import importlib"
   ]
  },
  {
   "cell_type": "code",
   "execution_count": 25,
   "metadata": {},
   "outputs": [],
   "source": [
    "def randomGenerateBoard(num = 11, left = False, upper = False):\n",
    "    board = zeroBoard()\n",
    "    for i in range(num):\n",
    "        if left:\n",
    "            width = np.random.randint(0, 8)\n",
    "        else:\n",
    "            width = np.random.randint(0, 10)\n",
    "        if upper:\n",
    "            height = np.random.randint(4, 20)\n",
    "        else:\n",
    "            height = np.random.randint(1, 20)\n",
    "        board[height][width] = int(height * 5 + abs(2 * pow(height, 0.5) * np.random.randn()))\n",
    "    return board"
   ]
  },
  {
   "cell_type": "code",
   "execution_count": 28,
   "metadata": {
    "collapsed": true
   },
   "outputs": [],
   "source": [
    "b1 = randomGenerateBoard(11)"
   ]
  },
  {
   "cell_type": "code",
   "execution_count": 29,
   "metadata": {},
   "outputs": [
    {
     "name": "stdout",
     "output_type": "stream",
     "text": [
      " P  _   _   _   _   _   _   _   _   _ \n",
      " _   _   _   _   _   _   _   _   _   _ \n",
      " _   _   _   _   _   _   _   _   _   _ \n",
      " _   _   _   _   _   _   _   _  15  _ \n",
      " _   _   _   _   _   _   _   _   _   _ \n",
      " _   _   _   _   _   _   _   _   _   _ \n",
      " _  31 35  _   _   _   _   _   _   _ \n",
      " _   _   _   _   _   _   _   _   _   _ \n",
      " _   _   _   _   _   _   _   _   _   _ \n",
      "49  _   _   _  47  _   _   _   _   _ \n",
      " _  51  _   _   _  50  _   _   _   _ \n",
      " _   _   _   _   _   _   _   _   _   _ \n",
      " _   _   _   _   _   _   _   _   _   _ \n",
      " _   _   _   _   _   _   _   _   _   _ \n",
      "71  _   _   _   _   _   _   _   _   _ \n",
      " _   _   _   _   _   _   _   _   _   _ \n",
      " _   _   _   _   _   _   _   _   _   _ \n",
      " _   _   _   _   _   _   _   _  89  _ \n",
      " _   _   _   _   _   _   _   _   _  92\n",
      " _   _   _   _   _   _   _   _   _   _ \n",
      "tank size: 20\n",
      "cash: 0\n",
      "oxygen: 20\n",
      "timeLeft: 80\n",
      "holding: [0]\n"
     ]
    }
   ],
   "source": [
    "b1 = diveGame( #easy surface\n",
    "    board = board1, \n",
    "    playerLoc = (0,0), \n",
    "    timeLeft = 80, \n",
    "    oxygenLeft = 20, \n",
    "    holding = [0], \n",
    "    tankSize = 20, \n",
    "    cash = 0, \n",
    "    gameOver = False, \n",
    "    tanks = {(30, 30, \"tank\"), (50, 55, \"tank\")})\n",
    "s = b1.printBoard()"
   ]
  },
  {
   "cell_type": "code",
   "execution_count": 30,
   "metadata": {},
   "outputs": [
    {
     "name": "stdout",
     "output_type": "stream",
     "text": [
      "[(None, None, 'exit')] 0\n",
      "[(3, 8, 'move'), (0, 9, 'move'), (0, 0, 'move'), (9, 0, 'move'), (0, 0, 'move'), (50, 55, 'tank'), (6, 2, 'move'), (9, 4, 'move'), (14, 0, 'move'), (10, 1, 'move'), (6, 1, 'move'), (0, 0, 'move'), (None, None, 'exit')] 249\n",
      "[(6, 1, 'move'), (9, 0, 'move'), (0, 0, 'move'), (50, 55, 'tank'), (10, 5, 'move'), (9, 4, 'move'), (10, 1, 'move'), (17, 8, 'move'), (18, 9, 'move'), (0, 9, 'move'), (None, None, 'exit')] 359\n",
      "[(6, 2, 'move'), (6, 1, 'move'), (0, 0, 'move'), (50, 55, 'tank'), (9, 0, 'move'), (10, 5, 'move'), (9, 4, 'move'), (10, 1, 'move'), (17, 8, 'move'), (18, 9, 'move'), (0, 9, 'move'), (3, 8, 'move'), (0, 9, 'move'), (None, None, 'exit')] 409\n",
      "[(9, 0, 'move'), (6, 1, 'move'), (0, 0, 'move'), (50, 55, 'tank'), (14, 0, 'move'), (17, 8, 'move'), (18, 9, 'move'), (10, 5, 'move'), (9, 4, 'move'), (6, 2, 'move'), (0, 0, 'move'), (None, None, 'exit')] 414\n",
      "[(9, 4, 'move'), (14, 0, 'move')] 0\n",
      "[(10, 1, 'move'), (3, 8, 'move')] 0\n",
      "[(10, 5, 'move'), (14, 0, 'move')] 0\n",
      "[(14, 0, 'move'), (10, 5, 'move')] 0\n",
      "[(17, 8, 'move')] 0\n",
      "[(18, 9, 'move')] 0\n",
      "[(0, 9, 'move'), (0, 0, 'move'), (6, 1, 'move'), (9, 0, 'move'), (0, 0, 'move'), (50, 55, 'tank'), (10, 1, 'move'), (14, 0, 'move'), (10, 5, 'move'), (9, 4, 'move'), (6, 2, 'move'), (0, 0, 'move'), (None, None, 'exit')] 284\n"
     ]
    }
   ],
   "source": [
    "actions, scores = getActions(b1, 1, 50000, allRollouts = True)\n",
    "for i in range(len(scores)):\n",
    "    print(actions[i], scores[i])"
   ]
  },
  {
   "cell_type": "code",
   "execution_count": 31,
   "metadata": {
    "collapsed": true
   },
   "outputs": [],
   "source": [
    "board2 = randomGenerateBoard()"
   ]
  },
  {
   "cell_type": "code",
   "execution_count": 32,
   "metadata": {},
   "outputs": [
    {
     "name": "stdout",
     "output_type": "stream",
     "text": [
      " _   _   _   _   _   _   _   _   _   P\n",
      " _   _   _   _   5  _   _   _   _   _ \n",
      " _   _   _   _   _   _   _   _   _   _ \n",
      " _   _  19  _  21  _   _  19  _   _ \n",
      " _   _   _   _   _   _   _   _   _   _ \n",
      " _   _   _   _   _   _   _   _   _   _ \n",
      " _   _   _   _   _   _   _   _   _   _ \n",
      " _   _   _   _   _   _   _  35  _   _ \n",
      " _   _   _   _   _   _   _   _   _   _ \n",
      " _   _   _   _   _   _   _   _   _   _ \n",
      " _   _   _   _  57  _   _   _   _   _ \n",
      " _   _   _   _   _   _   _   _   _   _ \n",
      "65  _   _   _   _   _   _   _   _   _ \n",
      " _   _   _   _   _   _   _   _   _   _ \n",
      " _   _   _   _   _   _   _   _   _   _ \n",
      " _   _   _   _   _   _   _   _   _   _ \n",
      " _   _   _   _  83  _   _   _  92  _ \n",
      " _   _   _   _   _   _   _   _   _   _ \n",
      " _   _   _   _   _   _   _   _   _   _ \n",
      " _   _   _  109  _   _   _   _   _   _ \n",
      "tank size: 25\n",
      "cash: 42\n",
      "oxygen: 25\n",
      "timeLeft: 74\n",
      "holding: [0]\n"
     ]
    }
   ],
   "source": [
    "b2 = diveGame( #easy surface\n",
    "    board = board2, \n",
    "    playerLoc = (0,9), \n",
    "    timeLeft = 74, \n",
    "    oxygenLeft = 25, \n",
    "    holding = [0], \n",
    "    tankSize = 25, \n",
    "    cash = 42, \n",
    "    gameOver = False, \n",
    "    tanks = {(30, 30, \"tank\"), (70, 46, \"tank\")})\n",
    "s = b2.printBoard()\n",
    "\n"
   ]
  },
  {
   "cell_type": "code",
   "execution_count": 34,
   "metadata": {},
   "outputs": [
    {
     "name": "stdout",
     "output_type": "stream",
     "text": [
      "[(None, None, 'exit')] 42\n",
      "[(30, 30, 'tank'), (7, 7, 'move'), (3, 7, 'move'), (3, 2, 'move'), (0, 0, 'move'), (70, 46, 'tank'), (19, 3, 'move'), (16, 4, 'move'), (10, 4, 'move'), (3, 4, 'move'), (1, 4, 'move'), (0, 0, 'move'), (None, None, 'exit')] 290\n",
      "[(1, 4, 'move'), (3, 4, 'move'), (3, 2, 'move'), (0, 9, 'move'), (70, 46, 'tank'), (3, 7, 'move'), (7, 7, 'move'), (10, 4, 'move'), (16, 4, 'move'), (16, 8, 'move'), (0, 9, 'move'), (0, 0, 'move'), (None, None, 'exit')] 303\n",
      "[(3, 2, 'move'), (0, 0, 'move'), (3, 4, 'move'), (0, 9, 'move'), (70, 46, 'tank'), (7, 7, 'move'), (16, 8, 'move'), (16, 4, 'move'), (10, 4, 'move'), (3, 7, 'move'), (0, 9, 'move'), (None, None, 'exit')] 298\n",
      "[(3, 4, 'move'), (3, 7, 'move'), (0, 0, 'move'), (70, 46, 'tank'), (1, 4, 'move'), (10, 4, 'move'), (16, 4, 'move'), (19, 3, 'move'), (12, 0, 'move'), (0, 0, 'move'), (None, None, 'exit')] 331\n",
      "[(3, 7, 'move'), (3, 4, 'move'), (0, 0, 'move'), (70, 46, 'tank'), (16, 4, 'move'), (19, 3, 'move'), (12, 0, 'move'), (0, 0, 'move'), (3, 2, 'move'), (0, 0, 'move'), (None, None, 'exit')] 288\n",
      "[(7, 7, 'move'), (0, 9, 'move'), (0, 0, 'move'), (70, 46, 'tank'), (12, 0, 'move'), (19, 3, 'move'), (16, 4, 'move'), (10, 4, 'move'), (3, 4, 'move'), (3, 2, 'move'), (0, 0, 'move'), (None, None, 'exit')] 361\n",
      "[(10, 4, 'move'), (1, 4, 'move'), (3, 4, 'move')] 0\n",
      "[(12, 0, 'move'), (3, 4, 'move')] 0\n",
      "[(16, 4, 'move'), (0, 9, 'move')] 0\n",
      "[(16, 8, 'move'), (3, 2, 'move')] 0\n",
      "[(19, 3, 'move'), (3, 7, 'move')] 0\n",
      "[(0, 0, 'move'), (12, 0, 'move'), (0, 0, 'move'), (1, 4, 'move'), (3, 2, 'move'), (3, 4, 'move'), (0, 9, 'move'), (7, 7, 'move'), (3, 7, 'move'), (0, 9, 'move'), (None, None, 'exit')] 206\n"
     ]
    }
   ],
   "source": [
    "actions, scores = getActions(b2, 1, 50000, allRollouts = True)\n",
    "for i in range(len(scores)):\n",
    "    print(actions[i], scores[i])"
   ]
  },
  {
   "cell_type": "code",
   "execution_count": 35,
   "metadata": {
    "collapsed": true
   },
   "outputs": [],
   "source": [
    "board3 = randomGenerateBoard(upper = True)"
   ]
  },
  {
   "cell_type": "code",
   "execution_count": 38,
   "metadata": {},
   "outputs": [
    {
     "name": "stdout",
     "output_type": "stream",
     "text": [
      " _   _   _   _   _   _   _   _   _   _ \n",
      " _   _   _   _   _   _   _   _   _   _ \n",
      " _   _   _   _   _   _   _   _   _   _ \n",
      " _   _   _   _   _   _   _   _   _   _ \n",
      " _   _   _  21  _   _   _   _   _   _ \n",
      " _   _   _  29  _   P  _   _   _   _ \n",
      " _   _   _   _   _   _   _   _   _   _ \n",
      " _   _   _   _   _   _   _   _   _   _ \n",
      " _   _   _  43  _   _   _   _   _   _ \n",
      " _   _   _   _   _   _   _   _   _   _ \n",
      " _   _   _   _   _   _   _   _   _  61\n",
      " _   _   _   _   _   _   _   _   _   _ \n",
      " _   _   _   _   _   _   _   _  66  _ \n",
      " _   _   _   _  66  _   _   _   _   _ \n",
      " _   _   _   _   _   _   _   _   _   _ \n",
      " _   _   _   _   _   _  80  _   _   _ \n",
      " _  94  _   _   _   _   _  91  _   _ \n",
      " _   _   _   _   _   _  86  _   _   _ \n",
      "100  _   _   _   _   _   _   _   _   _ \n",
      " _   _   _   _   _   _   _   _   _   _ \n",
      "tank size: 30\n",
      "cash: 40\n",
      "oxygen: 25\n",
      "timeLeft: 74\n",
      "holding: [10]\n"
     ]
    }
   ],
   "source": [
    "b3 = diveGame( #easy surface\n",
    "    board = board3, \n",
    "    playerLoc = (5,5), \n",
    "    timeLeft = 74, \n",
    "    oxygenLeft = 25, \n",
    "    holding = [10], \n",
    "    tankSize = 30, \n",
    "    cash = 40, \n",
    "    gameOver = False, \n",
    "    tanks = {(70, 50, \"tank\")})\n",
    "s = b3.printBoard()\n",
    "\n"
   ]
  },
  {
   "cell_type": "code",
   "execution_count": 39,
   "metadata": {},
   "outputs": [
    {
     "name": "stdout",
     "output_type": "stream",
     "text": [
      "[(4, 3, 'move'), (8, 3, 'move'), (5, 3, 'move'), (0, 0, 'move'), (70, 50, 'tank'), (16, 1, 'move'), (18, 0, 'move'), (17, 6, 'move'), (16, 7, 'move'), (15, 6, 'move'), (12, 8, 'move'), (10, 9, 'move'), (0, 9, 'move'), (None, None, 'exit')] 651\n",
      "[(5, 3, 'move'), (10, 9, 'move'), (0, 9, 'move'), (70, 50, 'tank'), (12, 8, 'move'), (16, 7, 'move'), (17, 6, 'move'), (15, 6, 'move'), (16, 1, 'move'), (18, 0, 'move'), (0, 0, 'move'), (None, None, 'exit')] 587\n",
      "[(8, 3, 'move'), (5, 3, 'move'), (0, 0, 'move'), (70, 50, 'tank'), (18, 0, 'move'), (15, 6, 'move'), (17, 6, 'move'), (16, 7, 'move'), (12, 8, 'move'), (10, 9, 'move'), (0, 9, 'move'), (None, None, 'exit')] 536\n",
      "[(10, 9, 'move'), (12, 8, 'move'), (0, 9, 'move'), (70, 50, 'tank'), (15, 6, 'move'), (16, 7, 'move'), (17, 6, 'move'), (18, 0, 'move'), (16, 1, 'move'), (0, 0, 'move'), (None, None, 'exit')] 558\n",
      "[(12, 8, 'move'), (10, 9, 'move'), (0, 9, 'move'), (70, 50, 'tank'), (13, 4, 'move'), (16, 7, 'move'), (17, 6, 'move'), (15, 6, 'move'), (8, 3, 'move'), (5, 3, 'move'), (4, 3, 'move'), (0, 0, 'move'), (None, None, 'exit')] 523\n",
      "[(13, 4, 'move'), (0, 9, 'move')] 0\n",
      "[(15, 6, 'move'), (16, 7, 'move'), (8, 3, 'move'), (12, 8, 'move')] 0\n",
      "[(16, 1, 'move'), (8, 3, 'move'), (4, 3, 'move')] 0\n",
      "[(16, 7, 'move'), (18, 0, 'move'), (5, 3, 'move')] 0\n",
      "[(17, 6, 'move'), (16, 7, 'move'), (8, 3, 'move')] 0\n",
      "[(18, 0, 'move'), (12, 8, 'move')] 0\n",
      "[(0, 0, 'move'), (4, 3, 'move'), (0, 0, 'move'), (70, 50, 'tank'), (5, 3, 'move'), (8, 3, 'move'), (16, 7, 'move'), (15, 6, 'move'), (17, 6, 'move'), (12, 8, 'move'), (10, 9, 'move'), (0, 9, 'move'), (None, None, 'exit')] 457\n",
      "[(0, 9, 'move'), (4, 3, 'move'), (0, 0, 'move'), (70, 50, 'tank'), (8, 3, 'move'), (13, 4, 'move'), (15, 6, 'move'), (16, 7, 'move'), (17, 6, 'move'), (12, 8, 'move'), (10, 9, 'move'), (0, 9, 'move'), (None, None, 'exit')] 494\n"
     ]
    }
   ],
   "source": [
    "actions, scores = getActions(b3, 1, 50000, allRollouts = True)\n",
    "for i in range(len(scores)):\n",
    "    print(actions[i], scores[i])"
   ]
  },
  {
   "cell_type": "code",
   "execution_count": null,
   "metadata": {
    "collapsed": true
   },
   "outputs": [],
   "source": []
  }
 ],
 "metadata": {
  "kernelspec": {
   "display_name": "Python 3",
   "language": "python",
   "name": "python3"
  },
  "language_info": {
   "codemirror_mode": {
    "name": "ipython",
    "version": 3
   },
   "file_extension": ".py",
   "mimetype": "text/x-python",
   "name": "python",
   "nbconvert_exporter": "python",
   "pygments_lexer": "ipython3",
   "version": "3.7.0"
  }
 },
 "nbformat": 4,
 "nbformat_minor": 2
}
