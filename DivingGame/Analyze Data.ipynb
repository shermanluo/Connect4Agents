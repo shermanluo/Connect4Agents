{
 "cells": [
  {
   "cell_type": "code",
   "execution_count": 5,
   "metadata": {},
   "outputs": [],
   "source": [
    "from divegame import diveGame, zeroBoard\n",
    "import pickle\n",
    "from fatal_flaw import fatalFlaw\n",
    "import pdb\n",
    "from softmaxExplain import findStates2\n",
    "from datetime import datetime\n",
    "import random\n",
    "import pandas\n",
    "from experiment import reconstructStates"
   ]
  },
  {
   "cell_type": "code",
   "execution_count": 6,
   "metadata": {},
   "outputs": [],
   "source": [
    "f = open(\"Test State Q values\", 'rb')\n",
    "qvalues = pickle.load(f)\n",
    "datas = []"
   ]
  },
  {
   "cell_type": "code",
   "execution_count": 7,
   "metadata": {},
   "outputs": [],
   "source": [
    "vvalues = {}\n",
    "for state, action in qvalues:\n",
    "    if state not in vvalues:\n",
    "        vvalues[state] = qvalues[(state, action)]\n",
    "    else:\n",
    "        vvalues[state] = max(qvalues[(state, action)], vvalues[state])\n",
    "\n",
    "def process(name, expgroup):\n",
    "    f = open(\"playdata/\" + name, \"rb\")\n",
    "    f2 = open(\"playdata/\" + name + \"2\", \"rb\")\n",
    "    data = pickle.load(f)\n",
    "    data2 = pickle.load(f2)\n",
    "    d = {}\n",
    "    d['name'] = name\n",
    "    d['experiment group'] = expgroup\n",
    "    d['initial score'] = data['playthrough'][-1][0][-1].cash\n",
    "    d['mistake type'] = data['FatalFlawData'][-1]\n",
    "    d['group'] = data['group']\n",
    "    testStates = reconstructStates(pickle.load(open(\"group\" + str(data['group'])+ \"States\", \"rb\")))\n",
    "    for i in range(len(testStates)):\n",
    "        for j in range(len(testStates)):\n",
    "            if testStates[i] == data['testStates'][j][0]:\n",
    "                d[i + 1] = qvalues[(data['testStates'][j][0], data['testStates'][j][1])] / vvalues[data['testStates'][j][0]]\n",
    "    testStates = reconstructStates(pickle.load(open(\"General Test States\", \"rb\")))\n",
    "    for i in range(6, 12):\n",
    "        for j in range(6):\n",
    "            if testStates[i - 6] == data2['testStates'][j][0]:\n",
    "                d[i + 1] = qvalues[(data2['testStates'][j][0], data2['testStates'][j][1])] / vvalues[data2['testStates'][j][0]]\n",
    "    datas.append(d)\n",
    "\n",
    "process(\"calvin\", \"short explanation\")\n",
    "process(\"raymond\", \"short explanation\")\n",
    "process(\"kenneth\", \"short explanation\")\n",
    "process(\"sam\", \"short explanation\")\n",
    "process(\"stanley\", \"short explanation\")\n",
    "process(\"arvin\", \"short explanation\")\n",
    "\n",
    "process(\"jonny\", \"no explanation\")\n",
    "process(\"alex\", \"no explanation\")\n",
    "process(\"ket\", \"no explanation\")\n",
    "process(\"charlie\", \"no explanation\")\n",
    "process(\"aakash\", \"no explanation\")\n",
    "process(\"neel\", \"no explanation\")\n",
    "process(\"kartik\", \"no explanation\")\n",
    "process(\"sera\", \"no explanation\")\n",
    "\n",
    "\n",
    "process(\"aayush\", \"long explanation\")\n",
    "\n",
    "\n",
    "\n",
    "\n",
    "df = pandas.DataFrame(datas)                                                                                                                                                                                                                                                                                                                                                                                                                                                                                                                                                                                                                                                                                                                                                                                                                                                                                                                                                                                                                                                                                                                                                                                                                                                                                                                                                                                                                                                                                                                                                                                                                                                                                                                                                                                                                                                                                                                                                                                                                                                                                                                                                                                                                                                                                                                                                                                                                                                                                                                                                                                                                                                                                                                                                                                                                                                                                                                                                                                                                                                                                                                                                                                                                                                                                                                                                                                                                                                                                                                                                                                                                                                                                                                                                                                                                                                                                                                                                                                                                                                                                                                                                                                                                                                                                                                                                                                                                                                                                                                                                                                                                                                                                                                                                                                                                                                                                                                                                                                                                                                                                                                                                                                                                                                                                                                                                                                                                                                                                                                                                                                                                                                                                                                                                                                                                                                                                                                                                                                                                                                                                                                                                                                                                                                                                                                                                                                                                                                                                                                                                                                                                                                                                                                                                                                                                                                                                                                                                                                                                                                                                                                                                                                                                                                                                                                                                                                                                                 "
   ]
  },
  {
   "cell_type": "code",
   "execution_count": 8,
   "metadata": {},
   "outputs": [
    {
     "data": {
      "text/html": [
       "<div>\n",
       "<style scoped>\n",
       "    .dataframe tbody tr th:only-of-type {\n",
       "        vertical-align: middle;\n",
       "    }\n",
       "\n",
       "    .dataframe tbody tr th {\n",
       "        vertical-align: top;\n",
       "    }\n",
       "\n",
       "    .dataframe thead th {\n",
       "        text-align: right;\n",
       "    }\n",
       "</style>\n",
       "<table border=\"1\" class=\"dataframe\">\n",
       "  <thead>\n",
       "    <tr style=\"text-align: right;\">\n",
       "      <th></th>\n",
       "      <th>experiment group</th>\n",
       "      <th>group</th>\n",
       "      <th>initial score</th>\n",
       "      <th>mistake type</th>\n",
       "      <th>name</th>\n",
       "      <th>1</th>\n",
       "      <th>2</th>\n",
       "      <th>3</th>\n",
       "      <th>4</th>\n",
       "      <th>5</th>\n",
       "      <th>6</th>\n",
       "      <th>7</th>\n",
       "      <th>8</th>\n",
       "      <th>9</th>\n",
       "      <th>10</th>\n",
       "      <th>11</th>\n",
       "      <th>12</th>\n",
       "    </tr>\n",
       "  </thead>\n",
       "  <tbody>\n",
       "    <tr>\n",
       "      <th>0</th>\n",
       "      <td>short explanation</td>\n",
       "      <td>1</td>\n",
       "      <td>0</td>\n",
       "      <td>CorrectionType.J</td>\n",
       "      <td>calvin</td>\n",
       "      <td>1.000000</td>\n",
       "      <td>1.000000</td>\n",
       "      <td>1.000000</td>\n",
       "      <td>1.000000</td>\n",
       "      <td>0.754950</td>\n",
       "      <td>0.958005</td>\n",
       "      <td>1.000000</td>\n",
       "      <td>1.000000</td>\n",
       "      <td>1.000000</td>\n",
       "      <td>1.000000</td>\n",
       "      <td>0.847291</td>\n",
       "      <td>1.000000</td>\n",
       "    </tr>\n",
       "    <tr>\n",
       "      <th>1</th>\n",
       "      <td>short explanation</td>\n",
       "      <td>1</td>\n",
       "      <td>258</td>\n",
       "      <td>CorrectionType.J</td>\n",
       "      <td>raymond</td>\n",
       "      <td>1.000000</td>\n",
       "      <td>1.000000</td>\n",
       "      <td>1.000000</td>\n",
       "      <td>1.000000</td>\n",
       "      <td>0.299505</td>\n",
       "      <td>1.000000</td>\n",
       "      <td>0.685649</td>\n",
       "      <td>1.000000</td>\n",
       "      <td>1.000000</td>\n",
       "      <td>1.000000</td>\n",
       "      <td>0.847291</td>\n",
       "      <td>1.000000</td>\n",
       "    </tr>\n",
       "    <tr>\n",
       "      <th>2</th>\n",
       "      <td>short explanation</td>\n",
       "      <td>1</td>\n",
       "      <td>0</td>\n",
       "      <td>CorrectionType.J</td>\n",
       "      <td>kenneth</td>\n",
       "      <td>1.000000</td>\n",
       "      <td>0.760331</td>\n",
       "      <td>1.000000</td>\n",
       "      <td>0.490909</td>\n",
       "      <td>0.299505</td>\n",
       "      <td>0.000000</td>\n",
       "      <td>0.685649</td>\n",
       "      <td>1.000000</td>\n",
       "      <td>1.000000</td>\n",
       "      <td>0.902314</td>\n",
       "      <td>0.847291</td>\n",
       "      <td>0.838337</td>\n",
       "    </tr>\n",
       "    <tr>\n",
       "      <th>3</th>\n",
       "      <td>short explanation</td>\n",
       "      <td>1</td>\n",
       "      <td>97</td>\n",
       "      <td>CorrectionType.B</td>\n",
       "      <td>sam</td>\n",
       "      <td>1.000000</td>\n",
       "      <td>1.000000</td>\n",
       "      <td>1.000000</td>\n",
       "      <td>1.000000</td>\n",
       "      <td>0.754950</td>\n",
       "      <td>1.000000</td>\n",
       "      <td>0.685649</td>\n",
       "      <td>1.000000</td>\n",
       "      <td>1.000000</td>\n",
       "      <td>1.000000</td>\n",
       "      <td>0.640394</td>\n",
       "      <td>0.937644</td>\n",
       "    </tr>\n",
       "    <tr>\n",
       "      <th>4</th>\n",
       "      <td>short explanation</td>\n",
       "      <td>3</td>\n",
       "      <td>88</td>\n",
       "      <td>CorrectionType.I</td>\n",
       "      <td>stanley</td>\n",
       "      <td>0.870423</td>\n",
       "      <td>0.866953</td>\n",
       "      <td>0.775244</td>\n",
       "      <td>1.000000</td>\n",
       "      <td>1.000000</td>\n",
       "      <td>1.000000</td>\n",
       "      <td>1.000000</td>\n",
       "      <td>1.000000</td>\n",
       "      <td>1.000000</td>\n",
       "      <td>1.000000</td>\n",
       "      <td>1.000000</td>\n",
       "      <td>1.000000</td>\n",
       "    </tr>\n",
       "    <tr>\n",
       "      <th>5</th>\n",
       "      <td>short explanation</td>\n",
       "      <td>2</td>\n",
       "      <td>222</td>\n",
       "      <td>CorrectionType.E</td>\n",
       "      <td>arvin</td>\n",
       "      <td>1.000000</td>\n",
       "      <td>1.000000</td>\n",
       "      <td>1.000000</td>\n",
       "      <td>1.000000</td>\n",
       "      <td>1.000000</td>\n",
       "      <td>0.922330</td>\n",
       "      <td>1.000000</td>\n",
       "      <td>0.654545</td>\n",
       "      <td>1.000000</td>\n",
       "      <td>0.845758</td>\n",
       "      <td>0.640394</td>\n",
       "      <td>0.937644</td>\n",
       "    </tr>\n",
       "    <tr>\n",
       "      <th>6</th>\n",
       "      <td>no explanation</td>\n",
       "      <td>3</td>\n",
       "      <td>0</td>\n",
       "      <td>CorrectionType.K</td>\n",
       "      <td>jonny</td>\n",
       "      <td>0.870423</td>\n",
       "      <td>0.866953</td>\n",
       "      <td>1.000000</td>\n",
       "      <td>0.000000</td>\n",
       "      <td>1.000000</td>\n",
       "      <td>1.000000</td>\n",
       "      <td>1.000000</td>\n",
       "      <td>1.000000</td>\n",
       "      <td>1.000000</td>\n",
       "      <td>1.000000</td>\n",
       "      <td>1.000000</td>\n",
       "      <td>0.937644</td>\n",
       "    </tr>\n",
       "    <tr>\n",
       "      <th>7</th>\n",
       "      <td>no explanation</td>\n",
       "      <td>1</td>\n",
       "      <td>0</td>\n",
       "      <td>CorrectionType.A</td>\n",
       "      <td>alex</td>\n",
       "      <td>1.000000</td>\n",
       "      <td>0.793388</td>\n",
       "      <td>0.653226</td>\n",
       "      <td>0.639669</td>\n",
       "      <td>0.903465</td>\n",
       "      <td>1.000000</td>\n",
       "      <td>0.685649</td>\n",
       "      <td>0.542424</td>\n",
       "      <td>1.000000</td>\n",
       "      <td>1.000000</td>\n",
       "      <td>1.000000</td>\n",
       "      <td>0.789838</td>\n",
       "    </tr>\n",
       "    <tr>\n",
       "      <th>8</th>\n",
       "      <td>no explanation</td>\n",
       "      <td>2</td>\n",
       "      <td>222</td>\n",
       "      <td>CorrectionType.E</td>\n",
       "      <td>ket</td>\n",
       "      <td>1.000000</td>\n",
       "      <td>1.000000</td>\n",
       "      <td>0.673684</td>\n",
       "      <td>1.000000</td>\n",
       "      <td>0.708738</td>\n",
       "      <td>1.000000</td>\n",
       "      <td>0.685649</td>\n",
       "      <td>1.000000</td>\n",
       "      <td>1.000000</td>\n",
       "      <td>0.845758</td>\n",
       "      <td>0.561576</td>\n",
       "      <td>1.000000</td>\n",
       "    </tr>\n",
       "    <tr>\n",
       "      <th>9</th>\n",
       "      <td>no explanation</td>\n",
       "      <td>2</td>\n",
       "      <td>119</td>\n",
       "      <td>CorrectionType.D</td>\n",
       "      <td>charlie</td>\n",
       "      <td>0.606771</td>\n",
       "      <td>0.898305</td>\n",
       "      <td>1.000000</td>\n",
       "      <td>0.435897</td>\n",
       "      <td>0.000000</td>\n",
       "      <td>0.980583</td>\n",
       "      <td>0.685649</td>\n",
       "      <td>1.000000</td>\n",
       "      <td>1.000000</td>\n",
       "      <td>1.000000</td>\n",
       "      <td>0.640394</td>\n",
       "      <td>1.000000</td>\n",
       "    </tr>\n",
       "    <tr>\n",
       "      <th>10</th>\n",
       "      <td>no explanation</td>\n",
       "      <td>2</td>\n",
       "      <td>139</td>\n",
       "      <td>CorrectionType.E</td>\n",
       "      <td>aakash</td>\n",
       "      <td>1.000000</td>\n",
       "      <td>0.898305</td>\n",
       "      <td>1.000000</td>\n",
       "      <td>1.000000</td>\n",
       "      <td>0.708738</td>\n",
       "      <td>1.000000</td>\n",
       "      <td>0.478360</td>\n",
       "      <td>1.000000</td>\n",
       "      <td>1.000000</td>\n",
       "      <td>1.000000</td>\n",
       "      <td>1.000000</td>\n",
       "      <td>1.000000</td>\n",
       "    </tr>\n",
       "    <tr>\n",
       "      <th>11</th>\n",
       "      <td>no explanation</td>\n",
       "      <td>1</td>\n",
       "      <td>0</td>\n",
       "      <td>CorrectionType.A</td>\n",
       "      <td>neel</td>\n",
       "      <td>1.000000</td>\n",
       "      <td>1.000000</td>\n",
       "      <td>0.580645</td>\n",
       "      <td>1.000000</td>\n",
       "      <td>0.754950</td>\n",
       "      <td>0.986877</td>\n",
       "      <td>0.685649</td>\n",
       "      <td>1.000000</td>\n",
       "      <td>1.000000</td>\n",
       "      <td>0.902314</td>\n",
       "      <td>0.847291</td>\n",
       "      <td>1.000000</td>\n",
       "    </tr>\n",
       "    <tr>\n",
       "      <th>12</th>\n",
       "      <td>no explanation</td>\n",
       "      <td>1</td>\n",
       "      <td>118</td>\n",
       "      <td>CorrectionType.B</td>\n",
       "      <td>kartik</td>\n",
       "      <td>1.000000</td>\n",
       "      <td>0.760331</td>\n",
       "      <td>1.000000</td>\n",
       "      <td>0.639669</td>\n",
       "      <td>0.754950</td>\n",
       "      <td>1.000000</td>\n",
       "      <td>0.000000</td>\n",
       "      <td>1.000000</td>\n",
       "      <td>0.865429</td>\n",
       "      <td>1.000000</td>\n",
       "      <td>0.561576</td>\n",
       "      <td>0.789838</td>\n",
       "    </tr>\n",
       "    <tr>\n",
       "      <th>13</th>\n",
       "      <td>no explanation</td>\n",
       "      <td>2</td>\n",
       "      <td>222</td>\n",
       "      <td>CorrectionType.E</td>\n",
       "      <td>sera</td>\n",
       "      <td>0.768229</td>\n",
       "      <td>1.000000</td>\n",
       "      <td>1.000000</td>\n",
       "      <td>1.000000</td>\n",
       "      <td>1.000000</td>\n",
       "      <td>1.000000</td>\n",
       "      <td>0.685649</td>\n",
       "      <td>1.000000</td>\n",
       "      <td>1.000000</td>\n",
       "      <td>0.902314</td>\n",
       "      <td>0.640394</td>\n",
       "      <td>1.000000</td>\n",
       "    </tr>\n",
       "    <tr>\n",
       "      <th>14</th>\n",
       "      <td>long explanation</td>\n",
       "      <td>1</td>\n",
       "      <td>0</td>\n",
       "      <td>CorrectionType.A</td>\n",
       "      <td>aayush</td>\n",
       "      <td>1.000000</td>\n",
       "      <td>0.760331</td>\n",
       "      <td>1.000000</td>\n",
       "      <td>0.449587</td>\n",
       "      <td>0.754950</td>\n",
       "      <td>1.000000</td>\n",
       "      <td>1.000000</td>\n",
       "      <td>1.000000</td>\n",
       "      <td>1.000000</td>\n",
       "      <td>1.000000</td>\n",
       "      <td>0.640394</td>\n",
       "      <td>1.000000</td>\n",
       "    </tr>\n",
       "  </tbody>\n",
       "</table>\n",
       "</div>"
      ],
      "text/plain": [
       "     experiment group  group  initial score      mistake type     name  \\\n",
       "0   short explanation      1              0  CorrectionType.J   calvin   \n",
       "1   short explanation      1            258  CorrectionType.J  raymond   \n",
       "2   short explanation      1              0  CorrectionType.J  kenneth   \n",
       "3   short explanation      1             97  CorrectionType.B      sam   \n",
       "4   short explanation      3             88  CorrectionType.I  stanley   \n",
       "5   short explanation      2            222  CorrectionType.E    arvin   \n",
       "6      no explanation      3              0  CorrectionType.K    jonny   \n",
       "7      no explanation      1              0  CorrectionType.A     alex   \n",
       "8      no explanation      2            222  CorrectionType.E      ket   \n",
       "9      no explanation      2            119  CorrectionType.D  charlie   \n",
       "10     no explanation      2            139  CorrectionType.E   aakash   \n",
       "11     no explanation      1              0  CorrectionType.A     neel   \n",
       "12     no explanation      1            118  CorrectionType.B   kartik   \n",
       "13     no explanation      2            222  CorrectionType.E     sera   \n",
       "14   long explanation      1              0  CorrectionType.A   aayush   \n",
       "\n",
       "           1         2         3         4         5         6         7  \\\n",
       "0   1.000000  1.000000  1.000000  1.000000  0.754950  0.958005  1.000000   \n",
       "1   1.000000  1.000000  1.000000  1.000000  0.299505  1.000000  0.685649   \n",
       "2   1.000000  0.760331  1.000000  0.490909  0.299505  0.000000  0.685649   \n",
       "3   1.000000  1.000000  1.000000  1.000000  0.754950  1.000000  0.685649   \n",
       "4   0.870423  0.866953  0.775244  1.000000  1.000000  1.000000  1.000000   \n",
       "5   1.000000  1.000000  1.000000  1.000000  1.000000  0.922330  1.000000   \n",
       "6   0.870423  0.866953  1.000000  0.000000  1.000000  1.000000  1.000000   \n",
       "7   1.000000  0.793388  0.653226  0.639669  0.903465  1.000000  0.685649   \n",
       "8   1.000000  1.000000  0.673684  1.000000  0.708738  1.000000  0.685649   \n",
       "9   0.606771  0.898305  1.000000  0.435897  0.000000  0.980583  0.685649   \n",
       "10  1.000000  0.898305  1.000000  1.000000  0.708738  1.000000  0.478360   \n",
       "11  1.000000  1.000000  0.580645  1.000000  0.754950  0.986877  0.685649   \n",
       "12  1.000000  0.760331  1.000000  0.639669  0.754950  1.000000  0.000000   \n",
       "13  0.768229  1.000000  1.000000  1.000000  1.000000  1.000000  0.685649   \n",
       "14  1.000000  0.760331  1.000000  0.449587  0.754950  1.000000  1.000000   \n",
       "\n",
       "           8         9        10        11        12  \n",
       "0   1.000000  1.000000  1.000000  0.847291  1.000000  \n",
       "1   1.000000  1.000000  1.000000  0.847291  1.000000  \n",
       "2   1.000000  1.000000  0.902314  0.847291  0.838337  \n",
       "3   1.000000  1.000000  1.000000  0.640394  0.937644  \n",
       "4   1.000000  1.000000  1.000000  1.000000  1.000000  \n",
       "5   0.654545  1.000000  0.845758  0.640394  0.937644  \n",
       "6   1.000000  1.000000  1.000000  1.000000  0.937644  \n",
       "7   0.542424  1.000000  1.000000  1.000000  0.789838  \n",
       "8   1.000000  1.000000  0.845758  0.561576  1.000000  \n",
       "9   1.000000  1.000000  1.000000  0.640394  1.000000  \n",
       "10  1.000000  1.000000  1.000000  1.000000  1.000000  \n",
       "11  1.000000  1.000000  0.902314  0.847291  1.000000  \n",
       "12  1.000000  0.865429  1.000000  0.561576  0.789838  \n",
       "13  1.000000  1.000000  0.902314  0.640394  1.000000  \n",
       "14  1.000000  1.000000  1.000000  0.640394  1.000000  "
      ]
     },
     "execution_count": 8,
     "metadata": {},
     "output_type": "execute_result"
    }
   ],
   "source": [
    "df \n",
    "#7 & 8 is group 1\n",
    "#9 & 10 group 2\n",
    "#11 & 12 group 3"
   ]
  },
  {
   "cell_type": "code",
   "execution_count": 187,
   "metadata": {},
   "outputs": [
    {
     "data": {
      "text/plain": [
       "5.712955"
      ]
     },
     "execution_count": 187,
     "metadata": {},
     "output_type": "execute_result"
    }
   ],
   "source": [
    "1.000000 + 1.000000 + 1.000000 + 1.000000 + 0.754950 + 0.958005 #"
   ]
  },
  {
   "cell_type": "code",
   "execution_count": 174,
   "metadata": {},
   "outputs": [
    {
     "data": {
      "text/plain": [
       "5.299505"
      ]
     },
     "execution_count": 174,
     "metadata": {},
     "output_type": "execute_result"
    }
   ],
   "source": [
    "1.000000 + 1.000000 + 1.000000 + 1.000000 + 0.299505 + 1.000000 "
   ]
  },
  {
   "cell_type": "code",
   "execution_count": 175,
   "metadata": {},
   "outputs": [
    {
     "data": {
      "text/plain": [
       "3.5507449999999996"
      ]
     },
     "execution_count": 175,
     "metadata": {},
     "output_type": "execute_result"
    }
   ],
   "source": [
    "1.000000 + 0.760331 + 1.000000 + 0.490909 + 0.299505 + 0.000000 #"
   ]
  },
  {
   "cell_type": "code",
   "execution_count": 176,
   "metadata": {},
   "outputs": [
    {
     "data": {
      "text/plain": [
       "5.75495"
      ]
     },
     "execution_count": 176,
     "metadata": {},
     "output_type": "execute_result"
    }
   ],
   "source": [
    "1.000000 + 1.000000 + 1.000000 + 1.000000 + 0.754950 + 1.000000 #"
   ]
  },
  {
   "cell_type": "code",
   "execution_count": 179,
   "metadata": {},
   "outputs": [
    {
     "data": {
      "text/plain": [
       "4.964868"
      ]
     },
     "execution_count": 179,
     "metadata": {},
     "output_type": "execute_result"
    }
   ],
   "source": [
    "1.000000 + 0.760331 + 1.000000 + 0.449587 + 0.754950 + 1.000000 # \n"
   ]
  },
  {
   "cell_type": "code",
   "execution_count": null,
   "metadata": {},
   "outputs": [],
   "source": []
  },
  {
   "cell_type": "code",
   "execution_count": null,
   "metadata": {},
   "outputs": [],
   "source": []
  },
  {
   "cell_type": "code",
   "execution_count": null,
   "metadata": {},
   "outputs": [],
   "source": []
  },
  {
   "cell_type": "code",
   "execution_count": null,
   "metadata": {},
   "outputs": [],
   "source": []
  },
  {
   "cell_type": "code",
   "execution_count": null,
   "metadata": {},
   "outputs": [],
   "source": []
  },
  {
   "cell_type": "code",
   "execution_count": 177,
   "metadata": {},
   "outputs": [
    {
     "data": {
      "text/plain": [
       "4.989748"
      ]
     },
     "execution_count": 177,
     "metadata": {},
     "output_type": "execute_result"
    }
   ],
   "source": [
    "1.000000 + 0.793388 + 0.653226 + 0.639669 + 0.903465 + 1.000000"
   ]
  },
  {
   "cell_type": "code",
   "execution_count": 178,
   "metadata": {},
   "outputs": [
    {
     "data": {
      "text/plain": [
       "5.322471999999999"
      ]
     },
     "execution_count": 178,
     "metadata": {},
     "output_type": "execute_result"
    }
   ],
   "source": [
    "1.000000 + 1.000000 + 0.580645 + 1.000000 + 0.754950 + 0.986877"
   ]
  },
  {
   "cell_type": "code",
   "execution_count": 188,
   "metadata": {},
   "outputs": [
    {
     "data": {
      "text/plain": [
       "5.1549499999999995"
      ]
     },
     "execution_count": 188,
     "metadata": {},
     "output_type": "execute_result"
    }
   ],
   "source": [
    "1.000000 + 0.760331 + 1.000000 + 0.639669 + 0.754950 + 1.000000"
   ]
  },
  {
   "cell_type": "code",
   "execution_count": null,
   "metadata": {},
   "outputs": [],
   "source": []
  }
 ],
 "metadata": {
  "kernelspec": {
   "display_name": "Python 3",
   "language": "python",
   "name": "python3"
  },
  "language_info": {
   "codemirror_mode": {
    "name": "ipython",
    "version": 3
   },
   "file_extension": ".py",
   "mimetype": "text/x-python",
   "name": "python",
   "nbconvert_exporter": "python",
   "pygments_lexer": "ipython3",
   "version": "3.7.0"
  }
 },
 "nbformat": 4,
 "nbformat_minor": 2
}
