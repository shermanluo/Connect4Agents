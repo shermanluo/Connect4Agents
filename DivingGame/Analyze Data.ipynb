{
 "cells": [
  {
   "cell_type": "code",
   "execution_count": 1,
   "metadata": {},
   "outputs": [],
   "source": [
    "from divegame import diveGame, zeroBoard\n",
    "import pickle\n",
    "from fatal_flaw import fatalFlaw\n",
    "import pdb\n",
    "from softmaxExplain import findStates2\n",
    "from datetime import datetime\n",
    "import random\n"
   ]
  },
  {
   "cell_type": "code",
   "execution_count": 16,
   "metadata": {},
   "outputs": [],
   "source": [
    "datas = []\n",
    "f = open(\"playdata/calvin\", \"rb\")\n",
    "f2 = open(\"playdata/calvin2\", \"rb\")\n",
    "data = pickle.load(f)\n",
    "data2 = pickle.load(f2)\n",
    "datas.append((data, data2))\n",
    "f = open(\"playdata/kenneth\", \"rb\")\n",
    "f2 = open(\"playdata/kenneth2\", \"rb\")\n",
    "data = pickle.load(f)\n",
    "data2 = pickle.load(f2)\n",
    "datas.append((data, data2))\n",
    "f = open(\"playdata/stanley\", \"rb\")\n",
    "f2 = open(\"playdata/stanley2\", \"rb\")\n",
    "data = pickle.load(f)\n",
    "data2 = pickle.load(f2)\n",
    "datas.append((data, data2))"
   ]
  },
  {
   "cell_type": "code",
   "execution_count": 36,
   "metadata": {},
   "outputs": [
    {
     "data": {
      "text/plain": [
       "dict_keys(['playthrough', 'playthroughTimes', 'clicks', 'FatalFlawData', 'group', 'idxs', 'ShowRolloutActions', 'ShowRolloutTimes', 'testStates', 'testStatesTimes'])"
      ]
     },
     "execution_count": 36,
     "metadata": {},
     "output_type": "execute_result"
    }
   ],
   "source": [
    "data = datas[2][0]\n",
    "data.keys()"
   ]
  },
  {
   "cell_type": "code",
   "execution_count": 37,
   "metadata": {},
   "outputs": [
    {
     "data": {
      "text/plain": [
       "3"
      ]
     },
     "execution_count": 37,
     "metadata": {},
     "output_type": "execute_result"
    }
   ],
   "source": [
    "data['group']"
   ]
  },
  {
   "cell_type": "code",
   "execution_count": null,
   "metadata": {},
   "outputs": [],
   "source": []
  }
 ],
 "metadata": {
  "kernelspec": {
   "display_name": "Python 3",
   "language": "python",
   "name": "python3"
  },
  "language_info": {
   "codemirror_mode": {
    "name": "ipython",
    "version": 3
   },
   "file_extension": ".py",
   "mimetype": "text/x-python",
   "name": "python",
   "nbconvert_exporter": "python",
   "pygments_lexer": "ipython3",
   "version": "3.7.0"
  }
 },
 "nbformat": 4,
 "nbformat_minor": 2
}
