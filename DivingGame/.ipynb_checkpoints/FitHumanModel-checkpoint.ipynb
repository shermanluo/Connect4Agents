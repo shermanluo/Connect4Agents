{
 "cells": [
  {
   "cell_type": "code",
   "execution_count": 2,
   "metadata": {},
   "outputs": [],
   "source": [
    "import m2\n",
    "import numpy as np\n",
    "import pickle\n",
    "from Agent import MaxAgent\n",
    "import math\n",
    "\n"
   ]
  },
  {
   "cell_type": "code",
   "execution_count": 4,
   "metadata": {},
   "outputs": [
    {
     "name": "stdout",
     "output_type": "stream",
     "text": [
      "(153, [(Cash: 0, (1, 5, 'move')), (Cash: 0, (3, 9, 'move')), (Cash: 0, (3, 2, 'move')), (Cash: 0, (0, 0, 'move')), (Cash: 47, (45, 45, 'tank')), (Cash: 2, (19, 2, 'move')), (Cash: 2, (0, 0, 'move')), (Cash: 153, (None, None, 'exit'))])\n"
     ]
    },
    {
     "ename": "TypeError",
     "evalue": "cannot unpack non-iterable int object",
     "output_type": "error",
     "traceback": [
      "\u001b[1;31m---------------------------------------------------------------------------\u001b[0m",
      "\u001b[1;31mTypeError\u001b[0m                                 Traceback (most recent call last)",
      "\u001b[1;32m<ipython-input-4-a2b031153f6c>\u001b[0m in \u001b[0;36m<module>\u001b[1;34m()\u001b[0m\n\u001b[0;32m      4\u001b[0m \u001b[0mprint\u001b[0m\u001b[1;33m(\u001b[0m\u001b[0mdata\u001b[0m\u001b[1;33m)\u001b[0m\u001b[1;33m\u001b[0m\u001b[0m\n\u001b[0;32m      5\u001b[0m \u001b[0mstateActions\u001b[0m \u001b[1;33m=\u001b[0m \u001b[1;33m[\u001b[0m\u001b[1;33m]\u001b[0m\u001b[1;33m\u001b[0m\u001b[0m\n\u001b[1;32m----> 6\u001b[1;33m \u001b[1;32mfor\u001b[0m \u001b[0mstart\u001b[0m\u001b[1;33m,\u001b[0m \u001b[0mactions\u001b[0m \u001b[1;32min\u001b[0m \u001b[0mdata\u001b[0m\u001b[1;33m:\u001b[0m\u001b[1;33m\u001b[0m\u001b[0m\n\u001b[0m\u001b[0;32m      7\u001b[0m     \u001b[1;32mfor\u001b[0m \u001b[0maction\u001b[0m \u001b[1;32min\u001b[0m \u001b[0mactions\u001b[0m\u001b[1;33m:\u001b[0m\u001b[1;33m\u001b[0m\u001b[0m\n\u001b[0;32m      8\u001b[0m         \u001b[0mstateActions\u001b[0m\u001b[1;33m.\u001b[0m\u001b[0mappend\u001b[0m\u001b[1;33m(\u001b[0m\u001b[1;33m(\u001b[0m\u001b[0mstart\u001b[0m\u001b[1;33m,\u001b[0m \u001b[0maction\u001b[0m\u001b[1;33m)\u001b[0m\u001b[1;33m)\u001b[0m\u001b[1;33m\u001b[0m\u001b[0m\n",
      "\u001b[1;31mTypeError\u001b[0m: cannot unpack non-iterable int object"
     ]
    }
   ],
   "source": [
    "\n",
    "f = open('playdata/balvin1', 'rb')\n",
    "data = pickle.load(f)[1:]\n",
    "print(data)\n",
    "stateActions = []\n",
    "for start, actions in data:\n",
    "    for action in actions:\n",
    "        stateActions.append((start, action))\n",
    "        start = start.getSuccessor(action)[0]\n",
    "stateActions\n",
    "    "
   ]
  },
  {
   "cell_type": "code",
   "execution_count": 6,
   "metadata": {},
   "outputs": [],
   "source": [
    "def generateKdata(k):\n",
    "    data = []\n",
    "    agent = MaxAgent(depth = k - 1)\n",
    "    for state, action in stateActions:\n",
    "        index = None\n",
    "        values = []\n",
    "        for i, move in enumerate(state.getLegalActions()):\n",
    "            if action == move:\n",
    "                index = i\n",
    "            nextState, reward = state.getSuccessor(move)\n",
    "            reward += agent.value(nextState)[0]\n",
    "            values.append(reward)\n",
    "        data.append((index, values))\n",
    "    return data   \n",
    "                \n",
    "        \n",
    "        "
   ]
  },
  {
   "cell_type": "code",
   "execution_count": 44,
   "metadata": {},
   "outputs": [],
   "source": [
    "def generateQdata(iters):\n",
    "    data = []\n",
    "    for state, action in stateActions:\n",
    "        index = None\n",
    "        values = []\n",
    "        for i, move in enumerate(state.getLegalActions()):\n",
    "            if action == move:\n",
    "                index = i\n",
    "            nextState, reward = state.getSuccessor(move)\n",
    "            _, _, scores, _ = m2.getRollout(nextState, iters)\n",
    "            values.append(scores[-1])\n",
    "        data.append((index, values))\n",
    "    return data   "
   ]
  },
  {
   "cell_type": "code",
   "execution_count": 105,
   "metadata": {},
   "outputs": [],
   "source": [
    "qdata = generateQdata(100000)"
   ]
  },
  {
   "cell_type": "code",
   "execution_count": 87,
   "metadata": {},
   "outputs": [],
   "source": [
    "kdata = generateKdata(3)"
   ]
  },
  {
   "cell_type": "code",
   "execution_count": 310,
   "metadata": {},
   "outputs": [],
   "source": [
    "k3data = kdata"
   ]
  },
  {
   "cell_type": "code",
   "execution_count": 311,
   "metadata": {},
   "outputs": [],
   "source": [
    "k2data = generateKdata(2)"
   ]
  },
  {
   "cell_type": "code",
   "execution_count": 312,
   "metadata": {},
   "outputs": [],
   "source": [
    "k1data = generateKdata(1)"
   ]
  },
  {
   "cell_type": "code",
   "execution_count": 301,
   "metadata": {},
   "outputs": [],
   "source": [
    "def calculate(data, alpha):\n",
    "    arr = []\n",
    "    for a, b in data:\n",
    "        total = 0\n",
    "        for num in b:\n",
    "            total += pow(math.e, alpha * num)\n",
    "        if total == 0:\n",
    "            arr.append(1 / len(b))\n",
    "        else:\n",
    "            arr.append(pow(math.e, alpha * b[a]) / total)\n",
    "    return np.array(arr, dtype=np.float64)"
   ]
  },
  {
   "cell_type": "code",
   "execution_count": 104,
   "metadata": {
    "scrolled": true
   },
   "outputs": [],
   "source": [
    "karr = calculate(kdata, 0.1)"
   ]
  },
  {
   "cell_type": "code",
   "execution_count": 110,
   "metadata": {},
   "outputs": [],
   "source": [
    "qarr = calculate(qdata, 0.04)"
   ]
  },
  {
   "cell_type": "code",
   "execution_count": 158,
   "metadata": {},
   "outputs": [],
   "source": [
    "mat = np.column_stack((karr, qarr))"
   ]
  },
  {
   "cell_type": "code",
   "execution_count": 174,
   "metadata": {},
   "outputs": [
    {
     "name": "stdout",
     "output_type": "stream",
     "text": [
      "Optimization terminated successfully.    (Exit mode 0)\n",
      "            Current function value: 18.71589702287629\n",
      "            Iterations: 3\n",
      "            Function evaluations: 13\n",
      "            Gradient evaluations: 3\n",
      "[0.33828651 0.66171349]\n"
     ]
    }
   ],
   "source": [
    "import numpy as np\n",
    "from scipy.optimize import minimize\n",
    "\n",
    "m = mat\n",
    "b = np.array([1 for _ in range(51)])\n",
    "\n",
    "\n",
    "def loss(x):\n",
    "    return np.sum(np.square((np.dot(mat, x) - b)))\n",
    "\n",
    "cons = ({'type': 'eq',\n",
    "         'fun' : lambda x: np.sum(x) - 1.0})\n",
    "\n",
    "res = minimize(loss, x0 =[0,0], method='SLSQP', constraints=cons, options={'disp': True})\n",
    "\n",
    "print(res.x)\n",
    "\n"
   ]
  },
  {
   "cell_type": "code",
   "execution_count": 296,
   "metadata": {},
   "outputs": [
    {
     "name": "stdout",
     "output_type": "stream",
     "text": [
      "Optimization terminated successfully.    (Exit mode 0)\n",
      "            Current function value: 51.24533093196085\n",
      "            Iterations: 4\n",
      "            Function evaluations: 17\n",
      "            Gradient evaluations: 4\n",
      "[0.32878234 0.67121766]\n"
     ]
    }
   ],
   "source": [
    "def loss(x):\n",
    "    return -np.sum(np.log(np.dot(mat, x)))\n",
    "\n",
    "cons = ({'type': 'eq',\n",
    "         'fun' : lambda x: np.sum(x) - 1.0},\n",
    "       {'type': 'ineq',\n",
    "         'fun' : lambda x: x[0]},\n",
    "        {'type': 'ineq',\n",
    "         'fun' : lambda x: x[1]}\n",
    "       )\n",
    "\n",
    "res = minimize(loss, x0 =[0.1,0.9], method='SLSQP', constraints=cons, options={'disp': True})\n",
    "print(res.x)\n",
    "\n",
    "\n",
    "# argmax_model P(model | F1 F2 F3 F4 F5 ...)\n",
    "#  = argmax_model P(model F1 F2 F3 ...)\n",
    "#  = argmax_model P(F1 F2 F3 ... | model)P(model)\n",
    "#  = argmax_model P(F1 | model) * .... P(model)\n",
    "    \n",
    "#  ~argmax_model P(F1 F2 F3 ... | model)\n",
    "\n"
   ]
  },
  {
   "cell_type": "code",
   "execution_count": 315,
   "metadata": {},
   "outputs": [],
   "source": [
    "def mix(datas, weights):\n",
    "    data = []\n",
    "    for i in range(len(datas[0])):\n",
    "        total = [0 for _ in range(len(datas[0][i][1]))]\n",
    "        for j in range(len(datas)):\n",
    "            for k in range(len(datas[j][i][1])):\n",
    "                total[k] += weights[j] * datas[j][i][1][k]\n",
    "        data.append((datas[0][i][0], total))\n",
    "    return data\n",
    "#i is sample index, j is dataset index, k is value index\n",
    "    "
   ]
  },
  {
   "cell_type": "code",
   "execution_count": 316,
   "metadata": {},
   "outputs": [
    {
     "name": "stdout",
     "output_type": "stream",
     "text": [
      "Optimization terminated successfully.    (Exit mode 0)\n",
      "            Current function value: 16.838406913715108\n",
      "            Iterations: 17\n",
      "            Function evaluations: 127\n",
      "            Gradient evaluations: 17\n",
      "[3.70436800e-15 3.75235610e-02 3.31178219e-01 6.31298220e-01\n",
      " 5.33463555e-01]\n"
     ]
    }
   ],
   "source": [
    "def loss(x):\n",
    "    return np.sum(np.square(calculate(mix([k1data, k2data, k3data, qdata], x[0:4]), x[4]) - b))\n",
    "#x[0:4] are the linear weights\n",
    "#x[4] is the alpha value\n",
    "#mix applies the weights to the valuations of the actions by the different agents and combines them into one\n",
    "#calculate does the softmax probability calculation based on x[4], the action chosen, and the valuations of each action\n",
    "\n",
    "b = np.array([1 for _ in range(51)])\n",
    "\n",
    "cons = ({'type': 'eq',\n",
    "         'fun' : lambda x: np.sum(x[0:4]) - 1.0},\n",
    "       {'type': 'ineq',\n",
    "         'fun' : lambda x: x[0]},\n",
    "        {'type': 'ineq',\n",
    "         'fun' : lambda x: x[1]},\n",
    "       {'type': 'ineq',\n",
    "         'fun' : lambda x: x[2]},\n",
    "        {'type': 'ineq',\n",
    "         'fun' : lambda x: x[3]})\n",
    "\n",
    "res = minimize(loss, x0 =[0.25, 0.25, 0.25, 0.25, 0.1], method='SLSQP', constraints=cons, options={'disp': True})\n",
    "\n",
    "print(res.x)\n"
   ]
  },
  {
   "cell_type": "code",
   "execution_count": null,
   "metadata": {},
   "outputs": [],
   "source": [
    "\n"
   ]
  },
  {
   "cell_type": "code",
   "execution_count": null,
   "metadata": {},
   "outputs": [],
   "source": []
  },
  {
   "cell_type": "code",
   "execution_count": null,
   "metadata": {},
   "outputs": [],
   "source": []
  }
 ],
 "metadata": {
  "kernelspec": {
   "display_name": "Python 3",
   "language": "python",
   "name": "python3"
  },
  "language_info": {
   "codemirror_mode": {
    "name": "ipython",
    "version": 3
   },
   "file_extension": ".py",
   "mimetype": "text/x-python",
   "name": "python",
   "nbconvert_exporter": "python",
   "pygments_lexer": "ipython3",
   "version": "3.7.0"
  }
 },
 "nbformat": 4,
 "nbformat_minor": 2
}
