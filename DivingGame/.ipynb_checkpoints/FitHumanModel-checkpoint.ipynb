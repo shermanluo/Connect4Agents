{
 "cells": [
  {
   "cell_type": "code",
   "execution_count": 26,
   "metadata": {},
   "outputs": [],
   "source": [
    "import m2\n",
    "import numpy as np\n",
    "import pickle\n",
    "from Agent import MaxAgent\n",
    "import math\n",
    "\n"
   ]
  },
  {
   "cell_type": "code",
   "execution_count": 5,
   "metadata": {},
   "outputs": [
    {
     "data": {
      "text/plain": [
       "[(Cash: 0, (1, 5, 'move')),\n",
       " (Cash: 0, (3, 2, 'move')),\n",
       " (Cash: 0, (0, 0, 'move')),\n",
       " (Cash: 26, (3, 9, 'move')),\n",
       " (Cash: 26, (0, 9, 'move')),\n",
       " (Cash: 47, (40, 45, 'tank')),\n",
       " (Cash: 7, (11, 9, 'move')),\n",
       " (Cash: 7, (16, 7, 'move')),\n",
       " (Cash: 7, (13, 4, 'move')),\n",
       " (Cash: 7, (8, 3, 'move')),\n",
       " (Cash: 7, (10, 1, 'move')),\n",
       " (Cash: 7, (0, 0, 'move')),\n",
       " (Cash: 229, (None, None, 'exit')),\n",
       " (Cash: 0, (3, 2, 'move')),\n",
       " (Cash: 0, (1, 5, 'move')),\n",
       " (Cash: 0, (0, 9, 'move')),\n",
       " (Cash: 26, (3, 9, 'move')),\n",
       " (Cash: 26, (0, 9, 'move')),\n",
       " (Cash: 47, (40, 45, 'tank')),\n",
       " (Cash: 7, (7, 6, 'move')),\n",
       " (Cash: 7, (8, 3, 'move')),\n",
       " (Cash: 7, (10, 1, 'move')),\n",
       " (Cash: 7, (0, 0, 'move')),\n",
       " (Cash: 83, (13, 4, 'move')),\n",
       " (Cash: 83, (0, 0, 'move')),\n",
       " (Cash: 135, (None, None, 'exit')),\n",
       " (Cash: 0, (4, 1, 'move')),\n",
       " (Cash: 0, (3, 5, 'move')),\n",
       " (Cash: 0, (1, 5, 'move')),\n",
       " (Cash: 0, (3, 9, 'move')),\n",
       " (Cash: 0, (0, 9, 'move')),\n",
       " (Cash: 57, (40, 45, 'tank')),\n",
       " (Cash: 17, (11, 9, 'move')),\n",
       " (Cash: 17, (19, 7, 'move')),\n",
       " (Cash: 17, (9, 6, 'move')),\n",
       " (Cash: 17, (0, 9, 'move')),\n",
       " (Cash: 183, (None, None, 'exit')),\n",
       " (Cash: 0, (8, 1, 'move')),\n",
       " (Cash: 0, (3, 2, 'move')),\n",
       " (Cash: 0, (0, 0, 'move')),\n",
       " (Cash: 50, (3, 7, 'move')),\n",
       " (Cash: 50, (0, 9, 'move')),\n",
       " (Cash: 67, (60, 55, 'tank')),\n",
       " (Cash: 7, (5, 9, 'move')),\n",
       " (Cash: 7, (11, 9, 'move')),\n",
       " (Cash: 7, (19, 7, 'move')),\n",
       " (Cash: 7, (16, 3, 'move')),\n",
       " (Cash: 7, (13, 4, 'move')),\n",
       " (Cash: 7, (10, 2, 'move')),\n",
       " (Cash: 7, (0, 0, 'move')),\n",
       " (Cash: 267, (None, None, 'exit'))]"
      ]
     },
     "execution_count": 5,
     "metadata": {},
     "output_type": "execute_result"
    }
   ],
   "source": [
    "\n",
    "f = open('gameplay.pckl', 'rb')\n",
    "data = pickle.load(f)[1:]\n",
    "stateActions = []\n",
    "for start, actions in data:\n",
    "    for action in actions:\n",
    "        stateActions.append((start, action))\n",
    "        start = start.getSuccessor(action)[0]\n",
    "stateActions\n",
    "    "
   ]
  },
  {
   "cell_type": "code",
   "execution_count": 6,
   "metadata": {},
   "outputs": [],
   "source": [
    "def generateKdata(k):\n",
    "    data = []\n",
    "    agent = MaxAgent(depth = k - 1)\n",
    "    for state, action in stateActions:\n",
    "        index = None\n",
    "        values = []\n",
    "        for i, move in enumerate(state.getLegalActions()):\n",
    "            if action == move:\n",
    "                index = i\n",
    "            nextState, reward = state.getSuccessor(move)\n",
    "            reward += agent.value(nextState)[0]\n",
    "            values.append(reward)\n",
    "        data.append((index, values))\n",
    "    return data   \n",
    "                \n",
    "        \n",
    "        "
   ]
  },
  {
   "cell_type": "code",
   "execution_count": 44,
   "metadata": {},
   "outputs": [],
   "source": [
    "def generateQdata(iters):\n",
    "    data = []\n",
    "    for state, action in stateActions:\n",
    "        index = None\n",
    "        values = []\n",
    "        for i, move in enumerate(state.getLegalActions()):\n",
    "            if action == move:\n",
    "                index = i\n",
    "            nextState, reward = state.getSuccessor(move)\n",
    "            _, _, scores, _ = m2.getRollout(nextState, iters)\n",
    "            values.append(scores[-1])\n",
    "        data.append((index, values))\n",
    "    return data   "
   ]
  },
  {
   "cell_type": "code",
   "execution_count": 105,
   "metadata": {},
   "outputs": [],
   "source": [
    "qdata = generateQdata(100000)"
   ]
  },
  {
   "cell_type": "code",
   "execution_count": 87,
   "metadata": {},
   "outputs": [],
   "source": [
    "kdata = generateKdata(3)"
   ]
  },
  {
   "cell_type": "code",
   "execution_count": 103,
   "metadata": {},
   "outputs": [],
   "source": [
    "def calculate(data, alpha):\n",
    "    arr = []\n",
    "    for a, b in data:\n",
    "        total = 0\n",
    "        for num in b:\n",
    "            total += pow(math.e, alpha * num)\n",
    "        arr.append(pow(math.e, alpha * b[a]) / total)\n",
    "    return np.array(arr)"
   ]
  },
  {
   "cell_type": "code",
   "execution_count": 104,
   "metadata": {
    "scrolled": true
   },
   "outputs": [],
   "source": [
    "karr = calculate(kdata, 0.1)"
   ]
  },
  {
   "cell_type": "code",
   "execution_count": 110,
   "metadata": {},
   "outputs": [],
   "source": [
    "qarr = calculate(qdata, 0.04)"
   ]
  },
  {
   "cell_type": "code",
   "execution_count": 111,
   "metadata": {},
   "outputs": [],
   "source": [
    "mat = np.column_stack((karr, qarr))"
   ]
  },
  {
   "cell_type": "code",
   "execution_count": 131,
   "metadata": {},
   "outputs": [
    {
     "name": "stdout",
     "output_type": "stream",
     "text": [
      "Optimization terminated successfully.    (Exit mode 0)\n",
      "            Current function value: 18.71589702287629\n",
      "            Iterations: 3\n",
      "            Function evaluations: 13\n",
      "            Gradient evaluations: 3\n",
      "[0.33828651 0.66171349]\n"
     ]
    }
   ],
   "source": [
    "import numpy as np\n",
    "from scipy.optimize import minimize\n",
    "\n",
    "m = mat\n",
    "b = np.array([1 for _ in range(51)])\n",
    "\n",
    "\n",
    "def loss(x):\n",
    "    return np.sum(np.square((np.dot(mat, x) - b)))\n",
    "\n",
    "cons = ({'type': 'eq',\n",
    "         'fun' : lambda x: np.sum(x) - 1.0})\n",
    "\n",
    "res = minimize(loss, x0 =[0,0], method='SLSQP', constraints=cons, options={'disp': True})\n",
    "\n",
    "print(res.x)\n"
   ]
  },
  {
   "cell_type": "code",
   "execution_count": 138,
   "metadata": {},
   "outputs": [
    {
     "name": "stdout",
     "output_type": "stream",
     "text": [
      "Optimization terminated successfully.    (Exit mode 0)\n",
      "            Current function value: 2.396187650443129e-07\n",
      "            Iterations: 10\n",
      "            Function evaluations: 41\n",
      "            Gradient evaluations: 10\n",
      "[0.99378883 0.00621117]\n"
     ]
    }
   ],
   "source": [
    "mat = np.column_stack(([0 for _ in range(51)], qarr]))\n",
    "def loss(x):\n",
    "    return np.prod(np.dot(mat, x))\n",
    "\n",
    "cons = ({'type': 'eq',\n",
    "         'fun' : lambda x: np.sum(x) - 1.0})\n",
    "\n",
    "res = minimize(loss, x0 =[0,0], method='SLSQP', constraints=cons, options={'disp': True})\n",
    "\n",
    "print(res.x)\n"
   ]
  },
  {
   "cell_type": "code",
   "execution_count": null,
   "metadata": {},
   "outputs": [],
   "source": []
  }
 ],
 "metadata": {
  "kernelspec": {
   "display_name": "Python 3",
   "language": "python",
   "name": "python3"
  },
  "language_info": {
   "codemirror_mode": {
    "name": "ipython",
    "version": 3
   },
   "file_extension": ".py",
   "mimetype": "text/x-python",
   "name": "python",
   "nbconvert_exporter": "python",
   "pygments_lexer": "ipython3",
   "version": "3.6.5"
  }
 },
 "nbformat": 4,
 "nbformat_minor": 2
}
