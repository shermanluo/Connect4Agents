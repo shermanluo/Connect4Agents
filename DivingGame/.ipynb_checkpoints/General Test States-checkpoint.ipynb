{
 "cells": [
  {
   "cell_type": "code",
   "execution_count": 5,
   "metadata": {
    "collapsed": true
   },
   "outputs": [],
   "source": [
    "import sys\n",
    "sys.path.append('c:/users/sherman luo/appdata/local/programs/python/python36-32/lib/site-packages')\n",
    "from divegame import diveGame, zeroBoard\n",
    "from fatal_flaw import getActions\n",
    "import numpy as np\n",
    "import divegame\n",
    "import pickle\n",
    "import importlib"
   ]
  },
  {
   "cell_type": "code",
   "execution_count": 6,
   "metadata": {},
   "outputs": [],
   "source": [
    "def randomGenerateBoard(num = 11, left = False, upper = False):\n",
    "    board = zeroBoard()\n",
    "    for i in range(num):\n",
    "        if left:\n",
    "            width = np.random.randint(0, 8)\n",
    "        else:\n",
    "            width = np.random.randint(0, 10)\n",
    "        if upper:\n",
    "            height = np.random.randint(4, 20)\n",
    "        else:\n",
    "            height = np.random.randint(1, 20)\n",
    "        board[height][width] = int(height * 5 + abs(2 * pow(height, 0.5) * np.random.randn()))\n",
    "    return board\n",
    "board1 = randomGenerateBoard()"
   ]
  },
  {
   "cell_type": "code",
   "execution_count": 7,
   "metadata": {},
   "outputs": [
    {
     "name": "stdout",
     "output_type": "stream",
     "text": [
      " _   _   _   _   _   _   _   _   _   _ \n",
      " _   _   _   _   6  _   _   _   _   _ \n",
      " _   _   _   _   _   _   _   _   _   _ \n",
      " _   _   _   _   _   _   _   _   _   _ \n",
      "21  _   _   _   _   _   _   _   _   _ \n",
      " _   _   _   _   _   _   _   _   _   _ \n",
      " _   _   _   _   _   _   _   _   _   _ \n",
      " _   _   _   _   _   _  36  _   _   _ \n",
      " _   _   _   _   _   _   _   _   _   _ \n",
      " _   _   _   _   _   _  51  _   _  56\n",
      " _   _   P  _   _   _   _   _   _   _ \n",
      " _   _   _   _   _   _   _   _   _   _ \n",
      " _   _  61  _   _   _   _   _   _   _ \n",
      " _   _   _   _   _   _   _   _   _   _ \n",
      " _   _   _   _   _   _   _   _   _   _ \n",
      "87  _   _   _   _   _   _   _   _   _ \n",
      "84  _   _   _   _   _   _   _   _  80\n",
      " _   _   _   _   _   _   _   _  89  _ \n",
      " _   _   _   _   _   _   _   _   _  98\n",
      " _   _   _   _   _   _   _   _   _   _ \n",
      "tank size: 30\n",
      "cash: 0\n",
      "oxygen: 13\n",
      "timeLeft: 80\n",
      "holding: [35]\n"
     ]
    }
   ],
   "source": [
    "b1 = diveGame( #easy surface\n",
    "    board = board1, \n",
    "    playerLoc = (10,2), \n",
    "    timeLeft = 80, \n",
    "    oxygenLeft = 13, \n",
    "    holding = [35], \n",
    "    tankSize = 30, \n",
    "    cash = 0, \n",
    "    gameOver = False, \n",
    "    tanks = {(20, 30, \"tank\"), (55, 55, \"tank\")})\n",
    "s = b1.printBoard()"
   ]
  },
  {
   "cell_type": "code",
   "execution_count": 9,
   "metadata": {},
   "outputs": [
    {
     "name": "stdout",
     "output_type": "stream",
     "text": [
      "[(1, 4, 'move'), (0, 0, 'move')] 0\n",
      "[(4, 0, 'move'), (0, 0, 'move'), (55, 55, 'tank'), (12, 2, 'move'), (15, 0, 'move'), (17, 8, 'move'), (18, 9, 'move'), (16, 9, 'move'), (9, 9, 'move'), (9, 6, 'move'), (7, 6, 'move'), (0, 9, 'move'), (1, 4, 'move'), (0, 9, 'move'), (None, None, 'exit')] 565\n",
      "[(7, 6, 'move'), (16, 9, 'move')] 0\n",
      "[(9, 6, 'move'), (7, 6, 'move'), (4, 0, 'move')] 0\n",
      "[(9, 9, 'move'), (16, 0, 'move')] 0\n",
      "[(12, 2, 'move'), (4, 0, 'move'), (17, 8, 'move')] 0\n",
      "[(15, 0, 'move'), (18, 9, 'move')] 0\n",
      "[(16, 0, 'move'), (7, 6, 'move')] 0\n",
      "[(16, 9, 'move'), (16, 0, 'move')] 0\n",
      "[(17, 8, 'move'), (7, 6, 'move')] 0\n",
      "[(18, 9, 'move')] 0\n",
      "[(0, 0, 'move'), (4, 0, 'move'), (0, 9, 'move'), (55, 55, 'tank'), (9, 9, 'move'), (18, 9, 'move'), (15, 0, 'move'), (16, 0, 'move'), (12, 2, 'move'), (0, 0, 'move'), (None, None, 'exit')] 387\n",
      "[(0, 9, 'move')] 0\n"
     ]
    }
   ],
   "source": [
    "actions, scores = getActions(b1, 1, 50000, allRollouts = True)\n",
    "for i in range(len(scores)):\n",
    "    print(actions[i], scores[i])"
   ]
  },
  {
   "cell_type": "code",
   "execution_count": null,
   "metadata": {
    "collapsed": true
   },
   "outputs": [],
   "source": []
  }
 ],
 "metadata": {
  "kernelspec": {
   "display_name": "Python 3",
   "language": "python",
   "name": "python3"
  },
  "language_info": {
   "codemirror_mode": {
    "name": "ipython",
    "version": 3
   },
   "file_extension": ".py",
   "mimetype": "text/x-python",
   "name": "python",
   "nbconvert_exporter": "python",
   "pygments_lexer": "ipython3",
   "version": "3.6.3"
  }
 },
 "nbformat": 4,
 "nbformat_minor": 2
}
