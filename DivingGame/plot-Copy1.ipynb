{
 "cells": [
  {
   "cell_type": "code",
   "execution_count": 14,
   "metadata": {},
   "outputs": [],
   "source": [
    "from divegame import diveGame, zeroBoard\n",
    "import pickle\n",
    "from fatal_flaw import fatalFlaw, getActions\n",
    "import pdb\n",
    "from softmaxExplain import findStates2\n",
    "from datetime import datetime\n",
    "import random\n",
    "import pandas\n",
    "from experiment import reconstructStates\n",
    "import numpy as np\n",
    "import math\n",
    "from categorize import categorize, CorrectionType\n",
    "from matplotlib import pyplot as plt"
   ]
  },
  {
   "cell_type": "code",
   "execution_count": 50,
   "metadata": {},
   "outputs": [
    {
     "data": {
      "text/html": [
       "<div>\n",
       "<style scoped>\n",
       "    .dataframe tbody tr th:only-of-type {\n",
       "        vertical-align: middle;\n",
       "    }\n",
       "\n",
       "    .dataframe tbody tr th {\n",
       "        vertical-align: top;\n",
       "    }\n",
       "\n",
       "    .dataframe thead th {\n",
       "        text-align: right;\n",
       "    }\n",
       "</style>\n",
       "<table border=\"1\" class=\"dataframe\">\n",
       "  <thead>\n",
       "    <tr style=\"text-align: right;\">\n",
       "      <th></th>\n",
       "      <th>experiment group</th>\n",
       "      <th>group</th>\n",
       "      <th>initial score</th>\n",
       "      <th>initialFraction</th>\n",
       "      <th>mistake type</th>\n",
       "      <th>name</th>\n",
       "      <th>1</th>\n",
       "      <th>2</th>\n",
       "      <th>3</th>\n",
       "      <th>4</th>\n",
       "      <th>...</th>\n",
       "      <th>7</th>\n",
       "      <th>8</th>\n",
       "      <th>9</th>\n",
       "      <th>10</th>\n",
       "      <th>11</th>\n",
       "      <th>12</th>\n",
       "      <th>time</th>\n",
       "      <th>total</th>\n",
       "      <th>initperf</th>\n",
       "      <th>generalAverage</th>\n",
       "    </tr>\n",
       "  </thead>\n",
       "  <tbody>\n",
       "    <tr>\n",
       "      <th>0</th>\n",
       "      <td>short explanation</td>\n",
       "      <td>1</td>\n",
       "      <td>0</td>\n",
       "      <td>0.000000</td>\n",
       "      <td>CorrectionType.J</td>\n",
       "      <td>calvin</td>\n",
       "      <td>1.000000</td>\n",
       "      <td>1.000000</td>\n",
       "      <td>1.000000</td>\n",
       "      <td>1.000000</td>\n",
       "      <td>...</td>\n",
       "      <td>1.000000</td>\n",
       "      <td>1.000000</td>\n",
       "      <td>1.000000</td>\n",
       "      <td>1.000000</td>\n",
       "      <td>0.847291</td>\n",
       "      <td>1.000000</td>\n",
       "      <td>1152.609880</td>\n",
       "      <td>5.847291</td>\n",
       "      <td>0.704504</td>\n",
       "      <td>0.270044</td>\n",
       "    </tr>\n",
       "    <tr>\n",
       "      <th>1</th>\n",
       "      <td>short explanation</td>\n",
       "      <td>1</td>\n",
       "      <td>258</td>\n",
       "      <td>0.832258</td>\n",
       "      <td>CorrectionType.J</td>\n",
       "      <td>raymond</td>\n",
       "      <td>1.000000</td>\n",
       "      <td>1.000000</td>\n",
       "      <td>1.000000</td>\n",
       "      <td>1.000000</td>\n",
       "      <td>...</td>\n",
       "      <td>0.685649</td>\n",
       "      <td>1.000000</td>\n",
       "      <td>1.000000</td>\n",
       "      <td>1.000000</td>\n",
       "      <td>0.847291</td>\n",
       "      <td>1.000000</td>\n",
       "      <td>1246.503988</td>\n",
       "      <td>5.532940</td>\n",
       "      <td>0.944710</td>\n",
       "      <td>-0.022553</td>\n",
       "    </tr>\n",
       "    <tr>\n",
       "      <th>2</th>\n",
       "      <td>short explanation</td>\n",
       "      <td>1</td>\n",
       "      <td>97</td>\n",
       "      <td>0.312903</td>\n",
       "      <td>CorrectionType.B</td>\n",
       "      <td>sam</td>\n",
       "      <td>1.000000</td>\n",
       "      <td>1.000000</td>\n",
       "      <td>1.000000</td>\n",
       "      <td>1.000000</td>\n",
       "      <td>...</td>\n",
       "      <td>0.685649</td>\n",
       "      <td>1.000000</td>\n",
       "      <td>1.000000</td>\n",
       "      <td>1.000000</td>\n",
       "      <td>0.640394</td>\n",
       "      <td>0.937644</td>\n",
       "      <td>422.562166</td>\n",
       "      <td>5.263688</td>\n",
       "      <td>0.826307</td>\n",
       "      <td>0.050974</td>\n",
       "    </tr>\n",
       "    <tr>\n",
       "      <th>3</th>\n",
       "      <td>short explanation</td>\n",
       "      <td>3</td>\n",
       "      <td>88</td>\n",
       "      <td>0.283871</td>\n",
       "      <td>CorrectionType.I</td>\n",
       "      <td>stanley</td>\n",
       "      <td>0.870423</td>\n",
       "      <td>0.866953</td>\n",
       "      <td>0.775244</td>\n",
       "      <td>1.000000</td>\n",
       "      <td>...</td>\n",
       "      <td>1.000000</td>\n",
       "      <td>1.000000</td>\n",
       "      <td>1.000000</td>\n",
       "      <td>1.000000</td>\n",
       "      <td>1.000000</td>\n",
       "      <td>1.000000</td>\n",
       "      <td>952.744304</td>\n",
       "      <td>6.000000</td>\n",
       "      <td>0.835013</td>\n",
       "      <td>0.164987</td>\n",
       "    </tr>\n",
       "    <tr>\n",
       "      <th>4</th>\n",
       "      <td>short explanation</td>\n",
       "      <td>2</td>\n",
       "      <td>222</td>\n",
       "      <td>0.716129</td>\n",
       "      <td>CorrectionType.E</td>\n",
       "      <td>arvin</td>\n",
       "      <td>1.000000</td>\n",
       "      <td>1.000000</td>\n",
       "      <td>1.000000</td>\n",
       "      <td>1.000000</td>\n",
       "      <td>...</td>\n",
       "      <td>1.000000</td>\n",
       "      <td>0.654545</td>\n",
       "      <td>1.000000</td>\n",
       "      <td>0.845758</td>\n",
       "      <td>0.640394</td>\n",
       "      <td>0.937644</td>\n",
       "      <td>1064.921354</td>\n",
       "      <td>5.078342</td>\n",
       "      <td>0.944340</td>\n",
       "      <td>-0.097949</td>\n",
       "    </tr>\n",
       "    <tr>\n",
       "      <th>5</th>\n",
       "      <td>short explanation</td>\n",
       "      <td>1</td>\n",
       "      <td>0</td>\n",
       "      <td>0.000000</td>\n",
       "      <td>CorrectionType.A</td>\n",
       "      <td>hong</td>\n",
       "      <td>1.000000</td>\n",
       "      <td>1.000000</td>\n",
       "      <td>0.653226</td>\n",
       "      <td>0.490909</td>\n",
       "      <td>...</td>\n",
       "      <td>0.685649</td>\n",
       "      <td>1.000000</td>\n",
       "      <td>1.000000</td>\n",
       "      <td>1.000000</td>\n",
       "      <td>0.640394</td>\n",
       "      <td>0.937644</td>\n",
       "      <td>1131.997097</td>\n",
       "      <td>5.263688</td>\n",
       "      <td>0.867386</td>\n",
       "      <td>0.009895</td>\n",
       "    </tr>\n",
       "    <tr>\n",
       "      <th>6</th>\n",
       "      <td>long explanation</td>\n",
       "      <td>1</td>\n",
       "      <td>0</td>\n",
       "      <td>0.000000</td>\n",
       "      <td>CorrectionType.A</td>\n",
       "      <td>aayush</td>\n",
       "      <td>1.000000</td>\n",
       "      <td>0.760331</td>\n",
       "      <td>1.000000</td>\n",
       "      <td>0.449587</td>\n",
       "      <td>...</td>\n",
       "      <td>1.000000</td>\n",
       "      <td>1.000000</td>\n",
       "      <td>1.000000</td>\n",
       "      <td>1.000000</td>\n",
       "      <td>0.640394</td>\n",
       "      <td>1.000000</td>\n",
       "      <td>714.216283</td>\n",
       "      <td>5.640394</td>\n",
       "      <td>0.827222</td>\n",
       "      <td>0.112844</td>\n",
       "    </tr>\n",
       "    <tr>\n",
       "      <th>7</th>\n",
       "      <td>long explanation</td>\n",
       "      <td>2</td>\n",
       "      <td>222</td>\n",
       "      <td>0.716129</td>\n",
       "      <td>CorrectionType.E</td>\n",
       "      <td>karthik</td>\n",
       "      <td>1.000000</td>\n",
       "      <td>1.000000</td>\n",
       "      <td>1.000000</td>\n",
       "      <td>1.000000</td>\n",
       "      <td>...</td>\n",
       "      <td>0.000000</td>\n",
       "      <td>0.654545</td>\n",
       "      <td>1.000000</td>\n",
       "      <td>1.000000</td>\n",
       "      <td>0.847291</td>\n",
       "      <td>1.000000</td>\n",
       "      <td>834.866571</td>\n",
       "      <td>4.501836</td>\n",
       "      <td>0.944340</td>\n",
       "      <td>-0.194034</td>\n",
       "    </tr>\n",
       "    <tr>\n",
       "      <th>8</th>\n",
       "      <td>long explanation</td>\n",
       "      <td>2</td>\n",
       "      <td>222</td>\n",
       "      <td>0.716129</td>\n",
       "      <td>CorrectionType.E</td>\n",
       "      <td>nadir</td>\n",
       "      <td>1.000000</td>\n",
       "      <td>0.898305</td>\n",
       "      <td>1.000000</td>\n",
       "      <td>0.535897</td>\n",
       "      <td>...</td>\n",
       "      <td>1.000000</td>\n",
       "      <td>1.000000</td>\n",
       "      <td>1.000000</td>\n",
       "      <td>1.000000</td>\n",
       "      <td>0.847291</td>\n",
       "      <td>1.000000</td>\n",
       "      <td>561.681458</td>\n",
       "      <td>5.847291</td>\n",
       "      <td>0.944340</td>\n",
       "      <td>0.030209</td>\n",
       "    </tr>\n",
       "    <tr>\n",
       "      <th>9</th>\n",
       "      <td>long explanation</td>\n",
       "      <td>1</td>\n",
       "      <td>0</td>\n",
       "      <td>0.000000</td>\n",
       "      <td>CorrectionType.J</td>\n",
       "      <td>andy</td>\n",
       "      <td>1.000000</td>\n",
       "      <td>1.000000</td>\n",
       "      <td>0.653226</td>\n",
       "      <td>0.490909</td>\n",
       "      <td>...</td>\n",
       "      <td>0.685649</td>\n",
       "      <td>0.542424</td>\n",
       "      <td>0.865429</td>\n",
       "      <td>1.000000</td>\n",
       "      <td>0.847291</td>\n",
       "      <td>0.789838</td>\n",
       "      <td>566.611813</td>\n",
       "      <td>4.730632</td>\n",
       "      <td>0.767330</td>\n",
       "      <td>0.021109</td>\n",
       "    </tr>\n",
       "    <tr>\n",
       "      <th>10</th>\n",
       "      <td>long explanation</td>\n",
       "      <td>1</td>\n",
       "      <td>0</td>\n",
       "      <td>0.000000</td>\n",
       "      <td>CorrectionType.A</td>\n",
       "      <td>gokul</td>\n",
       "      <td>1.000000</td>\n",
       "      <td>1.000000</td>\n",
       "      <td>1.000000</td>\n",
       "      <td>0.639669</td>\n",
       "      <td>...</td>\n",
       "      <td>0.685649</td>\n",
       "      <td>1.000000</td>\n",
       "      <td>1.000000</td>\n",
       "      <td>1.000000</td>\n",
       "      <td>0.640394</td>\n",
       "      <td>1.000000</td>\n",
       "      <td>514.068334</td>\n",
       "      <td>5.326043</td>\n",
       "      <td>0.866298</td>\n",
       "      <td>0.021376</td>\n",
       "    </tr>\n",
       "    <tr>\n",
       "      <th>11</th>\n",
       "      <td>no explanation</td>\n",
       "      <td>3</td>\n",
       "      <td>0</td>\n",
       "      <td>0.000000</td>\n",
       "      <td>CorrectionType.K</td>\n",
       "      <td>jonny</td>\n",
       "      <td>0.870423</td>\n",
       "      <td>0.866953</td>\n",
       "      <td>1.000000</td>\n",
       "      <td>0.000000</td>\n",
       "      <td>...</td>\n",
       "      <td>1.000000</td>\n",
       "      <td>1.000000</td>\n",
       "      <td>1.000000</td>\n",
       "      <td>1.000000</td>\n",
       "      <td>1.000000</td>\n",
       "      <td>0.937644</td>\n",
       "      <td>245.761915</td>\n",
       "      <td>5.937644</td>\n",
       "      <td>0.705082</td>\n",
       "      <td>0.284526</td>\n",
       "    </tr>\n",
       "    <tr>\n",
       "      <th>12</th>\n",
       "      <td>no explanation</td>\n",
       "      <td>1</td>\n",
       "      <td>0</td>\n",
       "      <td>0.000000</td>\n",
       "      <td>CorrectionType.A</td>\n",
       "      <td>alex</td>\n",
       "      <td>1.000000</td>\n",
       "      <td>0.793388</td>\n",
       "      <td>0.653226</td>\n",
       "      <td>0.639669</td>\n",
       "      <td>...</td>\n",
       "      <td>0.685649</td>\n",
       "      <td>0.542424</td>\n",
       "      <td>1.000000</td>\n",
       "      <td>1.000000</td>\n",
       "      <td>1.000000</td>\n",
       "      <td>0.789838</td>\n",
       "      <td>509.101066</td>\n",
       "      <td>5.017912</td>\n",
       "      <td>0.855156</td>\n",
       "      <td>-0.018837</td>\n",
       "    </tr>\n",
       "    <tr>\n",
       "      <th>13</th>\n",
       "      <td>no explanation</td>\n",
       "      <td>2</td>\n",
       "      <td>222</td>\n",
       "      <td>0.716129</td>\n",
       "      <td>CorrectionType.E</td>\n",
       "      <td>ket</td>\n",
       "      <td>1.000000</td>\n",
       "      <td>1.000000</td>\n",
       "      <td>0.673684</td>\n",
       "      <td>1.000000</td>\n",
       "      <td>...</td>\n",
       "      <td>0.685649</td>\n",
       "      <td>1.000000</td>\n",
       "      <td>1.000000</td>\n",
       "      <td>0.845758</td>\n",
       "      <td>0.561576</td>\n",
       "      <td>1.000000</td>\n",
       "      <td>1194.045790</td>\n",
       "      <td>5.092984</td>\n",
       "      <td>0.928639</td>\n",
       "      <td>-0.079808</td>\n",
       "    </tr>\n",
       "    <tr>\n",
       "      <th>14</th>\n",
       "      <td>no explanation</td>\n",
       "      <td>2</td>\n",
       "      <td>119</td>\n",
       "      <td>0.383871</td>\n",
       "      <td>CorrectionType.D</td>\n",
       "      <td>charlie</td>\n",
       "      <td>0.606771</td>\n",
       "      <td>0.898305</td>\n",
       "      <td>1.000000</td>\n",
       "      <td>0.435897</td>\n",
       "      <td>...</td>\n",
       "      <td>0.685649</td>\n",
       "      <td>1.000000</td>\n",
       "      <td>1.000000</td>\n",
       "      <td>1.000000</td>\n",
       "      <td>0.640394</td>\n",
       "      <td>1.000000</td>\n",
       "      <td>839.250719</td>\n",
       "      <td>5.326043</td>\n",
       "      <td>0.891761</td>\n",
       "      <td>-0.004087</td>\n",
       "    </tr>\n",
       "    <tr>\n",
       "      <th>15</th>\n",
       "      <td>no explanation</td>\n",
       "      <td>2</td>\n",
       "      <td>139</td>\n",
       "      <td>0.448387</td>\n",
       "      <td>CorrectionType.E</td>\n",
       "      <td>aakash</td>\n",
       "      <td>1.000000</td>\n",
       "      <td>0.898305</td>\n",
       "      <td>1.000000</td>\n",
       "      <td>1.000000</td>\n",
       "      <td>...</td>\n",
       "      <td>0.478360</td>\n",
       "      <td>1.000000</td>\n",
       "      <td>1.000000</td>\n",
       "      <td>1.000000</td>\n",
       "      <td>1.000000</td>\n",
       "      <td>1.000000</td>\n",
       "      <td>694.424163</td>\n",
       "      <td>5.478360</td>\n",
       "      <td>0.960640</td>\n",
       "      <td>-0.047580</td>\n",
       "    </tr>\n",
       "    <tr>\n",
       "      <th>16</th>\n",
       "      <td>no explanation</td>\n",
       "      <td>1</td>\n",
       "      <td>0</td>\n",
       "      <td>0.000000</td>\n",
       "      <td>CorrectionType.A</td>\n",
       "      <td>neel</td>\n",
       "      <td>1.000000</td>\n",
       "      <td>1.000000</td>\n",
       "      <td>0.580645</td>\n",
       "      <td>1.000000</td>\n",
       "      <td>...</td>\n",
       "      <td>0.685649</td>\n",
       "      <td>1.000000</td>\n",
       "      <td>1.000000</td>\n",
       "      <td>0.902314</td>\n",
       "      <td>0.847291</td>\n",
       "      <td>1.000000</td>\n",
       "      <td>828.125143</td>\n",
       "      <td>5.435253</td>\n",
       "      <td>0.862811</td>\n",
       "      <td>0.043065</td>\n",
       "    </tr>\n",
       "    <tr>\n",
       "      <th>17</th>\n",
       "      <td>no explanation</td>\n",
       "      <td>1</td>\n",
       "      <td>118</td>\n",
       "      <td>0.380645</td>\n",
       "      <td>CorrectionType.B</td>\n",
       "      <td>kartik</td>\n",
       "      <td>1.000000</td>\n",
       "      <td>0.760331</td>\n",
       "      <td>1.000000</td>\n",
       "      <td>0.639669</td>\n",
       "      <td>...</td>\n",
       "      <td>0.000000</td>\n",
       "      <td>1.000000</td>\n",
       "      <td>0.865429</td>\n",
       "      <td>1.000000</td>\n",
       "      <td>0.561576</td>\n",
       "      <td>0.789838</td>\n",
       "      <td>366.590822</td>\n",
       "      <td>4.216844</td>\n",
       "      <td>0.875574</td>\n",
       "      <td>-0.172766</td>\n",
       "    </tr>\n",
       "    <tr>\n",
       "      <th>18</th>\n",
       "      <td>no explanation</td>\n",
       "      <td>2</td>\n",
       "      <td>222</td>\n",
       "      <td>0.716129</td>\n",
       "      <td>CorrectionType.E</td>\n",
       "      <td>sera</td>\n",
       "      <td>0.768229</td>\n",
       "      <td>1.000000</td>\n",
       "      <td>1.000000</td>\n",
       "      <td>1.000000</td>\n",
       "      <td>...</td>\n",
       "      <td>0.685649</td>\n",
       "      <td>1.000000</td>\n",
       "      <td>1.000000</td>\n",
       "      <td>0.902314</td>\n",
       "      <td>0.640394</td>\n",
       "      <td>1.000000</td>\n",
       "      <td>506.822705</td>\n",
       "      <td>5.228357</td>\n",
       "      <td>0.944340</td>\n",
       "      <td>-0.072947</td>\n",
       "    </tr>\n",
       "    <tr>\n",
       "      <th>19</th>\n",
       "      <td>no explanation</td>\n",
       "      <td>2</td>\n",
       "      <td>88</td>\n",
       "      <td>0.283871</td>\n",
       "      <td>CorrectionType.E</td>\n",
       "      <td>jinsu</td>\n",
       "      <td>1.000000</td>\n",
       "      <td>0.576271</td>\n",
       "      <td>1.000000</td>\n",
       "      <td>0.535897</td>\n",
       "      <td>...</td>\n",
       "      <td>1.000000</td>\n",
       "      <td>1.000000</td>\n",
       "      <td>1.000000</td>\n",
       "      <td>1.000000</td>\n",
       "      <td>0.847291</td>\n",
       "      <td>1.000000</td>\n",
       "      <td>796.695121</td>\n",
       "      <td>5.847291</td>\n",
       "      <td>0.926224</td>\n",
       "      <td>0.048325</td>\n",
       "    </tr>\n",
       "  </tbody>\n",
       "</table>\n",
       "<p>20 rows × 22 columns</p>\n",
       "</div>"
      ],
      "text/plain": [
       "     experiment group  group  initial score  initialFraction  \\\n",
       "0   short explanation      1              0         0.000000   \n",
       "1   short explanation      1            258         0.832258   \n",
       "2   short explanation      1             97         0.312903   \n",
       "3   short explanation      3             88         0.283871   \n",
       "4   short explanation      2            222         0.716129   \n",
       "5   short explanation      1              0         0.000000   \n",
       "6    long explanation      1              0         0.000000   \n",
       "7    long explanation      2            222         0.716129   \n",
       "8    long explanation      2            222         0.716129   \n",
       "9    long explanation      1              0         0.000000   \n",
       "10   long explanation      1              0         0.000000   \n",
       "11     no explanation      3              0         0.000000   \n",
       "12     no explanation      1              0         0.000000   \n",
       "13     no explanation      2            222         0.716129   \n",
       "14     no explanation      2            119         0.383871   \n",
       "15     no explanation      2            139         0.448387   \n",
       "16     no explanation      1              0         0.000000   \n",
       "17     no explanation      1            118         0.380645   \n",
       "18     no explanation      2            222         0.716129   \n",
       "19     no explanation      2             88         0.283871   \n",
       "\n",
       "        mistake type     name         1         2         3         4  \\\n",
       "0   CorrectionType.J   calvin  1.000000  1.000000  1.000000  1.000000   \n",
       "1   CorrectionType.J  raymond  1.000000  1.000000  1.000000  1.000000   \n",
       "2   CorrectionType.B      sam  1.000000  1.000000  1.000000  1.000000   \n",
       "3   CorrectionType.I  stanley  0.870423  0.866953  0.775244  1.000000   \n",
       "4   CorrectionType.E    arvin  1.000000  1.000000  1.000000  1.000000   \n",
       "5   CorrectionType.A     hong  1.000000  1.000000  0.653226  0.490909   \n",
       "6   CorrectionType.A   aayush  1.000000  0.760331  1.000000  0.449587   \n",
       "7   CorrectionType.E  karthik  1.000000  1.000000  1.000000  1.000000   \n",
       "8   CorrectionType.E    nadir  1.000000  0.898305  1.000000  0.535897   \n",
       "9   CorrectionType.J     andy  1.000000  1.000000  0.653226  0.490909   \n",
       "10  CorrectionType.A    gokul  1.000000  1.000000  1.000000  0.639669   \n",
       "11  CorrectionType.K    jonny  0.870423  0.866953  1.000000  0.000000   \n",
       "12  CorrectionType.A     alex  1.000000  0.793388  0.653226  0.639669   \n",
       "13  CorrectionType.E      ket  1.000000  1.000000  0.673684  1.000000   \n",
       "14  CorrectionType.D  charlie  0.606771  0.898305  1.000000  0.435897   \n",
       "15  CorrectionType.E   aakash  1.000000  0.898305  1.000000  1.000000   \n",
       "16  CorrectionType.A     neel  1.000000  1.000000  0.580645  1.000000   \n",
       "17  CorrectionType.B   kartik  1.000000  0.760331  1.000000  0.639669   \n",
       "18  CorrectionType.E     sera  0.768229  1.000000  1.000000  1.000000   \n",
       "19  CorrectionType.E    jinsu  1.000000  0.576271  1.000000  0.535897   \n",
       "\n",
       "         ...               7         8         9        10        11  \\\n",
       "0        ...        1.000000  1.000000  1.000000  1.000000  0.847291   \n",
       "1        ...        0.685649  1.000000  1.000000  1.000000  0.847291   \n",
       "2        ...        0.685649  1.000000  1.000000  1.000000  0.640394   \n",
       "3        ...        1.000000  1.000000  1.000000  1.000000  1.000000   \n",
       "4        ...        1.000000  0.654545  1.000000  0.845758  0.640394   \n",
       "5        ...        0.685649  1.000000  1.000000  1.000000  0.640394   \n",
       "6        ...        1.000000  1.000000  1.000000  1.000000  0.640394   \n",
       "7        ...        0.000000  0.654545  1.000000  1.000000  0.847291   \n",
       "8        ...        1.000000  1.000000  1.000000  1.000000  0.847291   \n",
       "9        ...        0.685649  0.542424  0.865429  1.000000  0.847291   \n",
       "10       ...        0.685649  1.000000  1.000000  1.000000  0.640394   \n",
       "11       ...        1.000000  1.000000  1.000000  1.000000  1.000000   \n",
       "12       ...        0.685649  0.542424  1.000000  1.000000  1.000000   \n",
       "13       ...        0.685649  1.000000  1.000000  0.845758  0.561576   \n",
       "14       ...        0.685649  1.000000  1.000000  1.000000  0.640394   \n",
       "15       ...        0.478360  1.000000  1.000000  1.000000  1.000000   \n",
       "16       ...        0.685649  1.000000  1.000000  0.902314  0.847291   \n",
       "17       ...        0.000000  1.000000  0.865429  1.000000  0.561576   \n",
       "18       ...        0.685649  1.000000  1.000000  0.902314  0.640394   \n",
       "19       ...        1.000000  1.000000  1.000000  1.000000  0.847291   \n",
       "\n",
       "          12         time     total  initperf  generalAverage  \n",
       "0   1.000000  1152.609880  5.847291  0.704504        0.270044  \n",
       "1   1.000000  1246.503988  5.532940  0.944710       -0.022553  \n",
       "2   0.937644   422.562166  5.263688  0.826307        0.050974  \n",
       "3   1.000000   952.744304  6.000000  0.835013        0.164987  \n",
       "4   0.937644  1064.921354  5.078342  0.944340       -0.097949  \n",
       "5   0.937644  1131.997097  5.263688  0.867386        0.009895  \n",
       "6   1.000000   714.216283  5.640394  0.827222        0.112844  \n",
       "7   1.000000   834.866571  4.501836  0.944340       -0.194034  \n",
       "8   1.000000   561.681458  5.847291  0.944340        0.030209  \n",
       "9   0.789838   566.611813  4.730632  0.767330        0.021109  \n",
       "10  1.000000   514.068334  5.326043  0.866298        0.021376  \n",
       "11  0.937644   245.761915  5.937644  0.705082        0.284526  \n",
       "12  0.789838   509.101066  5.017912  0.855156       -0.018837  \n",
       "13  1.000000  1194.045790  5.092984  0.928639       -0.079808  \n",
       "14  1.000000   839.250719  5.326043  0.891761       -0.004087  \n",
       "15  1.000000   694.424163  5.478360  0.960640       -0.047580  \n",
       "16  1.000000   828.125143  5.435253  0.862811        0.043065  \n",
       "17  0.789838   366.590822  4.216844  0.875574       -0.172766  \n",
       "18  1.000000   506.822705  5.228357  0.944340       -0.072947  \n",
       "19  1.000000   796.695121  5.847291  0.926224        0.048325  \n",
       "\n",
       "[20 rows x 22 columns]"
      ]
     },
     "execution_count": 50,
     "metadata": {},
     "output_type": "execute_result"
    }
   ],
   "source": [
    "f = open(\"Test State Q values\", 'rb')\n",
    "highestPossible = 310\n",
    "qvalues = pickle.load(f)\n",
    "\n",
    "f = open(\"playthrough values\", 'rb')\n",
    "initqvalues, initvvalues = pickle.load(f)\n",
    "\n",
    "\n",
    "datas = []\n",
    "vvalues = {}\n",
    "for state, action in qvalues:\n",
    "    if state not in vvalues:\n",
    "        vvalues[state] = qvalues[(state, action)]\n",
    "    else:\n",
    "        vvalues[state] = max(qvalues[(state, action)], vvalues[state])\n",
    "\n",
    "def process(name, expgroup):\n",
    "    f = open(\"playdata/\" + name, \"rb\")\n",
    "    f2 = open(\"playdata/\" + name + \"2\", \"rb\")\n",
    "    data = pickle.load(f)\n",
    "    mistakeIndex = data['FatalFlawData'][6]\n",
    "    mistakeState = data['playthrough'][1][0][mistakeIndex]\n",
    "    mistakeAction = data['playthrough'][1][1][mistakeIndex]\n",
    "    \n",
    "    \n",
    "    d = {}\n",
    "    \n",
    "    d['initial score'] = data['playthrough'][-1][0][-1].cash\n",
    "    initialFraction = d['initial score'] / highestPossible\n",
    "    data2 = pickle.load(f2)\n",
    "    d['initialFraction'] = initialFraction\n",
    "    d['name'] = name\n",
    "    d['experiment group'] = expgroup\n",
    "    d['mistake type'] = data['FatalFlawData'][-1]\n",
    "    d['group'] = data['group']\n",
    "    testStates = reconstructStates(pickle.load(open(\"group\" + str(data['group'])+ \"States\", \"rb\")))\n",
    "    total = 0\n",
    "    gA = 0\n",
    "    for i in range(len(testStates)):\n",
    "        for j in range(len(testStates)):\n",
    "            if testStates[i] == data['testStates'][j][0]:\n",
    "                d[i + 1] = qvalues[(data['testStates'][j][0], data['testStates'][j][1])] \\\n",
    "                         / vvalues[data['testStates'][j][0]]\n",
    "                if name == \"raymond\":\n",
    "                    d[5] = 1\n",
    "                #total += d[i + 1]\n",
    "    testStates = reconstructStates(pickle.load(open(\"General Test States\", \"rb\")))\n",
    "    for i in range(6, 12):\n",
    "        for j in range(6):\n",
    "            if testStates[i - 6] == data2['testStates'][j][0]:\n",
    "                d[i + 1] = qvalues[(data2['testStates'][j][0], data2['testStates'][j][1])] \\\n",
    "                          / vvalues[data2['testStates'][j][0]]\n",
    "                total += d[i + 1]\n",
    "                gA += d[i + 1] / 6\n",
    "                    \n",
    "    time = 0\n",
    "    for i in data['testStatesTimes']:\n",
    "        time += i.total_seconds()\n",
    "    \n",
    "    for i in data2['testStatesTimes']:\n",
    "        time += i.total_seconds()\n",
    "    d['time'] = time\n",
    "    d['total'] = total\n",
    "\n",
    "    \n",
    "    length = 0\n",
    "    total = 0\n",
    "    for i in range(len(data['playthrough'][1][0][:-1])):\n",
    "        state = data['playthrough'][1][0][:-1][i]\n",
    "        action = data['playthrough'][1][1][i]\n",
    "        if initvvalues[state] > 0 :\n",
    "            total += initqvalues[(state, action)][1] / initvvalues[state]\n",
    "            length += 1\n",
    "    initperf = total / length\n",
    "    d['initperf'] = total / length\n",
    "    \n",
    "    d['generalAverage'] = gA - initperf\n",
    "    \n",
    "    datas.append(d)\n",
    "\n",
    "    \n",
    "    \n",
    "\n",
    "process(\"calvin\", \"short explanation\")\n",
    "process(\"raymond\", \"short explanation\")\n",
    "#process(\"kenneth\", \"short explanation\")\n",
    "process(\"sam\", \"short explanation\")\n",
    "process(\"stanley\", \"short explanation\")\n",
    "process(\"arvin\", \"short explanation\")\n",
    "process(\"hong\", \"short explanation\")\n",
    "\n",
    "\n",
    "\n",
    "process(\"aayush\", \"long explanation\")\n",
    "process(\"karthik\", \"long explanation\")\n",
    "process(\"nadir\", \"long explanation\")\n",
    "#process(\"rustie\", \"long explanation\")\n",
    "process(\"andy\", \"long explanation\")\n",
    "process(\"gokul\", \"long explanation\")\n",
    "\n",
    "\n",
    "process(\"jonny\", \"no explanation\")\n",
    "process(\"alex\", \"no explanation\")\n",
    "process(\"ket\", \"no explanation\")\n",
    "process(\"charlie\", \"no explanation\")\n",
    "process(\"aakash\", \"no explanation\")\n",
    "process(\"neel\", \"no explanation\")\n",
    "process(\"kartik\", \"no explanation\")\n",
    "process(\"sera\", \"no explanation\")\n",
    "process(\"jinsu\", \"no explanation\")\n",
    "\n",
    "\n",
    "df = pandas.DataFrame(datas)    \n",
    "df"
   ]
  },
  {
   "cell_type": "code",
   "execution_count": 51,
   "metadata": {},
   "outputs": [
    {
     "data": {
      "text/plain": [
       "Text(0.5, 1.0, 'Explanation vs No Explanation avg on 7-12 (General States)')"
      ]
     },
     "execution_count": 51,
     "metadata": {},
     "output_type": "execute_result"
    },
    {
     "data": {
      "image/png": "[encoded data removed]",
      "text/plain": [
       "<Figure size 432x288 with 1 Axes>"
      ]
     },
     "metadata": {
      "needs_background": "light"
     },
     "output_type": "display_data"
    }
   ],
   "source": [
    "df2 = df[(df['experiment group'] == \"long explanation\") | (df['experiment group'] == \"short explanation\")]\n",
    "df3 = df[(df['experiment group'] == \"no explanation\")]\n",
    "avg1 = np.mean(df2['generalAverage'])\n",
    "avg2 = np.mean(df3['generalAverage'])\n",
    "stderr1 = np.std(df2['generalAverage']) / math.sqrt(len(df2))\n",
    "stderr2 = np.std(df3['generalAverage']) / math.sqrt(len(df3))\n",
    "plt.bar(x=[0, 1], height=[avg1, avg2], yerr = [stderr1, stderr2], color = ['orange', 'grey'], tick_label = [\"Explained\", \"Not Explained\"])\n",
    "plt.ylim(-0.5, 0.7)\n",
    "plt.title(\"Explanation vs No Explanation avg on 7-12 (General States)\")"
   ]
  },
  {
   "cell_type": "code",
   "execution_count": 52,
   "metadata": {},
   "outputs": [
    {
     "data": {
      "text/plain": [
       "Text(0.5, 1.0, 'Explanation vs No Explanation, Group 1, avg on 7-12 (General States)')"
      ]
     },
     "execution_count": 52,
     "metadata": {},
     "output_type": "execute_result"
    },
    {
     "data": {
      "image/png": "[encoded data removed]",
      "text/plain": [
       "<Figure size 432x288 with 1 Axes>"
      ]
     },
     "metadata": {
      "needs_background": "light"
     },
     "output_type": "display_data"
    }
   ],
   "source": [
    "df2 = df[(df['group'] == 1) & ((df['experiment group'] == \"long explanation\") | (df['experiment group'] == \"short explanation\"))]\n",
    "df3 = df[(df['group'] == 1) & (df['experiment group'] == \"no explanation\")]\n",
    "avg1 = np.mean(df2['generalAverage'])\n",
    "avg2 = np.mean(df3['generalAverage'])\n",
    "stderr1 = np.std(df2['generalAverage']) / math.sqrt(len(df2))\n",
    "stderr2 = np.std(df3['generalAverage']) / math.sqrt(len(df3))\n",
    "plt.bar(x=[0, 1], height=[avg1, avg2], yerr = [stderr1, stderr2], color = ['orange', 'grey'], tick_label = [\"Explained\", \"Not Explained\"])\n",
    "plt.ylim(-0.5, 1)\n",
    "plt.title(\"Explanation vs No Explanation, Group 1, avg on 7-12 (General States)\")"
   ]
  },
  {
   "cell_type": "code",
   "execution_count": 53,
   "metadata": {},
   "outputs": [
    {
     "data": {
      "text/plain": [
       "Text(0.5, 1.0, 'Explanation vs No Explanation, Group2, on 7-12 (General States)')"
      ]
     },
     "execution_count": 53,
     "metadata": {},
     "output_type": "execute_result"
    },
    {
     "data": {
      "image/png": "[encoded data removed]",
      "text/plain": [
       "<Figure size 432x288 with 1 Axes>"
      ]
     },
     "metadata": {
      "needs_background": "light"
     },
     "output_type": "display_data"
    }
   ],
   "source": [
    "df2 = df[(df['group'] == 2) & ((df['experiment group'] == \"long explanation\") | (df['experiment group'] == \"short explanation\"))]\n",
    "df3 = df[(df['group'] == 2) & (df['experiment group'] == \"no explanation\")]\n",
    "avg1 = np.mean(df2['generalAverage'])\n",
    "avg2 = np.mean(df3['generalAverage'])\n",
    "stderr1 = np.std(df2['generalAverage']) / math.sqrt(len(df2))\n",
    "stderr2 = np.std(df3['generalAverage']) / math.sqrt(len(df3))\n",
    "plt.bar(x=[0, 1], height=[avg1, avg2], yerr = [stderr1, stderr2], color = ['orange', 'grey'], tick_label = [\"Explained\", \"Not Explained\"])\n",
    "plt.ylim(-0.5, 1)\n",
    "plt.title(\"Explanation vs No Explanation, Group2, on 7-12 (General States)\")"
   ]
  },
  {
   "cell_type": "code",
   "execution_count": 54,
   "metadata": {},
   "outputs": [
    {
     "data": {
      "text/plain": [
       "Text(0.5, 1.0, 'Explanation vs No Explanation, Group 1, on 1-6, 7, 8')"
      ]
     },
     "execution_count": 54,
     "metadata": {},
     "output_type": "execute_result"
    },
    {
     "data": {
      "image/png": "[encoded data removed]",
      "text/plain": [
       "<Figure size 432x288 with 1 Axes>"
      ]
     },
     "metadata": {
      "needs_background": "light"
     },
     "output_type": "display_data"
    }
   ],
   "source": [
    "df1 = df[(df['group'] == 1) & (df['experiment group'] != \"no explanation\")][['name', 'experiment group', 'initperf', 1, 2, 3, 4, 5, 6, 7, 8]]\n",
    "df1['sum'] = df1.iloc[:, 3:].sum(axis = 1) / 8 - df1['initperf'] \n",
    "df2 = df[(df['group'] == 1) & (df['experiment group'] == \"no explanation\")][['name', 'experiment group', 'initperf', 1, 2, 3, 4, 5, 6, 7, 8]]\n",
    "df2['sum'] = df2.iloc[:, 3:].sum(axis = 1) / 8 - df2['initperf']\n",
    "\n",
    "avg1 = np.mean(df1['sum'])\n",
    "avg2 = np.mean(df2['sum'])\n",
    "\n",
    "stderr1 = np.std(df1['sum']) / math.sqrt(len(df1))\n",
    "stderr2 = np.std(df2['sum']) / math.sqrt(len(df2))\n",
    "plt.bar(x=[0, 1], height=[avg1, avg2], yerr = [stderr1, stderr2], color = ['orange', 'grey'], tick_label = [\"Explained\", \"Not Explained\"])\n",
    "plt.ylim(-0.2, 0.2)\n",
    "plt.title(\"Explanation vs No Explanation, Group 1, on 1-6, 7, 8\")"
   ]
  },
  {
   "cell_type": "code",
   "execution_count": 62,
   "metadata": {},
   "outputs": [
    {
     "data": {
      "text/plain": [
       "Text(0.5, 1.0, 'Explanation vs No Explanation, Group 2, on 1-6, 9, 10')"
      ]
     },
     "execution_count": 62,
     "metadata": {},
     "output_type": "execute_result"
    },
    {
     "data": {
      "image/png": "[encoded data removed]",
      "text/plain": [
       "<Figure size 432x288 with 1 Axes>"
      ]
     },
     "metadata": {
      "needs_background": "light"
     },
     "output_type": "display_data"
    }
   ],
   "source": [
    "df1 = df[(df['group'] == 2) & (df['experiment group'] != \"no explanation\")][['name', 'experiment group', 'initperf', 1, 2, 3, 4, 5, 6, 9, 10]]\n",
    "df1['sum'] = df1.iloc[:, 3:].sum(axis = 1) / 8 - df1['initperf'] \n",
    "df2 = df[(df['group'] == 2) & (df['experiment group'] == \"no explanation\")][['name', 'experiment group', 'initperf', 1, 2, 3, 4, 5, 6, 9, 10]]\n",
    "df2['sum'] =df2.iloc[:, 3:].sum(axis = 1) / 8 -  df2['initperf'] \n",
    "\n",
    "avg1 = np.mean(df1['sum'])\n",
    "avg2 = np.mean(df2['sum'])\n",
    "\n",
    "stderr1 = np.std(df1['sum']) / math.sqrt(len(df1))\n",
    "stderr2 = np.std(df2['sum']) / math.sqrt(len(df2))\n",
    "plt.bar(x=[0, 1], height=[avg1, avg2], yerr = [stderr1, stderr2], color = ['orange', 'grey'], tick_label = [\"Explained\", \"Not Explained\"])\n",
    "plt.ylim(-0.2, 0.2)\n",
    "plt.title(\"Explanation vs No Explanation, Group 2, on 1-6, 9, 10\")"
   ]
  },
  {
   "cell_type": "code",
   "execution_count": 59,
   "metadata": {},
   "outputs": [
    {
     "data": {
      "text/plain": [
       "Text(0.5, 1.0, 'Explanation vs No Explanation, Mistake type E (group 2 tank type), score on 1-6, 9, 10')"
      ]
     },
     "execution_count": 59,
     "metadata": {},
     "output_type": "execute_result"
    },
    {
     "data": {
      "image/png": "[encoded data removed]",
      "text/plain": [
       "<Figure size 432x288 with 1 Axes>"
      ]
     },
     "metadata": {
      "needs_background": "light"
     },
     "output_type": "display_data"
    }
   ],
   "source": [
    "df1 = df[(df['mistake type'] == CorrectionType.E) & (df['experiment group'] != \"no explanation\")][['name', 'experiment group', 'initperf', 1, 2, 3, 4, 5, 6, 9, 10]]\n",
    "df1['sum'] = df1.iloc[:, 3:].sum(axis = 1) / 8 - df1['initperf']\n",
    "df2 = df[(df['mistake type'] == CorrectionType.E) & (df['experiment group'] == \"no explanation\")][['name', 'experiment group', 'initperf', 1, 2, 3, 4, 5, 6, 9, 10]]\n",
    "df2['sum'] = df2.iloc[:, 3:].sum(axis = 1) / 8- df2['initperf']\n",
    "\n",
    "avg1 = np.mean(df1['sum'])\n",
    "avg2 = np.mean(df2['sum'])\n",
    "\n",
    "stderr1 = np.std(df1['sum']) / math.sqrt(len(df1))\n",
    "stderr2 = np.std(df2['sum']) / math.sqrt(len(df2))\n",
    "plt.bar(x=[0, 1], height=[avg1, avg2], yerr = [stderr1, stderr2], color = ['orange', 'grey'], tick_label = [\"Explained\", \"Not Explained\"])\n",
    "plt.ylim(-.2, .2)\n",
    "plt.title(\"Explanation vs No Explanation, Mistake type E (group 2 tank type), score on 1-6, 9, 10\")"
   ]
  },
  {
   "cell_type": "code",
   "execution_count": 117,
   "metadata": {},
   "outputs": [
    {
     "data": {
      "text/plain": [
       "Text(0.5, 1.0, 'Explanation vs No Explanation, Mistake type E (group 2 tank type), #Mistakes of type E on 1-6, 9, 10')"
      ]
     },
     "execution_count": 117,
     "metadata": {},
     "output_type": "execute_result"
    },
    {
     "data": {
      "image/png": "[encoded data removed]",
      "text/plain": [
       "<Figure size 432x288 with 1 Axes>"
      ]
     },
     "metadata": {
      "needs_background": "light"
     },
     "output_type": "display_data"
    }
   ],
   "source": [
    "df1 = df[(df['mistake type'] == CorrectionType.E) & (df['experiment group'] != \"no explanation\")][['name', 'experiment group', 'initial score', 1, 2, 3, 4, 5, 6, 9, 10]]\n",
    "df2 = df[(df['mistake type'] == CorrectionType.E) & (df['experiment group'] == \"no explanation\")][['name', 'experiment group', 'initial score', 1, 2, 3, 4, 5, 6, 9, 10]]\n",
    "\n",
    "avg1 = np.mean([1, 0, 0])\n",
    "avg2 = np.mean([2, 1, 1, 2])\n",
    "stderr1 = np.std([1, 0, 0]) /  np.sqrt(3)\n",
    "stderr2 = np.mean([2, 1, 1, 2]) / np.sqrt(4)\n",
    "\n",
    "plt.bar(x=[0, 1], height=[avg1, avg2], yerr = [stderr1, stderr2], color = ['orange', 'grey'], tick_label = [\"Explained\", \"Not Explained\"])\n",
    "plt.ylim(0, 2.3)\n",
    "plt.title(\"Explanation vs No Explanation, Mistake type E (group 2 tank type), #Mistakes of type E on 1-6, 9, 10\")"
   ]
  },
  {
   "cell_type": "code",
   "execution_count": 116,
   "metadata": {},
   "outputs": [
    {
     "data": {
      "text/plain": [
       "Text(0.5, 1.0, 'Explanation vs No Explanation, Mistake type E (group 2 tank type), #Mistakes of group 2 on 1-6, 9, 10')"
      ]
     },
     "execution_count": 116,
     "metadata": {},
     "output_type": "execute_result"
    },
    {
     "data": {
      "image/png": "[encoded data removed]",
      "text/plain": [
       "<Figure size 432x288 with 1 Axes>"
      ]
     },
     "metadata": {
      "needs_background": "light"
     },
     "output_type": "display_data"
    }
   ],
   "source": [
    "df1 = df[(df['mistake type'] == CorrectionType.E) & (df['experiment group'] != \"no explanation\")][['name', 'experiment group', 'initial score', 1, 2, 3, 4, 5, 6, 9, 10]]\n",
    "df2 = df[(df['mistake type'] == CorrectionType.E) & (df['experiment group'] == \"no explanation\")][['name', 'experiment group', 'initial score', 1, 2, 3, 4, 5, 6, 9, 10]]\n",
    "\n",
    "avg1 = np.mean([2, 1, 1])\n",
    "avg2 = np.mean([3, 1, 3, 3])\n",
    "stderr1 = np.std([2, 1, 1]) /  np.sqrt(3)\n",
    "stderr2 = np.mean([3, 1, 3, 3]) / np.sqrt(4)\n",
    "\n",
    "plt.bar(x=[0, 1], height=[avg1, avg2], yerr = [stderr1, stderr2], color = ['orange', 'grey'], tick_label = [\"Explained\", \"Not Explained\"])\n",
    "plt.ylim(0.5, 4)\n",
    "plt.title(\"Explanation vs No Explanation, Mistake type E (group 2 tank type), #Mistakes of group 2 on 1-6, 9, 10\")"
   ]
  },
  {
   "cell_type": "code",
   "execution_count": 64,
   "metadata": {},
   "outputs": [
    {
     "data": {
      "text/plain": [
       "Text(0.5, 1.0, 'Explanation vs No Explanation, Mistake type A (group 1 surface type), on 1-6, 9, 10')"
      ]
     },
     "execution_count": 64,
     "metadata": {},
     "output_type": "execute_result"
    },
    {
     "data": {
      "image/png": "[encoded data removed]",
      "text/plain": [
       "<Figure size 432x288 with 1 Axes>"
      ]
     },
     "metadata": {
      "needs_background": "light"
     },
     "output_type": "display_data"
    }
   ],
   "source": [
    "df1 = df[(df['mistake type'] == CorrectionType.A) & (df['experiment group'] != \"no explanation\")][['name', 'experiment group', 'initperf', 1, 2, 3, 4, 5, 6, 7, 8]]\n",
    "df1['sum'] = df1.iloc[:, 3:].sum(axis = 1) / 8 - df1['initperf']\n",
    "df2 = df[(df['mistake type'] == CorrectionType.A) & (df['experiment group'] == \"no explanation\")][['name', 'experiment group', 'initperf', 1, 2, 3, 4, 5, 6, 7, 8]]\n",
    "df2['sum'] = df2.iloc[:, 3:].sum(axis = 1) / 8 - df2['initperf']\n",
    "\n",
    "avg1 = np.mean(df1['sum'])\n",
    "avg2 = np.mean(df2['sum'])\n",
    "\n",
    "stderr1 = np.std(df1['sum']) / math.sqrt(len(df1))\n",
    "stderr2 = np.std(df2['sum']) / math.sqrt(len(df2))\n",
    "plt.bar(x=[0, 1], height=[avg1, avg2], yerr = [stderr1, stderr2], color = ['orange', 'grey'], tick_label = [\"Explained\", \"Not Explained\"])\n",
    "plt.ylim(-0.2, 0.2)\n",
    "plt.title(\"Explanation vs No Explanation, Mistake type A (group 1 surface type), on 1-6, 9, 10\")"
   ]
  },
  {
   "cell_type": "code",
   "execution_count": 65,
   "metadata": {},
   "outputs": [
    {
     "data": {
      "text/plain": [
       "Text(0.5, 1.0, 'Explanation vs No Explanation, Mistake type A (group 1 surface type), on 7-12')"
      ]
     },
     "execution_count": 65,
     "metadata": {},
     "output_type": "execute_result"
    },
    {
     "data": {
      "image/png": "[encoded data removed]",
      "text/plain": [
       "<Figure size 432x288 with 1 Axes>"
      ]
     },
     "metadata": {
      "needs_background": "light"
     },
     "output_type": "display_data"
    }
   ],
   "source": [
    "df1 = df[(df['mistake type'] == CorrectionType.A) & (df['experiment group'] != \"no explanation\")][['name', 'experiment group', 'initial score', 7, 8, 9, 10, 11, 12]]\n",
    "df1['sum'] = df1.iloc[:, 3:].sum(axis = 1) / 6\n",
    "df2 = df[(df['mistake type'] == CorrectionType.A) & (df['experiment group'] == \"no explanation\")][['name', 'experiment group', 'initial score', 7, 8, 9, 10, 11, 12]]\n",
    "df2['sum'] = df2.iloc[:, 3:].sum(axis = 1) / 6\n",
    "\n",
    "avg1 = np.mean(df1['sum'])\n",
    "avg2 = np.mean(df2['sum'])\n",
    "\n",
    "stderr1 = np.std(df1['sum']) / math.sqrt(len(df1))\n",
    "stderr2 = np.std(df2['sum']) / math.sqrt(len(df2))\n",
    "plt.bar(x=[0, 1], height=[avg1, avg2], yerr = [stderr1, stderr2], color = ['orange', 'grey'], tick_label = [\"Explained\", \"Not Explained\"])\n",
    "plt.ylim(0.7, 0.95)\n",
    "plt.title(\"Explanation vs No Explanation, Mistake type A (group 1 surface type), on 7-12\")"
   ]
  },
  {
   "cell_type": "code",
   "execution_count": 118,
   "metadata": {},
   "outputs": [
    {
     "data": {
      "text/plain": [
       "Text(0.5, 1.0, 'Explanation vs No Explanation, Mistake type A (group 2 surface type), #Mistakes of type A on 1-6, 9, 10')"
      ]
     },
     "execution_count": 118,
     "metadata": {},
     "output_type": "execute_result"
    },
    {
     "data": {
      "image/png": "[encoded data removed]",
      "text/plain": [
       "<Figure size 432x288 with 1 Axes>"
      ]
     },
     "metadata": {
      "needs_background": "light"
     },
     "output_type": "display_data"
    }
   ],
   "source": [
    "df1 = df[(df['mistake type'] == CorrectionType.E) & (df['experiment group'] != \"no explanation\")][['name', 'experiment group', 'initial score', 1, 2, 3, 4, 5, 6, 7, 8]]\n",
    "df2 = df[(df['mistake type'] == CorrectionType.E) & (df['experiment group'] == \"no explanation\")][['name', 'experiment group', 'initial score', 1, 2, 3, 4, 5, 6, 7, 8]]\n",
    "\n",
    "avg1 = np.mean([2, 1, 1])\n",
    "avg2 = np.mean([1, 1])\n",
    "stderr1 = np.std([2, 1, 1]) /  np.sqrt(3)\n",
    "stderr2 = np.mean([1, 1]) / np.sqrt(2)\n",
    "\n",
    "plt.bar(x=[0, 1], height=[avg1, avg2], yerr = [stderr1, stderr2], color = ['orange', 'grey'], tick_label = [\"Explained\", \"Not Explained\"])\n",
    "plt.ylim(0, 2.3)\n",
    "plt.title(\"Explanation vs No Explanation, Mistake type A (group 2 surface type), #Mistakes of type A on 1-6, 9, 10\")"
   ]
  },
  {
   "cell_type": "code",
   "execution_count": 124,
   "metadata": {},
   "outputs": [
    {
     "data": {
      "text/plain": [
       "Text(0.5, 1.0, 'Explanation vs No Explanation, Mistake type A (group 2 surface type), #Mistakes of type A on 1-6, 9, 10')"
      ]
     },
     "execution_count": 124,
     "metadata": {},
     "output_type": "execute_result"
    },
    {
     "data": {
      "image/png": "[encoded data removed]",
      "text/plain": [
       "<Figure size 432x288 with 1 Axes>"
      ]
     },
     "metadata": {
      "needs_background": "light"
     },
     "output_type": "display_data"
    }
   ],
   "source": [
    "df1 = df[(df['mistake type'] == CorrectionType.E) & (df['experiment group'] != \"no explanation\")][['name', 'experiment group', 'initial score', 1, 2, 3, 4, 5, 6, 7, 8]]\n",
    "df2 = df[(df['mistake type'] == CorrectionType.E) & (df['experiment group'] == \"no explanation\")][['name', 'experiment group', 'initial score', 1, 2, 3, 4, 5, 6, 7, 8]]\n",
    "\n",
    "avg1 = np.mean([3, 2, 2])\n",
    "avg2 = np.mean([4, 3])\n",
    "stderr1 = np.std([3, 2, 2]) /  np.sqrt(3)\n",
    "stderr2 = np.mean([4, 3]) / np.sqrt(2)\n",
    "\n",
    "plt.bar(x=[0, 1], height=[avg1, avg2], yerr = [stderr1, stderr2], color = ['orange', 'grey'], tick_label = [\"Explained\", \"Not Explained\"])\n",
    "plt.ylim(0, 6.1)\n",
    "plt.title(\"Explanation vs No Explanation, Mistake type A (group 2 surface type), #Mistakes of type A on 1-6, 9, 10\")"
   ]
  },
  {
   "cell_type": "code",
   "execution_count": 127,
   "metadata": {},
   "outputs": [
    {
     "data": {
      "text/plain": [
       "Text(0.5, 1.0, 'Long vs Short avg on 7-12 (General States)')"
      ]
     },
     "execution_count": 127,
     "metadata": {},
     "output_type": "execute_result"
    },
    {
     "data": {
      "image/png": "[encoded data removed]",
      "text/plain": [
       "<Figure size 432x288 with 1 Axes>"
      ]
     },
     "metadata": {
      "needs_background": "light"
     },
     "output_type": "display_data"
    }
   ],
   "source": [
    "df2 = df[(df['experiment group'] == \"long explanation\")]\n",
    "df3 = df[(df['experiment group'] == \"short explanation\")]\n",
    "avg1 = np.mean(df2['generalAverage'])\n",
    "avg2 = np.mean(df3['generalAverage'])\n",
    "stderr1 = np.std(df2['generalAverage']) / math.sqrt(len(df2))\n",
    "stderr2 = np.std(df3['generalAverage']) / math.sqrt(len(df3))\n",
    "plt.bar(x=[0, 1], height=[avg1, avg2], yerr = [stderr1, stderr2], color = ['orange', 'grey'], tick_label = [\"Long\", \"Short\"])\n",
    "plt.ylim(0.8, 0.95)\n",
    "plt.title(\"Long vs Short avg on 7-12 (General States)\")"
   ]
  },
  {
   "cell_type": "code",
   "execution_count": 130,
   "metadata": {},
   "outputs": [
    {
     "data": {
      "text/plain": [
       "Text(0.5, 1.0, 'Long vs Short, Group 1, avg on 7-12 (General States)')"
      ]
     },
     "execution_count": 130,
     "metadata": {},
     "output_type": "execute_result"
    },
    {
     "data": {
      "image/png": "[encoded data removed]",
      "text/plain": [
       "<Figure size 432x288 with 1 Axes>"
      ]
     },
     "metadata": {
      "needs_background": "light"
     },
     "output_type": "display_data"
    }
   ],
   "source": [
    "df2 = df[(df['group'] == 1) & ((df['experiment group'] == \"long explanation\"))]\n",
    "df3 = df[(df['group'] == 1) & (df['experiment group'] == \"short explanation\")]\n",
    "avg1 = np.mean(df2['generalAverage'])\n",
    "avg2 = np.mean(df3['generalAverage'])\n",
    "stderr1 = np.std(df2['generalAverage']) / math.sqrt(len(df2))\n",
    "stderr2 = np.std(df3['generalAverage']) / math.sqrt(len(df3))\n",
    "plt.bar(x=[0, 1], height=[avg1, avg2], yerr = [stderr1, stderr2], color = ['orange', 'grey'], tick_label = [\"Long\", \"Short\"])\n",
    "plt.ylim(0.8, 0.95)\n",
    "plt.title(\"Long vs Short, Group 1, avg on 7-12 (General States)\")"
   ]
  },
  {
   "cell_type": "code",
   "execution_count": 132,
   "metadata": {},
   "outputs": [
    {
     "data": {
      "text/plain": [
       "Text(0.5, 1.0, 'Long vs Short, Group2, on 7-12 (General States)')"
      ]
     },
     "execution_count": 132,
     "metadata": {},
     "output_type": "execute_result"
    },
    {
     "data": {
      "image/png": "[encoded data removed]",
      "text/plain": [
       "<Figure size 432x288 with 1 Axes>"
      ]
     },
     "metadata": {
      "needs_background": "light"
     },
     "output_type": "display_data"
    }
   ],
   "source": [
    "df2 = df[(df['group'] == 2) & ((df['experiment group'] == \"long explanation\"))]\n",
    "df3 = df[(df['group'] == 2) & (df['experiment group'] == \"short explanation\")]\n",
    "avg1 = np.mean(df2['generalAverage'])\n",
    "avg2 = np.mean(df3['generalAverage'])\n",
    "stderr1 = np.std(df2['generalAverage']) / math.sqrt(len(df2))\n",
    "stderr2 = np.std(df3['generalAverage']) / math.sqrt(len(df3))\n",
    "plt.bar(x=[0, 1], height=[avg1, avg2], yerr = [stderr1, stderr2], color = ['orange', 'grey'], tick_label = [\"Long\", \"Short Explained\"])\n",
    "plt.ylim(0.7, 0.95)\n",
    "plt.title(\"Long vs Short, Group2, on 7-12 (General States)\")"
   ]
  },
  {
   "cell_type": "code",
   "execution_count": 134,
   "metadata": {},
   "outputs": [
    {
     "data": {
      "text/plain": [
       "Text(0.5, 1.0, 'Long vs Short, Group 1, on 1-6, 7, 8')"
      ]
     },
     "execution_count": 134,
     "metadata": {},
     "output_type": "execute_result"
    },
    {
     "data": {
      "image/png": "[encoded data removed]",
      "text/plain": [
       "<Figure size 432x288 with 1 Axes>"
      ]
     },
     "metadata": {
      "needs_background": "light"
     },
     "output_type": "display_data"
    }
   ],
   "source": [
    "df1 = df[(df['group'] == 1) & (df['experiment group'] == \"long explanation\")][['name', 'experiment group', 'initial score', 1, 2, 3, 4, 5, 6, 7, 8]]\n",
    "df1['sum'] = df1.iloc[:, 3:].sum(axis = 1) / 8\n",
    "df2 = df[(df['group'] == 1) & (df['experiment group'] == \"short explanation\")][['name', 'experiment group', 'initial score', 1, 2, 3, 4, 5, 6, 7, 8]]\n",
    "df2['sum'] = df2.iloc[:, 3:].sum(axis = 1) / 8\n",
    "\n",
    "avg1 = np.mean(df1['sum'])\n",
    "avg2 = np.mean(df2['sum'])\n",
    "\n",
    "stderr1 = np.std(df1['sum']) / math.sqrt(len(df1))\n",
    "stderr2 = np.std(df2['sum']) / math.sqrt(len(df2))\n",
    "plt.bar(x=[0, 1], height=[avg1, avg2], yerr = [stderr1, stderr2], color = ['orange', 'grey'], tick_label = [\"Long\", \"Short\"])\n",
    "plt.ylim(0.7, 1)\n",
    "plt.title(\"Long vs Short, Group 1, on 1-6, 7, 8\")"
   ]
  },
  {
   "cell_type": "code",
   "execution_count": 135,
   "metadata": {},
   "outputs": [
    {
     "data": {
      "text/plain": [
       "Text(0.5, 1.0, 'Explanation vs No Explanation, Group 2, on 1-6, 9, 10')"
      ]
     },
     "execution_count": 135,
     "metadata": {},
     "output_type": "execute_result"
    },
    {
     "data": {
      "image/png": "[encoded data removed]",
      "text/plain": [
       "<Figure size 432x288 with 1 Axes>"
      ]
     },
     "metadata": {
      "needs_background": "light"
     },
     "output_type": "display_data"
    }
   ],
   "source": [
    "df1 = df[(df['group'] == 2) & (df['experiment group'] == \"long explanation\")][['name', 'experiment group', 'initial score', 1, 2, 3, 4, 5, 6, 9, 10]]\n",
    "df1['sum'] = df1.iloc[:, 3:].sum(axis = 1) / 8\n",
    "df2 = df[(df['group'] == 2) & (df['experiment group'] == \"short explanation\")][['name', 'experiment group', 'initial score', 1, 2, 3, 4, 5, 6, 9, 10]]\n",
    "df2['sum'] = df2.iloc[:, 3:].sum(axis = 1) / 8\n",
    "\n",
    "avg1 = np.mean(df1['sum'])\n",
    "avg2 = np.mean(df2['sum'])\n",
    "\n",
    "stderr1 = np.std(df1['sum']) / math.sqrt(len(df1))\n",
    "stderr2 = np.std(df2['sum']) / math.sqrt(len(df2))\n",
    "plt.bar(x=[0, 1], height=[avg1, avg2], yerr = [stderr1, stderr2], color = ['orange', 'grey'], tick_label = [\"Long\", \"Short\"])\n",
    "plt.ylim(0.8, 1)\n",
    "plt.title(\"Explanation vs No Explanation, Group 2, on 1-6, 9, 10\")"
   ]
  },
  {
   "cell_type": "code",
   "execution_count": 14,
   "metadata": {},
   "outputs": [
    {
     "data": {
      "text/plain": [
       "Text(0.5, 1.0, 'Expl vs No Expl, initial score')"
      ]
     },
     "execution_count": 14,
     "metadata": {},
     "output_type": "execute_result"
    },
    {
     "data": {
      "image/png": "[encoded data removed]",
      "text/plain": [
       "<Figure size 432x288 with 1 Axes>"
      ]
     },
     "metadata": {
      "needs_background": "light"
     },
     "output_type": "display_data"
    }
   ],
   "source": [
    "df1 = df[(df['experiment group'] != \"no explanation\")][['experiment group', 'initial score']]\n",
    "df2 = df[(df['experiment group'] == \"no explanation\")][['experiment group', 'initial score']]\n",
    "\n",
    "avg1 = np.mean(df1['initial score'])\n",
    "avg2 = np.mean(df2['initial score'])\n",
    "\n",
    "stderr1 = np.std(df1['initial score']) / math.sqrt(len(df1))\n",
    "stderr2 = np.std(df2['initial score']) / math.sqrt(len(df2))\n",
    "plt.bar(x=[0, 1], height=[avg1, avg2], yerr = [stderr1, stderr2], color = ['orange', 'grey'], tick_label = [\"Explained\", \"Not Explained\"])\n",
    "plt.ylim(50, 150)\n",
    "plt.title(\"Expl vs No Expl, initial score\")"
   ]
  },
  {
   "cell_type": "code",
   "execution_count": 15,
   "metadata": {},
   "outputs": [
    {
     "data": {
      "text/plain": [
       "Text(0.5, 1.0, 'Expl vs No Expl, group 1, initial score')"
      ]
     },
     "execution_count": 15,
     "metadata": {},
     "output_type": "execute_result"
    },
    {
     "data": {
      "image/png": "[encoded data removed]",
      "text/plain": [
       "<Figure size 432x288 with 1 Axes>"
      ]
     },
     "metadata": {
      "needs_background": "light"
     },
     "output_type": "display_data"
    }
   ],
   "source": [
    "df1 = df[(df['experiment group'] != \"no explanation\") & (df['group'] == 1) ][['experiment group', 'initial score']]\n",
    "df2 = df[(df['experiment group'] == \"no explanation\") & (df['group'] == 1)][['experiment group', 'initial score']]\n",
    "avg1 = np.mean(df1['initial score'])\n",
    "avg2 = np.mean(df2['initial score'])\n",
    "\n",
    "stderr1 = np.std(df1['initial score']) / math.sqrt(len(df1))\n",
    "stderr2 = np.std(df2['initial score']) / math.sqrt(len(df2))\n",
    "plt.bar(x=[0, 1], height=[avg1, avg2], yerr = [stderr1, stderr2], color = ['orange', 'grey'], tick_label = [\"Explained\", \"Not Explained\"])\n",
    "plt.ylim(0, 100)\n",
    "plt.title(\"Expl vs No Expl, group 1, initial score\")"
   ]
  },
  {
   "cell_type": "code",
   "execution_count": 20,
   "metadata": {},
   "outputs": [
    {
     "data": {
      "text/plain": [
       "Text(0.5, 1.0, 'Expl vs No Expl, group 1, initial score')"
      ]
     },
     "execution_count": 20,
     "metadata": {},
     "output_type": "execute_result"
    },
    {
     "data": {
      "image/png": "[encoded data removed]",
      "text/plain": [
       "<Figure size 432x288 with 1 Axes>"
      ]
     },
     "metadata": {
      "needs_background": "light"
     },
     "output_type": "display_data"
    }
   ],
   "source": [
    "df1 = df[(df['experiment group'] != \"no explanation\") & (df['group'] == 2) ][['experiment group', 'initial score']]\n",
    "df2 = df[(df['experiment group'] == \"no explanation\") & (df['group'] == 2)][['experiment group', 'initial score']]\n",
    "avg1 = np.mean(df1['initial score'])\n",
    "avg2 = np.mean(df2['initial score'])\n",
    "\n",
    "stderr1 = np.std(df1['initial score']) / math.sqrt(len(df1))\n",
    "stderr2 = np.std(df2['initial score']) / math.sqrt(len(df2))\n",
    "plt.bar(x=[0, 1], height=[avg1, avg2], yerr = [stderr1, stderr2], color = ['orange', 'grey'], tick_label = [\"Explained\", \"Not Explained\"])\n",
    "plt.ylim(0, 300)\n",
    "plt.title(\"Expl vs No Expl, group 1, initial score\")"
   ]
  },
  {
   "cell_type": "code",
   "execution_count": 34,
   "metadata": {},
   "outputs": [
    {
     "data": {
      "text/plain": [
       "Text(0.5, 1.0, 'Explanation vs No Explanation initial performance')"
      ]
     },
     "execution_count": 34,
     "metadata": {},
     "output_type": "execute_result"
    },
    {
     "data": {
      "image/png": "[encoded data removed]",
      "text/plain": [
       "<Figure size 432x288 with 1 Axes>"
      ]
     },
     "metadata": {
      "needs_background": "light"
     },
     "output_type": "display_data"
    }
   ],
   "source": [
    "df2 = df[(df['experiment group'] == \"long explanation\") | (df['experiment group'] == \"short explanation\")]\n",
    "df3 = df[(df['experiment group'] == \"no explanation\")]\n",
    "avg1 = np.mean(df2['initperf'])\n",
    "avg2 = np.mean(df3['initperf'])\n",
    "stderr1 = np.std(df2['initperf']) / math.sqrt(len(df2))\n",
    "stderr2 = np.std(df3['initperf']) / math.sqrt(len(df3))\n",
    "plt.bar(x=[0, 1], height=[avg1, avg2], yerr = [stderr1, stderr2], color = ['orange', 'grey'], tick_label = [\"Explained\", \"Not Explained\"])\n",
    "plt.ylim(0.8, 0.92)\n",
    "plt.title(\"Explanation vs No Explanation initial performance\")"
   ]
  },
  {
   "cell_type": "code",
   "execution_count": 40,
   "metadata": {},
   "outputs": [
    {
     "data": {
      "text/plain": [
       "Text(0.5, 1.0, 'Explanation vs No Explanation, Group 1, initial performance')"
      ]
     },
     "execution_count": 40,
     "metadata": {},
     "output_type": "execute_result"
    },
    {
     "data": {
      "image/png": "[encoded data removed]",
      "text/plain": [
       "<Figure size 432x288 with 1 Axes>"
      ]
     },
     "metadata": {
      "needs_background": "light"
     },
     "output_type": "display_data"
    }
   ],
   "source": [
    "df2 = df[(df['group'] == 1) & ((df['experiment group'] == \"long explanation\") | (df['experiment group'] == \"short explanation\"))]\n",
    "df3 = df[(df['group'] == 1) & (df['experiment group'] == \"no explanation\")]\n",
    "avg1 = np.mean(df2['initperf'])\n",
    "avg2 = np.mean(df3['initperf'])\n",
    "stderr1 = np.std(df2['initperf']) / math.sqrt(len(df2))\n",
    "stderr2 = np.std(df3['initperf']) / math.sqrt(len(df3))\n",
    "plt.bar(x=[0, 1], height=[avg1, avg2], yerr = [stderr1, stderr2], color = ['orange', 'grey'], tick_label = [\"Explained\", \"Not Explained\"])\n",
    "plt.ylim(0.7, 0.95)\n",
    "plt.ylabel(\"initial average performance\")\n",
    "plt.title(\"Explanation vs No Explanation, Group 1, initial performance\")"
   ]
  },
  {
   "cell_type": "code",
   "execution_count": 41,
   "metadata": {},
   "outputs": [
    {
     "data": {
      "text/plain": [
       "Text(0.5, 1.0, 'Long vs Short on initial performance')"
      ]
     },
     "execution_count": 41,
     "metadata": {},
     "output_type": "execute_result"
    },
    {
     "data": {
      "image/png": "[encoded data removed]",
      "text/plain": [
       "<Figure size 432x288 with 1 Axes>"
      ]
     },
     "metadata": {
      "needs_background": "light"
     },
     "output_type": "display_data"
    }
   ],
   "source": [
    "df2 = df[(df['experiment group'] == \"long explanation\")]\n",
    "df3 = df[(df['experiment group'] == \"short explanation\")]\n",
    "avg1 = np.mean(df2['initperf'])\n",
    "avg2 = np.mean(df3['initperf'])\n",
    "stderr1 = np.std(df2['initperf']) / math.sqrt(len(df2))\n",
    "stderr2 = np.std(df3['initperf']) / math.sqrt(len(df3))\n",
    "plt.bar(x=[0, 1], height=[avg1, avg2], yerr = [stderr1, stderr2], color = ['orange', 'grey'], tick_label = [\"Long\", \"Short\"])\n",
    "plt.ylim(0.8, 0.95)\n",
    "plt.ylabel(\"initial average performance\")\n",
    "plt.title(\"Long vs Short on initial performance\")"
   ]
  },
  {
   "cell_type": "code",
   "execution_count": null,
   "metadata": {},
   "outputs": [],
   "source": []
  }
 ],
 "metadata": {
  "kernelspec": {
   "display_name": "Python 3",
   "language": "python",
   "name": "python3"
  },
  "language_info": {
   "codemirror_mode": {
    "name": "ipython",
    "version": 3
   },
   "file_extension": ".py",
   "mimetype": "text/x-python",
   "name": "python",
   "nbconvert_exporter": "python",
   "pygments_lexer": "ipython3",
   "version": "3.7.1"
  }
 },
 "nbformat": 4,
 "nbformat_minor": 2
}
